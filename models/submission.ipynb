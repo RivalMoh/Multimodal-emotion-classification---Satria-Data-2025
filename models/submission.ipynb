{
 "cells": [
  {
   "cell_type": "code",
   "execution_count": 2,
   "id": "ab6d99c2",
   "metadata": {},
   "outputs": [],
   "source": [
    "import pandas as pd"
   ]
  },
  {
   "cell_type": "code",
   "execution_count": 18,
   "id": "1280eee3",
   "metadata": {},
   "outputs": [
    {
     "data": {
      "text/html": [
       "<div>\n",
       "<style scoped>\n",
       "    .dataframe tbody tr th:only-of-type {\n",
       "        vertical-align: middle;\n",
       "    }\n",
       "\n",
       "    .dataframe tbody tr th {\n",
       "        vertical-align: top;\n",
       "    }\n",
       "\n",
       "    .dataframe thead th {\n",
       "        text-align: right;\n",
       "    }\n",
       "</style>\n",
       "<table border=\"1\" class=\"dataframe\">\n",
       "  <thead>\n",
       "    <tr style=\"text-align: right;\">\n",
       "      <th></th>\n",
       "      <th>video_id</th>\n",
       "      <th>filename</th>\n",
       "      <th>video_path</th>\n",
       "      <th>num_windows</th>\n",
       "      <th>majority_vote_emotion</th>\n",
       "      <th>majority_vote_percentage</th>\n",
       "      <th>mean_confidence_emotion</th>\n",
       "      <th>mean_confidence_score</th>\n",
       "      <th>max_confidence_emotion</th>\n",
       "      <th>max_confidence_score</th>\n",
       "      <th>weighted_vote_emotion</th>\n",
       "      <th>weighted_vote_score</th>\n",
       "    </tr>\n",
       "  </thead>\n",
       "  <tbody>\n",
       "    <tr>\n",
       "      <th>0</th>\n",
       "      <td>1</td>\n",
       "      <td>1.mp4</td>\n",
       "      <td>D:/Satria_Data/test/videos/1.mp4</td>\n",
       "      <td>119</td>\n",
       "      <td>Surprise</td>\n",
       "      <td>55.462185</td>\n",
       "      <td>Surprise</td>\n",
       "      <td>0.395594</td>\n",
       "      <td>Surprise</td>\n",
       "      <td>0.547898</td>\n",
       "      <td>Surprise</td>\n",
       "      <td>0.317560</td>\n",
       "    </tr>\n",
       "    <tr>\n",
       "      <th>1</th>\n",
       "      <td>2</td>\n",
       "      <td>2.mp4</td>\n",
       "      <td>D:/Satria_Data/test/videos/2.mp4</td>\n",
       "      <td>187</td>\n",
       "      <td>Trust</td>\n",
       "      <td>58.823529</td>\n",
       "      <td>Surprise</td>\n",
       "      <td>0.368998</td>\n",
       "      <td>Surprise</td>\n",
       "      <td>0.469619</td>\n",
       "      <td>Trust</td>\n",
       "      <td>0.322153</td>\n",
       "    </tr>\n",
       "    <tr>\n",
       "      <th>2</th>\n",
       "      <td>3</td>\n",
       "      <td>3.mp4</td>\n",
       "      <td>D:/Satria_Data/test/videos/3.mp4</td>\n",
       "      <td>134</td>\n",
       "      <td>Surprise</td>\n",
       "      <td>37.313433</td>\n",
       "      <td>Surprise</td>\n",
       "      <td>0.398495</td>\n",
       "      <td>Surprise</td>\n",
       "      <td>0.536153</td>\n",
       "      <td>Surprise</td>\n",
       "      <td>0.294794</td>\n",
       "    </tr>\n",
       "    <tr>\n",
       "      <th>3</th>\n",
       "      <td>4</td>\n",
       "      <td>4.mp4</td>\n",
       "      <td>D:/Satria_Data/test/videos/4.mp4</td>\n",
       "      <td>241</td>\n",
       "      <td>Trust</td>\n",
       "      <td>37.759336</td>\n",
       "      <td>Surprise</td>\n",
       "      <td>0.423658</td>\n",
       "      <td>Surprise</td>\n",
       "      <td>0.652974</td>\n",
       "      <td>Surprise</td>\n",
       "      <td>0.281373</td>\n",
       "    </tr>\n",
       "    <tr>\n",
       "      <th>4</th>\n",
       "      <td>5</td>\n",
       "      <td>5.mp4</td>\n",
       "      <td>D:/Satria_Data/test/videos/5.mp4</td>\n",
       "      <td>277</td>\n",
       "      <td>Proud</td>\n",
       "      <td>56.678700</td>\n",
       "      <td>Joy</td>\n",
       "      <td>0.375651</td>\n",
       "      <td>Joy</td>\n",
       "      <td>0.809005</td>\n",
       "      <td>Proud</td>\n",
       "      <td>0.318042</td>\n",
       "    </tr>\n",
       "  </tbody>\n",
       "</table>\n",
       "</div>"
      ],
      "text/plain": [
       "   video_id filename                        video_path  num_windows  \\\n",
       "0         1    1.mp4  D:/Satria_Data/test/videos/1.mp4          119   \n",
       "1         2    2.mp4  D:/Satria_Data/test/videos/2.mp4          187   \n",
       "2         3    3.mp4  D:/Satria_Data/test/videos/3.mp4          134   \n",
       "3         4    4.mp4  D:/Satria_Data/test/videos/4.mp4          241   \n",
       "4         5    5.mp4  D:/Satria_Data/test/videos/5.mp4          277   \n",
       "\n",
       "  majority_vote_emotion  majority_vote_percentage mean_confidence_emotion  \\\n",
       "0              Surprise                 55.462185                Surprise   \n",
       "1                 Trust                 58.823529                Surprise   \n",
       "2              Surprise                 37.313433                Surprise   \n",
       "3                 Trust                 37.759336                Surprise   \n",
       "4                 Proud                 56.678700                     Joy   \n",
       "\n",
       "   mean_confidence_score max_confidence_emotion  max_confidence_score  \\\n",
       "0               0.395594               Surprise              0.547898   \n",
       "1               0.368998               Surprise              0.469619   \n",
       "2               0.398495               Surprise              0.536153   \n",
       "3               0.423658               Surprise              0.652974   \n",
       "4               0.375651                    Joy              0.809005   \n",
       "\n",
       "  weighted_vote_emotion  weighted_vote_score  \n",
       "0              Surprise             0.317560  \n",
       "1                 Trust             0.322153  \n",
       "2              Surprise             0.294794  \n",
       "3              Surprise             0.281373  \n",
       "4                 Proud             0.318042  "
      ]
     },
     "execution_count": 18,
     "metadata": {},
     "output_type": "execute_result"
    }
   ],
   "source": [
    "submission = pd.read_csv('gpu_all_videos_results_20250920_073258.csv')\n",
    "submission.head()"
   ]
  },
  {
   "cell_type": "code",
   "execution_count": 19,
   "id": "ef6fbbc8",
   "metadata": {},
   "outputs": [
    {
     "name": "stderr",
     "output_type": "stream",
     "text": [
      "C:\\Users\\ilkom\\AppData\\Local\\Temp\\ipykernel_84320\\4040345945.py:6: SettingWithCopyWarning: \n",
      "A value is trying to be set on a copy of a slice from a DataFrame.\n",
      "Try using .loc[row_indexer,col_indexer] = value instead\n",
      "\n",
      "See the caveats in the documentation: https://pandas.pydata.org/pandas-docs/stable/user_guide/indexing.html#returning-a-view-versus-a-copy\n",
      "  final['predicted'] = final['predicted'].map(dict_label)\n"
     ]
    }
   ],
   "source": [
    "final = submission[['video_id', 'majority_vote_emotion']]\n",
    "final.columns = ['id', 'predicted']\n",
    "\n",
    "# Reverse the dictionary to map from strings to numbers\n",
    "dict_label = {'Proud': 0, 'Trust': 1, 'Joy': 2, 'Surprise': 3, 'Neutral': 4, 'Sadness': 5, 'Fear': 6, 'Anger': 7}\n",
    "final['predicted'] = final['predicted'].map(dict_label)\n",
    "final.to_csv('submission_OneForAll.csv', index=False)"
   ]
  },
  {
   "cell_type": "code",
   "execution_count": 28,
   "id": "a0a8f6ca",
   "metadata": {},
   "outputs": [
    {
     "data": {
      "text/plain": [
       "predicted\n",
       "3    131\n",
       "1     36\n",
       "0     27\n",
       "2      6\n",
       "Name: count, dtype: int64"
      ]
     },
     "execution_count": 28,
     "metadata": {},
     "output_type": "execute_result"
    }
   ],
   "source": [
    "final['predicted'].value_counts()"
   ]
  }
 ],
 "metadata": {
  "kernelspec": {
   "display_name": "Python (vitfix)",
   "language": "python",
   "name": "vitfix"
  },
  "language_info": {
   "codemirror_mode": {
    "name": "ipython",
    "version": 3
   },
   "file_extension": ".py",
   "mimetype": "text/x-python",
   "name": "python",
   "nbconvert_exporter": "python",
   "pygments_lexer": "ipython3",
   "version": "3.10.18"
  }
 },
 "nbformat": 4,
 "nbformat_minor": 5
}

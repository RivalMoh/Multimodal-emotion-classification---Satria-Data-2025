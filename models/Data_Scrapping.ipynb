{
  "cells": [
    {
      "cell_type": "code",
      "execution_count": null,
      "metadata": {
        "colab": {
          "base_uri": "https://localhost:8080/"
        },
        "id": "jrYhmYX6jVV3",
        "outputId": "59ed4654-db5b-4003-8df1-a1bcfb279f7c"
      },
      "outputs": [
        {
          "name": "stdout",
          "output_type": "stream",
          "text": [
            "Collecting instaloader\n",
            "  Downloading instaloader-4.14.2-py3-none-any.whl.metadata (6.7 kB)\n",
            "Requirement already satisfied: requests>=2.25 in /usr/local/lib/python3.12/dist-packages (from instaloader) (2.32.4)\n",
            "Requirement already satisfied: charset_normalizer<4,>=2 in /usr/local/lib/python3.12/dist-packages (from requests>=2.25->instaloader) (3.4.3)\n",
            "Requirement already satisfied: idna<4,>=2.5 in /usr/local/lib/python3.12/dist-packages (from requests>=2.25->instaloader) (3.10)\n",
            "Requirement already satisfied: urllib3<3,>=1.21.1 in /usr/local/lib/python3.12/dist-packages (from requests>=2.25->instaloader) (2.5.0)\n",
            "Requirement already satisfied: certifi>=2017.4.17 in /usr/local/lib/python3.12/dist-packages (from requests>=2.25->instaloader) (2025.8.3)\n",
            "Downloading instaloader-4.14.2-py3-none-any.whl (67 kB)\n",
            "\u001b[2K   \u001b[90m━━━━━━━━━━━━━━━━━━━━━━━━━━━━━━━━━━━━━━━━\u001b[0m \u001b[32m68.0/68.0 kB\u001b[0m \u001b[31m2.0 MB/s\u001b[0m eta \u001b[36m0:00:00\u001b[0m\n",
            "\u001b[?25hInstalling collected packages: instaloader\n",
            "Successfully installed instaloader-4.14.2\n"
          ]
        }
      ],
      "source": [
        "!pip install instaloader"
      ]
    },
    {
      "cell_type": "code",
      "execution_count": null,
      "metadata": {
        "id": "lgqW5b2iE5LR"
      },
      "outputs": [],
      "source": [
        "import pandas as pd\n",
        "import os\n",
        "import instaloader"
      ]
    },
    {
      "cell_type": "code",
      "execution_count": null,
      "metadata": {
        "colab": {
          "base_uri": "https://localhost:8080/"
        },
        "id": "bWsqy82aFYL1",
        "outputId": "1f948b81-9700-439e-b959-b5ca5c86400a"
      },
      "outputs": [
        {
          "name": "stdout",
          "output_type": "stream",
          "text": [
            "<class 'pandas.core.frame.DataFrame'>\n",
            "RangeIndex: 200 entries, 0 to 199\n",
            "Data columns (total 2 columns):\n",
            " #   Column  Non-Null Count  Dtype \n",
            "---  ------  --------------  ----- \n",
            " 0   id      200 non-null    int64 \n",
            " 1   video   200 non-null    object\n",
            "dtypes: int64(1), object(1)\n",
            "memory usage: 3.3+ KB\n"
          ]
        }
      ],
      "source": [
        "test_data = pd.read_csv('test/datatest_revisi.csv')\n",
        "train_data = pd.read_csv('train/datatrain.csv')"
      ]
    },
    {
      "cell_type": "code",
      "execution_count": null,
      "metadata": {
        "colab": {
          "base_uri": "https://localhost:8080/",
          "height": 206
        },
        "id": "HiCCSwdPm8CC",
        "outputId": "d47bef24-60c2-4855-df51-5acca277ab84"
      },
      "outputs": [
        {
          "data": {
            "application/vnd.google.colaboratory.intrinsic+json": {
              "summary": "{\n  \"name\": \"train_data\",\n  \"rows\": 200,\n  \"fields\": [\n    {\n      \"column\": \"id\",\n      \"properties\": {\n        \"dtype\": \"number\",\n        \"std\": 57,\n        \"min\": 1,\n        \"max\": 200,\n        \"num_unique_values\": 200,\n        \"samples\": [\n          96,\n          16,\n          31\n        ],\n        \"semantic_type\": \"\",\n        \"description\": \"\"\n      }\n    },\n    {\n      \"column\": \"video\",\n      \"properties\": {\n        \"dtype\": \"string\",\n        \"num_unique_values\": 200,\n        \"samples\": [\n          \"https://www.instagram.com/jagat.review/reel/DMRsIjVxA4J/\",\n          \"https://www.instagram.com/reel/DHNODLIpQ_y/\",\n          \"https://www.instagram.com/reel/DNAirf9Pqyy/\"\n        ],\n        \"semantic_type\": \"\",\n        \"description\": \"\"\n      }\n    }\n  ]\n}",
              "type": "dataframe",
              "variable_name": "train_data"
            },
            "text/html": [
              "\n",
              "  <div id=\"df-c9ce41f4-8225-4f88-b2a1-7b31fa629a4b\" class=\"colab-df-container\">\n",
              "    <div>\n",
              "<style scoped>\n",
              "    .dataframe tbody tr th:only-of-type {\n",
              "        vertical-align: middle;\n",
              "    }\n",
              "\n",
              "    .dataframe tbody tr th {\n",
              "        vertical-align: top;\n",
              "    }\n",
              "\n",
              "    .dataframe thead th {\n",
              "        text-align: right;\n",
              "    }\n",
              "</style>\n",
              "<table border=\"1\" class=\"dataframe\">\n",
              "  <thead>\n",
              "    <tr style=\"text-align: right;\">\n",
              "      <th></th>\n",
              "      <th>id</th>\n",
              "      <th>video</th>\n",
              "    </tr>\n",
              "  </thead>\n",
              "  <tbody>\n",
              "    <tr>\n",
              "      <th>0</th>\n",
              "      <td>1</td>\n",
              "      <td>https://www.instagram.com/reel/DM2DYuURXAS/?ig...</td>\n",
              "    </tr>\n",
              "    <tr>\n",
              "      <th>1</th>\n",
              "      <td>2</td>\n",
              "      <td>https://www.instagram.com/reel/DMpUrCKxQj5/?ig...</td>\n",
              "    </tr>\n",
              "    <tr>\n",
              "      <th>2</th>\n",
              "      <td>3</td>\n",
              "      <td>https://www.instagram.com/reel/DKoahGuRUGB/?ig...</td>\n",
              "    </tr>\n",
              "    <tr>\n",
              "      <th>3</th>\n",
              "      <td>4</td>\n",
              "      <td>https://www.instagram.com/reel/DKZVA8DJq89/?ig...</td>\n",
              "    </tr>\n",
              "    <tr>\n",
              "      <th>4</th>\n",
              "      <td>5</td>\n",
              "      <td>https://www.instagram.com/reel/DLtizEnyaOn/?ig...</td>\n",
              "    </tr>\n",
              "  </tbody>\n",
              "</table>\n",
              "</div>\n",
              "    <div class=\"colab-df-buttons\">\n",
              "\n",
              "  <div class=\"colab-df-container\">\n",
              "    <button class=\"colab-df-convert\" onclick=\"convertToInteractive('df-c9ce41f4-8225-4f88-b2a1-7b31fa629a4b')\"\n",
              "            title=\"Convert this dataframe to an interactive table.\"\n",
              "            style=\"display:none;\">\n",
              "\n",
              "  <svg xmlns=\"http://www.w3.org/2000/svg\" height=\"24px\" viewBox=\"0 -960 960 960\">\n",
              "    <path d=\"M120-120v-720h720v720H120Zm60-500h600v-160H180v160Zm220 220h160v-160H400v160Zm0 220h160v-160H400v160ZM180-400h160v-160H180v160Zm440 0h160v-160H620v160ZM180-180h160v-160H180v160Zm440 0h160v-160H620v160Z\"/>\n",
              "  </svg>\n",
              "    </button>\n",
              "\n",
              "  <style>\n",
              "    .colab-df-container {\n",
              "      display:flex;\n",
              "      gap: 12px;\n",
              "    }\n",
              "\n",
              "    .colab-df-convert {\n",
              "      background-color: #E8F0FE;\n",
              "      border: none;\n",
              "      border-radius: 50%;\n",
              "      cursor: pointer;\n",
              "      display: none;\n",
              "      fill: #1967D2;\n",
              "      height: 32px;\n",
              "      padding: 0 0 0 0;\n",
              "      width: 32px;\n",
              "    }\n",
              "\n",
              "    .colab-df-convert:hover {\n",
              "      background-color: #E2EBFA;\n",
              "      box-shadow: 0px 1px 2px rgba(60, 64, 67, 0.3), 0px 1px 3px 1px rgba(60, 64, 67, 0.15);\n",
              "      fill: #174EA6;\n",
              "    }\n",
              "\n",
              "    .colab-df-buttons div {\n",
              "      margin-bottom: 4px;\n",
              "    }\n",
              "\n",
              "    [theme=dark] .colab-df-convert {\n",
              "      background-color: #3B4455;\n",
              "      fill: #D2E3FC;\n",
              "    }\n",
              "\n",
              "    [theme=dark] .colab-df-convert:hover {\n",
              "      background-color: #434B5C;\n",
              "      box-shadow: 0px 1px 3px 1px rgba(0, 0, 0, 0.15);\n",
              "      filter: drop-shadow(0px 1px 2px rgba(0, 0, 0, 0.3));\n",
              "      fill: #FFFFFF;\n",
              "    }\n",
              "  </style>\n",
              "\n",
              "    <script>\n",
              "      const buttonEl =\n",
              "        document.querySelector('#df-c9ce41f4-8225-4f88-b2a1-7b31fa629a4b button.colab-df-convert');\n",
              "      buttonEl.style.display =\n",
              "        google.colab.kernel.accessAllowed ? 'block' : 'none';\n",
              "\n",
              "      async function convertToInteractive(key) {\n",
              "        const element = document.querySelector('#df-c9ce41f4-8225-4f88-b2a1-7b31fa629a4b');\n",
              "        const dataTable =\n",
              "          await google.colab.kernel.invokeFunction('convertToInteractive',\n",
              "                                                    [key], {});\n",
              "        if (!dataTable) return;\n",
              "\n",
              "        const docLinkHtml = 'Like what you see? Visit the ' +\n",
              "          '<a target=\"_blank\" href=https://colab.research.google.com/notebooks/data_table.ipynb>data table notebook</a>'\n",
              "          + ' to learn more about interactive tables.';\n",
              "        element.innerHTML = '';\n",
              "        dataTable['output_type'] = 'display_data';\n",
              "        await google.colab.output.renderOutput(dataTable, element);\n",
              "        const docLink = document.createElement('div');\n",
              "        docLink.innerHTML = docLinkHtml;\n",
              "        element.appendChild(docLink);\n",
              "      }\n",
              "    </script>\n",
              "  </div>\n",
              "\n",
              "\n",
              "    <div id=\"df-4c6027a8-e782-4b1c-a4a9-152b501623ef\">\n",
              "      <button class=\"colab-df-quickchart\" onclick=\"quickchart('df-4c6027a8-e782-4b1c-a4a9-152b501623ef')\"\n",
              "                title=\"Suggest charts\"\n",
              "                style=\"display:none;\">\n",
              "\n",
              "<svg xmlns=\"http://www.w3.org/2000/svg\" height=\"24px\"viewBox=\"0 0 24 24\"\n",
              "     width=\"24px\">\n",
              "    <g>\n",
              "        <path d=\"M19 3H5c-1.1 0-2 .9-2 2v14c0 1.1.9 2 2 2h14c1.1 0 2-.9 2-2V5c0-1.1-.9-2-2-2zM9 17H7v-7h2v7zm4 0h-2V7h2v10zm4 0h-2v-4h2v4z\"/>\n",
              "    </g>\n",
              "</svg>\n",
              "      </button>\n",
              "\n",
              "<style>\n",
              "  .colab-df-quickchart {\n",
              "      --bg-color: #E8F0FE;\n",
              "      --fill-color: #1967D2;\n",
              "      --hover-bg-color: #E2EBFA;\n",
              "      --hover-fill-color: #174EA6;\n",
              "      --disabled-fill-color: #AAA;\n",
              "      --disabled-bg-color: #DDD;\n",
              "  }\n",
              "\n",
              "  [theme=dark] .colab-df-quickchart {\n",
              "      --bg-color: #3B4455;\n",
              "      --fill-color: #D2E3FC;\n",
              "      --hover-bg-color: #434B5C;\n",
              "      --hover-fill-color: #FFFFFF;\n",
              "      --disabled-bg-color: #3B4455;\n",
              "      --disabled-fill-color: #666;\n",
              "  }\n",
              "\n",
              "  .colab-df-quickchart {\n",
              "    background-color: var(--bg-color);\n",
              "    border: none;\n",
              "    border-radius: 50%;\n",
              "    cursor: pointer;\n",
              "    display: none;\n",
              "    fill: var(--fill-color);\n",
              "    height: 32px;\n",
              "    padding: 0;\n",
              "    width: 32px;\n",
              "  }\n",
              "\n",
              "  .colab-df-quickchart:hover {\n",
              "    background-color: var(--hover-bg-color);\n",
              "    box-shadow: 0 1px 2px rgba(60, 64, 67, 0.3), 0 1px 3px 1px rgba(60, 64, 67, 0.15);\n",
              "    fill: var(--button-hover-fill-color);\n",
              "  }\n",
              "\n",
              "  .colab-df-quickchart-complete:disabled,\n",
              "  .colab-df-quickchart-complete:disabled:hover {\n",
              "    background-color: var(--disabled-bg-color);\n",
              "    fill: var(--disabled-fill-color);\n",
              "    box-shadow: none;\n",
              "  }\n",
              "\n",
              "  .colab-df-spinner {\n",
              "    border: 2px solid var(--fill-color);\n",
              "    border-color: transparent;\n",
              "    border-bottom-color: var(--fill-color);\n",
              "    animation:\n",
              "      spin 1s steps(1) infinite;\n",
              "  }\n",
              "\n",
              "  @keyframes spin {\n",
              "    0% {\n",
              "      border-color: transparent;\n",
              "      border-bottom-color: var(--fill-color);\n",
              "      border-left-color: var(--fill-color);\n",
              "    }\n",
              "    20% {\n",
              "      border-color: transparent;\n",
              "      border-left-color: var(--fill-color);\n",
              "      border-top-color: var(--fill-color);\n",
              "    }\n",
              "    30% {\n",
              "      border-color: transparent;\n",
              "      border-left-color: var(--fill-color);\n",
              "      border-top-color: var(--fill-color);\n",
              "      border-right-color: var(--fill-color);\n",
              "    }\n",
              "    40% {\n",
              "      border-color: transparent;\n",
              "      border-right-color: var(--fill-color);\n",
              "      border-top-color: var(--fill-color);\n",
              "    }\n",
              "    60% {\n",
              "      border-color: transparent;\n",
              "      border-right-color: var(--fill-color);\n",
              "    }\n",
              "    80% {\n",
              "      border-color: transparent;\n",
              "      border-right-color: var(--fill-color);\n",
              "      border-bottom-color: var(--fill-color);\n",
              "    }\n",
              "    90% {\n",
              "      border-color: transparent;\n",
              "      border-bottom-color: var(--fill-color);\n",
              "    }\n",
              "  }\n",
              "</style>\n",
              "\n",
              "      <script>\n",
              "        async function quickchart(key) {\n",
              "          const quickchartButtonEl =\n",
              "            document.querySelector('#' + key + ' button');\n",
              "          quickchartButtonEl.disabled = true;  // To prevent multiple clicks.\n",
              "          quickchartButtonEl.classList.add('colab-df-spinner');\n",
              "          try {\n",
              "            const charts = await google.colab.kernel.invokeFunction(\n",
              "                'suggestCharts', [key], {});\n",
              "          } catch (error) {\n",
              "            console.error('Error during call to suggestCharts:', error);\n",
              "          }\n",
              "          quickchartButtonEl.classList.remove('colab-df-spinner');\n",
              "          quickchartButtonEl.classList.add('colab-df-quickchart-complete');\n",
              "        }\n",
              "        (() => {\n",
              "          let quickchartButtonEl =\n",
              "            document.querySelector('#df-4c6027a8-e782-4b1c-a4a9-152b501623ef button');\n",
              "          quickchartButtonEl.style.display =\n",
              "            google.colab.kernel.accessAllowed ? 'block' : 'none';\n",
              "        })();\n",
              "      </script>\n",
              "    </div>\n",
              "\n",
              "    </div>\n",
              "  </div>\n"
            ],
            "text/plain": [
              "   id                                              video\n",
              "0   1  https://www.instagram.com/reel/DM2DYuURXAS/?ig...\n",
              "1   2  https://www.instagram.com/reel/DMpUrCKxQj5/?ig...\n",
              "2   3  https://www.instagram.com/reel/DKoahGuRUGB/?ig...\n",
              "3   4  https://www.instagram.com/reel/DKZVA8DJq89/?ig...\n",
              "4   5  https://www.instagram.com/reel/DLtizEnyaOn/?ig..."
            ]
          },
          "execution_count": 18,
          "metadata": {},
          "output_type": "execute_result"
        }
      ],
      "source": [
        "train_data.head()"
      ]
    },
    {
      "cell_type": "code",
      "execution_count": null,
      "metadata": {
        "colab": {
          "base_uri": "https://localhost:8080/",
          "height": 547
        },
        "id": "qqKXdgZFFodi",
        "outputId": "7ac0b755-9ec6-4f09-fdcd-4eccad2e2168"
      },
      "outputs": [
        {
          "ename": "KeyError",
          "evalue": "'emotion'",
          "output_type": "error",
          "traceback": [
            "\u001b[0;31m---------------------------------------------------------------------------\u001b[0m",
            "\u001b[0;31mKeyError\u001b[0m                                  Traceback (most recent call last)",
            "\u001b[0;32m/usr/local/lib/python3.12/dist-packages/pandas/core/indexes/base.py\u001b[0m in \u001b[0;36mget_loc\u001b[0;34m(self, key)\u001b[0m\n\u001b[1;32m   3804\u001b[0m         \u001b[0;32mtry\u001b[0m\u001b[0;34m:\u001b[0m\u001b[0;34m\u001b[0m\u001b[0;34m\u001b[0m\u001b[0m\n\u001b[0;32m-> 3805\u001b[0;31m             \u001b[0;32mreturn\u001b[0m \u001b[0mself\u001b[0m\u001b[0;34m.\u001b[0m\u001b[0m_engine\u001b[0m\u001b[0;34m.\u001b[0m\u001b[0mget_loc\u001b[0m\u001b[0;34m(\u001b[0m\u001b[0mcasted_key\u001b[0m\u001b[0;34m)\u001b[0m\u001b[0;34m\u001b[0m\u001b[0;34m\u001b[0m\u001b[0m\n\u001b[0m\u001b[1;32m   3806\u001b[0m         \u001b[0;32mexcept\u001b[0m \u001b[0mKeyError\u001b[0m \u001b[0;32mas\u001b[0m \u001b[0merr\u001b[0m\u001b[0;34m:\u001b[0m\u001b[0;34m\u001b[0m\u001b[0;34m\u001b[0m\u001b[0m\n",
            "\u001b[0;32mindex.pyx\u001b[0m in \u001b[0;36mpandas._libs.index.IndexEngine.get_loc\u001b[0;34m()\u001b[0m\n",
            "\u001b[0;32mindex.pyx\u001b[0m in \u001b[0;36mpandas._libs.index.IndexEngine.get_loc\u001b[0;34m()\u001b[0m\n",
            "\u001b[0;32mpandas/_libs/hashtable_class_helper.pxi\u001b[0m in \u001b[0;36mpandas._libs.hashtable.PyObjectHashTable.get_item\u001b[0;34m()\u001b[0m\n",
            "\u001b[0;32mpandas/_libs/hashtable_class_helper.pxi\u001b[0m in \u001b[0;36mpandas._libs.hashtable.PyObjectHashTable.get_item\u001b[0;34m()\u001b[0m\n",
            "\u001b[0;31mKeyError\u001b[0m: 'emotion'",
            "\nThe above exception was the direct cause of the following exception:\n",
            "\u001b[0;31mKeyError\u001b[0m                                  Traceback (most recent call last)",
            "\u001b[0;32m/tmp/ipython-input-1312824205.py\u001b[0m in \u001b[0;36m<cell line: 0>\u001b[0;34m()\u001b[0m\n\u001b[0;32m----> 1\u001b[0;31m \u001b[0mtrain_data\u001b[0m\u001b[0;34m[\u001b[0m\u001b[0;34m'emotion'\u001b[0m\u001b[0;34m]\u001b[0m\u001b[0;34m.\u001b[0m\u001b[0mvalue_counts\u001b[0m\u001b[0;34m(\u001b[0m\u001b[0;34m)\u001b[0m\u001b[0;34m\u001b[0m\u001b[0;34m\u001b[0m\u001b[0m\n\u001b[0m",
            "\u001b[0;32m/usr/local/lib/python3.12/dist-packages/pandas/core/frame.py\u001b[0m in \u001b[0;36m__getitem__\u001b[0;34m(self, key)\u001b[0m\n\u001b[1;32m   4100\u001b[0m             \u001b[0;32mif\u001b[0m \u001b[0mself\u001b[0m\u001b[0;34m.\u001b[0m\u001b[0mcolumns\u001b[0m\u001b[0;34m.\u001b[0m\u001b[0mnlevels\u001b[0m \u001b[0;34m>\u001b[0m \u001b[0;36m1\u001b[0m\u001b[0;34m:\u001b[0m\u001b[0;34m\u001b[0m\u001b[0;34m\u001b[0m\u001b[0m\n\u001b[1;32m   4101\u001b[0m                 \u001b[0;32mreturn\u001b[0m \u001b[0mself\u001b[0m\u001b[0;34m.\u001b[0m\u001b[0m_getitem_multilevel\u001b[0m\u001b[0;34m(\u001b[0m\u001b[0mkey\u001b[0m\u001b[0;34m)\u001b[0m\u001b[0;34m\u001b[0m\u001b[0;34m\u001b[0m\u001b[0m\n\u001b[0;32m-> 4102\u001b[0;31m             \u001b[0mindexer\u001b[0m \u001b[0;34m=\u001b[0m \u001b[0mself\u001b[0m\u001b[0;34m.\u001b[0m\u001b[0mcolumns\u001b[0m\u001b[0;34m.\u001b[0m\u001b[0mget_loc\u001b[0m\u001b[0;34m(\u001b[0m\u001b[0mkey\u001b[0m\u001b[0;34m)\u001b[0m\u001b[0;34m\u001b[0m\u001b[0;34m\u001b[0m\u001b[0m\n\u001b[0m\u001b[1;32m   4103\u001b[0m             \u001b[0;32mif\u001b[0m \u001b[0mis_integer\u001b[0m\u001b[0;34m(\u001b[0m\u001b[0mindexer\u001b[0m\u001b[0;34m)\u001b[0m\u001b[0;34m:\u001b[0m\u001b[0;34m\u001b[0m\u001b[0;34m\u001b[0m\u001b[0m\n\u001b[1;32m   4104\u001b[0m                 \u001b[0mindexer\u001b[0m \u001b[0;34m=\u001b[0m \u001b[0;34m[\u001b[0m\u001b[0mindexer\u001b[0m\u001b[0;34m]\u001b[0m\u001b[0;34m\u001b[0m\u001b[0;34m\u001b[0m\u001b[0m\n",
            "\u001b[0;32m/usr/local/lib/python3.12/dist-packages/pandas/core/indexes/base.py\u001b[0m in \u001b[0;36mget_loc\u001b[0;34m(self, key)\u001b[0m\n\u001b[1;32m   3810\u001b[0m             ):\n\u001b[1;32m   3811\u001b[0m                 \u001b[0;32mraise\u001b[0m \u001b[0mInvalidIndexError\u001b[0m\u001b[0;34m(\u001b[0m\u001b[0mkey\u001b[0m\u001b[0;34m)\u001b[0m\u001b[0;34m\u001b[0m\u001b[0;34m\u001b[0m\u001b[0m\n\u001b[0;32m-> 3812\u001b[0;31m             \u001b[0;32mraise\u001b[0m \u001b[0mKeyError\u001b[0m\u001b[0;34m(\u001b[0m\u001b[0mkey\u001b[0m\u001b[0;34m)\u001b[0m \u001b[0;32mfrom\u001b[0m \u001b[0merr\u001b[0m\u001b[0;34m\u001b[0m\u001b[0;34m\u001b[0m\u001b[0m\n\u001b[0m\u001b[1;32m   3813\u001b[0m         \u001b[0;32mexcept\u001b[0m \u001b[0mTypeError\u001b[0m\u001b[0;34m:\u001b[0m\u001b[0;34m\u001b[0m\u001b[0;34m\u001b[0m\u001b[0m\n\u001b[1;32m   3814\u001b[0m             \u001b[0;31m# If we have a listlike key, _check_indexing_error will raise\u001b[0m\u001b[0;34m\u001b[0m\u001b[0;34m\u001b[0m\u001b[0m\n",
            "\u001b[0;31mKeyError\u001b[0m: 'emotion'"
          ]
        }
      ],
      "source": [
        "# for data train\n",
        "train_data['emotion'].value_counts()"
      ]
    },
    {
      "cell_type": "code",
      "execution_count": null,
      "metadata": {
        "colab": {
          "base_uri": "https://localhost:8080/"
        },
        "id": "4p1VvXc_cFUh",
        "outputId": "ed26235f-f77e-4bb6-e87e-47387fdeaa40"
      },
      "outputs": [
        {
          "name": "stdout",
          "output_type": "stream",
          "text": [
            "Jumlah domain unik: 3\n",
            "Daftar domain unik: ['www.instagram.com' 'drive.google.com' 'instagram.com']\n",
            "\n",
            "Frekuensi domain:\n",
            "domain\n",
            "www.instagram.com    140\n",
            "drive.google.com      58\n",
            "instagram.com          2\n",
            "Name: count, dtype: int64\n"
          ]
        }
      ],
      "source": [
        "import pandas as pd\n",
        "from urllib.parse import urlparse\n",
        "\n",
        "# Ambil domain dari kolom path\n",
        "train_data[\"domain\"] = train_data[\"video\"].apply(lambda x: urlparse(str(x)).netloc)\n",
        "test_data[\"domain\"] = test_data[\"video\"].apply(lambda x: urlparse(str(x)).netloc)\n",
        "\n",
        "# Cek jumlah unik domain\n",
        "print(\"Jumlah domain unik pada train:\", train_data[\"domain\"].nunique())\n",
        "print(\"Daftar domain unik pada train:\", train_data[\"domain\"].unique())\n",
        "print(\"Jumlah domain unik pada test:\", test_data[\"domain\"].nunique())\n",
        "print(\"Daftar domain unik pada test:\", test_data[\"domain\"].unique())\n",
        "\n",
        "# Hitung frekuensi tiap domain\n",
        "print(\"\\nFrekuensi domain:\")\n",
        "print(f\"\\nPada train {train_data[\"domain\"].value_counts()}\")\n",
        "print(f\"\\nPada test {test_data[\"domain\"].value_counts()}\")"
      ]
    },
    {
      "cell_type": "code",
      "execution_count": null,
      "metadata": {
        "colab": {
          "base_uri": "https://localhost:8080/"
        },
        "id": "A1PUFmgkcfLM",
        "outputId": "c580283c-8e9b-4447-98db-285493eff675"
      },
      "outputs": [
        {
          "data": {
            "text/plain": [
              "200"
            ]
          },
          "execution_count": 20,
          "metadata": {},
          "output_type": "execute_result"
        }
      ],
      "source": [
        "print (f\"Jumlah data train -> {train_data['video'].nunique()}\")\n",
        "print (f\"\\nJumlah data test -> {train_data['video'].nunique()}\")"
      ]
    },
    {
      "cell_type": "markdown",
      "metadata": {
        "id": "wULWrkUsjHXy"
      },
      "source": [
        "# Scrap Data"
      ]
    },
    {
      "cell_type": "code",
      "execution_count": null,
      "metadata": {
        "colab": {
          "base_uri": "https://localhost:8080/"
        },
        "id": "uGZ5kwq-kZYR",
        "outputId": "d172a3f8-8b52-4228-a78b-2e4a7f223f43"
      },
      "outputs": [
        {
          "name": "stdout",
          "output_type": "stream",
          "text": [
            "Requirement already satisfied: gdown in /usr/local/lib/python3.12/dist-packages (5.2.0)\n",
            "Requirement already satisfied: beautifulsoup4 in /usr/local/lib/python3.12/dist-packages (from gdown) (4.13.5)\n",
            "Requirement already satisfied: filelock in /usr/local/lib/python3.12/dist-packages (from gdown) (3.19.1)\n",
            "Requirement already satisfied: requests[socks] in /usr/local/lib/python3.12/dist-packages (from gdown) (2.32.4)\n",
            "Requirement already satisfied: tqdm in /usr/local/lib/python3.12/dist-packages (from gdown) (4.67.1)\n",
            "Requirement already satisfied: soupsieve>1.2 in /usr/local/lib/python3.12/dist-packages (from beautifulsoup4->gdown) (2.8)\n",
            "Requirement already satisfied: typing-extensions>=4.0.0 in /usr/local/lib/python3.12/dist-packages (from beautifulsoup4->gdown) (4.15.0)\n",
            "Requirement already satisfied: charset_normalizer<4,>=2 in /usr/local/lib/python3.12/dist-packages (from requests[socks]->gdown) (3.4.3)\n",
            "Requirement already satisfied: idna<4,>=2.5 in /usr/local/lib/python3.12/dist-packages (from requests[socks]->gdown) (3.10)\n",
            "Requirement already satisfied: urllib3<3,>=1.21.1 in /usr/local/lib/python3.12/dist-packages (from requests[socks]->gdown) (2.5.0)\n",
            "Requirement already satisfied: certifi>=2017.4.17 in /usr/local/lib/python3.12/dist-packages (from requests[socks]->gdown) (2025.8.3)\n",
            "Requirement already satisfied: PySocks!=1.5.7,>=1.5.6 in /usr/local/lib/python3.12/dist-packages (from requests[socks]->gdown) (1.7.1)\n"
          ]
        }
      ],
      "source": [
        "!pip install gdown"
      ]
    },
    {
      "cell_type": "code",
      "execution_count": null,
      "metadata": {
        "colab": {
          "base_uri": "https://localhost:8080/"
        },
        "id": "0aOtnhBYnNjh",
        "outputId": "e666895a-3229-48ff-83f9-f3387f17126f"
      },
      "outputs": [
        {
          "name": "stdout",
          "output_type": "stream",
          "text": [
            "Collecting instagrapi\n",
            "  Downloading instagrapi-2.2.1-py3-none-any.whl.metadata (2.9 kB)\n",
            "Requirement already satisfied: requests==2.32.4 in /usr/local/lib/python3.12/dist-packages (from instagrapi) (2.32.4)\n",
            "Requirement already satisfied: PySocks==1.7.1 in /usr/local/lib/python3.12/dist-packages (from instagrapi) (1.7.1)\n",
            "Requirement already satisfied: pydantic==2.11.7 in /usr/local/lib/python3.12/dist-packages (from instagrapi) (2.11.7)\n",
            "Requirement already satisfied: moviepy==1.0.3 in /usr/local/lib/python3.12/dist-packages (from instagrapi) (1.0.3)\n",
            "Requirement already satisfied: pycryptodomex==3.23.0 in /usr/local/lib/python3.12/dist-packages (from instagrapi) (3.23.0)\n",
            "Requirement already satisfied: decorator<5.0,>=4.0.2 in /usr/local/lib/python3.12/dist-packages (from moviepy==1.0.3->instagrapi) (4.4.2)\n",
            "Requirement already satisfied: tqdm<5.0,>=4.11.2 in /usr/local/lib/python3.12/dist-packages (from moviepy==1.0.3->instagrapi) (4.67.1)\n",
            "Requirement already satisfied: proglog<=1.0.0 in /usr/local/lib/python3.12/dist-packages (from moviepy==1.0.3->instagrapi) (0.1.12)\n",
            "Requirement already satisfied: numpy>=1.17.3 in /usr/local/lib/python3.12/dist-packages (from moviepy==1.0.3->instagrapi) (2.0.2)\n",
            "Requirement already satisfied: imageio<3.0,>=2.5 in /usr/local/lib/python3.12/dist-packages (from moviepy==1.0.3->instagrapi) (2.37.0)\n",
            "Requirement already satisfied: imageio-ffmpeg>=0.2.0 in /usr/local/lib/python3.12/dist-packages (from moviepy==1.0.3->instagrapi) (0.6.0)\n",
            "Requirement already satisfied: annotated-types>=0.6.0 in /usr/local/lib/python3.12/dist-packages (from pydantic==2.11.7->instagrapi) (0.7.0)\n",
            "Requirement already satisfied: pydantic-core==2.33.2 in /usr/local/lib/python3.12/dist-packages (from pydantic==2.11.7->instagrapi) (2.33.2)\n",
            "Requirement already satisfied: typing-extensions>=4.12.2 in /usr/local/lib/python3.12/dist-packages (from pydantic==2.11.7->instagrapi) (4.15.0)\n",
            "Requirement already satisfied: typing-inspection>=0.4.0 in /usr/local/lib/python3.12/dist-packages (from pydantic==2.11.7->instagrapi) (0.4.1)\n",
            "Requirement already satisfied: charset_normalizer<4,>=2 in /usr/local/lib/python3.12/dist-packages (from requests==2.32.4->instagrapi) (3.4.3)\n",
            "Requirement already satisfied: idna<4,>=2.5 in /usr/local/lib/python3.12/dist-packages (from requests==2.32.4->instagrapi) (3.10)\n",
            "Requirement already satisfied: urllib3<3,>=1.21.1 in /usr/local/lib/python3.12/dist-packages (from requests==2.32.4->instagrapi) (2.5.0)\n",
            "Requirement already satisfied: certifi>=2017.4.17 in /usr/local/lib/python3.12/dist-packages (from requests==2.32.4->instagrapi) (2025.8.3)\n",
            "Requirement already satisfied: pillow>=8.3.2 in /usr/local/lib/python3.12/dist-packages (from imageio<3.0,>=2.5->moviepy==1.0.3->instagrapi) (11.3.0)\n",
            "Downloading instagrapi-2.2.1-py3-none-any.whl (124 kB)\n",
            "\u001b[2K   \u001b[90m━━━━━━━━━━━━━━━━━━━━━━━━━━━━━━━━━━━━━━━━\u001b[0m \u001b[32m124.2/124.2 kB\u001b[0m \u001b[31m2.2 MB/s\u001b[0m eta \u001b[36m0:00:00\u001b[0m\n",
            "\u001b[?25hInstalling collected packages: instagrapi\n",
            "Successfully installed instagrapi-2.2.1\n"
          ]
        }
      ],
      "source": [
        "!pip install instagrapi\n"
      ]
    },
    {
      "cell_type": "code",
      "execution_count": null,
      "metadata": {
        "colab": {
          "base_uri": "https://localhost:8080/"
        },
        "id": "rWMlkNTbzaR4",
        "outputId": "4a7cee71-c9d1-49c9-f7e2-b169b0236fa0"
      },
      "outputs": [
        {
          "name": "stdout",
          "output_type": "stream",
          "text": [
            "Collecting instagrapi==1.17.10\n",
            "  Downloading instagrapi-1.17.10.tar.gz (90 kB)\n",
            "\u001b[?25l     \u001b[90m━━━━━━━━━━━━━━━━━━━━━━━━━━━━━━━━━━━━━━━━\u001b[0m \u001b[32m0.0/90.2 kB\u001b[0m \u001b[31m?\u001b[0m eta \u001b[36m-:--:--\u001b[0m\r\u001b[2K     \u001b[90m━━━━━━━━━━━━━━━━━━━━━━━━━━━━━━━━━━━━━━━━\u001b[0m \u001b[32m90.2/90.2 kB\u001b[0m \u001b[31m2.6 MB/s\u001b[0m eta \u001b[36m0:00:00\u001b[0m\n",
            "\u001b[?25h  Preparing metadata (setup.py) ... \u001b[?25l\u001b[?25hdone\n",
            "Requirement already satisfied: requests<3.0,>=2.25.1 in /usr/local/lib/python3.12/dist-packages (from instagrapi==1.17.10) (2.32.4)\n",
            "Requirement already satisfied: PySocks==1.7.1 in /usr/local/lib/python3.12/dist-packages (from instagrapi==1.17.10) (1.7.1)\n",
            "Collecting pydantic==1.10.7 (from instagrapi==1.17.10)\n",
            "  Downloading pydantic-1.10.7-py3-none-any.whl.metadata (145 kB)\n",
            "\u001b[2K     \u001b[90m━━━━━━━━━━━━━━━━━━━━━━━━━━━━━━━━━━━━━━━\u001b[0m \u001b[32m145.4/145.4 kB\u001b[0m \u001b[31m4.1 MB/s\u001b[0m eta \u001b[36m0:00:00\u001b[0m\n",
            "\u001b[?25hCollecting pycryptodomex==3.17 (from instagrapi==1.17.10)\n",
            "  Downloading pycryptodomex-3.17-cp35-abi3-manylinux_2_17_x86_64.manylinux2014_x86_64.whl.metadata (3.3 kB)\n",
            "Requirement already satisfied: typing-extensions>=4.2.0 in /usr/local/lib/python3.12/dist-packages (from pydantic==1.10.7->instagrapi==1.17.10) (4.15.0)\n",
            "Requirement already satisfied: charset_normalizer<4,>=2 in /usr/local/lib/python3.12/dist-packages (from requests<3.0,>=2.25.1->instagrapi==1.17.10) (3.4.3)\n",
            "Requirement already satisfied: idna<4,>=2.5 in /usr/local/lib/python3.12/dist-packages (from requests<3.0,>=2.25.1->instagrapi==1.17.10) (3.10)\n",
            "Requirement already satisfied: urllib3<3,>=1.21.1 in /usr/local/lib/python3.12/dist-packages (from requests<3.0,>=2.25.1->instagrapi==1.17.10) (2.5.0)\n",
            "Requirement already satisfied: certifi>=2017.4.17 in /usr/local/lib/python3.12/dist-packages (from requests<3.0,>=2.25.1->instagrapi==1.17.10) (2025.8.3)\n",
            "Downloading pycryptodomex-3.17-cp35-abi3-manylinux_2_17_x86_64.manylinux2014_x86_64.whl (2.1 MB)\n",
            "\u001b[2K   \u001b[90m━━━━━━━━━━━━━━━━━━━━━━━━━━━━━━━━━━━━━━━━\u001b[0m \u001b[32m2.1/2.1 MB\u001b[0m \u001b[31m25.1 MB/s\u001b[0m eta \u001b[36m0:00:00\u001b[0m\n",
            "\u001b[?25hDownloading pydantic-1.10.7-py3-none-any.whl (157 kB)\n",
            "\u001b[2K   \u001b[90m━━━━━━━━━━━━━━━━━━━━━━━━━━━━━━━━━━━━━━━━\u001b[0m \u001b[32m157.2/157.2 kB\u001b[0m \u001b[31m12.0 MB/s\u001b[0m eta \u001b[36m0:00:00\u001b[0m\n",
            "\u001b[?25hBuilding wheels for collected packages: instagrapi\n",
            "  Building wheel for instagrapi (setup.py) ... \u001b[?25l\u001b[?25hdone\n",
            "  Created wheel for instagrapi: filename=instagrapi-1.17.10-py3-none-any.whl size=103709 sha256=6c49974205ec01c5d72917f1914979255ed642291fac3151362419266568de11\n",
            "  Stored in directory: /root/.cache/pip/wheels/60/8b/39/61a0930042ffd4b6760509263badbb1eb08296b28fe7f6604b\n",
            "Successfully built instagrapi\n",
            "Installing collected packages: pydantic, pycryptodomex, instagrapi\n",
            "  Attempting uninstall: pydantic\n",
            "    Found existing installation: pydantic 2.11.7\n",
            "    Uninstalling pydantic-2.11.7:\n",
            "      Successfully uninstalled pydantic-2.11.7\n",
            "  Attempting uninstall: pycryptodomex\n",
            "    Found existing installation: pycryptodomex 3.23.0\n",
            "    Uninstalling pycryptodomex-3.23.0:\n",
            "      Successfully uninstalled pycryptodomex-3.23.0\n",
            "  Attempting uninstall: instagrapi\n",
            "    Found existing installation: instagrapi 2.2.1\n",
            "    Uninstalling instagrapi-2.2.1:\n",
            "      Successfully uninstalled instagrapi-2.2.1\n",
            "\u001b[31mERROR: pip's dependency resolver does not currently take into account all the packages that are installed. This behaviour is the source of the following dependency conflicts.\n",
            "thinc 8.3.6 requires pydantic<3.0.0,>=2.0.0, but you have pydantic 1.10.7 which is incompatible.\n",
            "google-genai 1.34.0 requires pydantic<3.0.0,>=2.0.0, but you have pydantic 1.10.7 which is incompatible.\n",
            "gradio 5.44.1 requires pydantic<2.12,>=2.0, but you have pydantic 1.10.7 which is incompatible.\n",
            "google-adk 1.13.0 requires pydantic<3.0.0,>=2.0, but you have pydantic 1.10.7 which is incompatible.\n",
            "pydantic-settings 2.10.1 requires pydantic>=2.7.0, but you have pydantic 1.10.7 which is incompatible.\n",
            "albumentations 2.0.8 requires pydantic>=2.9.2, but you have pydantic 1.10.7 which is incompatible.\n",
            "mcp 1.13.1 requires pydantic<3.0.0,>=2.11.0, but you have pydantic 1.10.7 which is incompatible.\n",
            "langchain 0.3.27 requires pydantic<3.0.0,>=2.7.4, but you have pydantic 1.10.7 which is incompatible.\n",
            "langchain-core 0.3.75 requires pydantic>=2.7.4, but you have pydantic 1.10.7 which is incompatible.\u001b[0m\u001b[31m\n",
            "\u001b[0mSuccessfully installed instagrapi-1.17.10 pycryptodomex-3.17 pydantic-1.10.7\n"
          ]
        }
      ],
      "source": [
        "!pip install instagrapi==1.17.10"
      ]
    },
    {
      "cell_type": "code",
      "execution_count": null,
      "metadata": {
        "colab": {
          "base_uri": "https://localhost:8080/"
        },
        "id": "kNdErdZJzWQM",
        "outputId": "464c0f26-3c9e-4265-c823-d37f07bf7e05"
      },
      "outputs": [
        {
          "name": "stdout",
          "output_type": "stream",
          "text": [
            "[SKIP] /content/drive/MyDrive/Satria_Data/test/videos/1.mp4 sudah ada\n",
            "[SKIP] /content/drive/MyDrive/Satria_Data/test/videos/2.mp4 sudah ada\n",
            "[SKIP] /content/drive/MyDrive/Satria_Data/test/videos/3.mp4 sudah ada\n",
            "[SKIP] /content/drive/MyDrive/Satria_Data/test/videos/4.mp4 sudah ada\n",
            "[SKIP] /content/drive/MyDrive/Satria_Data/test/videos/5.mp4 sudah ada\n",
            "[SKIP] /content/drive/MyDrive/Satria_Data/test/videos/6.mp4 sudah ada\n",
            "[SKIP] /content/drive/MyDrive/Satria_Data/test/videos/7.mp4 sudah ada\n",
            "[SKIP] /content/drive/MyDrive/Satria_Data/test/videos/8.mp4 sudah ada\n",
            "[SKIP] /content/drive/MyDrive/Satria_Data/test/videos/9.mp4 sudah ada\n",
            "[SKIP] /content/drive/MyDrive/Satria_Data/test/videos/10.mp4 sudah ada\n",
            "[SKIP] /content/drive/MyDrive/Satria_Data/test/videos/11.mp4 sudah ada\n",
            "[SKIP] /content/drive/MyDrive/Satria_Data/test/videos/12.mp4 sudah ada\n",
            "[SKIP] /content/drive/MyDrive/Satria_Data/test/videos/13.mp4 sudah ada\n",
            "[SKIP] /content/drive/MyDrive/Satria_Data/test/videos/14.mp4 sudah ada\n",
            "[SKIP] /content/drive/MyDrive/Satria_Data/test/videos/15.mp4 sudah ada\n",
            "[SKIP] /content/drive/MyDrive/Satria_Data/test/videos/16.mp4 sudah ada\n",
            "[SKIP] /content/drive/MyDrive/Satria_Data/test/videos/17.mp4 sudah ada\n",
            "[SKIP] /content/drive/MyDrive/Satria_Data/test/videos/18.mp4 sudah ada\n",
            "[SKIP] /content/drive/MyDrive/Satria_Data/test/videos/19.mp4 sudah ada\n",
            "[SKIP] /content/drive/MyDrive/Satria_Data/test/videos/20.mp4 sudah ada\n",
            "[SKIP] /content/drive/MyDrive/Satria_Data/test/videos/21.mp4 sudah ada\n",
            "[SKIP] /content/drive/MyDrive/Satria_Data/test/videos/22.mp4 sudah ada\n",
            "[SKIP] /content/drive/MyDrive/Satria_Data/test/videos/23.mp4 sudah ada\n",
            "[SKIP] /content/drive/MyDrive/Satria_Data/test/videos/24.mp4 sudah ada\n",
            "[SKIP] /content/drive/MyDrive/Satria_Data/test/videos/25.mp4 sudah ada\n",
            "[SKIP] /content/drive/MyDrive/Satria_Data/test/videos/26.mp4 sudah ada\n",
            "[SKIP] /content/drive/MyDrive/Satria_Data/test/videos/27.mp4 sudah ada\n",
            "[SKIP] /content/drive/MyDrive/Satria_Data/test/videos/28.mp4 sudah ada\n",
            "[SKIP] /content/drive/MyDrive/Satria_Data/test/videos/29.mp4 sudah ada\n",
            "[SKIP] /content/drive/MyDrive/Satria_Data/test/videos/30.mp4 sudah ada\n",
            "[SKIP] /content/drive/MyDrive/Satria_Data/test/videos/31.mp4 sudah ada\n",
            "[SKIP] /content/drive/MyDrive/Satria_Data/test/videos/32.mp4 sudah ada\n",
            "[SKIP] /content/drive/MyDrive/Satria_Data/test/videos/33.mp4 sudah ada\n",
            "[SKIP] /content/drive/MyDrive/Satria_Data/test/videos/34.mp4 sudah ada\n",
            "[SKIP] /content/drive/MyDrive/Satria_Data/test/videos/35.mp4 sudah ada\n",
            "[SKIP] /content/drive/MyDrive/Satria_Data/test/videos/36.mp4 sudah ada\n",
            "[SKIP] /content/drive/MyDrive/Satria_Data/test/videos/37.mp4 sudah ada\n",
            "[SKIP] /content/drive/MyDrive/Satria_Data/test/videos/38.mp4 sudah ada\n",
            "[SKIP] /content/drive/MyDrive/Satria_Data/test/videos/39.mp4 sudah ada\n",
            "[SKIP] /content/drive/MyDrive/Satria_Data/test/videos/40.mp4 sudah ada\n",
            "[SKIP] /content/drive/MyDrive/Satria_Data/test/videos/41.mp4 sudah ada\n",
            "[SKIP] /content/drive/MyDrive/Satria_Data/test/videos/42.mp4 sudah ada\n",
            "[SKIP] /content/drive/MyDrive/Satria_Data/test/videos/43.mp4 sudah ada\n",
            "[SKIP] /content/drive/MyDrive/Satria_Data/test/videos/44.mp4 sudah ada\n",
            "[SKIP] /content/drive/MyDrive/Satria_Data/test/videos/45.mp4 sudah ada\n",
            "[SKIP] /content/drive/MyDrive/Satria_Data/test/videos/46.mp4 sudah ada\n",
            "[SKIP] /content/drive/MyDrive/Satria_Data/test/videos/47.mp4 sudah ada\n",
            "[Instagram] Download https://www.instagram.com/reel/C3pEeaaS7oG/?igsh=azlzYWJpbjR2eGc1\n",
            "[OK] /content/drive/MyDrive/Satria_Data/test/videos/48.mp4\n",
            "[Instagram] Download https://www.instagram.com/reel/C3ZwNdMS3F8/?igsh=dm5xY2l0cG5rcDF3\n",
            "[OK] /content/drive/MyDrive/Satria_Data/test/videos/49.mp4\n",
            "[Instagram] Download https://www.instagram.com/reel/DHuzjz-yZON/?igsh=MWViYjBtbDg4bGEwcQ==\n",
            "[OK] /content/drive/MyDrive/Satria_Data/test/videos/50.mp4\n",
            "[Instagram] Download https://www.instagram.com/reel/DK4vdrmvgWA/\n",
            "[OK] /content/drive/MyDrive/Satria_Data/test/videos/51.mp4\n",
            "[Instagram] Download https://www.instagram.com/reel/DK9fYkVz-pW/\n",
            "[OK] /content/drive/MyDrive/Satria_Data/test/videos/52.mp4\n",
            "[Instagram] Download https://www.instagram.com/reel/DMhKJSaTSRf/\n",
            "[OK] /content/drive/MyDrive/Satria_Data/test/videos/53.mp4\n",
            "[Instagram] Download https://www.instagram.com/reel/DAr7Shbz01_/\n",
            "[OK] /content/drive/MyDrive/Satria_Data/test/videos/54.mp4\n",
            "[Instagram] Download https://www.instagram.com/reel/DFZNh3Gz4pv/\n",
            "[OK] /content/drive/MyDrive/Satria_Data/test/videos/55.mp4\n",
            "[Instagram] Download https://www.instagram.com/reel/DG0miMMTIRb/\n",
            "[OK] /content/drive/MyDrive/Satria_Data/test/videos/56.mp4\n",
            "[Instagram] Download https://www.instagram.com/reel/DGW9kcAz5DN/\n",
            "[OK] /content/drive/MyDrive/Satria_Data/test/videos/57.mp4\n",
            "[Google Drive] Download https://drive.google.com/file/d/1-OawfKdJ7ozcradDR4rxu4QCWtd93qY5/view?usp=share_link\n"
          ]
        },
        {
          "name": "stderr",
          "output_type": "stream",
          "text": [
            "Downloading...\n",
            "From: https://drive.google.com/uc?id=1-OawfKdJ7ozcradDR4rxu4QCWtd93qY5\n",
            "To: /content/drive/MyDrive/Satria_Data/test/videos/58.mp4\n",
            "100%|██████████| 6.32M/6.32M [00:00<00:00, 72.0MB/s]\n"
          ]
        },
        {
          "name": "stdout",
          "output_type": "stream",
          "text": [
            "[OK] /content/drive/MyDrive/Satria_Data/test/videos/58.mp4\n",
            "[Google Drive] Download https://drive.google.com/file/d/1UI8IJ19DQkZuTaUtLVtAI19jGMIDJuO_/view?usp=sharing\n"
          ]
        },
        {
          "name": "stderr",
          "output_type": "stream",
          "text": [
            "Downloading...\n",
            "From: https://drive.google.com/uc?id=1UI8IJ19DQkZuTaUtLVtAI19jGMIDJuO_\n",
            "To: /content/drive/MyDrive/Satria_Data/test/videos/59.mp4\n",
            "100%|██████████| 6.71M/6.71M [00:00<00:00, 63.8MB/s]\n"
          ]
        },
        {
          "name": "stdout",
          "output_type": "stream",
          "text": [
            "[OK] /content/drive/MyDrive/Satria_Data/test/videos/59.mp4\n",
            "[Google Drive] Download https://drive.google.com/file/d/1nbo5CnW50clco9ZFd6AE4R6KUwPTYpLA/view?usp=share_link\n"
          ]
        },
        {
          "name": "stderr",
          "output_type": "stream",
          "text": [
            "Downloading...\n",
            "From: https://drive.google.com/uc?id=1nbo5CnW50clco9ZFd6AE4R6KUwPTYpLA\n",
            "To: /content/drive/MyDrive/Satria_Data/test/videos/60.mp4\n",
            "100%|██████████| 6.10M/6.10M [00:00<00:00, 58.8MB/s]\n"
          ]
        },
        {
          "name": "stdout",
          "output_type": "stream",
          "text": [
            "[OK] /content/drive/MyDrive/Satria_Data/test/videos/60.mp4\n",
            "[Google Drive] Download https://drive.google.com/file/d/1c_1boySTaI5v-wbdEknkClIcsC7emkyC/view?usp=share_link\n"
          ]
        },
        {
          "name": "stderr",
          "output_type": "stream",
          "text": [
            "Downloading...\n",
            "From: https://drive.google.com/uc?id=1c_1boySTaI5v-wbdEknkClIcsC7emkyC\n",
            "To: /content/drive/MyDrive/Satria_Data/test/videos/61.mp4\n",
            "100%|██████████| 26.6M/26.6M [00:00<00:00, 103MB/s]\n"
          ]
        },
        {
          "name": "stdout",
          "output_type": "stream",
          "text": [
            "[OK] /content/drive/MyDrive/Satria_Data/test/videos/61.mp4\n",
            "[Google Drive] Download https://drive.google.com/file/d/1WVED72q_6g4WpDZqMo0IxDVnNSU6Dho6/view?usp=share_link\n"
          ]
        },
        {
          "name": "stderr",
          "output_type": "stream",
          "text": [
            "Downloading...\n",
            "From: https://drive.google.com/uc?id=1WVED72q_6g4WpDZqMo0IxDVnNSU6Dho6\n",
            "To: /content/drive/MyDrive/Satria_Data/test/videos/62.mp4\n",
            "100%|██████████| 8.31M/8.31M [00:00<00:00, 39.5MB/s]\n"
          ]
        },
        {
          "name": "stdout",
          "output_type": "stream",
          "text": [
            "[OK] /content/drive/MyDrive/Satria_Data/test/videos/62.mp4\n",
            "[Google Drive] Download https://drive.google.com/file/d/119B50bkS2zi3gTynJmDDzhs-1SAvI_FO/view?usp=share_link\n"
          ]
        },
        {
          "name": "stderr",
          "output_type": "stream",
          "text": [
            "Downloading...\n",
            "From: https://drive.google.com/uc?id=119B50bkS2zi3gTynJmDDzhs-1SAvI_FO\n",
            "To: /content/drive/MyDrive/Satria_Data/test/videos/63.mp4\n",
            "100%|██████████| 8.16M/8.16M [00:00<00:00, 33.2MB/s]\n"
          ]
        },
        {
          "name": "stdout",
          "output_type": "stream",
          "text": [
            "[OK] /content/drive/MyDrive/Satria_Data/test/videos/63.mp4\n",
            "[Google Drive] Download https://drive.google.com/file/d/1QeVhYOzQQzWvmASX097fx9-xgSL8aYa9/view?usp=sharing\n"
          ]
        },
        {
          "name": "stderr",
          "output_type": "stream",
          "text": [
            "Downloading...\n",
            "From: https://drive.google.com/uc?id=1QeVhYOzQQzWvmASX097fx9-xgSL8aYa9\n",
            "To: /content/drive/MyDrive/Satria_Data/test/videos/64.mp4\n",
            "100%|██████████| 19.2M/19.2M [00:00<00:00, 50.3MB/s]\n"
          ]
        },
        {
          "name": "stdout",
          "output_type": "stream",
          "text": [
            "[OK] /content/drive/MyDrive/Satria_Data/test/videos/64.mp4\n",
            "[Google Drive] Download https://drive.google.com/file/d/1GrQmRkI5yNi6dRxBzSH2qvn1U8402Ah7/view?usp=sharing\n"
          ]
        },
        {
          "name": "stderr",
          "output_type": "stream",
          "text": [
            "Downloading...\n",
            "From: https://drive.google.com/uc?id=1GrQmRkI5yNi6dRxBzSH2qvn1U8402Ah7\n",
            "To: /content/drive/MyDrive/Satria_Data/test/videos/65.mp4\n",
            "100%|██████████| 6.12M/6.12M [00:00<00:00, 26.1MB/s]\n"
          ]
        },
        {
          "name": "stdout",
          "output_type": "stream",
          "text": [
            "[OK] /content/drive/MyDrive/Satria_Data/test/videos/65.mp4\n",
            "[Google Drive] Download https://drive.google.com/file/d/1jqczoDbEO2obyGra2bu7jwDcRgSOc4EW/view?usp=sharing\n"
          ]
        },
        {
          "name": "stderr",
          "output_type": "stream",
          "text": [
            "Downloading...\n",
            "From: https://drive.google.com/uc?id=1jqczoDbEO2obyGra2bu7jwDcRgSOc4EW\n",
            "To: /content/drive/MyDrive/Satria_Data/test/videos/66.mp4\n",
            "100%|██████████| 8.21M/8.21M [00:00<00:00, 70.1MB/s]\n"
          ]
        },
        {
          "name": "stdout",
          "output_type": "stream",
          "text": [
            "[OK] /content/drive/MyDrive/Satria_Data/test/videos/66.mp4\n",
            "[Google Drive] Download https://drive.google.com/file/d/16crPLW1l8Azp8EfeujohBtCOsdEcl3Qj/view?usp=sharing\n"
          ]
        },
        {
          "name": "stderr",
          "output_type": "stream",
          "text": [
            "Downloading...\n",
            "From: https://drive.google.com/uc?id=16crPLW1l8Azp8EfeujohBtCOsdEcl3Qj\n",
            "To: /content/drive/MyDrive/Satria_Data/test/videos/67.mp4\n",
            "100%|██████████| 12.7M/12.7M [00:00<00:00, 79.8MB/s]\n"
          ]
        },
        {
          "name": "stdout",
          "output_type": "stream",
          "text": [
            "[OK] /content/drive/MyDrive/Satria_Data/test/videos/67.mp4\n",
            "[Google Drive] Download https://drive.google.com/file/d/1hcdeL3zzC9e_9quh-eiZoBPpcuJwfqfi/view?usp=sharing\n"
          ]
        },
        {
          "name": "stderr",
          "output_type": "stream",
          "text": [
            "Downloading...\n",
            "From: https://drive.google.com/uc?id=1hcdeL3zzC9e_9quh-eiZoBPpcuJwfqfi\n",
            "To: /content/drive/MyDrive/Satria_Data/test/videos/68.mp4\n",
            "100%|██████████| 31.6M/31.6M [00:00<00:00, 39.2MB/s]\n"
          ]
        },
        {
          "name": "stdout",
          "output_type": "stream",
          "text": [
            "[OK] /content/drive/MyDrive/Satria_Data/test/videos/68.mp4\n",
            "[Google Drive] Download https://drive.google.com/file/d/10GXeqRPj5VjASvJUEoqiLjh7YFKilp6W/view?usp=sharing\n"
          ]
        },
        {
          "name": "stderr",
          "output_type": "stream",
          "text": [
            "Downloading...\n",
            "From: https://drive.google.com/uc?id=10GXeqRPj5VjASvJUEoqiLjh7YFKilp6W\n",
            "To: /content/drive/MyDrive/Satria_Data/test/videos/69.mp4\n",
            "100%|██████████| 10.6M/10.6M [00:00<00:00, 139MB/s]\n"
          ]
        },
        {
          "name": "stdout",
          "output_type": "stream",
          "text": [
            "[OK] /content/drive/MyDrive/Satria_Data/test/videos/69.mp4\n",
            "[Google Drive] Download https://drive.google.com/file/d/1ATqtIf4KqJYkRafQBVI3ESNlHHbR0W15/view?usp=sharing\n"
          ]
        },
        {
          "name": "stderr",
          "output_type": "stream",
          "text": [
            "Downloading...\n",
            "From: https://drive.google.com/uc?id=1ATqtIf4KqJYkRafQBVI3ESNlHHbR0W15\n",
            "To: /content/drive/MyDrive/Satria_Data/test/videos/70.mp4\n",
            "100%|██████████| 7.99M/7.99M [00:00<00:00, 64.9MB/s]\n"
          ]
        },
        {
          "name": "stdout",
          "output_type": "stream",
          "text": [
            "[OK] /content/drive/MyDrive/Satria_Data/test/videos/70.mp4\n",
            "[Google Drive] Download https://drive.google.com/file/d/1PRC9-PllLNjuA6E070mqKYmOW7xnTT6e/view?usp=sharing\n"
          ]
        },
        {
          "name": "stderr",
          "output_type": "stream",
          "text": [
            "Downloading...\n",
            "From: https://drive.google.com/uc?id=1PRC9-PllLNjuA6E070mqKYmOW7xnTT6e\n",
            "To: /content/drive/MyDrive/Satria_Data/test/videos/71.mp4\n",
            "100%|██████████| 9.86M/9.86M [00:00<00:00, 23.3MB/s]\n"
          ]
        },
        {
          "name": "stdout",
          "output_type": "stream",
          "text": [
            "[OK] /content/drive/MyDrive/Satria_Data/test/videos/71.mp4\n",
            "[Google Drive] Download https://drive.google.com/file/d/1uKt0ZxUDJREefKMGeMMsaS3_IWOC3P1o/view?usp=sharing\n"
          ]
        },
        {
          "name": "stderr",
          "output_type": "stream",
          "text": [
            "Downloading...\n",
            "From: https://drive.google.com/uc?id=1uKt0ZxUDJREefKMGeMMsaS3_IWOC3P1o\n",
            "To: /content/drive/MyDrive/Satria_Data/test/videos/72.mp4\n",
            "100%|██████████| 13.8M/13.8M [00:00<00:00, 25.7MB/s]\n"
          ]
        },
        {
          "name": "stdout",
          "output_type": "stream",
          "text": [
            "[OK] /content/drive/MyDrive/Satria_Data/test/videos/72.mp4\n",
            "[Google Drive] Download https://drive.google.com/file/d/1YLZL1FogofxtQ1zJKcVNjTSxCKTN6jXz/view?usp=drive_link\n"
          ]
        },
        {
          "name": "stderr",
          "output_type": "stream",
          "text": [
            "Downloading...\n",
            "From: https://drive.google.com/uc?id=1YLZL1FogofxtQ1zJKcVNjTSxCKTN6jXz\n",
            "To: /content/drive/MyDrive/Satria_Data/test/videos/73.mp4\n",
            "100%|██████████| 3.34M/3.34M [00:00<00:00, 59.7MB/s]\n"
          ]
        },
        {
          "name": "stdout",
          "output_type": "stream",
          "text": [
            "[OK] /content/drive/MyDrive/Satria_Data/test/videos/73.mp4\n",
            "[Google Drive] Download https://drive.google.com/file/d/1UB8tXY1CEoU1E3JuvqR6HSIHzT9cVAvH/view?usp=drive_link\n"
          ]
        },
        {
          "name": "stderr",
          "output_type": "stream",
          "text": [
            "Downloading...\n",
            "From: https://drive.google.com/uc?id=1UB8tXY1CEoU1E3JuvqR6HSIHzT9cVAvH\n",
            "To: /content/drive/MyDrive/Satria_Data/test/videos/74.mp4\n",
            "100%|██████████| 5.87M/5.87M [00:00<00:00, 47.2MB/s]\n"
          ]
        },
        {
          "name": "stdout",
          "output_type": "stream",
          "text": [
            "[OK] /content/drive/MyDrive/Satria_Data/test/videos/74.mp4\n",
            "[Google Drive] Download https://drive.google.com/file/d/1nw_h5-2cBUKGVYQ-bvYKcGlGNMNU0Ace/view?usp=drive_link\n"
          ]
        },
        {
          "name": "stderr",
          "output_type": "stream",
          "text": [
            "Downloading...\n",
            "From: https://drive.google.com/uc?id=1nw_h5-2cBUKGVYQ-bvYKcGlGNMNU0Ace\n",
            "To: /content/drive/MyDrive/Satria_Data/test/videos/75.mp4\n",
            "100%|██████████| 16.2M/16.2M [00:00<00:00, 40.0MB/s]\n"
          ]
        },
        {
          "name": "stdout",
          "output_type": "stream",
          "text": [
            "[OK] /content/drive/MyDrive/Satria_Data/test/videos/75.mp4\n",
            "[Google Drive] Download https://drive.google.com/file/d/1j8J2v9fRDJV7_BPiDCq50SEGbuErKV99/view?usp=drive_link\n"
          ]
        },
        {
          "name": "stderr",
          "output_type": "stream",
          "text": [
            "Downloading...\n",
            "From: https://drive.google.com/uc?id=1j8J2v9fRDJV7_BPiDCq50SEGbuErKV99\n",
            "To: /content/drive/MyDrive/Satria_Data/test/videos/76.mp4\n",
            "100%|██████████| 9.15M/9.15M [00:00<00:00, 66.8MB/s]\n"
          ]
        },
        {
          "name": "stdout",
          "output_type": "stream",
          "text": [
            "[OK] /content/drive/MyDrive/Satria_Data/test/videos/76.mp4\n",
            "[Google Drive] Download https://drive.google.com/file/d/19V-AnERnUCKVbRmFM1U9UGmV7DagQFhL/view?usp=sharing\n"
          ]
        },
        {
          "name": "stderr",
          "output_type": "stream",
          "text": [
            "Downloading...\n",
            "From: https://drive.google.com/uc?id=19V-AnERnUCKVbRmFM1U9UGmV7DagQFhL\n",
            "To: /content/drive/MyDrive/Satria_Data/test/videos/77.mp4\n",
            "100%|██████████| 12.7M/12.7M [00:00<00:00, 37.3MB/s]\n"
          ]
        },
        {
          "name": "stdout",
          "output_type": "stream",
          "text": [
            "[OK] /content/drive/MyDrive/Satria_Data/test/videos/77.mp4\n",
            "[Google Drive] Download https://drive.google.com/file/d/16SaYRXtDM9dBkgy9c0esEkPw_UNpMLF5/view?usp=sharing\n"
          ]
        },
        {
          "name": "stderr",
          "output_type": "stream",
          "text": [
            "Downloading...\n",
            "From: https://drive.google.com/uc?id=16SaYRXtDM9dBkgy9c0esEkPw_UNpMLF5\n",
            "To: /content/drive/MyDrive/Satria_Data/test/videos/78.mp4\n",
            "100%|██████████| 12.7M/12.7M [00:00<00:00, 24.6MB/s]\n"
          ]
        },
        {
          "name": "stdout",
          "output_type": "stream",
          "text": [
            "[OK] /content/drive/MyDrive/Satria_Data/test/videos/78.mp4\n",
            "[Google Drive] Download https://drive.google.com/file/d/1Z1dQGUr1PjpzPrtCS1mdNnJ54kaks3RA/view?usp=sharing\n"
          ]
        },
        {
          "name": "stderr",
          "output_type": "stream",
          "text": [
            "Downloading...\n",
            "From: https://drive.google.com/uc?id=1Z1dQGUr1PjpzPrtCS1mdNnJ54kaks3RA\n",
            "To: /content/drive/MyDrive/Satria_Data/test/videos/79.mp4\n",
            "100%|██████████| 12.7M/12.7M [00:00<00:00, 43.4MB/s]\n"
          ]
        },
        {
          "name": "stdout",
          "output_type": "stream",
          "text": [
            "[OK] /content/drive/MyDrive/Satria_Data/test/videos/79.mp4\n",
            "[Google Drive] Download https://drive.google.com/file/d/1qafYENW_uZGnahRbSTvb3iOYv01wYmm5/view?usp=sharing\n"
          ]
        },
        {
          "name": "stderr",
          "output_type": "stream",
          "text": [
            "Downloading...\n",
            "From: https://drive.google.com/uc?id=1qafYENW_uZGnahRbSTvb3iOYv01wYmm5\n",
            "To: /content/drive/MyDrive/Satria_Data/test/videos/80.mp4\n",
            "100%|██████████| 6.01M/6.01M [00:00<00:00, 50.0MB/s]\n"
          ]
        },
        {
          "name": "stdout",
          "output_type": "stream",
          "text": [
            "[OK] /content/drive/MyDrive/Satria_Data/test/videos/80.mp4\n",
            "[Google Drive] Download https://drive.google.com/file/d/15hAOu9ZkqsMUx6-Zk-jN3OC_vm-4kaig/view?usp=sharing\n"
          ]
        },
        {
          "name": "stderr",
          "output_type": "stream",
          "text": [
            "Downloading...\n",
            "From: https://drive.google.com/uc?id=15hAOu9ZkqsMUx6-Zk-jN3OC_vm-4kaig\n",
            "To: /content/drive/MyDrive/Satria_Data/test/videos/81.mp4\n",
            "100%|██████████| 10.0M/10.0M [00:00<00:00, 39.6MB/s]\n"
          ]
        },
        {
          "name": "stdout",
          "output_type": "stream",
          "text": [
            "[OK] /content/drive/MyDrive/Satria_Data/test/videos/81.mp4\n",
            "[Instagram] Download https://www.instagram.com/reel/DBYfWZ9y-KV/?igsh=MWo1NzlnbTYzdTQycA==\n",
            "[OK] /content/drive/MyDrive/Satria_Data/test/videos/82.mp4\n",
            "[Google Drive] Download https://drive.google.com/file/d/16WW1YRA0NtmMptCht5jS6Ya7nWdNrRcg/view?usp=drive_link\n"
          ]
        },
        {
          "name": "stderr",
          "output_type": "stream",
          "text": [
            "Downloading...\n",
            "From: https://drive.google.com/uc?id=16WW1YRA0NtmMptCht5jS6Ya7nWdNrRcg\n",
            "To: /content/drive/MyDrive/Satria_Data/test/videos/83.mp4\n",
            "100%|██████████| 7.54M/7.54M [00:00<00:00, 27.2MB/s]\n"
          ]
        },
        {
          "name": "stdout",
          "output_type": "stream",
          "text": [
            "[OK] /content/drive/MyDrive/Satria_Data/test/videos/83.mp4\n",
            "[Google Drive] Download https://drive.google.com/file/d/1kzfBs5I_n0a0yCwEh5PdNY5GgLqQRcez/view?usp=drive_link\n"
          ]
        },
        {
          "name": "stderr",
          "output_type": "stream",
          "text": [
            "Downloading...\n",
            "From: https://drive.google.com/uc?id=1kzfBs5I_n0a0yCwEh5PdNY5GgLqQRcez\n",
            "To: /content/drive/MyDrive/Satria_Data/test/videos/84.mp4\n",
            "100%|██████████| 7.68M/7.68M [00:00<00:00, 46.2MB/s]\n"
          ]
        },
        {
          "name": "stdout",
          "output_type": "stream",
          "text": [
            "[OK] /content/drive/MyDrive/Satria_Data/test/videos/84.mp4\n",
            "[Google Drive] Download https://drive.google.com/file/d/10ETQNxneJf4Q185_btWMVVZz1n3CBwp5/view?usp=drive_link\n"
          ]
        },
        {
          "name": "stderr",
          "output_type": "stream",
          "text": [
            "Downloading...\n",
            "From: https://drive.google.com/uc?id=10ETQNxneJf4Q185_btWMVVZz1n3CBwp5\n",
            "To: /content/drive/MyDrive/Satria_Data/test/videos/85.mp4\n",
            "100%|██████████| 15.1M/15.1M [00:00<00:00, 122MB/s]\n"
          ]
        },
        {
          "name": "stdout",
          "output_type": "stream",
          "text": [
            "[OK] /content/drive/MyDrive/Satria_Data/test/videos/85.mp4\n",
            "[Google Drive] Download https://drive.google.com/file/d/1rMIe5I873yBTKrmAlSZTjUoV4eZkZhas/view?usp=drive_link\n"
          ]
        },
        {
          "name": "stderr",
          "output_type": "stream",
          "text": [
            "Downloading...\n",
            "From: https://drive.google.com/uc?id=1rMIe5I873yBTKrmAlSZTjUoV4eZkZhas\n",
            "To: /content/drive/MyDrive/Satria_Data/test/videos/86.mp4\n",
            "100%|██████████| 8.49M/8.49M [00:00<00:00, 112MB/s]\n"
          ]
        },
        {
          "name": "stdout",
          "output_type": "stream",
          "text": [
            "[OK] /content/drive/MyDrive/Satria_Data/test/videos/86.mp4\n",
            "[Google Drive] Download https://drive.google.com/file/d/1k3qHBJISNZIr2N_uhRGZK5b4CP5JfaIv/view?usp=drive_link\n"
          ]
        },
        {
          "name": "stderr",
          "output_type": "stream",
          "text": [
            "Downloading...\n",
            "From: https://drive.google.com/uc?id=1k3qHBJISNZIr2N_uhRGZK5b4CP5JfaIv\n",
            "To: /content/drive/MyDrive/Satria_Data/test/videos/87.mp4\n",
            "100%|██████████| 18.0M/18.0M [00:00<00:00, 104MB/s] \n"
          ]
        },
        {
          "name": "stdout",
          "output_type": "stream",
          "text": [
            "[OK] /content/drive/MyDrive/Satria_Data/test/videos/87.mp4\n",
            "[Google Drive] Download https://drive.google.com/file/d/1scUxliWkEMlJAtMjyX4_zf1hpTzc-11m/view?usp=drive_link\n"
          ]
        },
        {
          "name": "stderr",
          "output_type": "stream",
          "text": [
            "Downloading...\n",
            "From: https://drive.google.com/uc?id=1scUxliWkEMlJAtMjyX4_zf1hpTzc-11m\n",
            "To: /content/drive/MyDrive/Satria_Data/test/videos/88.mp4\n",
            "100%|██████████| 3.11M/3.11M [00:00<00:00, 94.6MB/s]\n"
          ]
        },
        {
          "name": "stdout",
          "output_type": "stream",
          "text": [
            "[OK] /content/drive/MyDrive/Satria_Data/test/videos/88.mp4\n",
            "[Google Drive] Download https://drive.google.com/file/d/1wCIyDhTVr-SO6Z6hY5XMdn-gEgmRcamD/view?usp=drive_link\n"
          ]
        },
        {
          "name": "stderr",
          "output_type": "stream",
          "text": [
            "Downloading...\n",
            "From: https://drive.google.com/uc?id=1wCIyDhTVr-SO6Z6hY5XMdn-gEgmRcamD\n",
            "To: /content/drive/MyDrive/Satria_Data/test/videos/89.mp4\n",
            "100%|██████████| 12.0M/12.0M [00:00<00:00, 78.5MB/s]\n"
          ]
        },
        {
          "name": "stdout",
          "output_type": "stream",
          "text": [
            "[OK] /content/drive/MyDrive/Satria_Data/test/videos/89.mp4\n",
            "[Instagram] Download https://www.instagram.com/otomotif_tv/reel/DMWrRymh0tx/\n",
            "[OK] /content/drive/MyDrive/Satria_Data/test/videos/90.mp4\n",
            "[Instagram] Download https://www.instagram.com/otomotif_tv/reel/DLlwAYFhEDG/\n",
            "[OK] /content/drive/MyDrive/Satria_Data/test/videos/91.mp4\n",
            "[Instagram] Download https://www.instagram.com/otomotif_tv/reel/DJtG-oUylM-/\n",
            "[OK] /content/drive/MyDrive/Satria_Data/test/videos/92.mp4\n",
            "[Instagram] Download https://www.instagram.com/otomotifweekly/reel/DMWrRymh0tx/\n",
            "[OK] /content/drive/MyDrive/Satria_Data/test/videos/93.mp4\n",
            "[Instagram] Download https://www.instagram.com/jagat.review/reel/DM9aQ7jxWd-/\n",
            "[OK] /content/drive/MyDrive/Satria_Data/test/videos/94.mp4\n",
            "[Instagram] Download https://www.instagram.com/jagat.review/reel/DMUJzKiR8WN/\n",
            "[OK] /content/drive/MyDrive/Satria_Data/test/videos/95.mp4\n",
            "[Instagram] Download https://www.instagram.com/jagat.review/reel/DMRsIjVxA4J/\n",
            "[OK] /content/drive/MyDrive/Satria_Data/test/videos/96.mp4\n",
            "[Instagram] Download https://www.instagram.com/jagat.review/reel/DKL5mX2Sdi3/\n",
            "[OK] /content/drive/MyDrive/Satria_Data/test/videos/97.mp4\n",
            "[Instagram] Download https://www.instagram.com/jagat.review/reel/DIxchZfIBBj/\n",
            "[OK] /content/drive/MyDrive/Satria_Data/test/videos/98.mp4\n",
            "[Google Drive] Download https://drive.google.com/file/d/14AK_pf1gN1Tiesh4LtrO3AWtP-fuS-dd/view?usp=sharing\n"
          ]
        },
        {
          "name": "stderr",
          "output_type": "stream",
          "text": [
            "Downloading...\n",
            "From: https://drive.google.com/uc?id=14AK_pf1gN1Tiesh4LtrO3AWtP-fuS-dd\n",
            "To: /content/drive/MyDrive/Satria_Data/test/videos/99.mp4\n",
            "100%|██████████| 7.76M/7.76M [00:00<00:00, 27.9MB/s]\n"
          ]
        },
        {
          "name": "stdout",
          "output_type": "stream",
          "text": [
            "[OK] /content/drive/MyDrive/Satria_Data/test/videos/99.mp4\n",
            "[Google Drive] Download https://drive.google.com/file/d/19DN24hfiZdBYnIev8U9DTvsE70FjmhSF/view?usp=sharing\n"
          ]
        },
        {
          "name": "stderr",
          "output_type": "stream",
          "text": [
            "Downloading...\n",
            "From: https://drive.google.com/uc?id=19DN24hfiZdBYnIev8U9DTvsE70FjmhSF\n",
            "To: /content/drive/MyDrive/Satria_Data/test/videos/100.mp4\n",
            "100%|██████████| 21.5M/21.5M [00:00<00:00, 70.7MB/s]\n"
          ]
        },
        {
          "name": "stdout",
          "output_type": "stream",
          "text": [
            "[OK] /content/drive/MyDrive/Satria_Data/test/videos/100.mp4\n",
            "[Google Drive] Download https://drive.google.com/file/d/1DtF-9-m3T2BmkMbxZOyW0mocKSyK69zW/view?usp=sharing\n"
          ]
        },
        {
          "name": "stderr",
          "output_type": "stream",
          "text": [
            "Downloading...\n",
            "From: https://drive.google.com/uc?id=1DtF-9-m3T2BmkMbxZOyW0mocKSyK69zW\n",
            "To: /content/drive/MyDrive/Satria_Data/test/videos/101.mp4\n",
            "100%|██████████| 46.9M/46.9M [00:01<00:00, 28.4MB/s]\n"
          ]
        },
        {
          "name": "stdout",
          "output_type": "stream",
          "text": [
            "[OK] /content/drive/MyDrive/Satria_Data/test/videos/101.mp4\n",
            "[Google Drive] Download https://drive.google.com/file/d/1etsHQdM46Ah4UsNm8uyIL08w4otU9slH/view?usp=sharing\n"
          ]
        },
        {
          "name": "stderr",
          "output_type": "stream",
          "text": [
            "Downloading...\n",
            "From: https://drive.google.com/uc?id=1etsHQdM46Ah4UsNm8uyIL08w4otU9slH\n",
            "To: /content/drive/MyDrive/Satria_Data/test/videos/102.mp4\n",
            "100%|██████████| 9.64M/9.64M [00:00<00:00, 26.3MB/s]\n"
          ]
        },
        {
          "name": "stdout",
          "output_type": "stream",
          "text": [
            "[OK] /content/drive/MyDrive/Satria_Data/test/videos/102.mp4\n",
            "[Google Drive] Download https://drive.google.com/file/d/1RzNIT_4ZJl3hw41qI8aSdyQdqsaTApKk/view?usp=sharing\n"
          ]
        },
        {
          "name": "stderr",
          "output_type": "stream",
          "text": [
            "Downloading...\n",
            "From: https://drive.google.com/uc?id=1RzNIT_4ZJl3hw41qI8aSdyQdqsaTApKk\n",
            "To: /content/drive/MyDrive/Satria_Data/test/videos/103.mp4\n",
            "100%|██████████| 7.20M/7.20M [00:00<00:00, 62.8MB/s]\n"
          ]
        },
        {
          "name": "stdout",
          "output_type": "stream",
          "text": [
            "[OK] /content/drive/MyDrive/Satria_Data/test/videos/103.mp4\n",
            "[Google Drive] Download https://drive.google.com/file/d/1AEpkz8RUfM_2XjSY-nKsXqK7CJH0caOR/view?usp=sharing\n"
          ]
        },
        {
          "name": "stderr",
          "output_type": "stream",
          "text": [
            "Downloading...\n",
            "From: https://drive.google.com/uc?id=1AEpkz8RUfM_2XjSY-nKsXqK7CJH0caOR\n",
            "To: /content/drive/MyDrive/Satria_Data/test/videos/104.mp4\n",
            "100%|██████████| 7.05M/7.05M [00:00<00:00, 21.0MB/s]\n"
          ]
        },
        {
          "name": "stdout",
          "output_type": "stream",
          "text": [
            "[OK] /content/drive/MyDrive/Satria_Data/test/videos/104.mp4\n",
            "[Google Drive] Download https://drive.google.com/file/d/1ko19DG40GCqyfPWK7jXtkKMMFhtvHCKr/view?usp=drive_link\n"
          ]
        },
        {
          "name": "stderr",
          "output_type": "stream",
          "text": [
            "Downloading...\n",
            "From: https://drive.google.com/uc?id=1ko19DG40GCqyfPWK7jXtkKMMFhtvHCKr\n",
            "To: /content/drive/MyDrive/Satria_Data/test/videos/105.mp4\n",
            "100%|██████████| 14.9M/14.9M [00:00<00:00, 26.8MB/s]\n"
          ]
        },
        {
          "name": "stdout",
          "output_type": "stream",
          "text": [
            "[OK] /content/drive/MyDrive/Satria_Data/test/videos/105.mp4\n",
            "[Google Drive] Download https://drive.google.com/file/d/17er5r8aKyE_DU1IgUXOPi2r6PigAXONS/view?usp=sharing\n"
          ]
        },
        {
          "name": "stderr",
          "output_type": "stream",
          "text": [
            "Downloading...\n",
            "From: https://drive.google.com/uc?id=17er5r8aKyE_DU1IgUXOPi2r6PigAXONS\n",
            "To: /content/drive/MyDrive/Satria_Data/test/videos/106.mp4\n",
            "100%|██████████| 16.9M/16.9M [00:00<00:00, 48.0MB/s]\n"
          ]
        },
        {
          "name": "stdout",
          "output_type": "stream",
          "text": [
            "[OK] /content/drive/MyDrive/Satria_Data/test/videos/106.mp4\n",
            "[Instagram] Download https://www.instagram.com/reel/DLuZNKOzFQ_/?igsh=M284bXZ6a3ppZHF5\n",
            "[OK] /content/drive/MyDrive/Satria_Data/test/videos/107.mp4\n",
            "[Google Drive] Download https://drive.google.com/file/d/1PMDBY0C5oekMhFDm2KcR2jLjdgonZ2Bi/view?usp=sharing\n"
          ]
        },
        {
          "name": "stderr",
          "output_type": "stream",
          "text": [
            "Downloading...\n",
            "From: https://drive.google.com/uc?id=1PMDBY0C5oekMhFDm2KcR2jLjdgonZ2Bi\n",
            "To: /content/drive/MyDrive/Satria_Data/test/videos/108.mp4\n",
            "100%|██████████| 8.36M/8.36M [00:00<00:00, 170MB/s]\n"
          ]
        },
        {
          "name": "stdout",
          "output_type": "stream",
          "text": [
            "[OK] /content/drive/MyDrive/Satria_Data/test/videos/108.mp4\n",
            "[Google Drive] Download https://drive.google.com/file/d/1ElvqnnKfMLU8pZyKKs_CMxwGts2O770v/view?usp=sharing\n"
          ]
        },
        {
          "name": "stderr",
          "output_type": "stream",
          "text": [
            "Downloading...\n",
            "From: https://drive.google.com/uc?id=1ElvqnnKfMLU8pZyKKs_CMxwGts2O770v\n",
            "To: /content/drive/MyDrive/Satria_Data/test/videos/109.mp4\n",
            "100%|██████████| 11.1M/11.1M [00:00<00:00, 145MB/s]\n"
          ]
        },
        {
          "name": "stdout",
          "output_type": "stream",
          "text": [
            "[OK] /content/drive/MyDrive/Satria_Data/test/videos/109.mp4\n",
            "[Instagram] Download https://www.instagram.com/reel/DJ835krx3c5/?utm_source=ig_web_copy_link&igsh=MzRlODBiNWFlZA==\n",
            "[OK] /content/drive/MyDrive/Satria_Data/test/videos/110.mp4\n",
            "[Instagram] Download https://www.instagram.com/reel/DGu41vfRlg-/?utm_source=ig_web_copy_link&igsh=MzRlODBiNWFlZA==\n",
            "[OK] /content/drive/MyDrive/Satria_Data/test/videos/111.mp4\n",
            "[Instagram] Download https://www.instagram.com/reel/DEhTARAyJyw/?utm_source=ig_web_copy_link&igsh=MzRlODBiNWFlZA==\n",
            "[OK] /content/drive/MyDrive/Satria_Data/test/videos/112.mp4\n",
            "[Instagram] Download https://www.instagram.com/reel/DA-sMIEyXtI/?utm_source=ig_web_copy_link&igsh=MzRlODBiNWFlZA==\n",
            "[OK] /content/drive/MyDrive/Satria_Data/test/videos/113.mp4\n",
            "[Instagram] Download https://www.instagram.com/reel/DGsQvfWxMt6/?utm_source=ig_web_copy_link&igsh=MzRlODBiNWFlZA==\n",
            "[OK] /content/drive/MyDrive/Satria_Data/test/videos/114.mp4\n",
            "[Instagram] Download https://www.instagram.com/reel/DNFODaKy1Us/?utm_source=ig_web_copy_link&igsh=MzRlODBiNWFlZA==\n",
            "[OK] /content/drive/MyDrive/Satria_Data/test/videos/115.mp4\n",
            "[Instagram] Download https://www.instagram.com/reel/DMh3m5rvW3x/?utm_source=ig_web_copy_link&igsh=MzRlODBiNWFlZA==\n",
            "[OK] /content/drive/MyDrive/Satria_Data/test/videos/116.mp4\n",
            "[Instagram] Download https://www.instagram.com/reel/DMYECWsTFiJ/?utm_source=ig_web_copy_link&igsh=MzRlODBiNWFlZA==\n",
            "[OK] /content/drive/MyDrive/Satria_Data/test/videos/117.mp4\n",
            "[Instagram] Download https://www.instagram.com/reel/DGKvY7Lz-z6/?utm_source=ig_web_copy_link&igsh=MzRlODBiNWFlZA==\n",
            "[OK] /content/drive/MyDrive/Satria_Data/test/videos/118.mp4\n",
            "[Instagram] Download https://www.instagram.com/reel/DGVkYrhzf3h/?utm_source=ig_web_copy_link&igsh=MzRlODBiNWFlZA==\n",
            "[OK] /content/drive/MyDrive/Satria_Data/test/videos/119.mp4\n",
            "[Instagram] Download https://www.instagram.com/reel/DBP8wzKyRg8/?utm_source=ig_web_copy_link&igsh=MzRlODBiNWFlZA==\n",
            "[OK] /content/drive/MyDrive/Satria_Data/test/videos/120.mp4\n",
            "[Instagram] Download https://www.instagram.com/reel/DM8PAMHPsh4/?utm_source=ig_web_copy_link&igsh=MzRlODBiNWFlZA==\n",
            "[OK] /content/drive/MyDrive/Satria_Data/test/videos/121.mp4\n",
            "[Instagram] Download https://www.instagram.com/reel/DM7I5rNp3au/?utm_source=ig_web_copy_link&igsh=MzRlODBiNWFlZA==\n",
            "[OK] /content/drive/MyDrive/Satria_Data/test/videos/122.mp4\n",
            "[Instagram] Download https://www.instagram.com/reel/DM6mD8jyIV6/?utm_source=ig_web_copy_link\n",
            "[OK] /content/drive/MyDrive/Satria_Data/test/videos/123.mp4\n",
            "[Instagram] Download https://www.instagram.com/reel/DMo9r54zftR/?utm_source=ig_web_copy_link&igsh=MzRlODBiNWFlZA==\n",
            "[OK] /content/drive/MyDrive/Satria_Data/test/videos/124.mp4\n",
            "[Instagram] Download https://www.instagram.com/reel/DMg4c-eqEyX/?utm_source=ig_web_copy_link&igsh=MzRlODBiNWFlZA==\n",
            "[OK] /content/drive/MyDrive/Satria_Data/test/videos/125.mp4\n",
            "[Instagram] Download https://www.instagram.com/reel/DB75GW9K-9q/?utm_source=ig_web_copy_link&igsh=MzRlODBiNWFlZA==\n",
            "[OK] /content/drive/MyDrive/Satria_Data/test/videos/126.mp4\n",
            "[Instagram] Download https://www.instagram.com/reel/DAUxpi3y_7G/?utm_source=ig_web_copy_link&igsh=MzRlODBiNWFlZA==\n",
            "[OK] /content/drive/MyDrive/Satria_Data/test/videos/127.mp4\n",
            "[Instagram] Download https://www.instagram.com/reel/DMnUS9LS5nx/?utm_source=ig_web_copy_link&igsh=MzRlODBiNWFlZA==\n",
            "[OK] /content/drive/MyDrive/Satria_Data/test/videos/128.mp4\n",
            "[Instagram] Download https://www.instagram.com/reel/DNH1jh9RtNX/?utm_source=ig_web_copy_link&igsh=MzRlODBiNWFlZA==\n",
            "[OK] /content/drive/MyDrive/Satria_Data/test/videos/129.mp4\n",
            "[Instagram] Download https://www.instagram.com/reel/DAqlYu_sQgD/?utm_source=ig_web_copy_link&igsh=MzRlODBiNWFlZA==\n",
            "[OK] /content/drive/MyDrive/Satria_Data/test/videos/130.mp4\n",
            "[Google Drive] Download https://drive.google.com/file/d/1atFJ7NdIi85K4Q8xqKtumuqbXh9MI46S/view?usp=drive_link\n"
          ]
        },
        {
          "name": "stderr",
          "output_type": "stream",
          "text": [
            "Downloading...\n",
            "From: https://drive.google.com/uc?id=1atFJ7NdIi85K4Q8xqKtumuqbXh9MI46S\n",
            "To: /content/drive/MyDrive/Satria_Data/test/videos/131.mp4\n",
            "100%|██████████| 29.5M/29.5M [00:00<00:00, 43.7MB/s]\n"
          ]
        },
        {
          "name": "stdout",
          "output_type": "stream",
          "text": [
            "[OK] /content/drive/MyDrive/Satria_Data/test/videos/131.mp4\n",
            "[Google Drive] Download https://drive.google.com/file/d/1GZb1QrS9XT4ZGhxp6fq9qHruexrUgaTX/view?usp=drive_link\n"
          ]
        },
        {
          "name": "stderr",
          "output_type": "stream",
          "text": [
            "Downloading...\n",
            "From: https://drive.google.com/uc?id=1GZb1QrS9XT4ZGhxp6fq9qHruexrUgaTX\n",
            "To: /content/drive/MyDrive/Satria_Data/test/videos/132.mp4\n",
            "100%|██████████| 3.66M/3.66M [00:00<00:00, 11.7MB/s]\n"
          ]
        },
        {
          "name": "stdout",
          "output_type": "stream",
          "text": [
            "[OK] /content/drive/MyDrive/Satria_Data/test/videos/132.mp4\n",
            "[Google Drive] Download https://drive.google.com/file/d/1aJVMO-4PF8IbcZEuBcdMDDZXH0HvvQ7Z/view?usp=drive_link\n"
          ]
        },
        {
          "name": "stderr",
          "output_type": "stream",
          "text": [
            "Downloading...\n",
            "From: https://drive.google.com/uc?id=1aJVMO-4PF8IbcZEuBcdMDDZXH0HvvQ7Z\n",
            "To: /content/drive/MyDrive/Satria_Data/test/videos/133.mp4\n",
            "100%|██████████| 37.8M/37.8M [00:00<00:00, 69.3MB/s]\n"
          ]
        },
        {
          "name": "stdout",
          "output_type": "stream",
          "text": [
            "[OK] /content/drive/MyDrive/Satria_Data/test/videos/133.mp4\n",
            "[Google Drive] Download https://drive.google.com/file/d/1lbnA57scQfUs1NtxPzdfc8lNxCN7EskH/view?usp=drive_link\n"
          ]
        },
        {
          "name": "stderr",
          "output_type": "stream",
          "text": [
            "Downloading...\n",
            "From: https://drive.google.com/uc?id=1lbnA57scQfUs1NtxPzdfc8lNxCN7EskH\n",
            "To: /content/drive/MyDrive/Satria_Data/test/videos/134.mp4\n",
            "100%|██████████| 19.4M/19.4M [00:00<00:00, 45.2MB/s]\n"
          ]
        },
        {
          "name": "stdout",
          "output_type": "stream",
          "text": [
            "[OK] /content/drive/MyDrive/Satria_Data/test/videos/134.mp4\n",
            "[Google Drive] Download https://drive.google.com/file/d/1sQ5YuTsgyWV6iUdtxPN3PcYZzI_WmTSd/view?usp=drive_link\n"
          ]
        },
        {
          "name": "stderr",
          "output_type": "stream",
          "text": [
            "Downloading...\n",
            "From: https://drive.google.com/uc?id=1sQ5YuTsgyWV6iUdtxPN3PcYZzI_WmTSd\n",
            "To: /content/drive/MyDrive/Satria_Data/test/videos/135.mp4\n",
            "100%|██████████| 12.5M/12.5M [00:00<00:00, 39.1MB/s]\n"
          ]
        },
        {
          "name": "stdout",
          "output_type": "stream",
          "text": [
            "[OK] /content/drive/MyDrive/Satria_Data/test/videos/135.mp4\n",
            "[Google Drive] Download https://drive.google.com/file/d/1MjA5r9wB619NBT5Or235HhNaVZ7HEMhe/view?usp=drive_link\n"
          ]
        },
        {
          "name": "stderr",
          "output_type": "stream",
          "text": [
            "Downloading...\n",
            "From: https://drive.google.com/uc?id=1MjA5r9wB619NBT5Or235HhNaVZ7HEMhe\n",
            "To: /content/drive/MyDrive/Satria_Data/test/videos/136.mp4\n",
            "100%|██████████| 16.8M/16.8M [00:00<00:00, 20.1MB/s]\n"
          ]
        },
        {
          "name": "stdout",
          "output_type": "stream",
          "text": [
            "[OK] /content/drive/MyDrive/Satria_Data/test/videos/136.mp4\n",
            "[Google Drive] Download https://drive.google.com/file/d/1_IPDdNJ7xPFvWHy2-px1Pa7Qrj48aIWp/view?usp=drive_link\n"
          ]
        },
        {
          "name": "stderr",
          "output_type": "stream",
          "text": [
            "Downloading...\n",
            "From: https://drive.google.com/uc?id=1_IPDdNJ7xPFvWHy2-px1Pa7Qrj48aIWp\n",
            "To: /content/drive/MyDrive/Satria_Data/test/videos/137.mp4\n",
            "100%|██████████| 43.1M/43.1M [00:01<00:00, 42.4MB/s]\n"
          ]
        },
        {
          "name": "stdout",
          "output_type": "stream",
          "text": [
            "[OK] /content/drive/MyDrive/Satria_Data/test/videos/137.mp4\n",
            "[Instagram] Download https://www.instagram.com/reel/C9zeHtmSftf/?igsh=ODNoZDlveWRjOGV6\n",
            "[OK] /content/drive/MyDrive/Satria_Data/test/videos/138.mp4\n",
            "[Instagram] Download https://www.instagram.com/reel/C_reJDqSNno/?igsh=ZDIzc2owNWgxdmJk\n",
            "[OK] /content/drive/MyDrive/Satria_Data/test/videos/139.mp4\n",
            "[Instagram] Download https://www.instagram.com/reel/DLJoMUxTL2J/?igsh=MTVkNnYwYTRxZmdqNw==\n",
            "[OK] /content/drive/MyDrive/Satria_Data/test/videos/140.mp4\n",
            "[Instagram] Download https://www.instagram.com/reel/DLuruPeBcAH/?utm_source=ig_web_copy_link&igsh=MXRhMTgyNHViZDRodg==\n",
            "[OK] /content/drive/MyDrive/Satria_Data/test/videos/141.mp4\n",
            "[Instagram] Download https://www.instagram.com/reel/DLys1UgTaDP/?igsh=MTI0ZDM5Y2t3azg3bA==\n",
            "[OK] /content/drive/MyDrive/Satria_Data/test/videos/142.mp4\n",
            "[Instagram] Download https://www.instagram.com/reel/DLzratFhGh3/?utm_source=ig_web_copy_link&igsh=amRiOWxoZ2ZtOW5m\n",
            "[OK] /content/drive/MyDrive/Satria_Data/test/videos/143.mp4\n",
            "[Instagram] Download https://www.instagram.com/reel/DMc1SxqJ_h-/?igsh=N3o3ZGpidDhkOHc2\n",
            "[OK] /content/drive/MyDrive/Satria_Data/test/videos/144.mp4\n",
            "[Instagram] Download https://www.instagram.com/reel/DNA7KYaThER/?utm_source=ig_web_copy_link&igsh=cXlrYTV2c3doMnVm\n",
            "[OK] /content/drive/MyDrive/Satria_Data/test/videos/145.mp4\n",
            "[Instagram] Download https://instagram.com/p/DJ_vMG1S3t2/\n",
            "[OK] /content/drive/MyDrive/Satria_Data/test/videos/146.mp4\n",
            "[Instagram] Download https://www.instagram.com/reel/DIq791DyhWA/?igsh=MWF3eWN0MHR5b2c1MQ==\n",
            "[OK] /content/drive/MyDrive/Satria_Data/test/videos/147.mp4\n",
            "[Instagram] Download https://www.instagram.com/reel/DHUqgc8y-Vj/?igsh=NGx4dnRndDQ2ang0\n",
            "[OK] /content/drive/MyDrive/Satria_Data/test/videos/148.mp4\n",
            "[Instagram] Download https://www.instagram.com/reel/DGpzBnQS4HL/?igsh=aTA0ODJiNXdpcG5l\n",
            "[OK] /content/drive/MyDrive/Satria_Data/test/videos/149.mp4\n",
            "[Instagram] Download https://www.instagram.com/reel/DJWhd5lyqWL/?igsh=MWd6ZjZ0cHF6b2ludg==\n",
            "[OK] /content/drive/MyDrive/Satria_Data/test/videos/150.mp4\n",
            "[Instagram] Download https://www.instagram.com/reel/DLm4ogqhswJ/?igsh=NjR3dGN3bWN2dGNh\n",
            "[OK] /content/drive/MyDrive/Satria_Data/test/videos/151.mp4\n",
            "[Instagram] Download https://www.instagram.com/reel/C_iEMTMSYJe/?igsh=MWowMzA2cmdta3RlYw==\n",
            "[OK] /content/drive/MyDrive/Satria_Data/test/videos/152.mp4\n",
            "[Instagram] Download https://www.instagram.com/reel/DNF_1RPzpcC/?hl=id\n",
            "[OK] /content/drive/MyDrive/Satria_Data/test/videos/153.mp4\n",
            "[Instagram] Download https://www.instagram.com/reel/DMrXFfxxWpV/?hl=id\n",
            "[OK] /content/drive/MyDrive/Satria_Data/test/videos/154.mp4\n",
            "[Instagram] Download https://www.instagram.com/reel/DLkHxpXxXz0/?hl=id\n",
            "[OK] /content/drive/MyDrive/Satria_Data/test/videos/155.mp4\n",
            "[Instagram] Download https://www.instagram.com/reel/DLUdR3BPRcQ/?hl=id\n",
            "[OK] /content/drive/MyDrive/Satria_Data/test/videos/156.mp4\n",
            "[Instagram] Download https://www.instagram.com/reel/DKMXCa9PjO2/?hl=id\n",
            "[OK] /content/drive/MyDrive/Satria_Data/test/videos/157.mp4\n",
            "[Instagram] Download https://www.instagram.com/reel/DJ9NPQSvxPw/?hl=id\n",
            "[OK] /content/drive/MyDrive/Satria_Data/test/videos/158.mp4\n",
            "[Instagram] Download https://www.instagram.com/reel/DJbpoiZRBsL/?hl=id\n",
            "[OK] /content/drive/MyDrive/Satria_Data/test/videos/159.mp4\n",
            "[Instagram] Download https://www.instagram.com/reel/DJZEyNYRAge/?hl=id\n",
            "[OK] /content/drive/MyDrive/Satria_Data/test/videos/160.mp4\n",
            "[Instagram] Download https://www.instagram.com/reel/DHC-rVIzFqv/?hl=id\n",
            "[OK] /content/drive/MyDrive/Satria_Data/test/videos/161.mp4\n",
            "[Instagram] Download https://www.instagram.com/reel/DGf0F9eSmj-/?hl=id\n",
            "[OK] /content/drive/MyDrive/Satria_Data/test/videos/162.mp4\n",
            "[Instagram] Download https://www.instagram.com/reel/DNKcHgdA-d1/?igsh=MWFxdnhjbzh1YmdhYw%3D%3D\n",
            "[OK] /content/drive/MyDrive/Satria_Data/test/videos/163.mp4\n",
            "[Instagram] Download https://www.instagram.com/reel/DM1WsB5hoAA/?igsh=MWFlc2VtZ3FjenQ1aw==\n",
            "[OK] /content/drive/MyDrive/Satria_Data/test/videos/164.mp4\n",
            "[Instagram] Download http://instagram.com/reel/DMmKMrNxr50/?igsh=MWgzOHlpNnd0M3VmNw%3D%3D\n",
            "[OK] /content/drive/MyDrive/Satria_Data/test/videos/165.mp4\n",
            "[Instagram] Download https://www.instagram.com/reel/DM0ChALScuv/?igsh=MWphajVsYzFvMWcydg==\n",
            "[OK] /content/drive/MyDrive/Satria_Data/test/videos/166.mp4\n",
            "[Instagram] Download https://www.instagram.com/reel/DIyUyveT0SA/?igsh=ZTEyaGRjc2dpZzhi\n",
            "[OK] /content/drive/MyDrive/Satria_Data/test/videos/167.mp4\n",
            "[Instagram] Download https://www.instagram.com/reel/DNIfBeBzlo_/?igsh=YTg3cW1zY3Eyd3dy\n",
            "[OK] /content/drive/MyDrive/Satria_Data/test/videos/168.mp4\n",
            "[Instagram] Download https://www.instagram.com/reel/DNHwrh2gnBm/?igsh=YTg3cGIycGtqbG51\n",
            "[OK] /content/drive/MyDrive/Satria_Data/test/videos/169.mp4\n",
            "[Instagram] Download https://www.instagram.com/reel/DMkLaw4Rqt5/?igsh=MWNhMnR0aHp2cnc2ZQ%3D%3D\n",
            "[OK] /content/drive/MyDrive/Satria_Data/test/videos/170.mp4\n",
            "[Instagram] Download https://www.instagram.com/reel/DM7QsjnRCoa/?igsh=NDQ1NW11a2ZiZW1y\n",
            "[OK] /content/drive/MyDrive/Satria_Data/test/videos/171.mp4\n",
            "[Instagram] Download https://www.instagram.com/reel/DMjo8jKRvlV/?igsh=MWp1cHZ2dXd5aTNhaw%3D%3D\n",
            "[OK] /content/drive/MyDrive/Satria_Data/test/videos/172.mp4\n",
            "[Instagram] Download https://www.instagram.com/reel/DMWy5PEy4xZ/?utm_source=ig_web_copy_link&igsh=MzRlODBiNWFlZA==\n",
            "[OK] /content/drive/MyDrive/Satria_Data/test/videos/173.mp4\n",
            "[Instagram] Download https://www.instagram.com/reel/DLL9bDXJTB_/?utm_source=ig_web_copy_link&igsh=MzRlODBiNWFlZA==\n",
            "[OK] /content/drive/MyDrive/Satria_Data/test/videos/174.mp4\n",
            "[Instagram] Download https://www.instagram.com/reel/DKOlWzzyNtF/?utm_source=ig_web_copy_link&igsh=MzRlODBiNWFlZA==\n",
            "[OK] /content/drive/MyDrive/Satria_Data/test/videos/175.mp4\n",
            "[Instagram] Download https://www.instagram.com/reel/DF_rs9LByYo/?utm_source=ig_web_copy_link&igsh=MzRlODBiNWFlZA==\n",
            "[OK] /content/drive/MyDrive/Satria_Data/test/videos/176.mp4\n",
            "[Instagram] Download https://www.instagram.com/reel/DNF9aDySWYe/?utm_source=ig_web_copy_link&igsh=MzRlODBiNWFlZA==\n",
            "[OK] /content/drive/MyDrive/Satria_Data/test/videos/177.mp4\n",
            "[Instagram] Download https://www.instagram.com/reel/DMlzuuJBCqm/?utm_source=ig_web_copy_link&igsh=MzRlODBiNWFlZA==\n",
            "[OK] /content/drive/MyDrive/Satria_Data/test/videos/178.mp4\n",
            "[Instagram] Download https://www.instagram.com/reel/DKOArYwti9c/?utm_source=ig_web_copy_link&igsh=MzRlODBiNWFlZA==\n",
            "[OK] /content/drive/MyDrive/Satria_Data/test/videos/179.mp4\n",
            "[Instagram] Download https://www.instagram.com/reel/DGPWEjaTtAS/?utm_source=ig_web_copy_link\n",
            "[OK] /content/drive/MyDrive/Satria_Data/test/videos/180.mp4\n",
            "[Instagram] Download https://www.instagram.com/reel/DM-UeIaPURj/?utm_source=ig_web_copy_link&igsh=MzRlODBiNWFlZA==\n",
            "[OK] /content/drive/MyDrive/Satria_Data/test/videos/181.mp4\n",
            "[Instagram] Download https://www.instagram.com/reel/DM99ottvLix/?utm_source=ig_web_copy_link&igsh=MzRlODBiNWFlZA==\n",
            "[OK] /content/drive/MyDrive/Satria_Data/test/videos/182.mp4\n",
            "[Instagram] Download https://www.instagram.com/reel/DMzERt8T3YK/?utm_source=ig_web_copy_link\n",
            "[OK] /content/drive/MyDrive/Satria_Data/test/videos/183.mp4\n",
            "[Google Drive] Download https://drive.google.com/file/d/1mLN0aGbjgAFOkC4hQXo_vR20cHVlP05A/view?usp=drive_link\n"
          ]
        },
        {
          "name": "stderr",
          "output_type": "stream",
          "text": [
            "Downloading...\n",
            "From: https://drive.google.com/uc?id=1mLN0aGbjgAFOkC4hQXo_vR20cHVlP05A\n",
            "To: /content/drive/MyDrive/Satria_Data/test/videos/184.mp4\n",
            "100%|██████████| 6.13M/6.13M [00:00<00:00, 16.4MB/s]\n"
          ]
        },
        {
          "name": "stdout",
          "output_type": "stream",
          "text": [
            "[OK] /content/drive/MyDrive/Satria_Data/test/videos/184.mp4\n",
            "[Google Drive] Download https://drive.google.com/file/d/1hqV23imz-CZ1PvjD5D6VBYAfKMcnQsl6/view?usp=drive_link\n"
          ]
        },
        {
          "name": "stderr",
          "output_type": "stream",
          "text": [
            "Downloading...\n",
            "From: https://drive.google.com/uc?id=1hqV23imz-CZ1PvjD5D6VBYAfKMcnQsl6\n",
            "To: /content/drive/MyDrive/Satria_Data/test/videos/185.mp4\n",
            "100%|██████████| 23.4M/23.4M [00:00<00:00, 52.3MB/s]\n"
          ]
        },
        {
          "name": "stdout",
          "output_type": "stream",
          "text": [
            "[OK] /content/drive/MyDrive/Satria_Data/test/videos/185.mp4\n",
            "[Google Drive] Download https://drive.google.com/file/d/1lWWp2V4PPrrCe5oqFnES74tQraNiNl2I/view?usp=drive_link\n"
          ]
        },
        {
          "name": "stderr",
          "output_type": "stream",
          "text": [
            "Downloading...\n",
            "From: https://drive.google.com/uc?id=1lWWp2V4PPrrCe5oqFnES74tQraNiNl2I\n",
            "To: /content/drive/MyDrive/Satria_Data/test/videos/186.mp4\n",
            "100%|██████████| 21.9M/21.9M [00:00<00:00, 36.4MB/s]\n"
          ]
        },
        {
          "name": "stdout",
          "output_type": "stream",
          "text": [
            "[OK] /content/drive/MyDrive/Satria_Data/test/videos/186.mp4\n",
            "[Google Drive] Download https://drive.google.com/file/d/1xdNwtzW3NkRnczPZMlvWKNiXK0AVOb8q/view?usp=drive_link\n"
          ]
        },
        {
          "name": "stderr",
          "output_type": "stream",
          "text": [
            "Downloading...\n",
            "From: https://drive.google.com/uc?id=1xdNwtzW3NkRnczPZMlvWKNiXK0AVOb8q\n",
            "To: /content/drive/MyDrive/Satria_Data/test/videos/187.mp4\n",
            "100%|██████████| 19.5M/19.5M [00:00<00:00, 42.1MB/s]\n"
          ]
        },
        {
          "name": "stdout",
          "output_type": "stream",
          "text": [
            "[OK] /content/drive/MyDrive/Satria_Data/test/videos/187.mp4\n",
            "[Google Drive] Download https://drive.google.com/file/d/1Szy2uHW3fbw_8cXU9dd3gVhnMMyKQwbE/view?usp=drive_link\n"
          ]
        },
        {
          "name": "stderr",
          "output_type": "stream",
          "text": [
            "Downloading...\n",
            "From: https://drive.google.com/uc?id=1Szy2uHW3fbw_8cXU9dd3gVhnMMyKQwbE\n",
            "To: /content/drive/MyDrive/Satria_Data/test/videos/188.mp4\n",
            "100%|██████████| 39.4M/39.4M [00:00<00:00, 44.1MB/s]\n"
          ]
        },
        {
          "name": "stdout",
          "output_type": "stream",
          "text": [
            "[OK] /content/drive/MyDrive/Satria_Data/test/videos/188.mp4\n",
            "[Google Drive] Download https://drive.google.com/file/d/1UoIpEESJpYhl6ktsFX0l1Q_lGS2JQE4a/view?usp=drive_link\n"
          ]
        },
        {
          "name": "stderr",
          "output_type": "stream",
          "text": [
            "Downloading...\n",
            "From: https://drive.google.com/uc?id=1UoIpEESJpYhl6ktsFX0l1Q_lGS2JQE4a\n",
            "To: /content/drive/MyDrive/Satria_Data/test/videos/189.mp4\n",
            "100%|██████████| 13.1M/13.1M [00:00<00:00, 33.5MB/s]\n"
          ]
        },
        {
          "name": "stdout",
          "output_type": "stream",
          "text": [
            "[OK] /content/drive/MyDrive/Satria_Data/test/videos/189.mp4\n",
            "[Google Drive] Download https://drive.google.com/file/d/1NIWRtQwRup1CXoykRSIJBBAvrMr-Ochv/view?usp=drive_link\n"
          ]
        },
        {
          "name": "stderr",
          "output_type": "stream",
          "text": [
            "Downloading...\n",
            "From: https://drive.google.com/uc?id=1NIWRtQwRup1CXoykRSIJBBAvrMr-Ochv\n",
            "To: /content/drive/MyDrive/Satria_Data/test/videos/190.mp4\n",
            "100%|██████████| 11.1M/11.1M [00:00<00:00, 28.1MB/s]\n"
          ]
        },
        {
          "name": "stdout",
          "output_type": "stream",
          "text": [
            "[OK] /content/drive/MyDrive/Satria_Data/test/videos/190.mp4\n",
            "[Google Drive] Download https://drive.google.com/file/d/1DSfKv-iiVhftQ6Cz3v_qu7pop9WfQvWO/view?usp=drive_link\n"
          ]
        },
        {
          "name": "stderr",
          "output_type": "stream",
          "text": [
            "Downloading...\n",
            "From: https://drive.google.com/uc?id=1DSfKv-iiVhftQ6Cz3v_qu7pop9WfQvWO\n",
            "To: /content/drive/MyDrive/Satria_Data/test/videos/191.mp4\n",
            "100%|██████████| 3.56M/3.56M [00:00<00:00, 32.3MB/s]\n"
          ]
        },
        {
          "name": "stdout",
          "output_type": "stream",
          "text": [
            "[OK] /content/drive/MyDrive/Satria_Data/test/videos/191.mp4\n",
            "[Instagram] Download https://www.instagram.com/reel/DCYxVATvxDu/?igsh=bTI4cHhqajE5ZWE5\n",
            "[OK] /content/drive/MyDrive/Satria_Data/test/videos/192.mp4\n",
            "[Instagram] Download https://www.instagram.com/reel/DCrH5IdzQCj/?igsh=aHAwbmN2amJqeXpy\n",
            "[OK] /content/drive/MyDrive/Satria_Data/test/videos/193.mp4\n",
            "[Instagram] Download https://www.instagram.com/reel/DMzjk18xmcY/?utm_source=ig_web_copy_link\n",
            "[OK] /content/drive/MyDrive/Satria_Data/test/videos/194.mp4\n",
            "[Instagram] Download https://www.instagram.com/reel/DM-JaK4yddh/?utm_source=ig_web_copy_link\n",
            "[OK] /content/drive/MyDrive/Satria_Data/test/videos/195.mp4\n",
            "[Instagram] Download https://www.instagram.com/reel/DMUQW-dy0Nm/?utm_source=ig_web_copy_link&igsh=MzRlODBiNWFlZA==\n",
            "[OK] /content/drive/MyDrive/Satria_Data/test/videos/196.mp4\n",
            "[Instagram] Download https://www.instagram.com/reel/DL4bTmcS4r8/?utm_source=ig_web_copy_link&igsh=MzRlODBiNWFlZA==\n",
            "[OK] /content/drive/MyDrive/Satria_Data/test/videos/197.mp4\n",
            "[Instagram] Download https://www.instagram.com/reel/C40lvFkSMlc/?utm_source=ig_web_copy_link&igsh=MzRlODBiNWFlZA==\n",
            "[OK] /content/drive/MyDrive/Satria_Data/test/videos/198.mp4\n",
            "[Instagram] Download https://www.instagram.com/reel/C16YyX3pXsB/?utm_source=ig_web_copy_link&igsh=MzRlODBiNWFlZA==\n",
            "[OK] /content/drive/MyDrive/Satria_Data/test/videos/199.mp4\n",
            "[Instagram] Download https://www.instagram.com/reel/DAp9h5-tsxa/?igsh=MTk0MDNuNzZxcXBwZQ==\n",
            "[OK] /content/drive/MyDrive/Satria_Data/test/videos/200.mp4\n",
            "\n",
            "CSV baru disimpan sebagai /content/drive/MyDrive/Satria_Data/test/test_scrap.csv\n"
          ]
        }
      ],
      "source": [
        "import os\n",
        "import pandas as pd\n",
        "import requests\n",
        "import gdown\n",
        "import shutil\n",
        "from urllib.parse import urlparse\n",
        "from instagrapi import Client\n",
        "\n",
        "# === Konfigurasi ===\n",
        "CSV_INPUT = \"/content/drive/MyDrive/Satria_Data/test/datatest_revisi.csv\"\n",
        "CSV_OUTPUT = \"/content/drive/MyDrive/Satria_Data/test/test_scrap.csv\"\n",
        "OUTPUT_DIR = \"/content/drive/MyDrive/Satria_Data/test/videos\"\n",
        "\n",
        "# Buat folder output\n",
        "os.makedirs(OUTPUT_DIR, exist_ok=True)\n",
        "\n",
        "# Baca CSV\n",
        "df = pd.read_csv(CSV_INPUT)\n",
        "\n",
        "# Setup Instagrapi client\n",
        "cl = Client()\n",
        "\n",
        "# ⚠️ Gunakan sessionid biar stabil\n",
        "SESSIONID = \"55201690344%3A5aGhKyhejxLaKE%3A20%3AAYcgsOq-V8biGFF5Qh5sbsSjBfhSDjB7WLZRYH5Gjw\"  # ganti dengan sessionid dari cookie IG\n",
        "cl.login_by_sessionid(SESSIONID)\n",
        "\n",
        "# List hasil\n",
        "new_data = []\n",
        "\n",
        "# === Fungsi bantu ===\n",
        "\n",
        "def download_instagram(url, output_path):\n",
        "    \"\"\"Download Instagram Reels dengan custom name\"\"\"\n",
        "    try:\n",
        "        media_pk = cl.media_pk_from_url(url)\n",
        "        temp_path = cl.video_download(media_pk)\n",
        "\n",
        "        # pakai shutil.move biar aman cross-device\n",
        "        if temp_path != output_path:\n",
        "            if os.path.exists(output_path):\n",
        "                os.remove(output_path)  # hapus kalau sudah ada\n",
        "            shutil.move(temp_path, output_path)\n",
        "\n",
        "        return True\n",
        "    except Exception as e:\n",
        "        print(f\"[IG FAIL] {url} - {e}\")\n",
        "        return False\n",
        "\n",
        "\n",
        "def download_drive(url, output_path):\n",
        "    \"\"\"Download Google Drive file\"\"\"\n",
        "    try:\n",
        "        if \"id=\" in url:\n",
        "            file_id = url.split(\"id=\")[-1]\n",
        "        else:\n",
        "            file_id = url.split(\"/d/\")[1].split(\"/\")[0]\n",
        "        gdown.download(f\"https://drive.google.com/uc?id={file_id}\", output_path, quiet=False)\n",
        "        return True\n",
        "    except Exception as e:\n",
        "        print(f\"[Drive FAIL] {url} - {e}\")\n",
        "        return False\n",
        "\n",
        "\n",
        "def download_cdn(url, output_path):\n",
        "    \"\"\"Download langsung dari CDN Instagram\"\"\"\n",
        "    try:\n",
        "        r = requests.get(url, stream=True)\n",
        "        with open(output_path, \"wb\") as f:\n",
        "            for chunk in r.iter_content(chunk_size=8192):\n",
        "                f.write(chunk)\n",
        "        return True\n",
        "    except Exception as e:\n",
        "        print(f\"[CDN FAIL] {url} - {e}\")\n",
        "        return False\n",
        "\n",
        "\n",
        "# === Proses setiap baris ===\n",
        "for _, row in df.iterrows():\n",
        "    vid_id = row[\"id\"]\n",
        "    url = row[\"video\"]\n",
        "\n",
        "    output_path = os.path.join(OUTPUT_DIR, f\"{vid_id}.mp4\")\n",
        "\n",
        "    if os.path.exists(output_path):\n",
        "        print(f\"[SKIP] {output_path} sudah ada\")\n",
        "        new_data.append({\"id\": vid_id, \"video\": output_path})\n",
        "        continue\n",
        "\n",
        "    domain = urlparse(url).netloc\n",
        "    success = False\n",
        "\n",
        "    if \"instagram.com\" in domain and \"scontent\" not in domain and \"fna.fbcdn.net\" not in domain:\n",
        "        print(f\"[Instagram] Download {url}\")\n",
        "        success = download_instagram(url, output_path)\n",
        "\n",
        "    elif \"drive.google.com\" in domain:\n",
        "        print(f\"[Google Drive] Download {url}\")\n",
        "        success = download_drive(url, output_path)\n",
        "\n",
        "    elif \"scontent\" in domain or \"fna.fbcdn.net\" in domain:\n",
        "        print(f\"[CDN] Download {url}\")\n",
        "        success = download_cdn(url, output_path)\n",
        "\n",
        "    else:\n",
        "        print(f\"[UNKNOWN] {url} -> dilewati\")\n",
        "\n",
        "    if success:\n",
        "        new_data.append({\"id\": vid_id, \"video\": output_path})\n",
        "        print(f\"[OK] {output_path}\")\n",
        "    else:\n",
        "        new_data.append({\"id\": vid_id, \"video\": None})\n",
        "        print(f\"[FAIL] {url}\")\n",
        "\n",
        "# Simpan CSV baru\n",
        "new_df = pd.DataFrame(new_data)\n",
        "new_df.to_csv(CSV_OUTPUT, index=False)\n",
        "\n",
        "print(f\"\\nCSV baru disimpan sebagai {CSV_OUTPUT}\")"
      ]
    },
    {
      "cell_type": "code",
      "execution_count": null,
      "metadata": {
        "id": "gNkGwCY0MNsT"
      },
      "outputs": [],
      "source": [
        "# test download\n",
        "import os\n",
        "import pandas as pd\n",
        "import requests\n",
        "import gdown\n",
        "import shutil\n",
        "from urllib.parse import urlparse\n",
        "from instagrapi import Client\n",
        "\n",
        "# === Konfigurasi ===\n",
        "CSV_INPUT = \"/content/drive/MyDrive/Lomba/Satria_Data/test/datatest.csv\"\n",
        "CSV_OUTPUT = \"/content/drive/MyDrive/Lomba/Satria_Data/test/test_scrap.csv\"\n",
        "OUTPUT_DIR = \"/content/drive/MyDrive/Lomba/Satria_Data/test/videos\"\n",
        "\n",
        "# Buat folder output\n",
        "os.makedirs(OUTPUT_DIR, exist_ok=True)\n",
        "\n",
        "# Baca CSV\n",
        "df = pd.read_csv(CSV_INPUT)\n",
        "\n",
        "# Setup Instagrapi client\n",
        "cl = Client()\n",
        "\n",
        "# ⚠️ Gunakan sessionid biar stabil\n",
        "SESSIONID = \"55201690344%3A5aGhKyhejxLaKE%3A20%3AAYcgsOq-V8biGFF5Qh5sbsSjBfhSDjB7WLZRYH5Gjw\"  # ganti dengan sessionid dari cookie IG\n",
        "cl.login_by_sessionid(SESSIONID)\n",
        "\n",
        "# List hasil\n",
        "new_data = []\n",
        "\n",
        "# === Fungsi bantu ===\n",
        "\n",
        "def download_instagram(url, output_path):\n",
        "    \"\"\"Download Instagram Reels dengan custom name\"\"\"\n",
        "    try:\n",
        "        media_pk = cl.media_pk_from_url(url)\n",
        "        temp_path = cl.video_download(media_pk)\n",
        "\n",
        "        # pakai shutil.move biar aman cross-device\n",
        "        if temp_path != output_path:\n",
        "            if os.path.exists(output_path):\n",
        "                os.remove(output_path)  # hapus kalau sudah ada\n",
        "            shutil.move(temp_path, output_path)\n",
        "\n",
        "        return True\n",
        "    except Exception as e:\n",
        "        print(f\"[IG FAIL] {url} - {e}\")\n",
        "        return False\n",
        "\n",
        "\n",
        "def download_drive(url, output_path):\n",
        "    \"\"\"Download Google Drive file\"\"\"\n",
        "    try:\n",
        "        if \"id=\" in url:\n",
        "            file_id = url.split(\"id=\")[-1]\n",
        "        else:\n",
        "            file_id = url.split(\"/d/\")[1].split(\"/\")[0]\n",
        "        gdown.download(f\"https://drive.google.com/uc?id={file_id}\", output_path, quiet=False)\n",
        "        return True\n",
        "    except Exception as e:\n",
        "        print(f\"[Drive FAIL] {url} - {e}\")\n",
        "        return False\n",
        "\n",
        "\n",
        "def download_cdn(url, output_path):\n",
        "    \"\"\"Download langsung dari CDN Instagram\"\"\"\n",
        "    try:\n",
        "        r = requests.get(url, stream=True)\n",
        "        with open(output_path, \"wb\") as f:\n",
        "            for chunk in r.iter_content(chunk_size=8192):\n",
        "                f.write(chunk)\n",
        "        return True\n",
        "    except Exception as e:\n",
        "        print(f\"[CDN FAIL] {url} - {e}\")\n",
        "        return False\n",
        "\n",
        "\n",
        "# === Proses setiap baris ===\n",
        "for _, row in df.iterrows():\n",
        "    vid_id = row[\"id\"]\n",
        "    emotion = row[\"emotion\"]\n",
        "    url = row[\"videos\"]\n",
        "\n",
        "    output_path = os.path.join(OUTPUT_DIR, f\"{vid_id}_{emotion}.mp4\")\n",
        "\n",
        "    if os.path.exists(output_path):\n",
        "        print(f\"[SKIP] {output_path} sudah ada\")\n",
        "        new_data.append({\"id\": vid_id, \"path\": output_path, \"emotion\": emotion})\n",
        "        continue\n",
        "\n",
        "    domain = urlparse(url).netloc\n",
        "    success = False\n",
        "\n",
        "    if \"instagram.com\" in domain and \"scontent\" not in domain and \"fna.fbcdn.net\" not in domain:\n",
        "        print(f\"[Instagram] Download {url}\")\n",
        "        success = download_instagram(url, output_path)\n",
        "\n",
        "    elif \"drive.google.com\" in domain:\n",
        "        print(f\"[Google Drive] Download {url}\")\n",
        "        success = download_drive(url, output_path)\n",
        "\n",
        "    elif \"scontent\" in domain or \"fna.fbcdn.net\" in domain:\n",
        "        print(f\"[CDN] Download {url}\")\n",
        "        success = download_cdn(url, output_path)\n",
        "\n",
        "    else:\n",
        "        print(f\"[UNKNOWN] {url} -> dilewati\")\n",
        "\n",
        "    if success:\n",
        "        new_data.append({\"id\": vid_id, \"path\": output_path, \"emotion\": emotion})\n",
        "        print(f\"[OK] {output_path}\")\n",
        "    else:\n",
        "        new_data.append({\"id\": vid_id, \"path\": None, \"emotion\": emotion})\n",
        "        print(f\"[FAIL] {url}\")\n",
        "\n",
        "# Simpan CSV baru\n",
        "new_df = pd.DataFrame(new_data)\n",
        "new_df.to_csv(CSV_OUTPUT, index=False)\n",
        "\n",
        "print(f\"\\nCSV baru disimpan sebagai {CSV_OUTPUT}\")"
      ]
    }
  ],
  "metadata": {
    "colab": {
      "gpuType": "T4",
      "provenance": []
    },
    "kernelspec": {
      "display_name": "Python 3",
      "name": "python3"
    },
    "language_info": {
      "name": "python"
    }
  },
  "nbformat": 4,
  "nbformat_minor": 0
}

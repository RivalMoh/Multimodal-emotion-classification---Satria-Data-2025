{
  "cells": [
    {
      "cell_type": "code",
      "execution_count": null,
      "metadata": {
        "id": "lgqW5b2iE5LR"
      },
      "outputs": [],
      "source": [
        "import pandas as pd"
      ]
    },
    {
      "cell_type": "code",
      "execution_count": null,
      "metadata": {
        "colab": {
          "base_uri": "https://localhost:8080/"
        },
        "id": "bWsqy82aFYL1",
        "outputId": "d0c4c240-cd3b-4309-cdbc-3f2d25f406d4"
      },
      "outputs": [
        {
          "name": "stdout",
          "output_type": "stream",
          "text": [
            "<class 'pandas.core.frame.DataFrame'>\n",
            "RangeIndex: 803 entries, 0 to 802\n",
            "Data columns (total 3 columns):\n",
            " #   Column   Non-Null Count  Dtype \n",
            "---  ------   --------------  ----- \n",
            " 0   id       803 non-null    int64 \n",
            " 1   video    803 non-null    object\n",
            " 2   emotion  803 non-null    object\n",
            "dtypes: int64(1), object(2)\n",
            "memory usage: 18.9+ KB\n"
          ]
        }
      ],
      "source": [
        "train_data = pd.read_csv('train/datatrain.csv')\n",
        "train_data.info()"
      ]
    },
    {
      "cell_type": "code",
      "execution_count": null,
      "metadata": {
        "colab": {
          "base_uri": "https://localhost:8080/",
          "height": 206
        },
        "id": "HiCCSwdPm8CC",
        "outputId": "331c2902-6e02-41a8-9e87-d3405e871458"
      },
      "outputs": [
        {
          "data": {
            "application/vnd.google.colaboratory.intrinsic+json": {
              "summary": "{\n  \"name\": \"train_data\",\n  \"rows\": 803,\n  \"fields\": [\n    {\n      \"column\": \"id\",\n      \"properties\": {\n        \"dtype\": \"number\",\n        \"std\": 231,\n        \"min\": 1,\n        \"max\": 803,\n        \"num_unique_values\": 803,\n        \"samples\": [\n          193,\n          295,\n          169\n        ],\n        \"semantic_type\": \"\",\n        \"description\": \"\"\n      }\n    },\n    {\n      \"column\": \"video\",\n      \"properties\": {\n        \"dtype\": \"string\",\n        \"num_unique_values\": 776,\n        \"samples\": [\n          \"https://drive.google.com/file/d/1Kbibt-790YXrIhz_TmDYRtgOYjSzw11k/view?usp=sharing\",\n          \"https://drive.google.com/file/d/1m7GKbzI-IPkccCckRckT2MMyAo3PxRja/view?usp=drive_link\",\n          \"https://drive.google.com/file/d/1gr6eVSYlzBHXVUpGY_mMJklm6MHdHxA_/view?usp=drive_link\"\n        ],\n        \"semantic_type\": \"\",\n        \"description\": \"\"\n      }\n    },\n    {\n      \"column\": \"emotion\",\n      \"properties\": {\n        \"dtype\": \"category\",\n        \"num_unique_values\": 23,\n        \"samples\": [\n          \"Faith\",\n          \"Neutral\",\n          \"Surprise\"\n        ],\n        \"semantic_type\": \"\",\n        \"description\": \"\"\n      }\n    }\n  ]\n}",
              "type": "dataframe",
              "variable_name": "train_data"
            },
            "text/html": [
              "\n",
              "  <div id=\"df-d09b091f-1bfb-4ff9-ae95-4318ab06bc8d\" class=\"colab-df-container\">\n",
              "    <div>\n",
              "<style scoped>\n",
              "    .dataframe tbody tr th:only-of-type {\n",
              "        vertical-align: middle;\n",
              "    }\n",
              "\n",
              "    .dataframe tbody tr th {\n",
              "        vertical-align: top;\n",
              "    }\n",
              "\n",
              "    .dataframe thead th {\n",
              "        text-align: right;\n",
              "    }\n",
              "</style>\n",
              "<table border=\"1\" class=\"dataframe\">\n",
              "  <thead>\n",
              "    <tr style=\"text-align: right;\">\n",
              "      <th></th>\n",
              "      <th>id</th>\n",
              "      <th>video</th>\n",
              "      <th>emotion</th>\n",
              "    </tr>\n",
              "  </thead>\n",
              "  <tbody>\n",
              "    <tr>\n",
              "      <th>0</th>\n",
              "      <td>1</td>\n",
              "      <td>https://www.instagram.com/reel/DNKcHgdA-d1/?ig...</td>\n",
              "      <td>Surprise</td>\n",
              "    </tr>\n",
              "    <tr>\n",
              "      <th>1</th>\n",
              "      <td>2</td>\n",
              "      <td>https://www.instagram.com/reel/DNHwrh2gnBm/?ig...</td>\n",
              "      <td>Surprise</td>\n",
              "    </tr>\n",
              "    <tr>\n",
              "      <th>2</th>\n",
              "      <td>3</td>\n",
              "      <td>https://www.instagram.com/reel/DM7QsjnRCoa/?ig...</td>\n",
              "      <td>Surprise</td>\n",
              "    </tr>\n",
              "    <tr>\n",
              "      <th>3</th>\n",
              "      <td>4</td>\n",
              "      <td>https://www.instagram.com/reel/DNBBEt6Paxj/?ig...</td>\n",
              "      <td>Surprise</td>\n",
              "    </tr>\n",
              "    <tr>\n",
              "      <th>4</th>\n",
              "      <td>5</td>\n",
              "      <td>https://www.instagram.com/reel/DMz13fQzZsN/?ig...</td>\n",
              "      <td>Proud</td>\n",
              "    </tr>\n",
              "  </tbody>\n",
              "</table>\n",
              "</div>\n",
              "    <div class=\"colab-df-buttons\">\n",
              "\n",
              "  <div class=\"colab-df-container\">\n",
              "    <button class=\"colab-df-convert\" onclick=\"convertToInteractive('df-d09b091f-1bfb-4ff9-ae95-4318ab06bc8d')\"\n",
              "            title=\"Convert this dataframe to an interactive table.\"\n",
              "            style=\"display:none;\">\n",
              "\n",
              "  <svg xmlns=\"http://www.w3.org/2000/svg\" height=\"24px\" viewBox=\"0 -960 960 960\">\n",
              "    <path d=\"M120-120v-720h720v720H120Zm60-500h600v-160H180v160Zm220 220h160v-160H400v160Zm0 220h160v-160H400v160ZM180-400h160v-160H180v160Zm440 0h160v-160H620v160ZM180-180h160v-160H180v160Zm440 0h160v-160H620v160Z\"/>\n",
              "  </svg>\n",
              "    </button>\n",
              "\n",
              "  <style>\n",
              "    .colab-df-container {\n",
              "      display:flex;\n",
              "      gap: 12px;\n",
              "    }\n",
              "\n",
              "    .colab-df-convert {\n",
              "      background-color: #E8F0FE;\n",
              "      border: none;\n",
              "      border-radius: 50%;\n",
              "      cursor: pointer;\n",
              "      display: none;\n",
              "      fill: #1967D2;\n",
              "      height: 32px;\n",
              "      padding: 0 0 0 0;\n",
              "      width: 32px;\n",
              "    }\n",
              "\n",
              "    .colab-df-convert:hover {\n",
              "      background-color: #E2EBFA;\n",
              "      box-shadow: 0px 1px 2px rgba(60, 64, 67, 0.3), 0px 1px 3px 1px rgba(60, 64, 67, 0.15);\n",
              "      fill: #174EA6;\n",
              "    }\n",
              "\n",
              "    .colab-df-buttons div {\n",
              "      margin-bottom: 4px;\n",
              "    }\n",
              "\n",
              "    [theme=dark] .colab-df-convert {\n",
              "      background-color: #3B4455;\n",
              "      fill: #D2E3FC;\n",
              "    }\n",
              "\n",
              "    [theme=dark] .colab-df-convert:hover {\n",
              "      background-color: #434B5C;\n",
              "      box-shadow: 0px 1px 3px 1px rgba(0, 0, 0, 0.15);\n",
              "      filter: drop-shadow(0px 1px 2px rgba(0, 0, 0, 0.3));\n",
              "      fill: #FFFFFF;\n",
              "    }\n",
              "  </style>\n",
              "\n",
              "    <script>\n",
              "      const buttonEl =\n",
              "        document.querySelector('#df-d09b091f-1bfb-4ff9-ae95-4318ab06bc8d button.colab-df-convert');\n",
              "      buttonEl.style.display =\n",
              "        google.colab.kernel.accessAllowed ? 'block' : 'none';\n",
              "\n",
              "      async function convertToInteractive(key) {\n",
              "        const element = document.querySelector('#df-d09b091f-1bfb-4ff9-ae95-4318ab06bc8d');\n",
              "        const dataTable =\n",
              "          await google.colab.kernel.invokeFunction('convertToInteractive',\n",
              "                                                    [key], {});\n",
              "        if (!dataTable) return;\n",
              "\n",
              "        const docLinkHtml = 'Like what you see? Visit the ' +\n",
              "          '<a target=\"_blank\" href=https://colab.research.google.com/notebooks/data_table.ipynb>data table notebook</a>'\n",
              "          + ' to learn more about interactive tables.';\n",
              "        element.innerHTML = '';\n",
              "        dataTable['output_type'] = 'display_data';\n",
              "        await google.colab.output.renderOutput(dataTable, element);\n",
              "        const docLink = document.createElement('div');\n",
              "        docLink.innerHTML = docLinkHtml;\n",
              "        element.appendChild(docLink);\n",
              "      }\n",
              "    </script>\n",
              "  </div>\n",
              "\n",
              "\n",
              "    <div id=\"df-a85f3451-5556-47df-946d-186fc11620c2\">\n",
              "      <button class=\"colab-df-quickchart\" onclick=\"quickchart('df-a85f3451-5556-47df-946d-186fc11620c2')\"\n",
              "                title=\"Suggest charts\"\n",
              "                style=\"display:none;\">\n",
              "\n",
              "<svg xmlns=\"http://www.w3.org/2000/svg\" height=\"24px\"viewBox=\"0 0 24 24\"\n",
              "     width=\"24px\">\n",
              "    <g>\n",
              "        <path d=\"M19 3H5c-1.1 0-2 .9-2 2v14c0 1.1.9 2 2 2h14c1.1 0 2-.9 2-2V5c0-1.1-.9-2-2-2zM9 17H7v-7h2v7zm4 0h-2V7h2v10zm4 0h-2v-4h2v4z\"/>\n",
              "    </g>\n",
              "</svg>\n",
              "      </button>\n",
              "\n",
              "<style>\n",
              "  .colab-df-quickchart {\n",
              "      --bg-color: #E8F0FE;\n",
              "      --fill-color: #1967D2;\n",
              "      --hover-bg-color: #E2EBFA;\n",
              "      --hover-fill-color: #174EA6;\n",
              "      --disabled-fill-color: #AAA;\n",
              "      --disabled-bg-color: #DDD;\n",
              "  }\n",
              "\n",
              "  [theme=dark] .colab-df-quickchart {\n",
              "      --bg-color: #3B4455;\n",
              "      --fill-color: #D2E3FC;\n",
              "      --hover-bg-color: #434B5C;\n",
              "      --hover-fill-color: #FFFFFF;\n",
              "      --disabled-bg-color: #3B4455;\n",
              "      --disabled-fill-color: #666;\n",
              "  }\n",
              "\n",
              "  .colab-df-quickchart {\n",
              "    background-color: var(--bg-color);\n",
              "    border: none;\n",
              "    border-radius: 50%;\n",
              "    cursor: pointer;\n",
              "    display: none;\n",
              "    fill: var(--fill-color);\n",
              "    height: 32px;\n",
              "    padding: 0;\n",
              "    width: 32px;\n",
              "  }\n",
              "\n",
              "  .colab-df-quickchart:hover {\n",
              "    background-color: var(--hover-bg-color);\n",
              "    box-shadow: 0 1px 2px rgba(60, 64, 67, 0.3), 0 1px 3px 1px rgba(60, 64, 67, 0.15);\n",
              "    fill: var(--button-hover-fill-color);\n",
              "  }\n",
              "\n",
              "  .colab-df-quickchart-complete:disabled,\n",
              "  .colab-df-quickchart-complete:disabled:hover {\n",
              "    background-color: var(--disabled-bg-color);\n",
              "    fill: var(--disabled-fill-color);\n",
              "    box-shadow: none;\n",
              "  }\n",
              "\n",
              "  .colab-df-spinner {\n",
              "    border: 2px solid var(--fill-color);\n",
              "    border-color: transparent;\n",
              "    border-bottom-color: var(--fill-color);\n",
              "    animation:\n",
              "      spin 1s steps(1) infinite;\n",
              "  }\n",
              "\n",
              "  @keyframes spin {\n",
              "    0% {\n",
              "      border-color: transparent;\n",
              "      border-bottom-color: var(--fill-color);\n",
              "      border-left-color: var(--fill-color);\n",
              "    }\n",
              "    20% {\n",
              "      border-color: transparent;\n",
              "      border-left-color: var(--fill-color);\n",
              "      border-top-color: var(--fill-color);\n",
              "    }\n",
              "    30% {\n",
              "      border-color: transparent;\n",
              "      border-left-color: var(--fill-color);\n",
              "      border-top-color: var(--fill-color);\n",
              "      border-right-color: var(--fill-color);\n",
              "    }\n",
              "    40% {\n",
              "      border-color: transparent;\n",
              "      border-right-color: var(--fill-color);\n",
              "      border-top-color: var(--fill-color);\n",
              "    }\n",
              "    60% {\n",
              "      border-color: transparent;\n",
              "      border-right-color: var(--fill-color);\n",
              "    }\n",
              "    80% {\n",
              "      border-color: transparent;\n",
              "      border-right-color: var(--fill-color);\n",
              "      border-bottom-color: var(--fill-color);\n",
              "    }\n",
              "    90% {\n",
              "      border-color: transparent;\n",
              "      border-bottom-color: var(--fill-color);\n",
              "    }\n",
              "  }\n",
              "</style>\n",
              "\n",
              "      <script>\n",
              "        async function quickchart(key) {\n",
              "          const quickchartButtonEl =\n",
              "            document.querySelector('#' + key + ' button');\n",
              "          quickchartButtonEl.disabled = true;  // To prevent multiple clicks.\n",
              "          quickchartButtonEl.classList.add('colab-df-spinner');\n",
              "          try {\n",
              "            const charts = await google.colab.kernel.invokeFunction(\n",
              "                'suggestCharts', [key], {});\n",
              "          } catch (error) {\n",
              "            console.error('Error during call to suggestCharts:', error);\n",
              "          }\n",
              "          quickchartButtonEl.classList.remove('colab-df-spinner');\n",
              "          quickchartButtonEl.classList.add('colab-df-quickchart-complete');\n",
              "        }\n",
              "        (() => {\n",
              "          let quickchartButtonEl =\n",
              "            document.querySelector('#df-a85f3451-5556-47df-946d-186fc11620c2 button');\n",
              "          quickchartButtonEl.style.display =\n",
              "            google.colab.kernel.accessAllowed ? 'block' : 'none';\n",
              "        })();\n",
              "      </script>\n",
              "    </div>\n",
              "\n",
              "    </div>\n",
              "  </div>\n"
            ],
            "text/plain": [
              "   id                                              video   emotion\n",
              "0   1  https://www.instagram.com/reel/DNKcHgdA-d1/?ig...  Surprise\n",
              "1   2  https://www.instagram.com/reel/DNHwrh2gnBm/?ig...  Surprise\n",
              "2   3  https://www.instagram.com/reel/DM7QsjnRCoa/?ig...  Surprise\n",
              "3   4  https://www.instagram.com/reel/DNBBEt6Paxj/?ig...  Surprise\n",
              "4   5  https://www.instagram.com/reel/DMz13fQzZsN/?ig...     Proud"
            ]
          },
          "execution_count": 4,
          "metadata": {},
          "output_type": "execute_result"
        }
      ],
      "source": [
        "train_data.head()"
      ]
    },
    {
      "cell_type": "code",
      "execution_count": null,
      "metadata": {
        "colab": {
          "base_uri": "https://localhost:8080/",
          "height": 836
        },
        "id": "qqKXdgZFFodi",
        "outputId": "1efb453c-cf91-449b-ec05-e052a69c4e07"
      },
      "outputs": [
        {
          "data": {
            "text/html": [
              "<div>\n",
              "<style scoped>\n",
              "    .dataframe tbody tr th:only-of-type {\n",
              "        vertical-align: middle;\n",
              "    }\n",
              "\n",
              "    .dataframe tbody tr th {\n",
              "        vertical-align: top;\n",
              "    }\n",
              "\n",
              "    .dataframe thead th {\n",
              "        text-align: right;\n",
              "    }\n",
              "</style>\n",
              "<table border=\"1\" class=\"dataframe\">\n",
              "  <thead>\n",
              "    <tr style=\"text-align: right;\">\n",
              "      <th></th>\n",
              "      <th>count</th>\n",
              "    </tr>\n",
              "    <tr>\n",
              "      <th>emotion</th>\n",
              "      <th></th>\n",
              "    </tr>\n",
              "  </thead>\n",
              "  <tbody>\n",
              "    <tr>\n",
              "      <th>Surprise</th>\n",
              "      <td>320</td>\n",
              "    </tr>\n",
              "    <tr>\n",
              "      <th>Trust</th>\n",
              "      <td>181</td>\n",
              "    </tr>\n",
              "    <tr>\n",
              "      <th>Proud</th>\n",
              "      <td>154</td>\n",
              "    </tr>\n",
              "    <tr>\n",
              "      <th>Joy</th>\n",
              "      <td>53</td>\n",
              "    </tr>\n",
              "    <tr>\n",
              "      <th>Anger</th>\n",
              "      <td>34</td>\n",
              "    </tr>\n",
              "    <tr>\n",
              "      <th>Sadness</th>\n",
              "      <td>17</td>\n",
              "    </tr>\n",
              "    <tr>\n",
              "      <th>Fear</th>\n",
              "      <td>16</td>\n",
              "    </tr>\n",
              "    <tr>\n",
              "      <th>Neutral</th>\n",
              "      <td>8</td>\n",
              "    </tr>\n",
              "    <tr>\n",
              "      <th>Terkjut</th>\n",
              "      <td>3</td>\n",
              "    </tr>\n",
              "    <tr>\n",
              "      <th>Terkejut</th>\n",
              "      <td>2</td>\n",
              "    </tr>\n",
              "    <tr>\n",
              "      <th>Trkejut</th>\n",
              "      <td>2</td>\n",
              "    </tr>\n",
              "    <tr>\n",
              "      <th>Bangga</th>\n",
              "      <td>2</td>\n",
              "    </tr>\n",
              "    <tr>\n",
              "      <th>Love</th>\n",
              "      <td>1</td>\n",
              "    </tr>\n",
              "    <tr>\n",
              "      <th>Kaget</th>\n",
              "      <td>1</td>\n",
              "    </tr>\n",
              "    <tr>\n",
              "      <th>Marah</th>\n",
              "      <td>1</td>\n",
              "    </tr>\n",
              "    <tr>\n",
              "      <th>Loyalty</th>\n",
              "      <td>1</td>\n",
              "    </tr>\n",
              "    <tr>\n",
              "      <th>Faith</th>\n",
              "      <td>1</td>\n",
              "    </tr>\n",
              "    <tr>\n",
              "      <th>Percaya</th>\n",
              "      <td>1</td>\n",
              "    </tr>\n",
              "    <tr>\n",
              "      <th>Sad</th>\n",
              "      <td>1</td>\n",
              "    </tr>\n",
              "    <tr>\n",
              "      <th>terkejut</th>\n",
              "      <td>1</td>\n",
              "    </tr>\n",
              "    <tr>\n",
              "      <th>kaget</th>\n",
              "      <td>1</td>\n",
              "    </tr>\n",
              "    <tr>\n",
              "      <th>Marh</th>\n",
              "      <td>1</td>\n",
              "    </tr>\n",
              "    <tr>\n",
              "      <th>Trekejut</th>\n",
              "      <td>1</td>\n",
              "    </tr>\n",
              "  </tbody>\n",
              "</table>\n",
              "</div><br><label><b>dtype:</b> int64</label>"
            ],
            "text/plain": [
              "emotion\n",
              "Surprise    320\n",
              "Trust       181\n",
              "Proud       154\n",
              "Joy          53\n",
              "Anger        34\n",
              "Sadness      17\n",
              "Fear         16\n",
              "Neutral       8\n",
              "Terkjut       3\n",
              "Terkejut      2\n",
              "Trkejut       2\n",
              "Bangga        2\n",
              "Love          1\n",
              "Kaget         1\n",
              "Marah         1\n",
              "Loyalty       1\n",
              "Faith         1\n",
              "Percaya       1\n",
              "Sad           1\n",
              "terkejut      1\n",
              "kaget         1\n",
              "Marh          1\n",
              "Trekejut      1\n",
              "Name: count, dtype: int64"
            ]
          },
          "execution_count": 5,
          "metadata": {},
          "output_type": "execute_result"
        }
      ],
      "source": [
        "train_data['emotion'].value_counts()"
      ]
    },
    {
      "cell_type": "code",
      "execution_count": null,
      "metadata": {
        "colab": {
          "base_uri": "https://localhost:8080/",
          "height": 80
        },
        "id": "vom1_ZrhRGR4",
        "outputId": "bfdb7a7e-7029-4fb9-e99f-14d286d25b1b"
      },
      "outputs": [
        {
          "data": {
            "application/vnd.google.colaboratory.intrinsic+json": {
              "summary": "{\n  \"name\": \"train_data[train_data['emotion'] == 'Faith']\",\n  \"rows\": 1,\n  \"fields\": [\n    {\n      \"column\": \"id\",\n      \"properties\": {\n        \"dtype\": \"number\",\n        \"std\": null,\n        \"min\": 462,\n        \"max\": 462,\n        \"num_unique_values\": 1,\n        \"samples\": [\n          462\n        ],\n        \"semantic_type\": \"\",\n        \"description\": \"\"\n      }\n    },\n    {\n      \"column\": \"video\",\n      \"properties\": {\n        \"dtype\": \"string\",\n        \"num_unique_values\": 1,\n        \"samples\": [\n          \"https://www.instagram.com/reel/DIQvqyBR1r-/?utm_source=ig_web_copy_link&igsh=MzRlODBiNWFlZA==\"\n        ],\n        \"semantic_type\": \"\",\n        \"description\": \"\"\n      }\n    },\n    {\n      \"column\": \"emotion\",\n      \"properties\": {\n        \"dtype\": \"string\",\n        \"num_unique_values\": 1,\n        \"samples\": [\n          \"Faith\"\n        ],\n        \"semantic_type\": \"\",\n        \"description\": \"\"\n      }\n    }\n  ]\n}",
              "type": "dataframe"
            },
            "text/html": [
              "\n",
              "  <div id=\"df-5e8dc7d2-9ca3-441f-b4af-03d83a479c59\" class=\"colab-df-container\">\n",
              "    <div>\n",
              "<style scoped>\n",
              "    .dataframe tbody tr th:only-of-type {\n",
              "        vertical-align: middle;\n",
              "    }\n",
              "\n",
              "    .dataframe tbody tr th {\n",
              "        vertical-align: top;\n",
              "    }\n",
              "\n",
              "    .dataframe thead th {\n",
              "        text-align: right;\n",
              "    }\n",
              "</style>\n",
              "<table border=\"1\" class=\"dataframe\">\n",
              "  <thead>\n",
              "    <tr style=\"text-align: right;\">\n",
              "      <th></th>\n",
              "      <th>id</th>\n",
              "      <th>video</th>\n",
              "      <th>emotion</th>\n",
              "    </tr>\n",
              "  </thead>\n",
              "  <tbody>\n",
              "    <tr>\n",
              "      <th>461</th>\n",
              "      <td>462</td>\n",
              "      <td>https://www.instagram.com/reel/DIQvqyBR1r-/?ut...</td>\n",
              "      <td>Faith</td>\n",
              "    </tr>\n",
              "  </tbody>\n",
              "</table>\n",
              "</div>\n",
              "    <div class=\"colab-df-buttons\">\n",
              "\n",
              "  <div class=\"colab-df-container\">\n",
              "    <button class=\"colab-df-convert\" onclick=\"convertToInteractive('df-5e8dc7d2-9ca3-441f-b4af-03d83a479c59')\"\n",
              "            title=\"Convert this dataframe to an interactive table.\"\n",
              "            style=\"display:none;\">\n",
              "\n",
              "  <svg xmlns=\"http://www.w3.org/2000/svg\" height=\"24px\" viewBox=\"0 -960 960 960\">\n",
              "    <path d=\"M120-120v-720h720v720H120Zm60-500h600v-160H180v160Zm220 220h160v-160H400v160Zm0 220h160v-160H400v160ZM180-400h160v-160H180v160Zm440 0h160v-160H620v160ZM180-180h160v-160H180v160Zm440 0h160v-160H620v160Z\"/>\n",
              "  </svg>\n",
              "    </button>\n",
              "\n",
              "  <style>\n",
              "    .colab-df-container {\n",
              "      display:flex;\n",
              "      gap: 12px;\n",
              "    }\n",
              "\n",
              "    .colab-df-convert {\n",
              "      background-color: #E8F0FE;\n",
              "      border: none;\n",
              "      border-radius: 50%;\n",
              "      cursor: pointer;\n",
              "      display: none;\n",
              "      fill: #1967D2;\n",
              "      height: 32px;\n",
              "      padding: 0 0 0 0;\n",
              "      width: 32px;\n",
              "    }\n",
              "\n",
              "    .colab-df-convert:hover {\n",
              "      background-color: #E2EBFA;\n",
              "      box-shadow: 0px 1px 2px rgba(60, 64, 67, 0.3), 0px 1px 3px 1px rgba(60, 64, 67, 0.15);\n",
              "      fill: #174EA6;\n",
              "    }\n",
              "\n",
              "    .colab-df-buttons div {\n",
              "      margin-bottom: 4px;\n",
              "    }\n",
              "\n",
              "    [theme=dark] .colab-df-convert {\n",
              "      background-color: #3B4455;\n",
              "      fill: #D2E3FC;\n",
              "    }\n",
              "\n",
              "    [theme=dark] .colab-df-convert:hover {\n",
              "      background-color: #434B5C;\n",
              "      box-shadow: 0px 1px 3px 1px rgba(0, 0, 0, 0.15);\n",
              "      filter: drop-shadow(0px 1px 2px rgba(0, 0, 0, 0.3));\n",
              "      fill: #FFFFFF;\n",
              "    }\n",
              "  </style>\n",
              "\n",
              "    <script>\n",
              "      const buttonEl =\n",
              "        document.querySelector('#df-5e8dc7d2-9ca3-441f-b4af-03d83a479c59 button.colab-df-convert');\n",
              "      buttonEl.style.display =\n",
              "        google.colab.kernel.accessAllowed ? 'block' : 'none';\n",
              "\n",
              "      async function convertToInteractive(key) {\n",
              "        const element = document.querySelector('#df-5e8dc7d2-9ca3-441f-b4af-03d83a479c59');\n",
              "        const dataTable =\n",
              "          await google.colab.kernel.invokeFunction('convertToInteractive',\n",
              "                                                    [key], {});\n",
              "        if (!dataTable) return;\n",
              "\n",
              "        const docLinkHtml = 'Like what you see? Visit the ' +\n",
              "          '<a target=\"_blank\" href=https://colab.research.google.com/notebooks/data_table.ipynb>data table notebook</a>'\n",
              "          + ' to learn more about interactive tables.';\n",
              "        element.innerHTML = '';\n",
              "        dataTable['output_type'] = 'display_data';\n",
              "        await google.colab.output.renderOutput(dataTable, element);\n",
              "        const docLink = document.createElement('div');\n",
              "        docLink.innerHTML = docLinkHtml;\n",
              "        element.appendChild(docLink);\n",
              "      }\n",
              "    </script>\n",
              "  </div>\n",
              "\n",
              "\n",
              "    </div>\n",
              "  </div>\n"
            ],
            "text/plain": [
              "      id                                              video emotion\n",
              "461  462  https://www.instagram.com/reel/DIQvqyBR1r-/?ut...   Faith"
            ]
          },
          "execution_count": 6,
          "metadata": {},
          "output_type": "execute_result"
        }
      ],
      "source": [
        "train_data[train_data['emotion'] == 'Faith']"
      ]
    },
    {
      "cell_type": "markdown",
      "metadata": {
        "id": "oBbgaDbMX_i_"
      },
      "source": [
        "# Cleaning"
      ]
    },
    {
      "cell_type": "code",
      "execution_count": null,
      "metadata": {
        "id": "27fbVSXrX-q5"
      },
      "outputs": [],
      "source": [
        "# Membuat copy data untuk cleaning\n",
        "train_clean = train_data.copy()"
      ]
    },
    {
      "cell_type": "code",
      "execution_count": null,
      "metadata": {
        "id": "389k3HF6YSY1"
      },
      "outputs": [],
      "source": [
        "# Dictionary untuk mapping emotion yang perlu diperbaiki\n",
        "emotion_mapping = {\n",
        "    # Perbaikan typo untuk Surprise\n",
        "    'Terkjut': 'Surprise',\n",
        "    'Terkejut': 'Surprise',\n",
        "    'Trkejut': 'Surprise',\n",
        "    'terkejut': 'Surprise',\n",
        "    'Kaget': 'Surprise',\n",
        "    'kaget': 'Surprise',\n",
        "    'Trekejut': 'Surprise',\n",
        "\n",
        "    # Perbaikan typo untuk Proud\n",
        "    'Bangga': 'Proud',\n",
        "\n",
        "    # Perbaikan typo untuk Anger\n",
        "    'Marah': 'Anger',\n",
        "    'Marh': 'Anger',\n",
        "\n",
        "    # Perbaikan typo untuk Trust\n",
        "    'Percaya': 'Trust',\n",
        "    'Faith': 'Trust',\n",
        "    'Loyalty': 'Trust',\n",
        "\n",
        "    # Perbaikan typo untuk Sadness\n",
        "    'Sad': 'Sadness'\n",
        "}"
      ]
    },
    {
      "cell_type": "code",
      "execution_count": null,
      "metadata": {
        "colab": {
          "base_uri": "https://localhost:8080/"
        },
        "id": "9QlnzaY8ZpG4",
        "outputId": "5f28f7b1-5fe1-46bb-816f-0d963d675573"
      },
      "outputs": [
        {
          "name": "stdout",
          "output_type": "stream",
          "text": [
            "- Mengubah 'Terkjut' menjadi 'Surprise': 3 data\n",
            "- Mengubah 'Terkejut' menjadi 'Surprise': 2 data\n",
            "- Mengubah 'Trkejut' menjadi 'Surprise': 2 data\n",
            "- Mengubah 'terkejut' menjadi 'Surprise': 1 data\n",
            "- Mengubah 'Kaget' menjadi 'Surprise': 1 data\n",
            "- Mengubah 'kaget' menjadi 'Surprise': 1 data\n",
            "- Mengubah 'Trekejut' menjadi 'Surprise': 1 data\n",
            "- Mengubah 'Bangga' menjadi 'Proud': 2 data\n",
            "- Mengubah 'Marah' menjadi 'Anger': 1 data\n",
            "- Mengubah 'Marh' menjadi 'Anger': 1 data\n",
            "- Mengubah 'Percaya' menjadi 'Trust': 1 data\n",
            "- Mengubah 'Faith' menjadi 'Trust': 1 data\n",
            "- Mengubah 'Loyalty' menjadi 'Trust': 1 data\n",
            "- Mengubah 'Sad' menjadi 'Sadness': 1 data\n"
          ]
        }
      ],
      "source": [
        "# Melakukan mapping untuk memperbaiki typo dan translate\n",
        "for old_emotion, new_emotion in emotion_mapping.items():\n",
        "    mask = train_clean['emotion'] == old_emotion\n",
        "    count_changed = mask.sum()\n",
        "    if count_changed > 0:\n",
        "        print(f\"- Mengubah '{old_emotion}' menjadi '{new_emotion}': {count_changed} data\")\n",
        "        train_clean.loc[mask, 'emotion'] = new_emotion"
      ]
    },
    {
      "cell_type": "code",
      "execution_count": null,
      "metadata": {
        "colab": {
          "base_uri": "https://localhost:8080/"
        },
        "id": "giwB8wq-Z5cd",
        "outputId": "8ba32459-e633-4376-f8b1-678944200648"
      },
      "outputs": [
        {
          "name": "stdout",
          "output_type": "stream",
          "text": [
            "Emotion yang valid: ['Proud', 'Trust', 'Joy', 'Surprise', 'Neutral', 'Sadness', 'Fear', 'Anger']\n",
            "\n",
            "Emotion yang akan dihapus:\n",
            "- Love: 1 data\n"
          ]
        }
      ],
      "source": [
        "# Daftar emotion yang valid\n",
        "valid_emotions = ['Proud', 'Trust', 'Joy', 'Surprise', 'Neutral', 'Sadness', 'Fear', 'Anger']\n",
        "\n",
        "print(f\"Emotion yang valid: {valid_emotions}\")\n",
        "\n",
        "# Menampilkan emotion yang akan dihapus\n",
        "invalid_emotions = train_clean[~train_clean['emotion'].isin(valid_emotions)]['emotion'].value_counts()\n",
        "if len(invalid_emotions) > 0:\n",
        "    print(f\"\\nEmotion yang akan dihapus:\")\n",
        "    for emotion, count in invalid_emotions.items():\n",
        "        print(f\"- {emotion}: {count} data\")\n",
        "else:\n",
        "    print(\"\\nTidak ada emotion yang perlu dihapus.\")"
      ]
    },
    {
      "cell_type": "code",
      "execution_count": null,
      "metadata": {
        "colab": {
          "base_uri": "https://localhost:8080/"
        },
        "id": "97h3filFaN-f",
        "outputId": "4b5caaa0-e6d6-4389-da16-c15680a54ee4"
      },
      "outputs": [
        {
          "name": "stdout",
          "output_type": "stream",
          "text": [
            "\n",
            "Jumlah baris sebelum filtering: 803\n",
            "Jumlah baris setelah filtering: 802\n",
            "Jumlah baris yang dihapus: 1\n"
          ]
        }
      ],
      "source": [
        "# Filter hanya data dengan emotion yang valid\n",
        "rows_before = len(train_clean)\n",
        "train_clean = train_clean[train_clean['emotion'].isin(valid_emotions)]\n",
        "rows_after = len(train_clean)\n",
        "rows_removed = rows_before - rows_after\n",
        "\n",
        "print(f\"\\nJumlah baris sebelum filtering: {rows_before}\")\n",
        "print(f\"Jumlah baris setelah filtering: {rows_after}\")\n",
        "print(f\"Jumlah baris yang dihapus: {rows_removed}\")"
      ]
    },
    {
      "cell_type": "markdown",
      "metadata": {
        "id": "T84BvruaaqEG"
      },
      "source": [
        "## Hasil cleaning"
      ]
    },
    {
      "cell_type": "code",
      "execution_count": null,
      "metadata": {
        "colab": {
          "base_uri": "https://localhost:8080/"
        },
        "id": "bxJxRmw5ajrA",
        "outputId": "83e72e89-9ac9-45bd-ef8c-e5bf635f9998"
      },
      "outputs": [
        {
          "name": "stdout",
          "output_type": "stream",
          "text": [
            "Distribusi emotion setelah cleaning:\n",
            "emotion\n",
            "Surprise    331\n",
            "Trust       184\n",
            "Proud       156\n",
            "Joy          53\n",
            "Anger        36\n",
            "Sadness      18\n",
            "Fear         16\n",
            "Neutral       8\n",
            "Name: count, dtype: int64\n"
          ]
        }
      ],
      "source": [
        "print(\"Distribusi emotion setelah cleaning:\")\n",
        "emotion_counts = train_clean['emotion'].value_counts()\n",
        "print(emotion_counts)"
      ]
    },
    {
      "cell_type": "code",
      "execution_count": null,
      "metadata": {
        "id": "VU7R8Qgmasbi"
      },
      "outputs": [],
      "source": [
        "# Rename kolom video menjadi path sesuai permintaan mas rival\n",
        "train_final = train_clean.rename(columns={'video': 'path'})"
      ]
    },
    {
      "cell_type": "code",
      "execution_count": null,
      "metadata": {
        "colab": {
          "base_uri": "https://localhost:8080/"
        },
        "id": "4jWC_UdXa0T1",
        "outputId": "e81913bf-0097-422f-eeab-e92d762c2dbc"
      },
      "outputs": [
        {
          "name": "stdout",
          "output_type": "stream",
          "text": [
            "Sample data setelah cleaning:\n",
            "   id                                               path   emotion\n",
            "0   1  https://www.instagram.com/reel/DNKcHgdA-d1/?ig...  Surprise\n",
            "1   2  https://www.instagram.com/reel/DNHwrh2gnBm/?ig...  Surprise\n",
            "2   3  https://www.instagram.com/reel/DM7QsjnRCoa/?ig...  Surprise\n",
            "3   4  https://www.instagram.com/reel/DNBBEt6Paxj/?ig...  Surprise\n",
            "4   5  https://www.instagram.com/reel/DMz13fQzZsN/?ig...     Proud\n",
            "\n",
            "Info data final:\n",
            "<class 'pandas.core.frame.DataFrame'>\n",
            "Index: 802 entries, 0 to 802\n",
            "Data columns (total 3 columns):\n",
            " #   Column   Non-Null Count  Dtype \n",
            "---  ------   --------------  ----- \n",
            " 0   id       802 non-null    int64 \n",
            " 1   path     802 non-null    object\n",
            " 2   emotion  802 non-null    object\n",
            "dtypes: int64(1), object(2)\n",
            "memory usage: 25.1+ KB\n",
            "None\n"
          ]
        }
      ],
      "source": [
        "# Menampilkan sample data final\n",
        "print(f\"Sample data setelah cleaning:\")\n",
        "print(train_final.head())\n",
        "\n",
        "print(f\"\\nInfo data final:\")\n",
        "print(train_final.info())"
      ]
    },
    {
      "cell_type": "code",
      "execution_count": null,
      "metadata": {
        "id": "bHEO0_5YbQvz"
      },
      "outputs": [],
      "source": [
        "output_path = 'train/train_clean.csv'\n",
        "train_final.to_csv(output_path, index=False)"
      ]
    }
  ],
  "metadata": {
    "colab": {
      "provenance": []
    },
    "kernelspec": {
      "display_name": "Python 3",
      "name": "python3"
    },
    "language_info": {
      "name": "python"
    }
  },
  "nbformat": 4,
  "nbformat_minor": 0
}

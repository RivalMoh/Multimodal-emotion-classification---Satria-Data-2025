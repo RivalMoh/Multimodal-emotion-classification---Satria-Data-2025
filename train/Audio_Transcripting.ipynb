{
  "cells": [
    {
      "cell_type": "code",
      "execution_count": null,
      "metadata": {
        "id": "dltRAol3plsG"
      },
      "outputs": [],
      "source": [
        "import os\n",
        "import json\n",
        "import pandas as pd\n",
        "from pathlib import Path\n",
        "import glob\n",
        "from tqdm import tqdm\n",
        "import traceback\n",
        "from datetime import datetime"
      ]
    },
    {
      "cell_type": "code",
      "execution_count": null,
      "metadata": {
        "colab": {
          "base_uri": "https://localhost:8080/"
        },
        "id": "tgeDFw5SjZb4",
        "outputId": "75ed0543-583f-49b4-c2f7-40a727c696c5"
      },
      "outputs": [
        {
          "name": "stdout",
          "output_type": "stream",
          "text": [
            "Installing required packages...\n",
            "Collecting git+https://github.com/openai/whisper.git\n",
            "  Cloning https://github.com/openai/whisper.git to /tmp/pip-req-build-54gzgyu3\n",
            "  Running command git clone --filter=blob:none --quiet https://github.com/openai/whisper.git /tmp/pip-req-build-54gzgyu3\n",
            "  Resolved https://github.com/openai/whisper.git to commit c0d2f624c09dc18e709e37c2ad90c039a4eb72a2\n",
            "  Installing build dependencies ... \u001b[?25l\u001b[?25hdone\n",
            "  Getting requirements to build wheel ... \u001b[?25l\u001b[?25hdone\n",
            "  Preparing metadata (pyproject.toml) ... \u001b[?25l\u001b[?25hdone\n",
            "Requirement already satisfied: more-itertools in /usr/local/lib/python3.12/dist-packages (from openai-whisper==20250625) (10.8.0)\n",
            "Requirement already satisfied: numba in /usr/local/lib/python3.12/dist-packages (from openai-whisper==20250625) (0.60.0)\n",
            "Requirement already satisfied: numpy in /usr/local/lib/python3.12/dist-packages (from openai-whisper==20250625) (2.0.2)\n",
            "Requirement already satisfied: tiktoken in /usr/local/lib/python3.12/dist-packages (from openai-whisper==20250625) (0.11.0)\n",
            "Requirement already satisfied: torch in /usr/local/lib/python3.12/dist-packages (from openai-whisper==20250625) (2.8.0+cu126)\n",
            "Requirement already satisfied: tqdm in /usr/local/lib/python3.12/dist-packages (from openai-whisper==20250625) (4.67.1)\n",
            "Requirement already satisfied: triton>=2 in /usr/local/lib/python3.12/dist-packages (from openai-whisper==20250625) (3.4.0)\n",
            "Requirement already satisfied: setuptools>=40.8.0 in /usr/local/lib/python3.12/dist-packages (from triton>=2->openai-whisper==20250625) (75.2.0)\n",
            "Requirement already satisfied: llvmlite<0.44,>=0.43.0dev0 in /usr/local/lib/python3.12/dist-packages (from numba->openai-whisper==20250625) (0.43.0)\n",
            "Requirement already satisfied: regex>=2022.1.18 in /usr/local/lib/python3.12/dist-packages (from tiktoken->openai-whisper==20250625) (2024.11.6)\n",
            "Requirement already satisfied: requests>=2.26.0 in /usr/local/lib/python3.12/dist-packages (from tiktoken->openai-whisper==20250625) (2.32.4)\n",
            "Requirement already satisfied: filelock in /usr/local/lib/python3.12/dist-packages (from torch->openai-whisper==20250625) (3.19.1)\n",
            "Requirement already satisfied: typing-extensions>=4.10.0 in /usr/local/lib/python3.12/dist-packages (from torch->openai-whisper==20250625) (4.15.0)\n",
            "Requirement already satisfied: sympy>=1.13.3 in /usr/local/lib/python3.12/dist-packages (from torch->openai-whisper==20250625) (1.13.3)\n",
            "Requirement already satisfied: networkx in /usr/local/lib/python3.12/dist-packages (from torch->openai-whisper==20250625) (3.5)\n",
            "Requirement already satisfied: jinja2 in /usr/local/lib/python3.12/dist-packages (from torch->openai-whisper==20250625) (3.1.6)\n",
            "Requirement already satisfied: fsspec in /usr/local/lib/python3.12/dist-packages (from torch->openai-whisper==20250625) (2025.3.0)\n",
            "Requirement already satisfied: nvidia-cuda-nvrtc-cu12==12.6.77 in /usr/local/lib/python3.12/dist-packages (from torch->openai-whisper==20250625) (12.6.77)\n",
            "Requirement already satisfied: nvidia-cuda-runtime-cu12==12.6.77 in /usr/local/lib/python3.12/dist-packages (from torch->openai-whisper==20250625) (12.6.77)\n",
            "Requirement already satisfied: nvidia-cuda-cupti-cu12==12.6.80 in /usr/local/lib/python3.12/dist-packages (from torch->openai-whisper==20250625) (12.6.80)\n",
            "Requirement already satisfied: nvidia-cudnn-cu12==9.10.2.21 in /usr/local/lib/python3.12/dist-packages (from torch->openai-whisper==20250625) (9.10.2.21)\n",
            "Requirement already satisfied: nvidia-cublas-cu12==12.6.4.1 in /usr/local/lib/python3.12/dist-packages (from torch->openai-whisper==20250625) (12.6.4.1)\n",
            "Requirement already satisfied: nvidia-cufft-cu12==11.3.0.4 in /usr/local/lib/python3.12/dist-packages (from torch->openai-whisper==20250625) (11.3.0.4)\n",
            "Requirement already satisfied: nvidia-curand-cu12==10.3.7.77 in /usr/local/lib/python3.12/dist-packages (from torch->openai-whisper==20250625) (10.3.7.77)\n",
            "Requirement already satisfied: nvidia-cusolver-cu12==11.7.1.2 in /usr/local/lib/python3.12/dist-packages (from torch->openai-whisper==20250625) (11.7.1.2)\n",
            "Requirement already satisfied: nvidia-cusparse-cu12==12.5.4.2 in /usr/local/lib/python3.12/dist-packages (from torch->openai-whisper==20250625) (12.5.4.2)\n",
            "Requirement already satisfied: nvidia-cusparselt-cu12==0.7.1 in /usr/local/lib/python3.12/dist-packages (from torch->openai-whisper==20250625) (0.7.1)\n",
            "Requirement already satisfied: nvidia-nccl-cu12==2.27.3 in /usr/local/lib/python3.12/dist-packages (from torch->openai-whisper==20250625) (2.27.3)\n",
            "Requirement already satisfied: nvidia-nvtx-cu12==12.6.77 in /usr/local/lib/python3.12/dist-packages (from torch->openai-whisper==20250625) (12.6.77)\n",
            "Requirement already satisfied: nvidia-nvjitlink-cu12==12.6.85 in /usr/local/lib/python3.12/dist-packages (from torch->openai-whisper==20250625) (12.6.85)\n",
            "Requirement already satisfied: nvidia-cufile-cu12==1.11.1.6 in /usr/local/lib/python3.12/dist-packages (from torch->openai-whisper==20250625) (1.11.1.6)\n",
            "Requirement already satisfied: charset_normalizer<4,>=2 in /usr/local/lib/python3.12/dist-packages (from requests>=2.26.0->tiktoken->openai-whisper==20250625) (3.4.3)\n",
            "Requirement already satisfied: idna<4,>=2.5 in /usr/local/lib/python3.12/dist-packages (from requests>=2.26.0->tiktoken->openai-whisper==20250625) (3.10)\n",
            "Requirement already satisfied: urllib3<3,>=1.21.1 in /usr/local/lib/python3.12/dist-packages (from requests>=2.26.0->tiktoken->openai-whisper==20250625) (2.5.0)\n",
            "Requirement already satisfied: certifi>=2017.4.17 in /usr/local/lib/python3.12/dist-packages (from requests>=2.26.0->tiktoken->openai-whisper==20250625) (2025.8.3)\n",
            "Requirement already satisfied: mpmath<1.4,>=1.1.0 in /usr/local/lib/python3.12/dist-packages (from sympy>=1.13.3->torch->openai-whisper==20250625) (1.3.0)\n",
            "Requirement already satisfied: MarkupSafe>=2.0 in /usr/local/lib/python3.12/dist-packages (from jinja2->torch->openai-whisper==20250625) (3.0.2)\n",
            "Building wheels for collected packages: openai-whisper\n",
            "  Building wheel for openai-whisper (pyproject.toml) ... \u001b[?25l\u001b[?25hdone\n",
            "  Created wheel for openai-whisper: filename=openai_whisper-20250625-py3-none-any.whl size=803979 sha256=f538e34b3482c24e33b05f1523429e36b90de8d001e8c111cb4d74462c69e3c0\n",
            "  Stored in directory: /tmp/pip-ephem-wheel-cache-is9b37rh/wheels/c3/03/25/5e0ba78bc27a3a089f137c9f1d92fdfce16d06996c071a016c\n",
            "Successfully built openai-whisper\n",
            "Installing collected packages: openai-whisper\n",
            "Successfully installed openai-whisper-20250625\n",
            "Hit:1 https://cli.github.com/packages stable InRelease\n",
            "Get:2 https://cloud.r-project.org/bin/linux/ubuntu jammy-cran40/ InRelease [3,632 B]\n",
            "Get:3 https://developer.download.nvidia.com/compute/cuda/repos/ubuntu2204/x86_64  InRelease [1,581 B]\n",
            "Get:4 https://cloud.r-project.org/bin/linux/ubuntu jammy-cran40/ Packages [80.4 kB]\n",
            "Get:5 https://r2u.stat.illinois.edu/ubuntu jammy InRelease [6,555 B]\n",
            "Get:6 https://developer.download.nvidia.com/compute/cuda/repos/ubuntu2204/x86_64  Packages [1,966 kB]\n",
            "Get:7 https://r2u.stat.illinois.edu/ubuntu jammy/main amd64 Packages [2,791 kB]\n",
            "Hit:8 https://ppa.launchpadcontent.net/deadsnakes/ppa/ubuntu jammy InRelease\n",
            "Hit:9 https://ppa.launchpadcontent.net/graphics-drivers/ppa/ubuntu jammy InRelease\n",
            "Get:10 https://r2u.stat.illinois.edu/ubuntu jammy/main all Packages [9,242 kB]\n",
            "Hit:11 https://ppa.launchpadcontent.net/ubuntugis/ppa/ubuntu jammy InRelease\n",
            "Hit:12 http://archive.ubuntu.com/ubuntu jammy InRelease\n",
            "Get:13 http://archive.ubuntu.com/ubuntu jammy-updates InRelease [128 kB]\n",
            "Get:14 http://archive.ubuntu.com/ubuntu jammy-backports InRelease [127 kB]\n",
            "Get:15 http://archive.ubuntu.com/ubuntu jammy-updates/main amd64 Packages [3,623 kB]\n",
            "Get:16 http://archive.ubuntu.com/ubuntu jammy-updates/universe amd64 Packages [1,580 kB]\n",
            "Ign:17 http://security.ubuntu.com/ubuntu jammy-security InRelease\n",
            "Ign:17 http://security.ubuntu.com/ubuntu jammy-security InRelease\n",
            "Ign:17 http://security.ubuntu.com/ubuntu jammy-security InRelease\n",
            "Err:17 http://security.ubuntu.com/ubuntu jammy-security InRelease\n",
            "  Could not connect to security.ubuntu.com:80 (91.189.91.81), connection timed out Could not connect to security.ubuntu.com:80 (91.189.91.82), connection timed out Could not connect to security.ubuntu.com:80 (185.125.190.82), connection timed out Could not connect to security.ubuntu.com:80 (185.125.190.81), connection timed out Could not connect to security.ubuntu.com:80 (91.189.91.83), connection timed out Could not connect to security.ubuntu.com:80 (185.125.190.83), connection timed out\n",
            "Fetched 19.5 MB in 39s (507 kB/s)\n",
            "Reading package lists... Done\n",
            "Building dependency tree... Done\n",
            "Reading state information... Done\n",
            "40 packages can be upgraded. Run 'apt list --upgradable' to see them.\n",
            "\u001b[1;33mW: \u001b[0mSkipping acquire of configured file 'main/source/Sources' as repository 'https://r2u.stat.illinois.edu/ubuntu jammy InRelease' does not seem to provide it (sources.list entry misspelt?)\u001b[0m\n",
            "\u001b[1;33mW: \u001b[0mFailed to fetch http://security.ubuntu.com/ubuntu/dists/jammy-security/InRelease  Could not connect to security.ubuntu.com:80 (91.189.91.81), connection timed out Could not connect to security.ubuntu.com:80 (91.189.91.82), connection timed out Could not connect to security.ubuntu.com:80 (185.125.190.82), connection timed out Could not connect to security.ubuntu.com:80 (185.125.190.81), connection timed out Could not connect to security.ubuntu.com:80 (91.189.91.83), connection timed out Could not connect to security.ubuntu.com:80 (185.125.190.83), connection timed out\u001b[0m\n",
            "\u001b[1;33mW: \u001b[0mSome index files failed to download. They have been ignored, or old ones used instead.\u001b[0m\n",
            "Reading package lists... Done\n",
            "Building dependency tree... Done\n",
            "Reading state information... Done\n",
            "ffmpeg is already the newest version (7:4.4.2-0ubuntu0.22.04.1).\n",
            "0 upgraded, 0 newly installed, 0 to remove and 40 not upgraded.\n",
            "Requirement already satisfied: torch in /usr/local/lib/python3.12/dist-packages (2.8.0+cu126)\n",
            "Requirement already satisfied: tqdm in /usr/local/lib/python3.12/dist-packages (4.67.1)\n",
            "Requirement already satisfied: filelock in /usr/local/lib/python3.12/dist-packages (from torch) (3.19.1)\n",
            "Requirement already satisfied: typing-extensions>=4.10.0 in /usr/local/lib/python3.12/dist-packages (from torch) (4.15.0)\n",
            "Requirement already satisfied: setuptools in /usr/local/lib/python3.12/dist-packages (from torch) (75.2.0)\n",
            "Requirement already satisfied: sympy>=1.13.3 in /usr/local/lib/python3.12/dist-packages (from torch) (1.13.3)\n",
            "Requirement already satisfied: networkx in /usr/local/lib/python3.12/dist-packages (from torch) (3.5)\n",
            "Requirement already satisfied: jinja2 in /usr/local/lib/python3.12/dist-packages (from torch) (3.1.6)\n",
            "Requirement already satisfied: fsspec in /usr/local/lib/python3.12/dist-packages (from torch) (2025.3.0)\n",
            "Requirement already satisfied: nvidia-cuda-nvrtc-cu12==12.6.77 in /usr/local/lib/python3.12/dist-packages (from torch) (12.6.77)\n",
            "Requirement already satisfied: nvidia-cuda-runtime-cu12==12.6.77 in /usr/local/lib/python3.12/dist-packages (from torch) (12.6.77)\n",
            "Requirement already satisfied: nvidia-cuda-cupti-cu12==12.6.80 in /usr/local/lib/python3.12/dist-packages (from torch) (12.6.80)\n",
            "Requirement already satisfied: nvidia-cudnn-cu12==9.10.2.21 in /usr/local/lib/python3.12/dist-packages (from torch) (9.10.2.21)\n",
            "Requirement already satisfied: nvidia-cublas-cu12==12.6.4.1 in /usr/local/lib/python3.12/dist-packages (from torch) (12.6.4.1)\n",
            "Requirement already satisfied: nvidia-cufft-cu12==11.3.0.4 in /usr/local/lib/python3.12/dist-packages (from torch) (11.3.0.4)\n",
            "Requirement already satisfied: nvidia-curand-cu12==10.3.7.77 in /usr/local/lib/python3.12/dist-packages (from torch) (10.3.7.77)\n",
            "Requirement already satisfied: nvidia-cusolver-cu12==11.7.1.2 in /usr/local/lib/python3.12/dist-packages (from torch) (11.7.1.2)\n",
            "Requirement already satisfied: nvidia-cusparse-cu12==12.5.4.2 in /usr/local/lib/python3.12/dist-packages (from torch) (12.5.4.2)\n",
            "Requirement already satisfied: nvidia-cusparselt-cu12==0.7.1 in /usr/local/lib/python3.12/dist-packages (from torch) (0.7.1)\n",
            "Requirement already satisfied: nvidia-nccl-cu12==2.27.3 in /usr/local/lib/python3.12/dist-packages (from torch) (2.27.3)\n",
            "Requirement already satisfied: nvidia-nvtx-cu12==12.6.77 in /usr/local/lib/python3.12/dist-packages (from torch) (12.6.77)\n",
            "Requirement already satisfied: nvidia-nvjitlink-cu12==12.6.85 in /usr/local/lib/python3.12/dist-packages (from torch) (12.6.85)\n",
            "Requirement already satisfied: nvidia-cufile-cu12==1.11.1.6 in /usr/local/lib/python3.12/dist-packages (from torch) (1.11.1.6)\n",
            "Requirement already satisfied: triton==3.4.0 in /usr/local/lib/python3.12/dist-packages (from torch) (3.4.0)\n",
            "Requirement already satisfied: mpmath<1.4,>=1.1.0 in /usr/local/lib/python3.12/dist-packages (from sympy>=1.13.3->torch) (1.3.0)\n",
            "Requirement already satisfied: MarkupSafe>=2.0 in /usr/local/lib/python3.12/dist-packages (from jinja2->torch) (3.0.2)\n"
          ]
        }
      ],
      "source": [
        "# Install required packages\n",
        "print(\"Installing required packages...\")\n",
        "!pip install git+https://github.com/openai/whisper.git\n",
        "!sudo apt update && sudo apt install ffmpeg\n",
        "!pip install torch tqdm"
      ]
    },
    {
      "cell_type": "code",
      "execution_count": null,
      "metadata": {
        "id": "gxQJkD7qjbBp"
      },
      "outputs": [],
      "source": [
        "# Import whisper after installation\n",
        "import whisper"
      ]
    },
    {
      "cell_type": "code",
      "execution_count": null,
      "metadata": {
        "id": "I1-QH86mjePj"
      },
      "outputs": [],
      "source": [
        "# Configuration\n",
        "AUDIO_DIR = \"preprocess/audio\"\n",
        "TRANSCRIPT_DIR = \"preprocess/transcripts\"\n",
        "CSV_OUTPUT_PATH = \"train/transcription_manifest.csv\"\n",
        "ERROR_LOG_PATH = \"transcription_errors.log\""
      ]
    },
    {
      "cell_type": "code",
      "execution_count": null,
      "metadata": {
        "colab": {
          "base_uri": "https://localhost:8080/"
        },
        "id": "1cqBmO_xjjr3",
        "outputId": "2b60dea1-9738-42c4-ec62-da466f313f20"
      },
      "outputs": [
        {
          "name": "stdout",
          "output_type": "stream",
          "text": [
            "Audio directory: /content/drive/MyDrive/Satria_Data/train/preprocess/audio\n",
            "Transcript directory: /content/drive/MyDrive/Satria_Data/train/preprocess/transcripts\n",
            "CSV output: /content/drive/MyDrive/Satria_Data/train/transcription_manifest.csv\n"
          ]
        }
      ],
      "source": [
        "# Create output directory if it doesn't exist\n",
        "os.makedirs(TRANSCRIPT_DIR, exist_ok=True)\n",
        "\n",
        "print(f\"Audio directory: {AUDIO_DIR}\")\n",
        "print(f\"Transcript directory: {TRANSCRIPT_DIR}\")\n",
        "print(f\"CSV output: {CSV_OUTPUT_PATH}\")"
      ]
    },
    {
      "cell_type": "code",
      "execution_count": null,
      "metadata": {
        "colab": {
          "base_uri": "https://localhost:8080/"
        },
        "id": "uLEQ5JAqj0Da",
        "outputId": "59304c3e-3771-4015-b86d-d90270ef6150"
      },
      "outputs": [
        {
          "name": "stdout",
          "output_type": "stream",
          "text": [
            "Loading Whisper model...\n"
          ]
        },
        {
          "name": "stderr",
          "output_type": "stream",
          "text": [
            "100%|██████████████████████████████████████| 2.88G/2.88G [00:23<00:00, 134MiB/s]\n"
          ]
        },
        {
          "name": "stdout",
          "output_type": "stream",
          "text": [
            "Whisper model loaded successfully!\n"
          ]
        }
      ],
      "source": [
        "# Load Whisper model (using 'large' for best accuracy)\n",
        "print(\"Loading Whisper model...\")\n",
        "model = whisper.load_model(\"large\")\n",
        "print(\"Whisper model loaded successfully!\")"
      ]
    },
    {
      "cell_type": "code",
      "execution_count": null,
      "metadata": {
        "id": "bqo-62zvjkiO"
      },
      "outputs": [],
      "source": [
        "def extract_id_and_emotion(filename):\n",
        "    \"\"\"\n",
        "    Extract ID and emotion from filename like '1_Surprise.wav'\n",
        "    Returns: (id, emotion) tuple\n",
        "    \"\"\"\n",
        "    # Remove .wav extension\n",
        "    name_without_ext = filename.replace('.wav', '')\n",
        "\n",
        "    # Split by underscore\n",
        "    parts = name_without_ext.split('_', 1)  # Split only on first underscore\n",
        "\n",
        "    if len(parts) == 2:\n",
        "        id_part = parts[0]\n",
        "        emotion_part = parts[1]\n",
        "        return id_part, emotion_part\n",
        "    else:\n",
        "        # Handle edge cases where filename doesn't follow expected pattern\n",
        "        return name_without_ext, \"Unknown\"\n",
        "\n",
        "def transcribe_audio_file(audio_path, output_json_path):\n",
        "    \"\"\"\n",
        "    Transcribe a single audio file using Whisper and save to JSON\n",
        "    Returns: True if successful, False if failed\n",
        "    \"\"\"\n",
        "    try:\n",
        "        # Transcribe with word timestamps\n",
        "        result = model.transcribe(audio_path, word_timestamps=True)\n",
        "\n",
        "        # Save the full result to JSON file\n",
        "        with open(output_json_path, 'w', encoding='utf-8') as f:\n",
        "            json.dump(result, f, indent=4, ensure_ascii=False)\n",
        "\n",
        "        return True\n",
        "    except Exception as e:\n",
        "        return False\n",
        "\n",
        "def log_error(message, error_log_path):\n",
        "    \"\"\"Log error message to file with timestamp\"\"\"\n",
        "    timestamp = datetime.now().strftime(\"%Y-%m-%d %H:%M:%S\")\n",
        "    with open(error_log_path, 'a', encoding='utf-8') as f:\n",
        "        f.write(f\"[{timestamp}] {message}\\n\")"
      ]
    },
    {
      "cell_type": "code",
      "execution_count": null,
      "metadata": {
        "colab": {
          "base_uri": "https://localhost:8080/"
        },
        "id": "9oViNLXZj1fy",
        "outputId": "f30de0dc-4e48-4a92-e269-4f57ba7dc71c"
      },
      "outputs": [
        {
          "name": "stdout",
          "output_type": "stream",
          "text": [
            "Scanning for audio files...\n",
            "Found 745 wav files\n"
          ]
        }
      ],
      "source": [
        "# Get all wav files in the audio directory\n",
        "print(\"Scanning for audio files...\")\n",
        "audio_files = glob.glob(os.path.join(AUDIO_DIR, \"*.wav\"))\n",
        "print(f\"Found {len(audio_files)} wav files\")"
      ]
    },
    {
      "cell_type": "code",
      "execution_count": null,
      "metadata": {
        "id": "NYy8atncj6GU"
      },
      "outputs": [],
      "source": [
        "# Initialize results storage\n",
        "results = []\n",
        "successful_count = 0\n",
        "failed_count = 0"
      ]
    },
    {
      "cell_type": "code",
      "execution_count": null,
      "metadata": {
        "id": "EUz-7sYXj_m9"
      },
      "outputs": [],
      "source": [
        "# Initialize error log\n",
        "with open(ERROR_LOG_PATH, 'w', encoding='utf-8') as f:\n",
        "    f.write(f\"Transcription Error Log - Started at {datetime.now().strftime('%Y-%m-%d %H:%M:%S')}\\n\")\n",
        "    f.write(\"=\"*80 + \"\\n\\n\")"
      ]
    },
    {
      "cell_type": "code",
      "execution_count": null,
      "metadata": {
        "colab": {
          "base_uri": "https://localhost:8080/"
        },
        "id": "jw3JlmOLkHlv",
        "outputId": "448c70bf-8950-4edb-e534-cb34349c64c2"
      },
      "outputs": [
        {
          "name": "stdout",
          "output_type": "stream",
          "text": [
            "Starting transcription process...\n",
            "This may take a while for 803 files...\n"
          ]
        },
        {
          "name": "stderr",
          "output_type": "stream",
          "text": [
            "Transcribing audio files:   0%|          | 1/745 [00:42<8:45:45, 42.40s/it]"
          ]
        },
        {
          "name": "stdout",
          "output_type": "stream",
          "text": [
            "✓ Successfully transcribed: 1_Surprise.wav\n"
          ]
        },
        {
          "name": "stderr",
          "output_type": "stream",
          "text": [
            "\rTranscribing audio files:   0%|          | 2/745 [01:17<7:49:26, 37.91s/it]"
          ]
        },
        {
          "name": "stdout",
          "output_type": "stream",
          "text": [
            "✓ Successfully transcribed: 2_Surprise.wav\n"
          ]
        },
        {
          "name": "stderr",
          "output_type": "stream",
          "text": [
            "\rTranscribing audio files:   0%|          | 3/745 [01:29<5:26:45, 26.42s/it]"
          ]
        },
        {
          "name": "stdout",
          "output_type": "stream",
          "text": [
            "✓ Successfully transcribed: 3_Surprise.wav\n"
          ]
        },
        {
          "name": "stderr",
          "output_type": "stream",
          "text": [
            "\rTranscribing audio files:   1%|          | 4/745 [02:02<5:56:35, 28.87s/it]"
          ]
        },
        {
          "name": "stdout",
          "output_type": "stream",
          "text": [
            "✓ Successfully transcribed: 4_Surprise.wav\n"
          ]
        },
        {
          "name": "stderr",
          "output_type": "stream",
          "text": [
            "\rTranscribing audio files:   1%|          | 5/745 [02:19<5:01:56, 24.48s/it]"
          ]
        },
        {
          "name": "stdout",
          "output_type": "stream",
          "text": [
            "✓ Successfully transcribed: 5_Proud.wav\n"
          ]
        },
        {
          "name": "stderr",
          "output_type": "stream",
          "text": [
            "\rTranscribing audio files:   1%|          | 6/745 [02:42<4:55:21, 23.98s/it]"
          ]
        },
        {
          "name": "stdout",
          "output_type": "stream",
          "text": [
            "✓ Successfully transcribed: 6_Surprise.wav\n"
          ]
        },
        {
          "name": "stderr",
          "output_type": "stream",
          "text": [
            "\rTranscribing audio files:   1%|          | 7/745 [03:00<4:31:25, 22.07s/it]"
          ]
        },
        {
          "name": "stdout",
          "output_type": "stream",
          "text": [
            "✓ Successfully transcribed: 7_Proud.wav\n"
          ]
        },
        {
          "name": "stderr",
          "output_type": "stream",
          "text": [
            "\rTranscribing audio files:   1%|          | 8/745 [03:15<4:02:51, 19.77s/it]"
          ]
        },
        {
          "name": "stdout",
          "output_type": "stream",
          "text": [
            "✓ Successfully transcribed: 8_Proud.wav\n"
          ]
        },
        {
          "name": "stderr",
          "output_type": "stream",
          "text": [
            "\rTranscribing audio files:   1%|          | 9/745 [03:33<3:57:00, 19.32s/it]"
          ]
        },
        {
          "name": "stdout",
          "output_type": "stream",
          "text": [
            "✓ Successfully transcribed: 9_Trust.wav\n"
          ]
        },
        {
          "name": "stderr",
          "output_type": "stream",
          "text": [
            "\rTranscribing audio files:   1%|▏         | 10/745 [04:07<4:52:33, 23.88s/it]"
          ]
        },
        {
          "name": "stdout",
          "output_type": "stream",
          "text": [
            "✓ Successfully transcribed: 10_Surprise.wav\n"
          ]
        },
        {
          "name": "stderr",
          "output_type": "stream",
          "text": [
            "\rTranscribing audio files:   1%|▏         | 11/745 [04:42<5:32:15, 27.16s/it]"
          ]
        },
        {
          "name": "stdout",
          "output_type": "stream",
          "text": [
            "✓ Successfully transcribed: 11_Proud.wav\n"
          ]
        },
        {
          "name": "stderr",
          "output_type": "stream",
          "text": [
            "\rTranscribing audio files:   2%|▏         | 12/745 [05:21<6:18:05, 30.95s/it]"
          ]
        },
        {
          "name": "stdout",
          "output_type": "stream",
          "text": [
            "✓ Successfully transcribed: 12_Trust.wav\n"
          ]
        },
        {
          "name": "stderr",
          "output_type": "stream",
          "text": [
            "\rTranscribing audio files:   2%|▏         | 13/745 [06:03<6:58:24, 34.30s/it]"
          ]
        },
        {
          "name": "stdout",
          "output_type": "stream",
          "text": [
            "✓ Successfully transcribed: 13_Trust.wav\n"
          ]
        },
        {
          "name": "stderr",
          "output_type": "stream",
          "text": [
            "\rTranscribing audio files:   2%|▏         | 14/745 [06:33<6:39:29, 32.79s/it]"
          ]
        },
        {
          "name": "stdout",
          "output_type": "stream",
          "text": [
            "✓ Successfully transcribed: 14_Trust.wav\n"
          ]
        },
        {
          "name": "stderr",
          "output_type": "stream",
          "text": [
            "\rTranscribing audio files:   2%|▏         | 15/745 [06:47<5:32:39, 27.34s/it]"
          ]
        },
        {
          "name": "stdout",
          "output_type": "stream",
          "text": [
            "✓ Successfully transcribed: 15_Surprise.wav\n"
          ]
        },
        {
          "name": "stderr",
          "output_type": "stream",
          "text": [
            "\rTranscribing audio files:   2%|▏         | 16/745 [07:29<6:25:17, 31.71s/it]"
          ]
        },
        {
          "name": "stdout",
          "output_type": "stream",
          "text": [
            "✓ Successfully transcribed: 16_Surprise.wav\n"
          ]
        },
        {
          "name": "stderr",
          "output_type": "stream",
          "text": [
            "\rTranscribing audio files:   2%|▏         | 17/745 [07:44<5:24:12, 26.72s/it]"
          ]
        },
        {
          "name": "stdout",
          "output_type": "stream",
          "text": [
            "✓ Successfully transcribed: 17_Surprise.wav\n"
          ]
        },
        {
          "name": "stderr",
          "output_type": "stream",
          "text": [
            "\rTranscribing audio files:   2%|▏         | 18/745 [08:10<5:20:44, 26.47s/it]"
          ]
        },
        {
          "name": "stdout",
          "output_type": "stream",
          "text": [
            "✓ Successfully transcribed: 18_Sadness.wav\n"
          ]
        },
        {
          "name": "stderr",
          "output_type": "stream",
          "text": [
            "\rTranscribing audio files:   3%|▎         | 19/745 [08:28<4:47:48, 23.79s/it]"
          ]
        },
        {
          "name": "stdout",
          "output_type": "stream",
          "text": [
            "✓ Successfully transcribed: 19_Trust.wav\n"
          ]
        },
        {
          "name": "stderr",
          "output_type": "stream",
          "text": [
            "\rTranscribing audio files:   3%|▎         | 20/745 [09:32<7:15:02, 36.00s/it]"
          ]
        },
        {
          "name": "stdout",
          "output_type": "stream",
          "text": [
            "✓ Successfully transcribed: 20_Surprise.wav\n"
          ]
        },
        {
          "name": "stderr",
          "output_type": "stream",
          "text": [
            "\rTranscribing audio files:   3%|▎         | 21/745 [10:02<6:52:22, 34.18s/it]"
          ]
        },
        {
          "name": "stdout",
          "output_type": "stream",
          "text": [
            "✓ Successfully transcribed: 21_Surprise.wav\n"
          ]
        },
        {
          "name": "stderr",
          "output_type": "stream",
          "text": [
            "\rTranscribing audio files:   3%|▎         | 22/745 [10:10<5:18:14, 26.41s/it]"
          ]
        },
        {
          "name": "stdout",
          "output_type": "stream",
          "text": [
            "✓ Successfully transcribed: 22_Surprise.wav\n"
          ]
        },
        {
          "name": "stderr",
          "output_type": "stream",
          "text": [
            "\rTranscribing audio files:   3%|▎         | 23/745 [10:38<5:23:03, 26.85s/it]"
          ]
        },
        {
          "name": "stdout",
          "output_type": "stream",
          "text": [
            "✓ Successfully transcribed: 23_Surprise.wav\n"
          ]
        },
        {
          "name": "stderr",
          "output_type": "stream",
          "text": [
            "\rTranscribing audio files:   3%|▎         | 24/745 [10:57<4:51:27, 24.25s/it]"
          ]
        },
        {
          "name": "stdout",
          "output_type": "stream",
          "text": [
            "✓ Successfully transcribed: 24_Surprise.wav\n"
          ]
        },
        {
          "name": "stderr",
          "output_type": "stream",
          "text": [
            "\rTranscribing audio files:   3%|▎         | 25/745 [11:06<3:58:23, 19.87s/it]"
          ]
        },
        {
          "name": "stdout",
          "output_type": "stream",
          "text": [
            "✓ Successfully transcribed: 25_Surprise.wav\n"
          ]
        },
        {
          "name": "stderr",
          "output_type": "stream",
          "text": [
            "\rTranscribing audio files:   3%|▎         | 26/745 [11:41<4:50:13, 24.22s/it]"
          ]
        },
        {
          "name": "stdout",
          "output_type": "stream",
          "text": [
            "✓ Successfully transcribed: 26_Surprise.wav\n"
          ]
        },
        {
          "name": "stderr",
          "output_type": "stream",
          "text": [
            "\rTranscribing audio files:   4%|▎         | 27/745 [11:47<3:47:36, 19.02s/it]"
          ]
        },
        {
          "name": "stdout",
          "output_type": "stream",
          "text": [
            "✓ Successfully transcribed: 27_Surprise.wav\n"
          ]
        },
        {
          "name": "stderr",
          "output_type": "stream",
          "text": [
            "\rTranscribing audio files:   4%|▍         | 28/745 [12:30<5:10:35, 25.99s/it]"
          ]
        },
        {
          "name": "stdout",
          "output_type": "stream",
          "text": [
            "✓ Successfully transcribed: 28_Surprise.wav\n"
          ]
        },
        {
          "name": "stderr",
          "output_type": "stream",
          "text": [
            "\rTranscribing audio files:   4%|▍         | 29/745 [13:07<5:49:38, 29.30s/it]"
          ]
        },
        {
          "name": "stdout",
          "output_type": "stream",
          "text": [
            "✓ Successfully transcribed: 29_Proud.wav\n"
          ]
        },
        {
          "name": "stderr",
          "output_type": "stream",
          "text": [
            "\rTranscribing audio files:   4%|▍         | 30/745 [14:09<7:47:22, 39.22s/it]"
          ]
        },
        {
          "name": "stdout",
          "output_type": "stream",
          "text": [
            "✓ Successfully transcribed: 30_Proud.wav\n"
          ]
        },
        {
          "name": "stderr",
          "output_type": "stream",
          "text": [
            "\rTranscribing audio files:   4%|▍         | 31/745 [15:13<9:14:56, 46.63s/it]"
          ]
        },
        {
          "name": "stdout",
          "output_type": "stream",
          "text": [
            "✓ Successfully transcribed: 31_Surprise.wav\n"
          ]
        },
        {
          "name": "stderr",
          "output_type": "stream",
          "text": [
            "\rTranscribing audio files:   4%|▍         | 32/745 [15:35<7:47:38, 39.35s/it]"
          ]
        },
        {
          "name": "stdout",
          "output_type": "stream",
          "text": [
            "✓ Successfully transcribed: 32_Surprise.wav\n"
          ]
        },
        {
          "name": "stderr",
          "output_type": "stream",
          "text": [
            "\rTranscribing audio files:   4%|▍         | 33/745 [15:51<6:22:20, 32.22s/it]"
          ]
        },
        {
          "name": "stdout",
          "output_type": "stream",
          "text": [
            "✓ Successfully transcribed: 33_Surprise.wav\n"
          ]
        },
        {
          "name": "stderr",
          "output_type": "stream",
          "text": [
            "\rTranscribing audio files:   5%|▍         | 34/745 [16:17<6:00:13, 30.40s/it]"
          ]
        },
        {
          "name": "stdout",
          "output_type": "stream",
          "text": [
            "✓ Successfully transcribed: 34_Joy.wav\n"
          ]
        },
        {
          "name": "stderr",
          "output_type": "stream",
          "text": [
            "\rTranscribing audio files:   5%|▍         | 35/745 [16:44<5:46:09, 29.25s/it]"
          ]
        },
        {
          "name": "stdout",
          "output_type": "stream",
          "text": [
            "✓ Successfully transcribed: 35_Proud.wav\n"
          ]
        },
        {
          "name": "stderr",
          "output_type": "stream",
          "text": [
            "\rTranscribing audio files:   5%|▍         | 36/745 [17:23<6:20:44, 32.22s/it]"
          ]
        },
        {
          "name": "stdout",
          "output_type": "stream",
          "text": [
            "✓ Successfully transcribed: 36_Surprise.wav\n"
          ]
        },
        {
          "name": "stderr",
          "output_type": "stream",
          "text": [
            "\rTranscribing audio files:   5%|▍         | 37/745 [17:54<6:15:50, 31.85s/it]"
          ]
        },
        {
          "name": "stdout",
          "output_type": "stream",
          "text": [
            "✓ Successfully transcribed: 37_Trust.wav\n"
          ]
        },
        {
          "name": "stderr",
          "output_type": "stream",
          "text": [
            "\rTranscribing audio files:   5%|▌         | 38/745 [18:20<5:55:50, 30.20s/it]"
          ]
        },
        {
          "name": "stdout",
          "output_type": "stream",
          "text": [
            "✓ Successfully transcribed: 38_Surprise.wav\n"
          ]
        },
        {
          "name": "stderr",
          "output_type": "stream",
          "text": [
            "\rTranscribing audio files:   5%|▌         | 39/745 [18:50<5:53:35, 30.05s/it]"
          ]
        },
        {
          "name": "stdout",
          "output_type": "stream",
          "text": [
            "✓ Successfully transcribed: 39_Proud.wav\n"
          ]
        },
        {
          "name": "stderr",
          "output_type": "stream",
          "text": [
            "\rTranscribing audio files:   5%|▌         | 40/745 [19:18<5:45:08, 29.37s/it]"
          ]
        },
        {
          "name": "stdout",
          "output_type": "stream",
          "text": [
            "✓ Successfully transcribed: 40_Surprise.wav\n"
          ]
        },
        {
          "name": "stderr",
          "output_type": "stream",
          "text": [
            "\rTranscribing audio files:   6%|▌         | 41/745 [20:15<7:24:16, 37.86s/it]"
          ]
        },
        {
          "name": "stdout",
          "output_type": "stream",
          "text": [
            "✓ Successfully transcribed: 41_Proud.wav\n"
          ]
        },
        {
          "name": "stderr",
          "output_type": "stream",
          "text": [
            "\rTranscribing audio files:   6%|▌         | 42/745 [20:38<6:31:45, 33.44s/it]"
          ]
        },
        {
          "name": "stdout",
          "output_type": "stream",
          "text": [
            "✓ Successfully transcribed: 42_Proud.wav\n"
          ]
        },
        {
          "name": "stderr",
          "output_type": "stream",
          "text": [
            "\rTranscribing audio files:   6%|▌         | 43/745 [22:14<10:08:30, 52.01s/it]"
          ]
        },
        {
          "name": "stdout",
          "output_type": "stream",
          "text": [
            "✓ Successfully transcribed: 43_Anger.wav\n"
          ]
        },
        {
          "name": "stderr",
          "output_type": "stream",
          "text": [
            "\rTranscribing audio files:   6%|▌         | 44/745 [22:45<8:53:18, 45.65s/it] "
          ]
        },
        {
          "name": "stdout",
          "output_type": "stream",
          "text": [
            "✓ Successfully transcribed: 44_Surprise.wav\n"
          ]
        },
        {
          "name": "stderr",
          "output_type": "stream",
          "text": [
            "\rTranscribing audio files:   6%|▌         | 45/745 [22:49<6:26:52, 33.16s/it]"
          ]
        },
        {
          "name": "stdout",
          "output_type": "stream",
          "text": [
            "✓ Successfully transcribed: 45_Joy.wav\n"
          ]
        },
        {
          "name": "stderr",
          "output_type": "stream",
          "text": [
            "\rTranscribing audio files:   6%|▌         | 46/745 [22:54<4:50:45, 24.96s/it]"
          ]
        },
        {
          "name": "stdout",
          "output_type": "stream",
          "text": [
            "✓ Successfully transcribed: 46_Surprise.wav\n"
          ]
        },
        {
          "name": "stderr",
          "output_type": "stream",
          "text": [
            "\rTranscribing audio files:   6%|▋         | 47/745 [23:03<3:52:53, 20.02s/it]"
          ]
        },
        {
          "name": "stdout",
          "output_type": "stream",
          "text": [
            "✓ Successfully transcribed: 47_Surprise.wav\n"
          ]
        },
        {
          "name": "stderr",
          "output_type": "stream",
          "text": [
            "\rTranscribing audio files:   6%|▋         | 48/745 [24:28<7:39:54, 39.59s/it]"
          ]
        },
        {
          "name": "stdout",
          "output_type": "stream",
          "text": [
            "✓ Successfully transcribed: 48_Surprise.wav\n"
          ]
        },
        {
          "name": "stderr",
          "output_type": "stream",
          "text": [
            "\rTranscribing audio files:   7%|▋         | 49/745 [24:36<5:48:46, 30.07s/it]"
          ]
        },
        {
          "name": "stdout",
          "output_type": "stream",
          "text": [
            "✓ Successfully transcribed: 49_Surprise.wav\n"
          ]
        },
        {
          "name": "stderr",
          "output_type": "stream",
          "text": [
            "\rTranscribing audio files:   7%|▋         | 50/745 [25:03<5:35:50, 28.99s/it]"
          ]
        },
        {
          "name": "stdout",
          "output_type": "stream",
          "text": [
            "✓ Successfully transcribed: 50_Joy.wav\n"
          ]
        },
        {
          "name": "stderr",
          "output_type": "stream",
          "text": [
            "\rTranscribing audio files:   7%|▋         | 51/745 [25:46<6:25:22, 33.32s/it]"
          ]
        },
        {
          "name": "stdout",
          "output_type": "stream",
          "text": [
            "✓ Successfully transcribed: 51_Joy.wav\n"
          ]
        },
        {
          "name": "stderr",
          "output_type": "stream",
          "text": [
            "\rTranscribing audio files:   7%|▋         | 52/745 [25:50<4:42:38, 24.47s/it]"
          ]
        },
        {
          "name": "stdout",
          "output_type": "stream",
          "text": [
            "✓ Successfully transcribed: 52_Surprise.wav\n"
          ]
        },
        {
          "name": "stderr",
          "output_type": "stream",
          "text": [
            "\rTranscribing audio files:   7%|▋         | 53/745 [25:58<3:45:49, 19.58s/it]"
          ]
        },
        {
          "name": "stdout",
          "output_type": "stream",
          "text": [
            "✓ Successfully transcribed: 53_Surprise.wav\n"
          ]
        },
        {
          "name": "stderr",
          "output_type": "stream",
          "text": [
            "\rTranscribing audio files:   7%|▋         | 54/745 [26:08<3:13:29, 16.80s/it]"
          ]
        },
        {
          "name": "stdout",
          "output_type": "stream",
          "text": [
            "✓ Successfully transcribed: 54_Joy.wav\n"
          ]
        },
        {
          "name": "stderr",
          "output_type": "stream",
          "text": [
            "\rTranscribing audio files:   7%|▋         | 55/745 [26:18<2:49:08, 14.71s/it]"
          ]
        },
        {
          "name": "stdout",
          "output_type": "stream",
          "text": [
            "✓ Successfully transcribed: 55_Surprise.wav\n"
          ]
        },
        {
          "name": "stderr",
          "output_type": "stream",
          "text": [
            "\rTranscribing audio files:   8%|▊         | 56/745 [26:37<3:03:10, 15.95s/it]"
          ]
        },
        {
          "name": "stdout",
          "output_type": "stream",
          "text": [
            "✓ Successfully transcribed: 56_Joy.wav\n"
          ]
        },
        {
          "name": "stderr",
          "output_type": "stream",
          "text": [
            "\rTranscribing audio files:   8%|▊         | 57/745 [27:02<3:32:38, 18.55s/it]"
          ]
        },
        {
          "name": "stdout",
          "output_type": "stream",
          "text": [
            "✓ Successfully transcribed: 57_Surprise.wav\n"
          ]
        },
        {
          "name": "stderr",
          "output_type": "stream",
          "text": [
            "\rTranscribing audio files:   8%|▊         | 58/745 [27:05<2:39:59, 13.97s/it]"
          ]
        },
        {
          "name": "stdout",
          "output_type": "stream",
          "text": [
            "✓ Successfully transcribed: 58_Surprise.wav\n"
          ]
        },
        {
          "name": "stderr",
          "output_type": "stream",
          "text": [
            "\rTranscribing audio files:   8%|▊         | 59/745 [27:08<2:02:31, 10.72s/it]"
          ]
        },
        {
          "name": "stdout",
          "output_type": "stream",
          "text": [
            "✓ Successfully transcribed: 59_Joy.wav\n"
          ]
        },
        {
          "name": "stderr",
          "output_type": "stream",
          "text": [
            "\rTranscribing audio files:   8%|▊         | 60/745 [27:41<3:20:13, 17.54s/it]"
          ]
        },
        {
          "name": "stdout",
          "output_type": "stream",
          "text": [
            "✓ Successfully transcribed: 60_Surprise.wav\n"
          ]
        },
        {
          "name": "stderr",
          "output_type": "stream",
          "text": [
            "\rTranscribing audio files:   8%|▊         | 61/745 [27:45<2:31:12, 13.26s/it]"
          ]
        },
        {
          "name": "stdout",
          "output_type": "stream",
          "text": [
            "✓ Successfully transcribed: 61_Sadness.wav\n"
          ]
        },
        {
          "name": "stderr",
          "output_type": "stream",
          "text": [
            "\rTranscribing audio files:   8%|▊         | 62/745 [27:50<2:03:51, 10.88s/it]"
          ]
        },
        {
          "name": "stdout",
          "output_type": "stream",
          "text": [
            "✓ Successfully transcribed: 62_Anger.wav\n"
          ]
        },
        {
          "name": "stderr",
          "output_type": "stream",
          "text": [
            "\rTranscribing audio files:   8%|▊         | 63/745 [28:11<2:37:16, 13.84s/it]"
          ]
        },
        {
          "name": "stdout",
          "output_type": "stream",
          "text": [
            "✓ Successfully transcribed: 63_Surprise.wav\n"
          ]
        },
        {
          "name": "stderr",
          "output_type": "stream",
          "text": [
            "\rTranscribing audio files:   9%|▊         | 64/745 [28:25<2:37:10, 13.85s/it]"
          ]
        },
        {
          "name": "stdout",
          "output_type": "stream",
          "text": [
            "✓ Successfully transcribed: 64_Joy.wav\n"
          ]
        },
        {
          "name": "stderr",
          "output_type": "stream",
          "text": [
            "\rTranscribing audio files:   9%|▊         | 65/745 [28:27<1:57:03, 10.33s/it]"
          ]
        },
        {
          "name": "stdout",
          "output_type": "stream",
          "text": [
            "✓ Successfully transcribed: 65_Joy.wav\n"
          ]
        },
        {
          "name": "stderr",
          "output_type": "stream",
          "text": [
            "\rTranscribing audio files:   9%|▉         | 66/745 [28:44<2:20:29, 12.41s/it]"
          ]
        },
        {
          "name": "stdout",
          "output_type": "stream",
          "text": [
            "✓ Successfully transcribed: 66_Joy.wav\n"
          ]
        },
        {
          "name": "stderr",
          "output_type": "stream",
          "text": [
            "\rTranscribing audio files:   9%|▉         | 67/745 [28:48<1:52:53,  9.99s/it]"
          ]
        },
        {
          "name": "stdout",
          "output_type": "stream",
          "text": [
            "✓ Successfully transcribed: 67_Fear.wav\n"
          ]
        },
        {
          "name": "stderr",
          "output_type": "stream",
          "text": [
            "\rTranscribing audio files:   9%|▉         | 68/745 [28:52<1:32:33,  8.20s/it]"
          ]
        },
        {
          "name": "stdout",
          "output_type": "stream",
          "text": [
            "✓ Successfully transcribed: 68_Surprise.wav\n"
          ]
        },
        {
          "name": "stderr",
          "output_type": "stream",
          "text": [
            "\rTranscribing audio files:   9%|▉         | 69/745 [29:04<1:43:41,  9.20s/it]"
          ]
        },
        {
          "name": "stdout",
          "output_type": "stream",
          "text": [
            "✓ Successfully transcribed: 69_Surprise.wav\n"
          ]
        },
        {
          "name": "stderr",
          "output_type": "stream",
          "text": [
            "\rTranscribing audio files:   9%|▉         | 70/745 [29:14<1:48:01,  9.60s/it]"
          ]
        },
        {
          "name": "stdout",
          "output_type": "stream",
          "text": [
            "✓ Successfully transcribed: 70_Joy.wav\n"
          ]
        },
        {
          "name": "stderr",
          "output_type": "stream",
          "text": [
            "\rTranscribing audio files:  10%|▉         | 71/745 [29:22<1:41:10,  9.01s/it]"
          ]
        },
        {
          "name": "stdout",
          "output_type": "stream",
          "text": [
            "✓ Successfully transcribed: 71_Surprise.wav\n"
          ]
        },
        {
          "name": "stderr",
          "output_type": "stream",
          "text": [
            "\rTranscribing audio files:  10%|▉         | 72/745 [29:34<1:51:55,  9.98s/it]"
          ]
        },
        {
          "name": "stdout",
          "output_type": "stream",
          "text": [
            "✓ Successfully transcribed: 72_Surprise.wav\n"
          ]
        },
        {
          "name": "stderr",
          "output_type": "stream",
          "text": [
            "\rTranscribing audio files:  10%|▉         | 73/745 [29:59<2:41:53, 14.45s/it]"
          ]
        },
        {
          "name": "stdout",
          "output_type": "stream",
          "text": [
            "✓ Successfully transcribed: 73_Surprise.wav\n"
          ]
        },
        {
          "name": "stderr",
          "output_type": "stream",
          "text": [
            "\rTranscribing audio files:  10%|▉         | 74/745 [30:07<2:18:29, 12.38s/it]"
          ]
        },
        {
          "name": "stdout",
          "output_type": "stream",
          "text": [
            "✓ Successfully transcribed: 74_Surprise.wav\n"
          ]
        },
        {
          "name": "stderr",
          "output_type": "stream",
          "text": [
            "\rTranscribing audio files:  10%|█         | 75/745 [30:15<2:03:36, 11.07s/it]"
          ]
        },
        {
          "name": "stdout",
          "output_type": "stream",
          "text": [
            "✓ Successfully transcribed: 75_Proud.wav\n"
          ]
        },
        {
          "name": "stderr",
          "output_type": "stream",
          "text": [
            "\rTranscribing audio files:  10%|█         | 76/745 [30:23<1:54:15, 10.25s/it]"
          ]
        },
        {
          "name": "stdout",
          "output_type": "stream",
          "text": [
            "✓ Successfully transcribed: 76_Trust.wav\n"
          ]
        },
        {
          "name": "stderr",
          "output_type": "stream",
          "text": [
            "\rTranscribing audio files:  10%|█         | 77/745 [30:27<1:34:10,  8.46s/it]"
          ]
        },
        {
          "name": "stdout",
          "output_type": "stream",
          "text": [
            "✓ Successfully transcribed: 77_Surprise.wav\n"
          ]
        },
        {
          "name": "stderr",
          "output_type": "stream",
          "text": [
            "\rTranscribing audio files:  10%|█         | 78/745 [30:37<1:37:36,  8.78s/it]"
          ]
        },
        {
          "name": "stdout",
          "output_type": "stream",
          "text": [
            "✓ Successfully transcribed: 78_Proud.wav\n"
          ]
        },
        {
          "name": "stderr",
          "output_type": "stream",
          "text": [
            "\rTranscribing audio files:  11%|█         | 79/745 [30:47<1:42:10,  9.20s/it]"
          ]
        },
        {
          "name": "stdout",
          "output_type": "stream",
          "text": [
            "✓ Successfully transcribed: 79_Neutral.wav\n"
          ]
        },
        {
          "name": "stderr",
          "output_type": "stream",
          "text": [
            "\rTranscribing audio files:  11%|█         | 80/745 [30:57<1:45:53,  9.55s/it]"
          ]
        },
        {
          "name": "stdout",
          "output_type": "stream",
          "text": [
            "✓ Successfully transcribed: 80_Proud.wav\n"
          ]
        },
        {
          "name": "stderr",
          "output_type": "stream",
          "text": [
            "\rTranscribing audio files:  11%|█         | 81/745 [31:13<2:04:53, 11.29s/it]"
          ]
        },
        {
          "name": "stdout",
          "output_type": "stream",
          "text": [
            "✓ Successfully transcribed: 81_Joy.wav\n"
          ]
        },
        {
          "name": "stderr",
          "output_type": "stream",
          "text": [
            "\rTranscribing audio files:  11%|█         | 82/745 [31:24<2:04:33, 11.27s/it]"
          ]
        },
        {
          "name": "stdout",
          "output_type": "stream",
          "text": [
            "✓ Successfully transcribed: 82_Sadness.wav\n"
          ]
        },
        {
          "name": "stderr",
          "output_type": "stream",
          "text": [
            "\rTranscribing audio files:  11%|█         | 83/745 [31:38<2:13:31, 12.10s/it]"
          ]
        },
        {
          "name": "stdout",
          "output_type": "stream",
          "text": [
            "✓ Successfully transcribed: 83_Surprise.wav\n"
          ]
        },
        {
          "name": "stderr",
          "output_type": "stream",
          "text": [
            "\rTranscribing audio files:  11%|█▏        | 84/745 [31:47<2:01:46, 11.05s/it]"
          ]
        },
        {
          "name": "stdout",
          "output_type": "stream",
          "text": [
            "✓ Successfully transcribed: 84_Trust.wav\n"
          ]
        },
        {
          "name": "stderr",
          "output_type": "stream",
          "text": [
            "\rTranscribing audio files:  11%|█▏        | 85/745 [31:55<1:51:01, 10.09s/it]"
          ]
        },
        {
          "name": "stdout",
          "output_type": "stream",
          "text": [
            "✓ Successfully transcribed: 85_Trust.wav\n"
          ]
        },
        {
          "name": "stderr",
          "output_type": "stream",
          "text": [
            "\rTranscribing audio files:  12%|█▏        | 86/745 [32:04<1:48:47,  9.91s/it]"
          ]
        },
        {
          "name": "stdout",
          "output_type": "stream",
          "text": [
            "✓ Successfully transcribed: 86_Trust.wav\n"
          ]
        },
        {
          "name": "stderr",
          "output_type": "stream",
          "text": [
            "\rTranscribing audio files:  12%|█▏        | 87/745 [32:18<2:02:03, 11.13s/it]"
          ]
        },
        {
          "name": "stdout",
          "output_type": "stream",
          "text": [
            "✓ Successfully transcribed: 87_Proud.wav\n"
          ]
        },
        {
          "name": "stderr",
          "output_type": "stream",
          "text": [
            "\rTranscribing audio files:  12%|█▏        | 88/745 [32:31<2:06:52, 11.59s/it]"
          ]
        },
        {
          "name": "stdout",
          "output_type": "stream",
          "text": [
            "✓ Successfully transcribed: 88_Surprise.wav\n"
          ]
        },
        {
          "name": "stderr",
          "output_type": "stream",
          "text": [
            "\rTranscribing audio files:  12%|█▏        | 89/745 [32:38<1:53:59, 10.43s/it]"
          ]
        },
        {
          "name": "stdout",
          "output_type": "stream",
          "text": [
            "✓ Successfully transcribed: 89_Trust.wav\n"
          ]
        },
        {
          "name": "stderr",
          "output_type": "stream",
          "text": [
            "\rTranscribing audio files:  12%|█▏        | 90/745 [32:46<1:44:43,  9.59s/it]"
          ]
        },
        {
          "name": "stdout",
          "output_type": "stream",
          "text": [
            "✓ Successfully transcribed: 90_Fear.wav\n"
          ]
        },
        {
          "name": "stderr",
          "output_type": "stream",
          "text": [
            "\rTranscribing audio files:  12%|█▏        | 91/745 [32:54<1:39:59,  9.17s/it]"
          ]
        },
        {
          "name": "stdout",
          "output_type": "stream",
          "text": [
            "✓ Successfully transcribed: 91_Neutral.wav\n"
          ]
        },
        {
          "name": "stderr",
          "output_type": "stream",
          "text": [
            "\rTranscribing audio files:  12%|█▏        | 92/745 [33:02<1:34:18,  8.67s/it]"
          ]
        },
        {
          "name": "stdout",
          "output_type": "stream",
          "text": [
            "✓ Successfully transcribed: 92_Surprise.wav\n"
          ]
        },
        {
          "name": "stderr",
          "output_type": "stream",
          "text": [
            "\rTranscribing audio files:  12%|█▏        | 93/745 [33:10<1:32:39,  8.53s/it]"
          ]
        },
        {
          "name": "stdout",
          "output_type": "stream",
          "text": [
            "✓ Successfully transcribed: 93_Proud.wav\n"
          ]
        },
        {
          "name": "stderr",
          "output_type": "stream",
          "text": [
            "\rTranscribing audio files:  13%|█▎        | 94/745 [33:18<1:31:12,  8.41s/it]"
          ]
        },
        {
          "name": "stdout",
          "output_type": "stream",
          "text": [
            "✓ Successfully transcribed: 94_Surprise.wav\n"
          ]
        },
        {
          "name": "stderr",
          "output_type": "stream",
          "text": [
            "\rTranscribing audio files:  13%|█▎        | 95/745 [33:26<1:28:40,  8.19s/it]"
          ]
        },
        {
          "name": "stdout",
          "output_type": "stream",
          "text": [
            "✓ Successfully transcribed: 95_Trust.wav\n"
          ]
        },
        {
          "name": "stderr",
          "output_type": "stream",
          "text": [
            "\rTranscribing audio files:  13%|█▎        | 96/745 [33:34<1:29:00,  8.23s/it]"
          ]
        },
        {
          "name": "stdout",
          "output_type": "stream",
          "text": [
            "✓ Successfully transcribed: 96_Proud.wav\n"
          ]
        },
        {
          "name": "stderr",
          "output_type": "stream",
          "text": [
            "\rTranscribing audio files:  13%|█▎        | 97/745 [33:42<1:26:58,  8.05s/it]"
          ]
        },
        {
          "name": "stdout",
          "output_type": "stream",
          "text": [
            "✓ Successfully transcribed: 97_Trust.wav\n"
          ]
        },
        {
          "name": "stderr",
          "output_type": "stream",
          "text": [
            "\rTranscribing audio files:  13%|█▎        | 98/745 [33:49<1:25:36,  7.94s/it]"
          ]
        },
        {
          "name": "stdout",
          "output_type": "stream",
          "text": [
            "✓ Successfully transcribed: 98_Trust.wav\n"
          ]
        },
        {
          "name": "stderr",
          "output_type": "stream",
          "text": [
            "\rTranscribing audio files:  13%|█▎        | 99/745 [33:59<1:32:24,  8.58s/it]"
          ]
        },
        {
          "name": "stdout",
          "output_type": "stream",
          "text": [
            "✓ Successfully transcribed: 99_Trust.wav\n"
          ]
        },
        {
          "name": "stderr",
          "output_type": "stream",
          "text": [
            "\rTranscribing audio files:  13%|█▎        | 100/745 [34:07<1:30:23,  8.41s/it]"
          ]
        },
        {
          "name": "stdout",
          "output_type": "stream",
          "text": [
            "✓ Successfully transcribed: 100_Proud.wav\n"
          ]
        },
        {
          "name": "stderr",
          "output_type": "stream",
          "text": [
            "\rTranscribing audio files:  14%|█▎        | 101/745 [34:15<1:27:47,  8.18s/it]"
          ]
        },
        {
          "name": "stdout",
          "output_type": "stream",
          "text": [
            "✓ Successfully transcribed: 101_Trust.wav\n"
          ]
        },
        {
          "name": "stderr",
          "output_type": "stream",
          "text": [
            "\rTranscribing audio files:  14%|█▎        | 102/745 [34:25<1:34:05,  8.78s/it]"
          ]
        },
        {
          "name": "stdout",
          "output_type": "stream",
          "text": [
            "✓ Successfully transcribed: 102_Surprise.wav\n"
          ]
        },
        {
          "name": "stderr",
          "output_type": "stream",
          "text": [
            "\rTranscribing audio files:  14%|█▍        | 103/745 [34:36<1:41:32,  9.49s/it]"
          ]
        },
        {
          "name": "stdout",
          "output_type": "stream",
          "text": [
            "✓ Successfully transcribed: 103_Surprise.wav\n"
          ]
        },
        {
          "name": "stderr",
          "output_type": "stream",
          "text": [
            "\rTranscribing audio files:  14%|█▍        | 104/745 [34:50<1:55:54, 10.85s/it]"
          ]
        },
        {
          "name": "stdout",
          "output_type": "stream",
          "text": [
            "✓ Successfully transcribed: 104_Sadness.wav\n"
          ]
        },
        {
          "name": "stderr",
          "output_type": "stream",
          "text": [
            "\rTranscribing audio files:  14%|█▍        | 105/745 [38:12<12:05:53, 68.05s/it]"
          ]
        },
        {
          "name": "stdout",
          "output_type": "stream",
          "text": [
            "✓ Successfully transcribed: 105_Proud.wav\n"
          ]
        },
        {
          "name": "stderr",
          "output_type": "stream",
          "text": [
            "\rTranscribing audio files:  14%|█▍        | 106/745 [38:24<9:05:44, 51.24s/it] "
          ]
        },
        {
          "name": "stdout",
          "output_type": "stream",
          "text": [
            "✓ Successfully transcribed: 106_Proud.wav\n"
          ]
        },
        {
          "name": "stderr",
          "output_type": "stream",
          "text": [
            "\rTranscribing audio files:  14%|█▍        | 107/745 [38:28<6:35:36, 37.20s/it]"
          ]
        },
        {
          "name": "stdout",
          "output_type": "stream",
          "text": [
            "✓ Successfully transcribed: 107_Surprise.wav\n"
          ]
        },
        {
          "name": "stderr",
          "output_type": "stream",
          "text": [
            "\rTranscribing audio files:  14%|█▍        | 108/745 [38:39<5:08:59, 29.10s/it]"
          ]
        },
        {
          "name": "stdout",
          "output_type": "stream",
          "text": [
            "✓ Successfully transcribed: 108_Surprise.wav\n"
          ]
        },
        {
          "name": "stderr",
          "output_type": "stream",
          "text": [
            "\rTranscribing audio files:  15%|█▍        | 109/745 [38:46<3:58:46, 22.53s/it]"
          ]
        },
        {
          "name": "stdout",
          "output_type": "stream",
          "text": [
            "✓ Successfully transcribed: 109_Proud.wav\n"
          ]
        },
        {
          "name": "stderr",
          "output_type": "stream",
          "text": [
            "\rTranscribing audio files:  15%|█▍        | 110/745 [39:06<3:50:42, 21.80s/it]"
          ]
        },
        {
          "name": "stdout",
          "output_type": "stream",
          "text": [
            "✓ Successfully transcribed: 110_Trust.wav\n"
          ]
        },
        {
          "name": "stderr",
          "output_type": "stream",
          "text": [
            "\rTranscribing audio files:  15%|█▍        | 111/745 [39:19<3:22:29, 19.16s/it]"
          ]
        },
        {
          "name": "stdout",
          "output_type": "stream",
          "text": [
            "✓ Successfully transcribed: 111_Joy.wav\n"
          ]
        },
        {
          "name": "stderr",
          "output_type": "stream",
          "text": [
            "\rTranscribing audio files:  15%|█▌        | 112/745 [39:25<2:41:59, 15.35s/it]"
          ]
        },
        {
          "name": "stdout",
          "output_type": "stream",
          "text": [
            "✓ Successfully transcribed: 112_Joy.wav\n"
          ]
        },
        {
          "name": "stderr",
          "output_type": "stream",
          "text": [
            "\rTranscribing audio files:  15%|█▌        | 113/745 [39:47<3:00:15, 17.11s/it]"
          ]
        },
        {
          "name": "stdout",
          "output_type": "stream",
          "text": [
            "✓ Successfully transcribed: 113_Anger.wav\n"
          ]
        },
        {
          "name": "stderr",
          "output_type": "stream",
          "text": [
            "\rTranscribing audio files:  15%|█▌        | 114/745 [39:55<2:33:55, 14.64s/it]"
          ]
        },
        {
          "name": "stdout",
          "output_type": "stream",
          "text": [
            "✓ Successfully transcribed: 114_Surprise.wav\n"
          ]
        },
        {
          "name": "stderr",
          "output_type": "stream",
          "text": [
            "\rTranscribing audio files:  15%|█▌        | 115/745 [40:38<4:02:27, 23.09s/it]"
          ]
        },
        {
          "name": "stdout",
          "output_type": "stream",
          "text": [
            "✓ Successfully transcribed: 115_Surprise.wav\n"
          ]
        },
        {
          "name": "stderr",
          "output_type": "stream",
          "text": [
            "\rTranscribing audio files:  16%|█▌        | 116/745 [40:45<3:11:50, 18.30s/it]"
          ]
        },
        {
          "name": "stdout",
          "output_type": "stream",
          "text": [
            "✓ Successfully transcribed: 116_Joy.wav\n"
          ]
        },
        {
          "name": "stderr",
          "output_type": "stream",
          "text": [
            "\rTranscribing audio files:  16%|█▌        | 117/745 [40:53<2:38:46, 15.17s/it]"
          ]
        },
        {
          "name": "stdout",
          "output_type": "stream",
          "text": [
            "✓ Successfully transcribed: 117_Proud.wav\n"
          ]
        },
        {
          "name": "stderr",
          "output_type": "stream",
          "text": [
            "\rTranscribing audio files:  16%|█▌        | 118/745 [41:03<2:20:34, 13.45s/it]"
          ]
        },
        {
          "name": "stdout",
          "output_type": "stream",
          "text": [
            "✓ Successfully transcribed: 118_Proud.wav\n"
          ]
        },
        {
          "name": "stderr",
          "output_type": "stream",
          "text": [
            "\rTranscribing audio files:  16%|█▌        | 119/745 [41:17<2:23:22, 13.74s/it]"
          ]
        },
        {
          "name": "stdout",
          "output_type": "stream",
          "text": [
            "✓ Successfully transcribed: 119_Anger.wav\n"
          ]
        },
        {
          "name": "stderr",
          "output_type": "stream",
          "text": [
            "\rTranscribing audio files:  16%|█▌        | 120/745 [41:25<2:06:08, 12.11s/it]"
          ]
        },
        {
          "name": "stdout",
          "output_type": "stream",
          "text": [
            "✓ Successfully transcribed: 120_Surprise.wav\n"
          ]
        },
        {
          "name": "stderr",
          "output_type": "stream",
          "text": [
            "\rTranscribing audio files:  16%|█▌        | 121/745 [41:32<1:49:45, 10.55s/it]"
          ]
        },
        {
          "name": "stdout",
          "output_type": "stream",
          "text": [
            "✓ Successfully transcribed: 121_Trust.wav\n"
          ]
        },
        {
          "name": "stderr",
          "output_type": "stream",
          "text": [
            "\rTranscribing audio files:  16%|█▋        | 122/745 [41:42<1:46:36, 10.27s/it]"
          ]
        },
        {
          "name": "stdout",
          "output_type": "stream",
          "text": [
            "✓ Successfully transcribed: 122_Joy.wav\n"
          ]
        },
        {
          "name": "stderr",
          "output_type": "stream",
          "text": [
            "\rTranscribing audio files:  17%|█▋        | 123/745 [41:46<1:28:28,  8.53s/it]"
          ]
        },
        {
          "name": "stdout",
          "output_type": "stream",
          "text": [
            "✓ Successfully transcribed: 124_Surprise.wav\n"
          ]
        },
        {
          "name": "stderr",
          "output_type": "stream",
          "text": [
            "\rTranscribing audio files:  17%|█▋        | 124/745 [41:59<1:40:02,  9.67s/it]"
          ]
        },
        {
          "name": "stdout",
          "output_type": "stream",
          "text": [
            "✓ Successfully transcribed: 125_Proud.wav\n"
          ]
        },
        {
          "name": "stderr",
          "output_type": "stream",
          "text": [
            "\rTranscribing audio files:  17%|█▋        | 125/745 [42:16<2:04:39, 12.06s/it]"
          ]
        },
        {
          "name": "stdout",
          "output_type": "stream",
          "text": [
            "✓ Successfully transcribed: 126_Proud.wav\n"
          ]
        },
        {
          "name": "stderr",
          "output_type": "stream",
          "text": [
            "\rTranscribing audio files:  17%|█▋        | 126/745 [42:23<1:46:20, 10.31s/it]"
          ]
        },
        {
          "name": "stdout",
          "output_type": "stream",
          "text": [
            "✓ Successfully transcribed: 127_Proud.wav\n"
          ]
        },
        {
          "name": "stderr",
          "output_type": "stream",
          "text": [
            "\rTranscribing audio files:  17%|█▋        | 127/745 [42:45<2:21:58, 13.78s/it]"
          ]
        },
        {
          "name": "stdout",
          "output_type": "stream",
          "text": [
            "✓ Successfully transcribed: 128_Surprise.wav\n"
          ]
        },
        {
          "name": "stderr",
          "output_type": "stream",
          "text": [
            "\rTranscribing audio files:  17%|█▋        | 128/745 [43:02<2:33:48, 14.96s/it]"
          ]
        },
        {
          "name": "stdout",
          "output_type": "stream",
          "text": [
            "✓ Successfully transcribed: 129_Surprise.wav\n"
          ]
        },
        {
          "name": "stderr",
          "output_type": "stream",
          "text": [
            "\rTranscribing audio files:  17%|█▋        | 129/745 [43:12<2:16:22, 13.28s/it]"
          ]
        },
        {
          "name": "stdout",
          "output_type": "stream",
          "text": [
            "✓ Successfully transcribed: 130_Surprise.wav\n"
          ]
        },
        {
          "name": "stderr",
          "output_type": "stream",
          "text": [
            "\rTranscribing audio files:  17%|█▋        | 130/745 [43:19<1:56:40, 11.38s/it]"
          ]
        },
        {
          "name": "stdout",
          "output_type": "stream",
          "text": [
            "✓ Successfully transcribed: 131_Surprise.wav\n"
          ]
        },
        {
          "name": "stderr",
          "output_type": "stream",
          "text": [
            "\rTranscribing audio files:  18%|█▊        | 131/745 [43:31<1:59:52, 11.71s/it]"
          ]
        },
        {
          "name": "stdout",
          "output_type": "stream",
          "text": [
            "✓ Successfully transcribed: 132_Sadness.wav\n"
          ]
        },
        {
          "name": "stderr",
          "output_type": "stream",
          "text": [
            "\rTranscribing audio files:  18%|█▊        | 132/745 [44:06<3:12:16, 18.82s/it]"
          ]
        },
        {
          "name": "stdout",
          "output_type": "stream",
          "text": [
            "✓ Successfully transcribed: 133_Surprise.wav\n"
          ]
        },
        {
          "name": "stderr",
          "output_type": "stream",
          "text": [
            "\rTranscribing audio files:  18%|█▊        | 133/745 [44:25<3:10:08, 18.64s/it]"
          ]
        },
        {
          "name": "stdout",
          "output_type": "stream",
          "text": [
            "✓ Successfully transcribed: 134_Anger.wav\n"
          ]
        },
        {
          "name": "stderr",
          "output_type": "stream",
          "text": [
            "\rTranscribing audio files:  18%|█▊        | 134/745 [44:29<2:27:23, 14.47s/it]"
          ]
        },
        {
          "name": "stdout",
          "output_type": "stream",
          "text": [
            "✓ Successfully transcribed: 135_Proud.wav\n"
          ]
        },
        {
          "name": "stderr",
          "output_type": "stream",
          "text": [
            "\rTranscribing audio files:  18%|█▊        | 135/745 [44:44<2:27:53, 14.55s/it]"
          ]
        },
        {
          "name": "stdout",
          "output_type": "stream",
          "text": [
            "✓ Successfully transcribed: 136_Anger.wav\n"
          ]
        },
        {
          "name": "stderr",
          "output_type": "stream",
          "text": [
            "\rTranscribing audio files:  18%|█▊        | 136/745 [45:05<2:45:30, 16.31s/it]"
          ]
        },
        {
          "name": "stdout",
          "output_type": "stream",
          "text": [
            "✓ Successfully transcribed: 137_Surprise.wav\n"
          ]
        },
        {
          "name": "stderr",
          "output_type": "stream",
          "text": [
            "\rTranscribing audio files:  18%|█▊        | 137/745 [45:18<2:36:33, 15.45s/it]"
          ]
        },
        {
          "name": "stdout",
          "output_type": "stream",
          "text": [
            "✓ Successfully transcribed: 138_Proud.wav\n"
          ]
        },
        {
          "name": "stderr",
          "output_type": "stream",
          "text": [
            "\rTranscribing audio files:  19%|█▊        | 138/745 [45:31<2:27:55, 14.62s/it]"
          ]
        },
        {
          "name": "stdout",
          "output_type": "stream",
          "text": [
            "✓ Successfully transcribed: 139_Surprise.wav\n"
          ]
        },
        {
          "name": "stderr",
          "output_type": "stream",
          "text": [
            "\rTranscribing audio files:  19%|█▊        | 139/745 [46:07<3:34:16, 21.22s/it]"
          ]
        },
        {
          "name": "stdout",
          "output_type": "stream",
          "text": [
            "✓ Successfully transcribed: 140_Surprise.wav\n"
          ]
        },
        {
          "name": "stderr",
          "output_type": "stream",
          "text": [
            "\rTranscribing audio files:  19%|█▉        | 140/745 [46:26<3:27:54, 20.62s/it]"
          ]
        },
        {
          "name": "stdout",
          "output_type": "stream",
          "text": [
            "✓ Successfully transcribed: 141_Surprise.wav\n"
          ]
        },
        {
          "name": "stderr",
          "output_type": "stream",
          "text": [
            "\rTranscribing audio files:  19%|█▉        | 141/745 [46:44<3:17:34, 19.63s/it]"
          ]
        },
        {
          "name": "stdout",
          "output_type": "stream",
          "text": [
            "✓ Successfully transcribed: 142_Surprise.wav\n"
          ]
        },
        {
          "name": "stderr",
          "output_type": "stream",
          "text": [
            "\rTranscribing audio files:  19%|█▉        | 142/745 [47:08<3:30:56, 20.99s/it]"
          ]
        },
        {
          "name": "stdout",
          "output_type": "stream",
          "text": [
            "✓ Successfully transcribed: 143_Surprise.wav\n"
          ]
        },
        {
          "name": "stderr",
          "output_type": "stream",
          "text": [
            "\rTranscribing audio files:  19%|█▉        | 143/745 [47:20<3:02:43, 18.21s/it]"
          ]
        },
        {
          "name": "stdout",
          "output_type": "stream",
          "text": [
            "✓ Successfully transcribed: 144_Surprise.wav\n"
          ]
        },
        {
          "name": "stderr",
          "output_type": "stream",
          "text": [
            "\rTranscribing audio files:  19%|█▉        | 144/745 [47:44<3:21:27, 20.11s/it]"
          ]
        },
        {
          "name": "stdout",
          "output_type": "stream",
          "text": [
            "✓ Successfully transcribed: 145_Sadness.wav\n"
          ]
        },
        {
          "name": "stderr",
          "output_type": "stream",
          "text": [
            "\rTranscribing audio files:  19%|█▉        | 145/745 [48:02<3:13:32, 19.35s/it]"
          ]
        },
        {
          "name": "stdout",
          "output_type": "stream",
          "text": [
            "✓ Successfully transcribed: 146_Surprise.wav\n"
          ]
        },
        {
          "name": "stderr",
          "output_type": "stream",
          "text": [
            "\rTranscribing audio files:  20%|█▉        | 146/745 [48:22<3:15:07, 19.55s/it]"
          ]
        },
        {
          "name": "stdout",
          "output_type": "stream",
          "text": [
            "✓ Successfully transcribed: 147_Surprise.wav\n"
          ]
        },
        {
          "name": "stderr",
          "output_type": "stream",
          "text": [
            "\rTranscribing audio files:  20%|█▉        | 147/745 [48:38<3:06:01, 18.67s/it]"
          ]
        },
        {
          "name": "stdout",
          "output_type": "stream",
          "text": [
            "✓ Successfully transcribed: 148_Trust.wav\n"
          ]
        },
        {
          "name": "stderr",
          "output_type": "stream",
          "text": [
            "\rTranscribing audio files:  20%|█▉        | 148/745 [48:54<2:57:13, 17.81s/it]"
          ]
        },
        {
          "name": "stdout",
          "output_type": "stream",
          "text": [
            "✓ Successfully transcribed: 149_Surprise.wav\n"
          ]
        },
        {
          "name": "stderr",
          "output_type": "stream",
          "text": [
            "\rTranscribing audio files:  20%|██        | 149/745 [49:17<3:11:02, 19.23s/it]"
          ]
        },
        {
          "name": "stdout",
          "output_type": "stream",
          "text": [
            "✓ Successfully transcribed: 150_Trust.wav\n"
          ]
        },
        {
          "name": "stderr",
          "output_type": "stream",
          "text": [
            "\rTranscribing audio files:  20%|██        | 150/745 [49:40<3:22:52, 20.46s/it]"
          ]
        },
        {
          "name": "stdout",
          "output_type": "stream",
          "text": [
            "✓ Successfully transcribed: 151_Proud.wav\n"
          ]
        },
        {
          "name": "stderr",
          "output_type": "stream",
          "text": [
            "\rTranscribing audio files:  20%|██        | 151/745 [49:54<3:02:35, 18.44s/it]"
          ]
        },
        {
          "name": "stdout",
          "output_type": "stream",
          "text": [
            "✓ Successfully transcribed: 152_Trust.wav\n"
          ]
        },
        {
          "name": "stderr",
          "output_type": "stream",
          "text": [
            "\rTranscribing audio files:  20%|██        | 152/745 [50:12<3:01:42, 18.39s/it]"
          ]
        },
        {
          "name": "stdout",
          "output_type": "stream",
          "text": [
            "✓ Successfully transcribed: 153_Surprise.wav\n"
          ]
        },
        {
          "name": "stderr",
          "output_type": "stream",
          "text": [
            "\rTranscribing audio files:  21%|██        | 153/745 [50:27<2:50:26, 17.27s/it]"
          ]
        },
        {
          "name": "stdout",
          "output_type": "stream",
          "text": [
            "✓ Successfully transcribed: 154_Trust.wav\n"
          ]
        },
        {
          "name": "stderr",
          "output_type": "stream",
          "text": [
            "\rTranscribing audio files:  21%|██        | 154/745 [50:52<3:12:11, 19.51s/it]"
          ]
        },
        {
          "name": "stdout",
          "output_type": "stream",
          "text": [
            "✓ Successfully transcribed: 155_Surprise.wav\n"
          ]
        },
        {
          "name": "stderr",
          "output_type": "stream",
          "text": [
            "\rTranscribing audio files:  21%|██        | 155/745 [51:07<3:01:07, 18.42s/it]"
          ]
        },
        {
          "name": "stdout",
          "output_type": "stream",
          "text": [
            "✓ Successfully transcribed: 156_Surprise.wav\n"
          ]
        },
        {
          "name": "stderr",
          "output_type": "stream",
          "text": [
            "\rTranscribing audio files:  21%|██        | 156/745 [51:23<2:53:21, 17.66s/it]"
          ]
        },
        {
          "name": "stdout",
          "output_type": "stream",
          "text": [
            "✓ Successfully transcribed: 157_Trust.wav\n"
          ]
        },
        {
          "name": "stderr",
          "output_type": "stream",
          "text": [
            "\rTranscribing audio files:  21%|██        | 157/745 [51:51<3:23:35, 20.77s/it]"
          ]
        },
        {
          "name": "stdout",
          "output_type": "stream",
          "text": [
            "✓ Successfully transcribed: 158_Surprise.wav\n"
          ]
        },
        {
          "name": "stderr",
          "output_type": "stream",
          "text": [
            "\rTranscribing audio files:  21%|██        | 158/745 [52:11<3:20:35, 20.50s/it]"
          ]
        },
        {
          "name": "stdout",
          "output_type": "stream",
          "text": [
            "✓ Successfully transcribed: 159_Surprise.wav\n"
          ]
        },
        {
          "name": "stderr",
          "output_type": "stream",
          "text": [
            "\rTranscribing audio files:  21%|██▏       | 159/745 [52:28<3:08:41, 19.32s/it]"
          ]
        },
        {
          "name": "stdout",
          "output_type": "stream",
          "text": [
            "✓ Successfully transcribed: 160_Surprise.wav\n"
          ]
        },
        {
          "name": "stderr",
          "output_type": "stream",
          "text": [
            "\rTranscribing audio files:  21%|██▏       | 160/745 [52:48<3:12:25, 19.74s/it]"
          ]
        },
        {
          "name": "stdout",
          "output_type": "stream",
          "text": [
            "✓ Successfully transcribed: 161_Surprise.wav\n"
          ]
        },
        {
          "name": "stderr",
          "output_type": "stream",
          "text": [
            "\rTranscribing audio files:  22%|██▏       | 161/745 [53:13<3:26:13, 21.19s/it]"
          ]
        },
        {
          "name": "stdout",
          "output_type": "stream",
          "text": [
            "✓ Successfully transcribed: 162_Surprise.wav\n"
          ]
        },
        {
          "name": "stderr",
          "output_type": "stream",
          "text": [
            "\rTranscribing audio files:  22%|██▏       | 162/745 [53:36<3:30:07, 21.62s/it]"
          ]
        },
        {
          "name": "stdout",
          "output_type": "stream",
          "text": [
            "✓ Successfully transcribed: 163_Trust.wav\n"
          ]
        },
        {
          "name": "stderr",
          "output_type": "stream",
          "text": [
            "\rTranscribing audio files:  22%|██▏       | 163/745 [54:01<3:39:59, 22.68s/it]"
          ]
        },
        {
          "name": "stdout",
          "output_type": "stream",
          "text": [
            "✓ Successfully transcribed: 164_Surprise.wav\n"
          ]
        },
        {
          "name": "stderr",
          "output_type": "stream",
          "text": [
            "\rTranscribing audio files:  22%|██▏       | 164/745 [54:35<4:11:39, 25.99s/it]"
          ]
        },
        {
          "name": "stdout",
          "output_type": "stream",
          "text": [
            "✓ Successfully transcribed: 165_Proud.wav\n"
          ]
        },
        {
          "name": "stderr",
          "output_type": "stream",
          "text": [
            "\rTranscribing audio files:  22%|██▏       | 165/745 [55:03<4:19:13, 26.82s/it]"
          ]
        },
        {
          "name": "stdout",
          "output_type": "stream",
          "text": [
            "✓ Successfully transcribed: 166_Proud.wav\n"
          ]
        },
        {
          "name": "stderr",
          "output_type": "stream",
          "text": [
            "\rTranscribing audio files:  22%|██▏       | 166/745 [55:29<4:15:52, 26.52s/it]"
          ]
        },
        {
          "name": "stdout",
          "output_type": "stream",
          "text": [
            "✓ Successfully transcribed: 167_Anger.wav\n"
          ]
        },
        {
          "name": "stderr",
          "output_type": "stream",
          "text": [
            "\rTranscribing audio files:  22%|██▏       | 167/745 [55:39<3:28:31, 21.65s/it]"
          ]
        },
        {
          "name": "stdout",
          "output_type": "stream",
          "text": [
            "✓ Successfully transcribed: 168_Surprise.wav\n"
          ]
        },
        {
          "name": "stderr",
          "output_type": "stream",
          "text": [
            "\rTranscribing audio files:  23%|██▎       | 168/745 [56:15<4:08:37, 25.85s/it]"
          ]
        },
        {
          "name": "stdout",
          "output_type": "stream",
          "text": [
            "✓ Successfully transcribed: 169_Trust.wav\n"
          ]
        },
        {
          "name": "stderr",
          "output_type": "stream",
          "text": [
            "\rTranscribing audio files:  23%|██▎       | 169/745 [56:34<3:48:37, 23.81s/it]"
          ]
        },
        {
          "name": "stdout",
          "output_type": "stream",
          "text": [
            "✓ Successfully transcribed: 170_Joy.wav\n"
          ]
        },
        {
          "name": "stderr",
          "output_type": "stream",
          "text": [
            "\rTranscribing audio files:  23%|██▎       | 170/745 [56:52<3:31:21, 22.06s/it]"
          ]
        },
        {
          "name": "stdout",
          "output_type": "stream",
          "text": [
            "✓ Successfully transcribed: 171_Surprise.wav\n"
          ]
        },
        {
          "name": "stderr",
          "output_type": "stream",
          "text": [
            "\rTranscribing audio files:  23%|██▎       | 171/745 [57:18<3:41:05, 23.11s/it]"
          ]
        },
        {
          "name": "stdout",
          "output_type": "stream",
          "text": [
            "✓ Successfully transcribed: 172_Surprise.wav\n"
          ]
        },
        {
          "name": "stderr",
          "output_type": "stream",
          "text": [
            "\rTranscribing audio files:  23%|██▎       | 172/745 [57:36<3:27:34, 21.73s/it]"
          ]
        },
        {
          "name": "stdout",
          "output_type": "stream",
          "text": [
            "✓ Successfully transcribed: 173_Surprise.wav\n"
          ]
        },
        {
          "name": "stderr",
          "output_type": "stream",
          "text": [
            "\rTranscribing audio files:  23%|██▎       | 173/745 [57:45<2:49:06, 17.74s/it]"
          ]
        },
        {
          "name": "stdout",
          "output_type": "stream",
          "text": [
            "✓ Successfully transcribed: 174_Trust.wav\n"
          ]
        },
        {
          "name": "stderr",
          "output_type": "stream",
          "text": [
            "\rTranscribing audio files:  23%|██▎       | 174/745 [59:02<5:39:30, 35.67s/it]"
          ]
        },
        {
          "name": "stdout",
          "output_type": "stream",
          "text": [
            "✓ Successfully transcribed: 175_Surprise.wav\n"
          ]
        },
        {
          "name": "stderr",
          "output_type": "stream",
          "text": [
            "\rTranscribing audio files:  23%|██▎       | 175/745 [59:07<4:09:58, 26.31s/it]"
          ]
        },
        {
          "name": "stdout",
          "output_type": "stream",
          "text": [
            "✓ Successfully transcribed: 176_Surprise.wav\n"
          ]
        },
        {
          "name": "stderr",
          "output_type": "stream",
          "text": [
            "\rTranscribing audio files:  24%|██▎       | 176/745 [59:17<3:24:13, 21.54s/it]"
          ]
        },
        {
          "name": "stdout",
          "output_type": "stream",
          "text": [
            "✓ Successfully transcribed: 177_Proud.wav\n"
          ]
        },
        {
          "name": "stderr",
          "output_type": "stream",
          "text": [
            "\rTranscribing audio files:  24%|██▍       | 177/745 [59:48<3:50:13, 24.32s/it]"
          ]
        },
        {
          "name": "stdout",
          "output_type": "stream",
          "text": [
            "✓ Successfully transcribed: 178_Surprise.wav\n"
          ]
        },
        {
          "name": "stderr",
          "output_type": "stream",
          "text": [
            "\rTranscribing audio files:  24%|██▍       | 178/745 [1:00:03<3:23:02, 21.49s/it]"
          ]
        },
        {
          "name": "stdout",
          "output_type": "stream",
          "text": [
            "✓ Successfully transcribed: 179_Surprise.wav\n"
          ]
        },
        {
          "name": "stderr",
          "output_type": "stream",
          "text": [
            "\rTranscribing audio files:  24%|██▍       | 179/745 [1:00:23<3:19:37, 21.16s/it]"
          ]
        },
        {
          "name": "stdout",
          "output_type": "stream",
          "text": [
            "✓ Successfully transcribed: 180_Surprise.wav\n"
          ]
        },
        {
          "name": "stderr",
          "output_type": "stream",
          "text": [
            "\rTranscribing audio files:  24%|██▍       | 180/745 [1:00:45<3:20:15, 21.27s/it]"
          ]
        },
        {
          "name": "stdout",
          "output_type": "stream",
          "text": [
            "✓ Successfully transcribed: 181_Surprise.wav\n"
          ]
        },
        {
          "name": "stderr",
          "output_type": "stream",
          "text": [
            "\rTranscribing audio files:  24%|██▍       | 181/745 [1:01:06<3:20:25, 21.32s/it]"
          ]
        },
        {
          "name": "stdout",
          "output_type": "stream",
          "text": [
            "✓ Successfully transcribed: 182_Trust.wav\n"
          ]
        },
        {
          "name": "stderr",
          "output_type": "stream",
          "text": [
            "\rTranscribing audio files:  24%|██▍       | 182/745 [1:01:14<2:43:41, 17.44s/it]"
          ]
        },
        {
          "name": "stdout",
          "output_type": "stream",
          "text": [
            "✓ Successfully transcribed: 183_Surprise.wav\n"
          ]
        },
        {
          "name": "stderr",
          "output_type": "stream",
          "text": [
            "\rTranscribing audio files:  25%|██▍       | 183/745 [1:01:29<2:34:13, 16.46s/it]"
          ]
        },
        {
          "name": "stdout",
          "output_type": "stream",
          "text": [
            "✓ Successfully transcribed: 184_Surprise.wav\n"
          ]
        },
        {
          "name": "stderr",
          "output_type": "stream",
          "text": [
            "\rTranscribing audio files:  25%|██▍       | 184/745 [1:01:47<2:38:52, 16.99s/it]"
          ]
        },
        {
          "name": "stdout",
          "output_type": "stream",
          "text": [
            "✓ Successfully transcribed: 185_Surprise.wav\n"
          ]
        },
        {
          "name": "stderr",
          "output_type": "stream",
          "text": [
            "\rTranscribing audio files:  25%|██▍       | 185/745 [1:02:05<2:42:33, 17.42s/it]"
          ]
        },
        {
          "name": "stdout",
          "output_type": "stream",
          "text": [
            "✓ Successfully transcribed: 187_Surprise.wav\n"
          ]
        },
        {
          "name": "stderr",
          "output_type": "stream",
          "text": [
            "\rTranscribing audio files:  25%|██▍       | 186/745 [1:02:22<2:39:59, 17.17s/it]"
          ]
        },
        {
          "name": "stdout",
          "output_type": "stream",
          "text": [
            "✓ Successfully transcribed: 188_Surprise.wav\n"
          ]
        },
        {
          "name": "stderr",
          "output_type": "stream",
          "text": [
            "\rTranscribing audio files:  25%|██▌       | 187/745 [1:02:41<2:44:16, 17.66s/it]"
          ]
        },
        {
          "name": "stdout",
          "output_type": "stream",
          "text": [
            "✓ Successfully transcribed: 189_Surprise.wav\n"
          ]
        },
        {
          "name": "stderr",
          "output_type": "stream",
          "text": [
            "\rTranscribing audio files:  25%|██▌       | 188/745 [1:04:22<6:36:45, 42.74s/it]"
          ]
        },
        {
          "name": "stdout",
          "output_type": "stream",
          "text": [
            "✓ Successfully transcribed: 190_Trust.wav\n"
          ]
        },
        {
          "name": "stderr",
          "output_type": "stream",
          "text": [
            "\rTranscribing audio files:  25%|██▌       | 189/745 [1:04:36<5:15:29, 34.05s/it]"
          ]
        },
        {
          "name": "stdout",
          "output_type": "stream",
          "text": [
            "✓ Successfully transcribed: 191_Surprise.wav\n"
          ]
        },
        {
          "name": "stderr",
          "output_type": "stream",
          "text": [
            "\rTranscribing audio files:  26%|██▌       | 190/745 [1:06:45<9:38:07, 62.50s/it]"
          ]
        },
        {
          "name": "stdout",
          "output_type": "stream",
          "text": [
            "✓ Successfully transcribed: 192_Surprise.wav\n"
          ]
        },
        {
          "name": "stderr",
          "output_type": "stream",
          "text": [
            "\rTranscribing audio files:  26%|██▌       | 191/745 [1:07:00<7:26:25, 48.35s/it]"
          ]
        },
        {
          "name": "stdout",
          "output_type": "stream",
          "text": [
            "✓ Successfully transcribed: 193_Proud.wav\n"
          ]
        },
        {
          "name": "stderr",
          "output_type": "stream",
          "text": [
            "\rTranscribing audio files:  26%|██▌       | 192/745 [1:07:10<5:41:03, 37.00s/it]"
          ]
        },
        {
          "name": "stdout",
          "output_type": "stream",
          "text": [
            "✓ Successfully transcribed: 194_Surprise.wav\n"
          ]
        },
        {
          "name": "stderr",
          "output_type": "stream",
          "text": [
            "\rTranscribing audio files:  26%|██▌       | 193/745 [1:07:28<4:48:04, 31.31s/it]"
          ]
        },
        {
          "name": "stdout",
          "output_type": "stream",
          "text": [
            "✓ Successfully transcribed: 195_Trust.wav\n"
          ]
        },
        {
          "name": "stderr",
          "output_type": "stream",
          "text": [
            "\rTranscribing audio files:  26%|██▌       | 194/745 [1:07:39<3:51:16, 25.18s/it]"
          ]
        },
        {
          "name": "stdout",
          "output_type": "stream",
          "text": [
            "✓ Successfully transcribed: 196_Surprise.wav\n"
          ]
        },
        {
          "name": "stderr",
          "output_type": "stream",
          "text": [
            "\rTranscribing audio files:  26%|██▌       | 195/745 [1:07:57<3:29:38, 22.87s/it]"
          ]
        },
        {
          "name": "stdout",
          "output_type": "stream",
          "text": [
            "✓ Successfully transcribed: 197_Surprise.wav\n"
          ]
        },
        {
          "name": "stderr",
          "output_type": "stream",
          "text": [
            "\rTranscribing audio files:  26%|██▋       | 196/745 [1:08:08<2:57:28, 19.40s/it]"
          ]
        },
        {
          "name": "stdout",
          "output_type": "stream",
          "text": [
            "✓ Successfully transcribed: 198_Proud.wav\n"
          ]
        },
        {
          "name": "stderr",
          "output_type": "stream",
          "text": [
            "\rTranscribing audio files:  26%|██▋       | 197/745 [1:08:11<2:12:34, 14.51s/it]"
          ]
        },
        {
          "name": "stdout",
          "output_type": "stream",
          "text": [
            "✓ Successfully transcribed: 199_Anger.wav\n"
          ]
        },
        {
          "name": "stderr",
          "output_type": "stream",
          "text": [
            "\rTranscribing audio files:  27%|██▋       | 198/745 [1:09:25<4:55:09, 32.38s/it]"
          ]
        },
        {
          "name": "stdout",
          "output_type": "stream",
          "text": [
            "✓ Successfully transcribed: 200_Proud.wav\n"
          ]
        },
        {
          "name": "stderr",
          "output_type": "stream",
          "text": [
            "\rTranscribing audio files:  27%|██▋       | 199/745 [1:12:19<11:19:55, 74.72s/it]"
          ]
        },
        {
          "name": "stdout",
          "output_type": "stream",
          "text": [
            "✓ Successfully transcribed: 201_Surprise.wav\n"
          ]
        },
        {
          "name": "stderr",
          "output_type": "stream",
          "text": [
            "\rTranscribing audio files:  27%|██▋       | 200/745 [1:12:47<9:11:55, 60.76s/it] "
          ]
        },
        {
          "name": "stdout",
          "output_type": "stream",
          "text": [
            "✓ Successfully transcribed: 202_Proud.wav\n"
          ]
        },
        {
          "name": "stderr",
          "output_type": "stream",
          "text": [
            "\rTranscribing audio files:  27%|██▋       | 201/745 [1:13:36<8:38:58, 57.24s/it]"
          ]
        },
        {
          "name": "stdout",
          "output_type": "stream",
          "text": [
            "✓ Successfully transcribed: 203_Proud.wav\n"
          ]
        },
        {
          "name": "stderr",
          "output_type": "stream",
          "text": [
            "\rTranscribing audio files:  27%|██▋       | 202/745 [1:14:42<9:01:03, 59.79s/it]"
          ]
        },
        {
          "name": "stdout",
          "output_type": "stream",
          "text": [
            "✓ Successfully transcribed: 204_Proud.wav\n"
          ]
        },
        {
          "name": "stderr",
          "output_type": "stream",
          "text": [
            "\rTranscribing audio files:  27%|██▋       | 203/745 [1:15:05<7:20:46, 48.79s/it]"
          ]
        },
        {
          "name": "stdout",
          "output_type": "stream",
          "text": [
            "✓ Successfully transcribed: 205_Proud.wav\n"
          ]
        },
        {
          "name": "stderr",
          "output_type": "stream",
          "text": [
            "\rTranscribing audio files:  27%|██▋       | 204/745 [1:15:26<6:05:56, 40.59s/it]"
          ]
        },
        {
          "name": "stdout",
          "output_type": "stream",
          "text": [
            "✓ Successfully transcribed: 206_Trust.wav\n"
          ]
        },
        {
          "name": "stderr",
          "output_type": "stream",
          "text": [
            "\rTranscribing audio files:  28%|██▊       | 205/745 [1:15:48<5:15:25, 35.05s/it]"
          ]
        },
        {
          "name": "stdout",
          "output_type": "stream",
          "text": [
            "✓ Successfully transcribed: 207_Trust.wav\n"
          ]
        },
        {
          "name": "stderr",
          "output_type": "stream",
          "text": [
            "\rTranscribing audio files:  28%|██▊       | 206/745 [1:17:02<6:59:12, 46.67s/it]"
          ]
        },
        {
          "name": "stdout",
          "output_type": "stream",
          "text": [
            "✓ Successfully transcribed: 208_Surprise.wav\n"
          ]
        },
        {
          "name": "stderr",
          "output_type": "stream",
          "text": [
            "\rTranscribing audio files:  28%|██▊       | 207/745 [1:17:29<6:03:52, 40.58s/it]"
          ]
        },
        {
          "name": "stdout",
          "output_type": "stream",
          "text": [
            "✓ Successfully transcribed: 209_Trust.wav\n"
          ]
        },
        {
          "name": "stderr",
          "output_type": "stream",
          "text": [
            "\rTranscribing audio files:  28%|██▊       | 208/745 [1:18:42<7:31:14, 50.42s/it]"
          ]
        },
        {
          "name": "stdout",
          "output_type": "stream",
          "text": [
            "✓ Successfully transcribed: 210_Trust.wav\n"
          ]
        },
        {
          "name": "stderr",
          "output_type": "stream",
          "text": [
            "\rTranscribing audio files:  28%|██▊       | 209/745 [1:19:09<6:27:05, 43.33s/it]"
          ]
        },
        {
          "name": "stdout",
          "output_type": "stream",
          "text": [
            "✓ Successfully transcribed: 211_Trust.wav\n"
          ]
        },
        {
          "name": "stderr",
          "output_type": "stream",
          "text": [
            "\rTranscribing audio files:  28%|██▊       | 210/745 [1:19:36<5:42:22, 38.40s/it]"
          ]
        },
        {
          "name": "stdout",
          "output_type": "stream",
          "text": [
            "✓ Successfully transcribed: 212_Surprise.wav\n"
          ]
        },
        {
          "name": "stderr",
          "output_type": "stream",
          "text": [
            "\rTranscribing audio files:  28%|██▊       | 211/745 [1:20:09<5:28:32, 36.91s/it]"
          ]
        },
        {
          "name": "stdout",
          "output_type": "stream",
          "text": [
            "✓ Successfully transcribed: 213_Surprise.wav\n"
          ]
        },
        {
          "name": "stderr",
          "output_type": "stream",
          "text": [
            "\rTranscribing audio files:  28%|██▊       | 212/745 [1:23:48<13:33:01, 91.52s/it]"
          ]
        },
        {
          "name": "stdout",
          "output_type": "stream",
          "text": [
            "✓ Successfully transcribed: 214_Proud.wav\n"
          ]
        },
        {
          "name": "stderr",
          "output_type": "stream",
          "text": [
            "\rTranscribing audio files:  29%|██▊       | 213/745 [1:24:28<11:13:54, 76.01s/it]"
          ]
        },
        {
          "name": "stdout",
          "output_type": "stream",
          "text": [
            "✓ Successfully transcribed: 215_Surprise.wav\n"
          ]
        },
        {
          "name": "stderr",
          "output_type": "stream",
          "text": [
            "\rTranscribing audio files:  29%|██▊       | 214/745 [1:25:43<11:11:26, 75.87s/it]"
          ]
        },
        {
          "name": "stdout",
          "output_type": "stream",
          "text": [
            "✓ Successfully transcribed: 216_Trust.wav\n"
          ]
        },
        {
          "name": "stderr",
          "output_type": "stream",
          "text": [
            "\rTranscribing audio files:  29%|██▉       | 215/745 [1:26:02<8:37:59, 58.64s/it] "
          ]
        },
        {
          "name": "stdout",
          "output_type": "stream",
          "text": [
            "✓ Successfully transcribed: 217_Trust.wav\n"
          ]
        },
        {
          "name": "stderr",
          "output_type": "stream",
          "text": [
            "\rTranscribing audio files:  29%|██▉       | 216/745 [1:26:52<8:15:26, 56.19s/it]"
          ]
        },
        {
          "name": "stdout",
          "output_type": "stream",
          "text": [
            "✓ Successfully transcribed: 218_Sadness.wav\n"
          ]
        },
        {
          "name": "stderr",
          "output_type": "stream",
          "text": [
            "\rTranscribing audio files:  29%|██▉       | 217/745 [1:27:26<7:14:38, 49.39s/it]"
          ]
        },
        {
          "name": "stdout",
          "output_type": "stream",
          "text": [
            "✓ Successfully transcribed: 219_Trust.wav\n"
          ]
        },
        {
          "name": "stderr",
          "output_type": "stream",
          "text": [
            "\rTranscribing audio files:  29%|██▉       | 218/745 [1:28:15<7:13:15, 49.33s/it]"
          ]
        },
        {
          "name": "stdout",
          "output_type": "stream",
          "text": [
            "✓ Successfully transcribed: 220_Surprise.wav\n"
          ]
        },
        {
          "name": "stderr",
          "output_type": "stream",
          "text": [
            "\rTranscribing audio files:  29%|██▉       | 219/745 [1:28:40<6:09:02, 42.10s/it]"
          ]
        },
        {
          "name": "stdout",
          "output_type": "stream",
          "text": [
            "✓ Successfully transcribed: 221_Surprise.wav\n"
          ]
        },
        {
          "name": "stderr",
          "output_type": "stream",
          "text": [
            "\rTranscribing audio files:  30%|██▉       | 220/745 [1:29:11<5:38:56, 38.74s/it]"
          ]
        },
        {
          "name": "stdout",
          "output_type": "stream",
          "text": [
            "✓ Successfully transcribed: 222_Proud.wav\n"
          ]
        },
        {
          "name": "stderr",
          "output_type": "stream",
          "text": [
            "\rTranscribing audio files:  30%|██▉       | 221/745 [1:29:27<4:39:24, 31.99s/it]"
          ]
        },
        {
          "name": "stdout",
          "output_type": "stream",
          "text": [
            "✓ Successfully transcribed: 223_Surprise.wav\n"
          ]
        },
        {
          "name": "stderr",
          "output_type": "stream",
          "text": [
            "\rTranscribing audio files:  30%|██▉       | 222/745 [1:29:46<4:03:20, 27.92s/it]"
          ]
        },
        {
          "name": "stdout",
          "output_type": "stream",
          "text": [
            "✓ Successfully transcribed: 224_Surprise.wav\n"
          ]
        },
        {
          "name": "stderr",
          "output_type": "stream",
          "text": [
            "\rTranscribing audio files:  30%|██▉       | 223/745 [1:30:01<3:28:46, 24.00s/it]"
          ]
        },
        {
          "name": "stdout",
          "output_type": "stream",
          "text": [
            "✓ Successfully transcribed: 225_Proud.wav\n"
          ]
        },
        {
          "name": "stderr",
          "output_type": "stream",
          "text": [
            "\rTranscribing audio files:  30%|███       | 224/745 [1:30:18<3:10:26, 21.93s/it]"
          ]
        },
        {
          "name": "stdout",
          "output_type": "stream",
          "text": [
            "✓ Successfully transcribed: 226_Trust.wav\n"
          ]
        },
        {
          "name": "stderr",
          "output_type": "stream",
          "text": [
            "\rTranscribing audio files:  30%|███       | 225/745 [1:30:35<2:59:03, 20.66s/it]"
          ]
        },
        {
          "name": "stdout",
          "output_type": "stream",
          "text": [
            "✓ Successfully transcribed: 227_Surprise.wav\n"
          ]
        },
        {
          "name": "stderr",
          "output_type": "stream",
          "text": [
            "\rTranscribing audio files:  30%|███       | 226/745 [1:30:54<2:54:15, 20.15s/it]"
          ]
        },
        {
          "name": "stdout",
          "output_type": "stream",
          "text": [
            "✓ Successfully transcribed: 228_Proud.wav\n"
          ]
        },
        {
          "name": "stderr",
          "output_type": "stream",
          "text": [
            "\rTranscribing audio files:  30%|███       | 227/745 [1:31:38<3:54:41, 27.19s/it]"
          ]
        },
        {
          "name": "stdout",
          "output_type": "stream",
          "text": [
            "✓ Successfully transcribed: 229_Surprise.wav\n"
          ]
        },
        {
          "name": "stderr",
          "output_type": "stream",
          "text": [
            "\rTranscribing audio files:  31%|███       | 228/745 [1:31:58<3:35:56, 25.06s/it]"
          ]
        },
        {
          "name": "stdout",
          "output_type": "stream",
          "text": [
            "✓ Successfully transcribed: 230_Proud.wav\n"
          ]
        },
        {
          "name": "stderr",
          "output_type": "stream",
          "text": [
            "\rTranscribing audio files:  31%|███       | 229/745 [1:32:22<3:32:53, 24.76s/it]"
          ]
        },
        {
          "name": "stdout",
          "output_type": "stream",
          "text": [
            "✓ Successfully transcribed: 231_Trust.wav\n"
          ]
        },
        {
          "name": "stderr",
          "output_type": "stream",
          "text": [
            "\rTranscribing audio files:  31%|███       | 230/745 [1:34:31<8:01:28, 56.09s/it]"
          ]
        },
        {
          "name": "stdout",
          "output_type": "stream",
          "text": [
            "✓ Successfully transcribed: 232_Trust.wav\n"
          ]
        },
        {
          "name": "stderr",
          "output_type": "stream",
          "text": [
            "\rTranscribing audio files:  31%|███       | 231/745 [1:35:08<7:10:06, 50.21s/it]"
          ]
        },
        {
          "name": "stdout",
          "output_type": "stream",
          "text": [
            "✓ Successfully transcribed: 233_Trust.wav\n"
          ]
        },
        {
          "name": "stderr",
          "output_type": "stream",
          "text": [
            "\rTranscribing audio files:  31%|███       | 232/745 [1:37:06<10:03:35, 70.60s/it]"
          ]
        },
        {
          "name": "stdout",
          "output_type": "stream",
          "text": [
            "✓ Successfully transcribed: 234_Proud.wav\n"
          ]
        },
        {
          "name": "stderr",
          "output_type": "stream",
          "text": [
            "\rTranscribing audio files:  31%|███▏      | 233/745 [1:37:19<7:35:55, 53.43s/it] "
          ]
        },
        {
          "name": "stdout",
          "output_type": "stream",
          "text": [
            "✓ Successfully transcribed: 235_Surprise.wav\n"
          ]
        },
        {
          "name": "stderr",
          "output_type": "stream",
          "text": [
            "\rTranscribing audio files:  31%|███▏      | 234/745 [1:37:35<5:58:53, 42.14s/it]"
          ]
        },
        {
          "name": "stdout",
          "output_type": "stream",
          "text": [
            "✓ Successfully transcribed: 236_Surprise.wav\n"
          ]
        },
        {
          "name": "stderr",
          "output_type": "stream",
          "text": [
            "\rTranscribing audio files:  32%|███▏      | 235/745 [1:37:54<4:58:37, 35.13s/it]"
          ]
        },
        {
          "name": "stdout",
          "output_type": "stream",
          "text": [
            "✓ Successfully transcribed: 237_Surprise.wav\n"
          ]
        },
        {
          "name": "stderr",
          "output_type": "stream",
          "text": [
            "\rTranscribing audio files:  32%|███▏      | 236/745 [1:38:15<4:23:11, 31.02s/it]"
          ]
        },
        {
          "name": "stdout",
          "output_type": "stream",
          "text": [
            "✓ Successfully transcribed: 238_Proud.wav\n"
          ]
        },
        {
          "name": "stderr",
          "output_type": "stream",
          "text": [
            "\rTranscribing audio files:  32%|███▏      | 237/745 [1:38:42<4:10:16, 29.56s/it]"
          ]
        },
        {
          "name": "stdout",
          "output_type": "stream",
          "text": [
            "✓ Successfully transcribed: 239_Trust.wav\n"
          ]
        },
        {
          "name": "stderr",
          "output_type": "stream",
          "text": [
            "\rTranscribing audio files:  32%|███▏      | 238/745 [1:38:58<3:37:28, 25.74s/it]"
          ]
        },
        {
          "name": "stdout",
          "output_type": "stream",
          "text": [
            "✓ Successfully transcribed: 240_Surprise.wav\n"
          ]
        },
        {
          "name": "stderr",
          "output_type": "stream",
          "text": [
            "\rTranscribing audio files:  32%|███▏      | 239/745 [1:39:13<3:08:33, 22.36s/it]"
          ]
        },
        {
          "name": "stdout",
          "output_type": "stream",
          "text": [
            "✓ Successfully transcribed: 241_Proud.wav\n"
          ]
        },
        {
          "name": "stderr",
          "output_type": "stream",
          "text": [
            "\rTranscribing audio files:  32%|███▏      | 240/745 [1:39:38<3:15:21, 23.21s/it]"
          ]
        },
        {
          "name": "stdout",
          "output_type": "stream",
          "text": [
            "✓ Successfully transcribed: 242_Trust.wav\n"
          ]
        },
        {
          "name": "stderr",
          "output_type": "stream",
          "text": [
            "\rTranscribing audio files:  32%|███▏      | 241/745 [1:40:02<3:17:56, 23.56s/it]"
          ]
        },
        {
          "name": "stdout",
          "output_type": "stream",
          "text": [
            "✓ Successfully transcribed: 243_Trust.wav\n"
          ]
        },
        {
          "name": "stderr",
          "output_type": "stream",
          "text": [
            "\rTranscribing audio files:  32%|███▏      | 242/745 [1:40:19<3:00:17, 21.51s/it]"
          ]
        },
        {
          "name": "stdout",
          "output_type": "stream",
          "text": [
            "✓ Successfully transcribed: 244_Surprise.wav\n"
          ]
        },
        {
          "name": "stderr",
          "output_type": "stream",
          "text": [
            "\rTranscribing audio files:  33%|███▎      | 243/745 [1:40:36<2:49:25, 20.25s/it]"
          ]
        },
        {
          "name": "stdout",
          "output_type": "stream",
          "text": [
            "✓ Successfully transcribed: 245_Sadness.wav\n"
          ]
        },
        {
          "name": "stderr",
          "output_type": "stream",
          "text": [
            "\rTranscribing audio files:  33%|███▎      | 244/745 [1:40:53<2:39:52, 19.15s/it]"
          ]
        },
        {
          "name": "stdout",
          "output_type": "stream",
          "text": [
            "✓ Successfully transcribed: 246_Trust.wav\n"
          ]
        },
        {
          "name": "stderr",
          "output_type": "stream",
          "text": [
            "\rTranscribing audio files:  33%|███▎      | 245/745 [1:41:12<2:39:38, 19.16s/it]"
          ]
        },
        {
          "name": "stdout",
          "output_type": "stream",
          "text": [
            "✓ Successfully transcribed: 247_Surprise.wav\n"
          ]
        },
        {
          "name": "stderr",
          "output_type": "stream",
          "text": [
            "\rTranscribing audio files:  33%|███▎      | 246/745 [1:41:31<2:38:57, 19.11s/it]"
          ]
        },
        {
          "name": "stdout",
          "output_type": "stream",
          "text": [
            "✓ Successfully transcribed: 248_Surprise.wav\n"
          ]
        },
        {
          "name": "stderr",
          "output_type": "stream",
          "text": [
            "\rTranscribing audio files:  33%|███▎      | 247/745 [1:41:50<2:38:11, 19.06s/it]"
          ]
        },
        {
          "name": "stdout",
          "output_type": "stream",
          "text": [
            "✓ Successfully transcribed: 249_Trust.wav\n"
          ]
        },
        {
          "name": "stderr",
          "output_type": "stream",
          "text": [
            "\rTranscribing audio files:  33%|███▎      | 248/745 [1:42:09<2:37:55, 19.07s/it]"
          ]
        },
        {
          "name": "stdout",
          "output_type": "stream",
          "text": [
            "✓ Successfully transcribed: 250_Proud.wav\n"
          ]
        },
        {
          "name": "stderr",
          "output_type": "stream",
          "text": [
            "\rTranscribing audio files:  33%|███▎      | 249/745 [1:42:28<2:37:19, 19.03s/it]"
          ]
        },
        {
          "name": "stdout",
          "output_type": "stream",
          "text": [
            "✓ Successfully transcribed: 251_Surprise.wav\n"
          ]
        },
        {
          "name": "stderr",
          "output_type": "stream",
          "text": [
            "\rTranscribing audio files:  34%|███▎      | 250/745 [1:42:47<2:37:08, 19.05s/it]"
          ]
        },
        {
          "name": "stdout",
          "output_type": "stream",
          "text": [
            "✓ Successfully transcribed: 252_Surprise.wav\n"
          ]
        },
        {
          "name": "stderr",
          "output_type": "stream",
          "text": [
            "\rTranscribing audio files:  34%|███▎      | 251/745 [1:42:59<2:18:27, 16.82s/it]"
          ]
        },
        {
          "name": "stdout",
          "output_type": "stream",
          "text": [
            "✓ Successfully transcribed: 253_Trust.wav\n"
          ]
        },
        {
          "name": "stderr",
          "output_type": "stream",
          "text": [
            "\rTranscribing audio files:  34%|███▍      | 252/745 [1:43:21<2:31:09, 18.40s/it]"
          ]
        },
        {
          "name": "stdout",
          "output_type": "stream",
          "text": [
            "✓ Successfully transcribed: 254_Surprise.wav\n"
          ]
        },
        {
          "name": "stderr",
          "output_type": "stream",
          "text": [
            "\rTranscribing audio files:  34%|███▍      | 253/745 [1:43:44<2:42:07, 19.77s/it]"
          ]
        },
        {
          "name": "stdout",
          "output_type": "stream",
          "text": [
            "✓ Successfully transcribed: 255_Surprise.wav\n"
          ]
        },
        {
          "name": "stderr",
          "output_type": "stream",
          "text": [
            "\rTranscribing audio files:  34%|███▍      | 254/745 [1:43:50<2:09:23, 15.81s/it]"
          ]
        },
        {
          "name": "stdout",
          "output_type": "stream",
          "text": [
            "✓ Successfully transcribed: 256_Proud.wav\n"
          ]
        },
        {
          "name": "stderr",
          "output_type": "stream",
          "text": [
            "\rTranscribing audio files:  34%|███▍      | 255/745 [1:44:09<2:15:54, 16.64s/it]"
          ]
        },
        {
          "name": "stdout",
          "output_type": "stream",
          "text": [
            "✓ Successfully transcribed: 257_Joy.wav\n"
          ]
        },
        {
          "name": "stderr",
          "output_type": "stream",
          "text": [
            "\rTranscribing audio files:  34%|███▍      | 256/745 [1:44:31<2:29:35, 18.36s/it]"
          ]
        },
        {
          "name": "stdout",
          "output_type": "stream",
          "text": [
            "✓ Successfully transcribed: 258_Trust.wav\n"
          ]
        },
        {
          "name": "stderr",
          "output_type": "stream",
          "text": [
            "\rTranscribing audio files:  34%|███▍      | 257/745 [1:44:51<2:31:42, 18.65s/it]"
          ]
        },
        {
          "name": "stdout",
          "output_type": "stream",
          "text": [
            "✓ Successfully transcribed: 259_Proud.wav\n"
          ]
        },
        {
          "name": "stderr",
          "output_type": "stream",
          "text": [
            "\rTranscribing audio files:  35%|███▍      | 258/745 [1:45:16<2:46:13, 20.48s/it]"
          ]
        },
        {
          "name": "stdout",
          "output_type": "stream",
          "text": [
            "✓ Successfully transcribed: 260_Surprise.wav\n"
          ]
        },
        {
          "name": "stderr",
          "output_type": "stream",
          "text": [
            "\rTranscribing audio files:  35%|███▍      | 259/745 [1:45:29<2:27:59, 18.27s/it]"
          ]
        },
        {
          "name": "stdout",
          "output_type": "stream",
          "text": [
            "✓ Successfully transcribed: 261_Surprise.wav\n"
          ]
        },
        {
          "name": "stderr",
          "output_type": "stream",
          "text": [
            "\rTranscribing audio files:  35%|███▍      | 260/745 [1:45:51<2:37:28, 19.48s/it]"
          ]
        },
        {
          "name": "stdout",
          "output_type": "stream",
          "text": [
            "✓ Successfully transcribed: 262_Trust.wav\n"
          ]
        },
        {
          "name": "stderr",
          "output_type": "stream",
          "text": [
            "\rTranscribing audio files:  35%|███▌      | 261/745 [1:46:04<2:20:34, 17.43s/it]"
          ]
        },
        {
          "name": "stdout",
          "output_type": "stream",
          "text": [
            "✓ Successfully transcribed: 263_Surprise.wav\n"
          ]
        },
        {
          "name": "stderr",
          "output_type": "stream",
          "text": [
            "\rTranscribing audio files:  35%|███▌      | 262/745 [1:47:22<4:46:55, 35.64s/it]"
          ]
        },
        {
          "name": "stdout",
          "output_type": "stream",
          "text": [
            "✓ Successfully transcribed: 264_Joy.wav\n"
          ]
        },
        {
          "name": "stderr",
          "output_type": "stream",
          "text": [
            "\rTranscribing audio files:  35%|███▌      | 263/745 [1:47:28<3:34:49, 26.74s/it]"
          ]
        },
        {
          "name": "stdout",
          "output_type": "stream",
          "text": [
            "✓ Successfully transcribed: 265_Trust.wav\n"
          ]
        },
        {
          "name": "stderr",
          "output_type": "stream",
          "text": [
            "\rTranscribing audio files:  35%|███▌      | 264/745 [1:48:30<4:59:13, 37.33s/it]"
          ]
        },
        {
          "name": "stdout",
          "output_type": "stream",
          "text": [
            "✓ Successfully transcribed: 266_Proud.wav\n"
          ]
        },
        {
          "name": "stderr",
          "output_type": "stream",
          "text": [
            "\rTranscribing audio files:  36%|███▌      | 265/745 [1:48:45<4:06:14, 30.78s/it]"
          ]
        },
        {
          "name": "stdout",
          "output_type": "stream",
          "text": [
            "✓ Successfully transcribed: 267_Surprise.wav\n"
          ]
        },
        {
          "name": "stderr",
          "output_type": "stream",
          "text": [
            "\rTranscribing audio files:  36%|███▌      | 266/745 [1:49:44<5:12:28, 39.14s/it]"
          ]
        },
        {
          "name": "stdout",
          "output_type": "stream",
          "text": [
            "✓ Successfully transcribed: 268_Joy.wav\n"
          ]
        },
        {
          "name": "stderr",
          "output_type": "stream",
          "text": [
            "\rTranscribing audio files:  36%|███▌      | 267/745 [1:49:58<4:12:47, 31.73s/it]"
          ]
        },
        {
          "name": "stdout",
          "output_type": "stream",
          "text": [
            "✓ Successfully transcribed: 269_Proud.wav\n"
          ]
        },
        {
          "name": "stderr",
          "output_type": "stream",
          "text": [
            "\rTranscribing audio files:  36%|███▌      | 268/745 [1:50:07<3:16:32, 24.72s/it]"
          ]
        },
        {
          "name": "stdout",
          "output_type": "stream",
          "text": [
            "✓ Successfully transcribed: 270_Surprise.wav\n"
          ]
        },
        {
          "name": "stderr",
          "output_type": "stream",
          "text": [
            "\rTranscribing audio files:  36%|███▌      | 269/745 [1:50:16<2:39:10, 20.06s/it]"
          ]
        },
        {
          "name": "stdout",
          "output_type": "stream",
          "text": [
            "✓ Successfully transcribed: 271_Trust.wav\n"
          ]
        },
        {
          "name": "stderr",
          "output_type": "stream",
          "text": [
            "\rTranscribing audio files:  36%|███▌      | 270/745 [1:50:33<2:30:49, 19.05s/it]"
          ]
        },
        {
          "name": "stdout",
          "output_type": "stream",
          "text": [
            "✓ Successfully transcribed: 272_Trust.wav\n"
          ]
        },
        {
          "name": "stderr",
          "output_type": "stream",
          "text": [
            "\rTranscribing audio files:  36%|███▋      | 271/745 [1:50:57<2:44:17, 20.80s/it]"
          ]
        },
        {
          "name": "stdout",
          "output_type": "stream",
          "text": [
            "✓ Successfully transcribed: 273_Joy.wav\n"
          ]
        },
        {
          "name": "stderr",
          "output_type": "stream",
          "text": [
            "\rTranscribing audio files:  37%|███▋      | 272/745 [1:51:10<2:25:30, 18.46s/it]"
          ]
        },
        {
          "name": "stdout",
          "output_type": "stream",
          "text": [
            "✓ Successfully transcribed: 274_Surprise.wav\n"
          ]
        },
        {
          "name": "stderr",
          "output_type": "stream",
          "text": [
            "\rTranscribing audio files:  37%|███▋      | 273/745 [1:51:20<2:03:55, 15.75s/it]"
          ]
        },
        {
          "name": "stdout",
          "output_type": "stream",
          "text": [
            "✓ Successfully transcribed: 275_Surprise.wav\n"
          ]
        },
        {
          "name": "stderr",
          "output_type": "stream",
          "text": [
            "\rTranscribing audio files:  37%|███▋      | 274/745 [1:51:49<2:35:39, 19.83s/it]"
          ]
        },
        {
          "name": "stdout",
          "output_type": "stream",
          "text": [
            "✓ Successfully transcribed: 276_Surprise.wav\n"
          ]
        },
        {
          "name": "stderr",
          "output_type": "stream",
          "text": [
            "\rTranscribing audio files:  37%|███▋      | 275/745 [1:52:07<2:29:54, 19.14s/it]"
          ]
        },
        {
          "name": "stdout",
          "output_type": "stream",
          "text": [
            "✓ Successfully transcribed: 277_Trust.wav\n"
          ]
        },
        {
          "name": "stderr",
          "output_type": "stream",
          "text": [
            "\rTranscribing audio files:  37%|███▋      | 276/745 [1:52:17<2:09:45, 16.60s/it]"
          ]
        },
        {
          "name": "stdout",
          "output_type": "stream",
          "text": [
            "✓ Successfully transcribed: 278_Joy.wav\n"
          ]
        },
        {
          "name": "stderr",
          "output_type": "stream",
          "text": [
            "\rTranscribing audio files:  37%|███▋      | 277/745 [1:52:31<2:01:26, 15.57s/it]"
          ]
        },
        {
          "name": "stdout",
          "output_type": "stream",
          "text": [
            "✓ Successfully transcribed: 279_Joy.wav\n"
          ]
        },
        {
          "name": "stderr",
          "output_type": "stream",
          "text": [
            "\rTranscribing audio files:  37%|███▋      | 278/745 [1:52:44<1:56:35, 14.98s/it]"
          ]
        },
        {
          "name": "stdout",
          "output_type": "stream",
          "text": [
            "✓ Successfully transcribed: 280_Joy.wav\n"
          ]
        },
        {
          "name": "stderr",
          "output_type": "stream",
          "text": [
            "\rTranscribing audio files:  37%|███▋      | 279/745 [1:53:06<2:11:49, 16.97s/it]"
          ]
        },
        {
          "name": "stdout",
          "output_type": "stream",
          "text": [
            "✓ Successfully transcribed: 281_Trust.wav\n"
          ]
        },
        {
          "name": "stderr",
          "output_type": "stream",
          "text": [
            "\rTranscribing audio files:  38%|███▊      | 280/745 [1:53:20<2:04:01, 16.00s/it]"
          ]
        },
        {
          "name": "stdout",
          "output_type": "stream",
          "text": [
            "✓ Successfully transcribed: 282_Joy.wav\n"
          ]
        },
        {
          "name": "stderr",
          "output_type": "stream",
          "text": [
            "\rTranscribing audio files:  38%|███▊      | 281/745 [1:53:26<1:42:08, 13.21s/it]"
          ]
        },
        {
          "name": "stdout",
          "output_type": "stream",
          "text": [
            "✓ Successfully transcribed: 283_Joy.wav\n"
          ]
        },
        {
          "name": "stderr",
          "output_type": "stream",
          "text": [
            "\rTranscribing audio files:  38%|███▊      | 282/745 [1:53:37<1:35:57, 12.43s/it]"
          ]
        },
        {
          "name": "stdout",
          "output_type": "stream",
          "text": [
            "✓ Successfully transcribed: 284_Trust.wav\n"
          ]
        },
        {
          "name": "stderr",
          "output_type": "stream",
          "text": [
            "\rTranscribing audio files:  38%|███▊      | 283/745 [1:54:16<2:38:11, 20.54s/it]"
          ]
        },
        {
          "name": "stdout",
          "output_type": "stream",
          "text": [
            "✓ Successfully transcribed: 285_Trust.wav\n"
          ]
        },
        {
          "name": "stderr",
          "output_type": "stream",
          "text": [
            "\rTranscribing audio files:  38%|███▊      | 284/745 [1:54:28<2:17:08, 17.85s/it]"
          ]
        },
        {
          "name": "stdout",
          "output_type": "stream",
          "text": [
            "✓ Successfully transcribed: 286_Surprise.wav\n"
          ]
        },
        {
          "name": "stderr",
          "output_type": "stream",
          "text": [
            "\rTranscribing audio files:  38%|███▊      | 285/745 [1:54:41<2:06:39, 16.52s/it]"
          ]
        },
        {
          "name": "stdout",
          "output_type": "stream",
          "text": [
            "✓ Successfully transcribed: 287_Neutral.wav\n"
          ]
        },
        {
          "name": "stderr",
          "output_type": "stream",
          "text": [
            "\rTranscribing audio files:  38%|███▊      | 286/745 [1:54:48<1:44:31, 13.66s/it]"
          ]
        },
        {
          "name": "stdout",
          "output_type": "stream",
          "text": [
            "✓ Successfully transcribed: 288_Proud.wav\n"
          ]
        },
        {
          "name": "stderr",
          "output_type": "stream",
          "text": [
            "\rTranscribing audio files:  39%|███▊      | 287/745 [1:55:02<1:44:57, 13.75s/it]"
          ]
        },
        {
          "name": "stdout",
          "output_type": "stream",
          "text": [
            "✓ Successfully transcribed: 289_Surprise.wav\n"
          ]
        },
        {
          "name": "stderr",
          "output_type": "stream",
          "text": [
            "\rTranscribing audio files:  39%|███▊      | 288/745 [1:55:19<1:52:17, 14.74s/it]"
          ]
        },
        {
          "name": "stdout",
          "output_type": "stream",
          "text": [
            "✓ Successfully transcribed: 290_Surprise.wav\n"
          ]
        },
        {
          "name": "stderr",
          "output_type": "stream",
          "text": [
            "\rTranscribing audio files:  39%|███▉      | 289/745 [1:55:35<1:55:06, 15.15s/it]"
          ]
        },
        {
          "name": "stdout",
          "output_type": "stream",
          "text": [
            "✓ Successfully transcribed: 291_Proud.wav\n"
          ]
        },
        {
          "name": "stderr",
          "output_type": "stream",
          "text": [
            "\rTranscribing audio files:  39%|███▉      | 290/745 [1:55:42<1:35:42, 12.62s/it]"
          ]
        },
        {
          "name": "stdout",
          "output_type": "stream",
          "text": [
            "✓ Successfully transcribed: 292_Trust.wav\n"
          ]
        },
        {
          "name": "stderr",
          "output_type": "stream",
          "text": [
            "\rTranscribing audio files:  39%|███▉      | 291/745 [1:56:00<1:46:22, 14.06s/it]"
          ]
        },
        {
          "name": "stdout",
          "output_type": "stream",
          "text": [
            "✓ Successfully transcribed: 293_Proud.wav\n"
          ]
        },
        {
          "name": "stderr",
          "output_type": "stream",
          "text": [
            "\rTranscribing audio files:  39%|███▉      | 292/745 [1:56:17<1:53:22, 15.02s/it]"
          ]
        },
        {
          "name": "stdout",
          "output_type": "stream",
          "text": [
            "✓ Successfully transcribed: 294_Surprise.wav\n"
          ]
        },
        {
          "name": "stderr",
          "output_type": "stream",
          "text": [
            "\rTranscribing audio files:  39%|███▉      | 293/745 [1:56:42<2:16:29, 18.12s/it]"
          ]
        },
        {
          "name": "stdout",
          "output_type": "stream",
          "text": [
            "✓ Successfully transcribed: 295_Anger.wav\n"
          ]
        },
        {
          "name": "stderr",
          "output_type": "stream",
          "text": [
            "\rTranscribing audio files:  39%|███▉      | 294/745 [1:56:56<2:07:07, 16.91s/it]"
          ]
        },
        {
          "name": "stdout",
          "output_type": "stream",
          "text": [
            "✓ Successfully transcribed: 296_Anger.wav\n"
          ]
        },
        {
          "name": "stderr",
          "output_type": "stream",
          "text": [
            "\rTranscribing audio files:  40%|███▉      | 295/745 [1:57:09<1:58:29, 15.80s/it]"
          ]
        },
        {
          "name": "stdout",
          "output_type": "stream",
          "text": [
            "✓ Successfully transcribed: 297_Surprise.wav\n"
          ]
        },
        {
          "name": "stderr",
          "output_type": "stream",
          "text": [
            "\rTranscribing audio files:  40%|███▉      | 296/745 [1:57:43<2:38:00, 21.11s/it]"
          ]
        },
        {
          "name": "stdout",
          "output_type": "stream",
          "text": [
            "✓ Successfully transcribed: 298_Anger.wav\n"
          ]
        },
        {
          "name": "stderr",
          "output_type": "stream",
          "text": [
            "\rTranscribing audio files:  40%|███▉      | 297/745 [1:57:56<2:20:26, 18.81s/it]"
          ]
        },
        {
          "name": "stdout",
          "output_type": "stream",
          "text": [
            "✓ Successfully transcribed: 299_Surprise.wav\n"
          ]
        },
        {
          "name": "stderr",
          "output_type": "stream",
          "text": [
            "\rTranscribing audio files:  40%|████      | 298/745 [1:58:13<2:14:46, 18.09s/it]"
          ]
        },
        {
          "name": "stdout",
          "output_type": "stream",
          "text": [
            "✓ Successfully transcribed: 300_Surprise.wav\n"
          ]
        },
        {
          "name": "stderr",
          "output_type": "stream",
          "text": [
            "\rTranscribing audio files:  40%|████      | 299/745 [1:58:43<2:41:46, 21.76s/it]"
          ]
        },
        {
          "name": "stdout",
          "output_type": "stream",
          "text": [
            "✓ Successfully transcribed: 301_Anger.wav\n"
          ]
        },
        {
          "name": "stderr",
          "output_type": "stream",
          "text": [
            "\rTranscribing audio files:  40%|████      | 300/745 [1:59:31<3:38:26, 29.45s/it]"
          ]
        },
        {
          "name": "stdout",
          "output_type": "stream",
          "text": [
            "✓ Successfully transcribed: 302_Trust.wav\n"
          ]
        },
        {
          "name": "stderr",
          "output_type": "stream",
          "text": [
            "\rTranscribing audio files:  40%|████      | 301/745 [1:59:45<3:04:07, 24.88s/it]"
          ]
        },
        {
          "name": "stdout",
          "output_type": "stream",
          "text": [
            "✓ Successfully transcribed: 303_Surprise.wav\n"
          ]
        },
        {
          "name": "stderr",
          "output_type": "stream",
          "text": [
            "\rTranscribing audio files:  41%|████      | 302/745 [2:00:01<2:43:42, 22.17s/it]"
          ]
        },
        {
          "name": "stdout",
          "output_type": "stream",
          "text": [
            "✓ Successfully transcribed: 304_Proud.wav\n"
          ]
        },
        {
          "name": "stderr",
          "output_type": "stream",
          "text": [
            "\rTranscribing audio files:  41%|████      | 303/745 [2:01:31<5:13:32, 42.56s/it]"
          ]
        },
        {
          "name": "stdout",
          "output_type": "stream",
          "text": [
            "✓ Successfully transcribed: 305_Surprise.wav\n"
          ]
        },
        {
          "name": "stderr",
          "output_type": "stream",
          "text": [
            "\rTranscribing audio files:  41%|████      | 304/745 [2:01:56<4:33:56, 37.27s/it]"
          ]
        },
        {
          "name": "stdout",
          "output_type": "stream",
          "text": [
            "✓ Successfully transcribed: 306_Surprise.wav\n"
          ]
        },
        {
          "name": "stderr",
          "output_type": "stream",
          "text": [
            "\rTranscribing audio files:  41%|████      | 305/745 [2:02:07<3:36:46, 29.56s/it]"
          ]
        },
        {
          "name": "stdout",
          "output_type": "stream",
          "text": [
            "✓ Successfully transcribed: 307_Surprise.wav\n"
          ]
        },
        {
          "name": "stderr",
          "output_type": "stream",
          "text": [
            "\rTranscribing audio files:  41%|████      | 306/745 [2:02:12<2:41:49, 22.12s/it]"
          ]
        },
        {
          "name": "stdout",
          "output_type": "stream",
          "text": [
            "✓ Successfully transcribed: 308_Surprise.wav\n"
          ]
        },
        {
          "name": "stderr",
          "output_type": "stream",
          "text": [
            "\rTranscribing audio files:  41%|████      | 307/745 [2:02:20<2:10:46, 17.91s/it]"
          ]
        },
        {
          "name": "stdout",
          "output_type": "stream",
          "text": [
            "✓ Successfully transcribed: 309_Surprise.wav\n"
          ]
        },
        {
          "name": "stderr",
          "output_type": "stream",
          "text": [
            "\rTranscribing audio files:  41%|████▏     | 308/745 [2:03:39<4:23:20, 36.16s/it]"
          ]
        },
        {
          "name": "stdout",
          "output_type": "stream",
          "text": [
            "✓ Successfully transcribed: 310_Surprise.wav\n"
          ]
        },
        {
          "name": "stderr",
          "output_type": "stream",
          "text": [
            "\rTranscribing audio files:  41%|████▏     | 309/745 [2:03:50<3:28:14, 28.66s/it]"
          ]
        },
        {
          "name": "stdout",
          "output_type": "stream",
          "text": [
            "✓ Successfully transcribed: 311_Trust.wav\n"
          ]
        },
        {
          "name": "stderr",
          "output_type": "stream",
          "text": [
            "\rTranscribing audio files:  42%|████▏     | 310/745 [2:04:01<2:50:01, 23.45s/it]"
          ]
        },
        {
          "name": "stdout",
          "output_type": "stream",
          "text": [
            "✓ Successfully transcribed: 312_Proud.wav\n"
          ]
        },
        {
          "name": "stderr",
          "output_type": "stream",
          "text": [
            "\rTranscribing audio files:  42%|████▏     | 311/745 [2:04:07<2:12:04, 18.26s/it]"
          ]
        },
        {
          "name": "stdout",
          "output_type": "stream",
          "text": [
            "✓ Successfully transcribed: 313_Surprise.wav\n"
          ]
        },
        {
          "name": "stderr",
          "output_type": "stream",
          "text": [
            "\rTranscribing audio files:  42%|████▏     | 312/745 [2:04:27<2:15:29, 18.77s/it]"
          ]
        },
        {
          "name": "stdout",
          "output_type": "stream",
          "text": [
            "✓ Successfully transcribed: 314_Surprise.wav\n"
          ]
        },
        {
          "name": "stderr",
          "output_type": "stream",
          "text": [
            "\rTranscribing audio files:  42%|████▏     | 313/745 [2:05:12<3:10:10, 26.41s/it]"
          ]
        },
        {
          "name": "stdout",
          "output_type": "stream",
          "text": [
            "✓ Successfully transcribed: 315_Surprise.wav\n"
          ]
        },
        {
          "name": "stderr",
          "output_type": "stream",
          "text": [
            "\rTranscribing audio files:  42%|████▏     | 314/745 [2:05:36<3:05:55, 25.88s/it]"
          ]
        },
        {
          "name": "stdout",
          "output_type": "stream",
          "text": [
            "✓ Successfully transcribed: 316_Surprise.wav\n"
          ]
        },
        {
          "name": "stderr",
          "output_type": "stream",
          "text": [
            "\rTranscribing audio files:  42%|████▏     | 315/745 [2:05:41<2:20:04, 19.55s/it]"
          ]
        },
        {
          "name": "stdout",
          "output_type": "stream",
          "text": [
            "✓ Successfully transcribed: 317_Surprise.wav\n"
          ]
        },
        {
          "name": "stderr",
          "output_type": "stream",
          "text": [
            "\rTranscribing audio files:  42%|████▏     | 316/745 [2:05:45<1:46:42, 14.92s/it]"
          ]
        },
        {
          "name": "stdout",
          "output_type": "stream",
          "text": [
            "✓ Successfully transcribed: 318_Surprise.wav\n"
          ]
        },
        {
          "name": "stderr",
          "output_type": "stream",
          "text": [
            "\rTranscribing audio files:  43%|████▎     | 317/745 [2:06:07<2:01:15, 17.00s/it]"
          ]
        },
        {
          "name": "stdout",
          "output_type": "stream",
          "text": [
            "✓ Successfully transcribed: 319_Anger.wav\n"
          ]
        },
        {
          "name": "stderr",
          "output_type": "stream",
          "text": [
            "\rTranscribing audio files:  43%|████▎     | 318/745 [2:06:27<2:08:06, 18.00s/it]"
          ]
        },
        {
          "name": "stdout",
          "output_type": "stream",
          "text": [
            "✓ Successfully transcribed: 320_Surprise.wav\n"
          ]
        },
        {
          "name": "stderr",
          "output_type": "stream",
          "text": [
            "\rTranscribing audio files:  43%|████▎     | 319/745 [2:06:47<2:12:11, 18.62s/it]"
          ]
        },
        {
          "name": "stdout",
          "output_type": "stream",
          "text": [
            "✓ Successfully transcribed: 321_Surprise.wav\n"
          ]
        },
        {
          "name": "stderr",
          "output_type": "stream",
          "text": [
            "\rTranscribing audio files:  43%|████▎     | 320/745 [2:07:05<2:09:48, 18.33s/it]"
          ]
        },
        {
          "name": "stdout",
          "output_type": "stream",
          "text": [
            "✓ Successfully transcribed: 322_Surprise.wav\n"
          ]
        },
        {
          "name": "stderr",
          "output_type": "stream",
          "text": [
            "\rTranscribing audio files:  43%|████▎     | 321/745 [2:07:15<1:51:29, 15.78s/it]"
          ]
        },
        {
          "name": "stdout",
          "output_type": "stream",
          "text": [
            "✓ Successfully transcribed: 323_Surprise.wav\n"
          ]
        },
        {
          "name": "stderr",
          "output_type": "stream",
          "text": [
            "\rTranscribing audio files:  43%|████▎     | 322/745 [2:07:31<1:50:55, 15.73s/it]"
          ]
        },
        {
          "name": "stdout",
          "output_type": "stream",
          "text": [
            "✓ Successfully transcribed: 324_Trust.wav\n"
          ]
        },
        {
          "name": "stderr",
          "output_type": "stream",
          "text": [
            "\rTranscribing audio files:  43%|████▎     | 323/745 [2:07:43<1:43:51, 14.77s/it]"
          ]
        },
        {
          "name": "stdout",
          "output_type": "stream",
          "text": [
            "✓ Successfully transcribed: 325_Trust.wav\n"
          ]
        },
        {
          "name": "stderr",
          "output_type": "stream",
          "text": [
            "\rTranscribing audio files:  43%|████▎     | 324/745 [2:08:02<1:52:29, 16.03s/it]"
          ]
        },
        {
          "name": "stdout",
          "output_type": "stream",
          "text": [
            "✓ Successfully transcribed: 326_Trust.wav\n"
          ]
        },
        {
          "name": "stderr",
          "output_type": "stream",
          "text": [
            "\rTranscribing audio files:  44%|████▎     | 325/745 [2:08:12<1:38:30, 14.07s/it]"
          ]
        },
        {
          "name": "stdout",
          "output_type": "stream",
          "text": [
            "✓ Successfully transcribed: 327_Surprise.wav\n"
          ]
        },
        {
          "name": "stderr",
          "output_type": "stream",
          "text": [
            "\rTranscribing audio files:  44%|████▍     | 326/745 [2:09:56<4:48:11, 41.27s/it]"
          ]
        },
        {
          "name": "stdout",
          "output_type": "stream",
          "text": [
            "✓ Successfully transcribed: 328_Surprise.wav\n"
          ]
        },
        {
          "name": "stderr",
          "output_type": "stream",
          "text": [
            "\rTranscribing audio files:  44%|████▍     | 327/745 [2:10:05<3:38:36, 31.38s/it]"
          ]
        },
        {
          "name": "stdout",
          "output_type": "stream",
          "text": [
            "✓ Successfully transcribed: 329_Proud.wav\n"
          ]
        },
        {
          "name": "stderr",
          "output_type": "stream",
          "text": [
            "\rTranscribing audio files:  44%|████▍     | 328/745 [2:10:30<3:26:30, 29.71s/it]"
          ]
        },
        {
          "name": "stdout",
          "output_type": "stream",
          "text": [
            "✓ Successfully transcribed: 330_Trust.wav\n"
          ]
        },
        {
          "name": "stderr",
          "output_type": "stream",
          "text": [
            "\rTranscribing audio files:  44%|████▍     | 329/745 [2:10:52<3:09:31, 27.34s/it]"
          ]
        },
        {
          "name": "stdout",
          "output_type": "stream",
          "text": [
            "✓ Successfully transcribed: 331_Trust.wav\n"
          ]
        },
        {
          "name": "stderr",
          "output_type": "stream",
          "text": [
            "\rTranscribing audio files:  44%|████▍     | 330/745 [2:11:09<2:46:18, 24.05s/it]"
          ]
        },
        {
          "name": "stdout",
          "output_type": "stream",
          "text": [
            "✓ Successfully transcribed: 332_Proud.wav\n"
          ]
        },
        {
          "name": "stderr",
          "output_type": "stream",
          "text": [
            "\rTranscribing audio files:  44%|████▍     | 331/745 [2:11:21<2:21:36, 20.52s/it]"
          ]
        },
        {
          "name": "stdout",
          "output_type": "stream",
          "text": [
            "✓ Successfully transcribed: 333_Proud.wav\n"
          ]
        },
        {
          "name": "stderr",
          "output_type": "stream",
          "text": [
            "\rTranscribing audio files:  45%|████▍     | 332/745 [2:11:29<1:55:32, 16.79s/it]"
          ]
        },
        {
          "name": "stdout",
          "output_type": "stream",
          "text": [
            "✓ Successfully transcribed: 334_Surprise.wav\n"
          ]
        },
        {
          "name": "stderr",
          "output_type": "stream",
          "text": [
            "\rTranscribing audio files:  45%|████▍     | 333/745 [2:11:45<1:53:51, 16.58s/it]"
          ]
        },
        {
          "name": "stdout",
          "output_type": "stream",
          "text": [
            "✓ Successfully transcribed: 335_Proud.wav\n"
          ]
        },
        {
          "name": "stderr",
          "output_type": "stream",
          "text": [
            "\rTranscribing audio files:  45%|████▍     | 334/745 [2:11:56<1:41:23, 14.80s/it]"
          ]
        },
        {
          "name": "stdout",
          "output_type": "stream",
          "text": [
            "✓ Successfully transcribed: 336_Proud.wav\n"
          ]
        },
        {
          "name": "stderr",
          "output_type": "stream",
          "text": [
            "\rTranscribing audio files:  45%|████▍     | 335/745 [2:12:05<1:29:10, 13.05s/it]"
          ]
        },
        {
          "name": "stdout",
          "output_type": "stream",
          "text": [
            "✓ Successfully transcribed: 337_Surprise.wav\n"
          ]
        },
        {
          "name": "stderr",
          "output_type": "stream",
          "text": [
            "\rTranscribing audio files:  45%|████▌     | 336/745 [2:12:12<1:16:41, 11.25s/it]"
          ]
        },
        {
          "name": "stdout",
          "output_type": "stream",
          "text": [
            "✓ Successfully transcribed: 338_Proud.wav\n"
          ]
        },
        {
          "name": "stderr",
          "output_type": "stream",
          "text": [
            "\rTranscribing audio files:  45%|████▌     | 337/745 [2:12:24<1:17:45, 11.43s/it]"
          ]
        },
        {
          "name": "stdout",
          "output_type": "stream",
          "text": [
            "✓ Successfully transcribed: 339_Proud.wav\n"
          ]
        },
        {
          "name": "stderr",
          "output_type": "stream",
          "text": [
            "\rTranscribing audio files:  45%|████▌     | 338/745 [2:12:30<1:08:20, 10.07s/it]"
          ]
        },
        {
          "name": "stdout",
          "output_type": "stream",
          "text": [
            "✓ Successfully transcribed: 340_Surprise.wav\n"
          ]
        },
        {
          "name": "stderr",
          "output_type": "stream",
          "text": [
            "\rTranscribing audio files:  46%|████▌     | 339/745 [2:12:46<1:20:08, 11.84s/it]"
          ]
        },
        {
          "name": "stdout",
          "output_type": "stream",
          "text": [
            "✓ Successfully transcribed: 341_Proud.wav\n"
          ]
        },
        {
          "name": "stderr",
          "output_type": "stream",
          "text": [
            "\rTranscribing audio files:  46%|████▌     | 340/745 [2:12:56<1:15:19, 11.16s/it]"
          ]
        },
        {
          "name": "stdout",
          "output_type": "stream",
          "text": [
            "✓ Successfully transcribed: 342_Proud.wav\n"
          ]
        },
        {
          "name": "stderr",
          "output_type": "stream",
          "text": [
            "\rTranscribing audio files:  46%|████▌     | 341/745 [2:13:13<1:27:49, 13.04s/it]"
          ]
        },
        {
          "name": "stdout",
          "output_type": "stream",
          "text": [
            "✓ Successfully transcribed: 343_Anger.wav\n"
          ]
        },
        {
          "name": "stderr",
          "output_type": "stream",
          "text": [
            "\rTranscribing audio files:  46%|████▌     | 342/745 [2:13:27<1:27:55, 13.09s/it]"
          ]
        },
        {
          "name": "stdout",
          "output_type": "stream",
          "text": [
            "✓ Successfully transcribed: 344_Proud.wav\n"
          ]
        },
        {
          "name": "stderr",
          "output_type": "stream",
          "text": [
            "\rTranscribing audio files:  46%|████▌     | 343/745 [2:13:39<1:26:54, 12.97s/it]"
          ]
        },
        {
          "name": "stdout",
          "output_type": "stream",
          "text": [
            "✓ Successfully transcribed: 345_Surprise.wav\n"
          ]
        },
        {
          "name": "stderr",
          "output_type": "stream",
          "text": [
            "\rTranscribing audio files:  46%|████▌     | 344/745 [2:13:50<1:23:07, 12.44s/it]"
          ]
        },
        {
          "name": "stdout",
          "output_type": "stream",
          "text": [
            "✓ Successfully transcribed: 346_Surprise.wav\n"
          ]
        },
        {
          "name": "stderr",
          "output_type": "stream",
          "text": [
            "\rTranscribing audio files:  46%|████▋     | 345/745 [2:14:03<1:22:25, 12.36s/it]"
          ]
        },
        {
          "name": "stdout",
          "output_type": "stream",
          "text": [
            "✓ Successfully transcribed: 347_Proud.wav\n"
          ]
        },
        {
          "name": "stderr",
          "output_type": "stream",
          "text": [
            "\rTranscribing audio files:  46%|████▋     | 346/745 [2:14:20<1:32:18, 13.88s/it]"
          ]
        },
        {
          "name": "stdout",
          "output_type": "stream",
          "text": [
            "✓ Successfully transcribed: 348_Trust.wav\n"
          ]
        },
        {
          "name": "stderr",
          "output_type": "stream",
          "text": [
            "\rTranscribing audio files:  47%|████▋     | 347/745 [2:14:42<1:48:00, 16.28s/it]"
          ]
        },
        {
          "name": "stdout",
          "output_type": "stream",
          "text": [
            "✓ Successfully transcribed: 349_Trust.wav\n"
          ]
        },
        {
          "name": "stderr",
          "output_type": "stream",
          "text": [
            "\rTranscribing audio files:  47%|████▋     | 348/745 [2:14:50<1:30:21, 13.66s/it]"
          ]
        },
        {
          "name": "stdout",
          "output_type": "stream",
          "text": [
            "✓ Successfully transcribed: 350_Surprise.wav\n"
          ]
        },
        {
          "name": "stderr",
          "output_type": "stream",
          "text": [
            "\rTranscribing audio files:  47%|████▋     | 349/745 [2:15:01<1:25:02, 12.88s/it]"
          ]
        },
        {
          "name": "stdout",
          "output_type": "stream",
          "text": [
            "✓ Successfully transcribed: 351_Trust.wav\n"
          ]
        },
        {
          "name": "stderr",
          "output_type": "stream",
          "text": [
            "\rTranscribing audio files:  47%|████▋     | 350/745 [2:15:06<1:10:16, 10.68s/it]"
          ]
        },
        {
          "name": "stdout",
          "output_type": "stream",
          "text": [
            "✓ Successfully transcribed: 352_Surprise.wav\n"
          ]
        },
        {
          "name": "stderr",
          "output_type": "stream",
          "text": [
            "\rTranscribing audio files:  47%|████▋     | 351/745 [2:15:30<1:37:03, 14.78s/it]"
          ]
        },
        {
          "name": "stdout",
          "output_type": "stream",
          "text": [
            "✓ Successfully transcribed: 353_Surprise.wav\n"
          ]
        },
        {
          "name": "stderr",
          "output_type": "stream",
          "text": [
            "\rTranscribing audio files:  47%|████▋     | 352/745 [2:16:05<2:15:43, 20.72s/it]"
          ]
        },
        {
          "name": "stdout",
          "output_type": "stream",
          "text": [
            "✓ Successfully transcribed: 354_Surprise.wav\n"
          ]
        },
        {
          "name": "stderr",
          "output_type": "stream",
          "text": [
            "\rTranscribing audio files:  47%|████▋     | 353/745 [2:16:21<2:06:08, 19.31s/it]"
          ]
        },
        {
          "name": "stdout",
          "output_type": "stream",
          "text": [
            "✓ Successfully transcribed: 355_Surprise.wav\n"
          ]
        },
        {
          "name": "stderr",
          "output_type": "stream",
          "text": [
            "\rTranscribing audio files:  48%|████▊     | 354/745 [2:17:02<2:48:11, 25.81s/it]"
          ]
        },
        {
          "name": "stdout",
          "output_type": "stream",
          "text": [
            "✓ Successfully transcribed: 356_Trust.wav\n"
          ]
        },
        {
          "name": "stderr",
          "output_type": "stream",
          "text": [
            "\rTranscribing audio files:  48%|████▊     | 355/745 [2:17:27<2:46:33, 25.62s/it]"
          ]
        },
        {
          "name": "stdout",
          "output_type": "stream",
          "text": [
            "✓ Successfully transcribed: 357_Proud.wav\n"
          ]
        },
        {
          "name": "stderr",
          "output_type": "stream",
          "text": [
            "\rTranscribing audio files:  48%|████▊     | 356/745 [2:17:48<2:37:12, 24.25s/it]"
          ]
        },
        {
          "name": "stdout",
          "output_type": "stream",
          "text": [
            "✓ Successfully transcribed: 358_Surprise.wav\n"
          ]
        },
        {
          "name": "stderr",
          "output_type": "stream",
          "text": [
            "\rTranscribing audio files:  48%|████▊     | 357/745 [2:18:36<3:21:59, 31.23s/it]"
          ]
        },
        {
          "name": "stdout",
          "output_type": "stream",
          "text": [
            "✓ Successfully transcribed: 359_Proud.wav\n"
          ]
        },
        {
          "name": "stderr",
          "output_type": "stream",
          "text": [
            "\rTranscribing audio files:  48%|████▊     | 358/745 [2:18:48<2:44:58, 25.58s/it]"
          ]
        },
        {
          "name": "stdout",
          "output_type": "stream",
          "text": [
            "✓ Successfully transcribed: 360_Surprise.wav\n"
          ]
        },
        {
          "name": "stderr",
          "output_type": "stream",
          "text": [
            "\rTranscribing audio files:  48%|████▊     | 359/745 [2:19:03<2:23:08, 22.25s/it]"
          ]
        },
        {
          "name": "stdout",
          "output_type": "stream",
          "text": [
            "✓ Successfully transcribed: 361_Surprise.wav\n"
          ]
        },
        {
          "name": "stderr",
          "output_type": "stream",
          "text": [
            "\rTranscribing audio files:  48%|████▊     | 360/745 [2:19:14<2:01:43, 18.97s/it]"
          ]
        },
        {
          "name": "stdout",
          "output_type": "stream",
          "text": [
            "✓ Successfully transcribed: 362_Surprise.wav\n"
          ]
        },
        {
          "name": "stderr",
          "output_type": "stream",
          "text": [
            "\rTranscribing audio files:  48%|████▊     | 361/745 [2:19:25<1:45:22, 16.47s/it]"
          ]
        },
        {
          "name": "stdout",
          "output_type": "stream",
          "text": [
            "✓ Successfully transcribed: 363_Surprise.wav\n"
          ]
        },
        {
          "name": "stderr",
          "output_type": "stream",
          "text": [
            "\rTranscribing audio files:  49%|████▊     | 362/745 [2:19:47<1:57:22, 18.39s/it]"
          ]
        },
        {
          "name": "stdout",
          "output_type": "stream",
          "text": [
            "✓ Successfully transcribed: 364_Surprise.wav\n"
          ]
        },
        {
          "name": "stderr",
          "output_type": "stream",
          "text": [
            "\rTranscribing audio files:  49%|████▊     | 363/745 [2:20:23<2:28:57, 23.40s/it]"
          ]
        },
        {
          "name": "stdout",
          "output_type": "stream",
          "text": [
            "✓ Successfully transcribed: 365_Proud.wav\n"
          ]
        },
        {
          "name": "stderr",
          "output_type": "stream",
          "text": [
            "\rTranscribing audio files:  49%|████▉     | 364/745 [2:20:33<2:03:37, 19.47s/it]"
          ]
        },
        {
          "name": "stdout",
          "output_type": "stream",
          "text": [
            "✓ Successfully transcribed: 366_Surprise.wav\n"
          ]
        },
        {
          "name": "stderr",
          "output_type": "stream",
          "text": [
            "\rTranscribing audio files:  49%|████▉     | 365/745 [2:21:02<2:21:33, 22.35s/it]"
          ]
        },
        {
          "name": "stdout",
          "output_type": "stream",
          "text": [
            "✓ Successfully transcribed: 367_Surprise.wav\n"
          ]
        },
        {
          "name": "stderr",
          "output_type": "stream",
          "text": [
            "\rTranscribing audio files:  49%|████▉     | 366/745 [2:21:29<2:29:20, 23.64s/it]"
          ]
        },
        {
          "name": "stdout",
          "output_type": "stream",
          "text": [
            "✓ Successfully transcribed: 368_Surprise.wav\n"
          ]
        },
        {
          "name": "stderr",
          "output_type": "stream",
          "text": [
            "\rTranscribing audio files:  49%|████▉     | 367/745 [2:21:52<2:28:40, 23.60s/it]"
          ]
        },
        {
          "name": "stdout",
          "output_type": "stream",
          "text": [
            "✓ Successfully transcribed: 369_Joy.wav\n"
          ]
        },
        {
          "name": "stderr",
          "output_type": "stream",
          "text": [
            "\rTranscribing audio files:  49%|████▉     | 368/745 [2:22:08<2:13:03, 21.18s/it]"
          ]
        },
        {
          "name": "stdout",
          "output_type": "stream",
          "text": [
            "✓ Successfully transcribed: 370_Surprise.wav\n"
          ]
        },
        {
          "name": "stderr",
          "output_type": "stream",
          "text": [
            "\rTranscribing audio files:  50%|████▉     | 369/745 [2:22:17<1:51:04, 17.72s/it]"
          ]
        },
        {
          "name": "stdout",
          "output_type": "stream",
          "text": [
            "✓ Successfully transcribed: 371_Surprise.wav\n"
          ]
        },
        {
          "name": "stderr",
          "output_type": "stream",
          "text": [
            "\rTranscribing audio files:  50%|████▉     | 370/745 [2:22:38<1:55:42, 18.51s/it]"
          ]
        },
        {
          "name": "stdout",
          "output_type": "stream",
          "text": [
            "✓ Successfully transcribed: 372_Trust.wav\n"
          ]
        },
        {
          "name": "stderr",
          "output_type": "stream",
          "text": [
            "\rTranscribing audio files:  50%|████▉     | 371/745 [2:22:53<1:48:47, 17.45s/it]"
          ]
        },
        {
          "name": "stdout",
          "output_type": "stream",
          "text": [
            "✓ Successfully transcribed: 373_Surprise.wav\n"
          ]
        },
        {
          "name": "stderr",
          "output_type": "stream",
          "text": [
            "\rTranscribing audio files:  50%|████▉     | 372/745 [2:23:15<1:57:43, 18.94s/it]"
          ]
        },
        {
          "name": "stdout",
          "output_type": "stream",
          "text": [
            "✓ Successfully transcribed: 374_Trust.wav\n"
          ]
        },
        {
          "name": "stderr",
          "output_type": "stream",
          "text": [
            "\rTranscribing audio files:  50%|█████     | 373/745 [2:23:44<2:16:15, 21.98s/it]"
          ]
        },
        {
          "name": "stdout",
          "output_type": "stream",
          "text": [
            "✓ Successfully transcribed: 375_Surprise.wav\n"
          ]
        },
        {
          "name": "stderr",
          "output_type": "stream",
          "text": [
            "\rTranscribing audio files:  50%|█████     | 374/745 [2:23:58<2:01:14, 19.61s/it]"
          ]
        },
        {
          "name": "stdout",
          "output_type": "stream",
          "text": [
            "✓ Successfully transcribed: 376_Surprise.wav\n"
          ]
        },
        {
          "name": "stderr",
          "output_type": "stream",
          "text": [
            "\rTranscribing audio files:  50%|█████     | 375/745 [2:24:14<1:54:16, 18.53s/it]"
          ]
        },
        {
          "name": "stdout",
          "output_type": "stream",
          "text": [
            "✓ Successfully transcribed: 377_Trust.wav\n"
          ]
        },
        {
          "name": "stderr",
          "output_type": "stream",
          "text": [
            "\rTranscribing audio files:  50%|█████     | 376/745 [2:24:38<2:04:25, 20.23s/it]"
          ]
        },
        {
          "name": "stdout",
          "output_type": "stream",
          "text": [
            "✓ Successfully transcribed: 378_Surprise.wav\n"
          ]
        },
        {
          "name": "stderr",
          "output_type": "stream",
          "text": [
            "\rTranscribing audio files:  51%|█████     | 377/745 [2:25:05<2:15:23, 22.08s/it]"
          ]
        },
        {
          "name": "stdout",
          "output_type": "stream",
          "text": [
            "✓ Successfully transcribed: 379_Trust.wav\n"
          ]
        },
        {
          "name": "stderr",
          "output_type": "stream",
          "text": [
            "\rTranscribing audio files:  51%|█████     | 378/745 [2:25:22<2:06:50, 20.74s/it]"
          ]
        },
        {
          "name": "stdout",
          "output_type": "stream",
          "text": [
            "✓ Successfully transcribed: 380_Surprise.wav\n"
          ]
        },
        {
          "name": "stderr",
          "output_type": "stream",
          "text": [
            "\rTranscribing audio files:  51%|█████     | 379/745 [2:25:52<2:23:02, 23.45s/it]"
          ]
        },
        {
          "name": "stdout",
          "output_type": "stream",
          "text": [
            "✓ Successfully transcribed: 381_Surprise.wav\n"
          ]
        },
        {
          "name": "stderr",
          "output_type": "stream",
          "text": [
            "\rTranscribing audio files:  51%|█████     | 380/745 [2:26:11<2:14:37, 22.13s/it]"
          ]
        },
        {
          "name": "stdout",
          "output_type": "stream",
          "text": [
            "✓ Successfully transcribed: 382_Trust.wav\n"
          ]
        },
        {
          "name": "stderr",
          "output_type": "stream",
          "text": [
            "\rTranscribing audio files:  51%|█████     | 381/745 [2:26:32<2:11:01, 21.60s/it]"
          ]
        },
        {
          "name": "stdout",
          "output_type": "stream",
          "text": [
            "✓ Successfully transcribed: 383_Proud.wav\n"
          ]
        },
        {
          "name": "stderr",
          "output_type": "stream",
          "text": [
            "\rTranscribing audio files:  51%|█████▏    | 382/745 [2:26:51<2:07:25, 21.06s/it]"
          ]
        },
        {
          "name": "stdout",
          "output_type": "stream",
          "text": [
            "✓ Successfully transcribed: 384_Surprise.wav\n"
          ]
        },
        {
          "name": "stderr",
          "output_type": "stream",
          "text": [
            "\rTranscribing audio files:  51%|█████▏    | 383/745 [2:27:10<2:02:33, 20.31s/it]"
          ]
        },
        {
          "name": "stdout",
          "output_type": "stream",
          "text": [
            "✓ Successfully transcribed: 385_Surprise.wav\n"
          ]
        },
        {
          "name": "stderr",
          "output_type": "stream",
          "text": [
            "\rTranscribing audio files:  52%|█████▏    | 384/745 [2:27:29<1:59:35, 19.88s/it]"
          ]
        },
        {
          "name": "stdout",
          "output_type": "stream",
          "text": [
            "✓ Successfully transcribed: 386_Proud.wav\n"
          ]
        },
        {
          "name": "stderr",
          "output_type": "stream",
          "text": [
            "\rTranscribing audio files:  52%|█████▏    | 385/745 [2:27:48<1:58:19, 19.72s/it]"
          ]
        },
        {
          "name": "stdout",
          "output_type": "stream",
          "text": [
            "✓ Successfully transcribed: 387_Surprise.wav\n"
          ]
        },
        {
          "name": "stderr",
          "output_type": "stream",
          "text": [
            "\rTranscribing audio files:  52%|█████▏    | 386/745 [2:28:05<1:53:06, 18.90s/it]"
          ]
        },
        {
          "name": "stdout",
          "output_type": "stream",
          "text": [
            "✓ Successfully transcribed: 388_Surprise.wav\n"
          ]
        },
        {
          "name": "stderr",
          "output_type": "stream",
          "text": [
            "\rTranscribing audio files:  52%|█████▏    | 387/745 [2:28:12<1:30:35, 15.18s/it]"
          ]
        },
        {
          "name": "stdout",
          "output_type": "stream",
          "text": [
            "✓ Successfully transcribed: 390_Trust.wav\n"
          ]
        },
        {
          "name": "stderr",
          "output_type": "stream",
          "text": [
            "\rTranscribing audio files:  52%|█████▏    | 388/745 [2:28:36<1:46:46, 17.95s/it]"
          ]
        },
        {
          "name": "stdout",
          "output_type": "stream",
          "text": [
            "✓ Successfully transcribed: 391_Trust.wav\n"
          ]
        },
        {
          "name": "stderr",
          "output_type": "stream",
          "text": [
            "\rTranscribing audio files:  52%|█████▏    | 389/745 [2:29:05<2:05:43, 21.19s/it]"
          ]
        },
        {
          "name": "stdout",
          "output_type": "stream",
          "text": [
            "✓ Successfully transcribed: 392_Trust.wav\n"
          ]
        },
        {
          "name": "stderr",
          "output_type": "stream",
          "text": [
            "\rTranscribing audio files:  52%|█████▏    | 390/745 [2:29:20<1:55:14, 19.48s/it]"
          ]
        },
        {
          "name": "stdout",
          "output_type": "stream",
          "text": [
            "✓ Successfully transcribed: 393_Trust.wav\n"
          ]
        },
        {
          "name": "stderr",
          "output_type": "stream",
          "text": [
            "\rTranscribing audio files:  52%|█████▏    | 391/745 [2:29:23<1:24:39, 14.35s/it]"
          ]
        },
        {
          "name": "stdout",
          "output_type": "stream",
          "text": [
            "✓ Successfully transcribed: 394_Surprise.wav\n"
          ]
        },
        {
          "name": "stderr",
          "output_type": "stream",
          "text": [
            "\rTranscribing audio files:  53%|█████▎    | 392/745 [2:29:40<1:29:52, 15.28s/it]"
          ]
        },
        {
          "name": "stdout",
          "output_type": "stream",
          "text": [
            "✓ Successfully transcribed: 395_Surprise.wav\n"
          ]
        },
        {
          "name": "stderr",
          "output_type": "stream",
          "text": [
            "\rTranscribing audio files:  53%|█████▎    | 393/745 [2:29:58<1:33:31, 15.94s/it]"
          ]
        },
        {
          "name": "stdout",
          "output_type": "stream",
          "text": [
            "✓ Successfully transcribed: 396_Proud.wav\n"
          ]
        },
        {
          "name": "stderr",
          "output_type": "stream",
          "text": [
            "\rTranscribing audio files:  53%|█████▎    | 394/745 [2:30:08<1:24:02, 14.36s/it]"
          ]
        },
        {
          "name": "stdout",
          "output_type": "stream",
          "text": [
            "✓ Successfully transcribed: 397_Proud.wav\n"
          ]
        },
        {
          "name": "stderr",
          "output_type": "stream",
          "text": [
            "\rTranscribing audio files:  53%|█████▎    | 395/745 [2:30:22<1:23:10, 14.26s/it]"
          ]
        },
        {
          "name": "stdout",
          "output_type": "stream",
          "text": [
            "✓ Successfully transcribed: 398_Trust.wav\n"
          ]
        },
        {
          "name": "stderr",
          "output_type": "stream",
          "text": [
            "\rTranscribing audio files:  53%|█████▎    | 396/745 [2:31:12<2:25:18, 24.98s/it]"
          ]
        },
        {
          "name": "stdout",
          "output_type": "stream",
          "text": [
            "✓ Successfully transcribed: 399_Trust.wav\n"
          ]
        },
        {
          "name": "stderr",
          "output_type": "stream",
          "text": [
            "\rTranscribing audio files:  53%|█████▎    | 397/745 [2:31:24<2:01:39, 20.98s/it]"
          ]
        },
        {
          "name": "stdout",
          "output_type": "stream",
          "text": [
            "✓ Successfully transcribed: 400_Trust.wav\n"
          ]
        },
        {
          "name": "stderr",
          "output_type": "stream",
          "text": [
            "\rTranscribing audio files:  53%|█████▎    | 398/745 [2:32:06<2:37:21, 27.21s/it]"
          ]
        },
        {
          "name": "stdout",
          "output_type": "stream",
          "text": [
            "✓ Successfully transcribed: 401_Proud.wav\n"
          ]
        },
        {
          "name": "stderr",
          "output_type": "stream",
          "text": [
            "\rTranscribing audio files:  54%|█████▎    | 399/745 [2:32:11<1:58:08, 20.49s/it]"
          ]
        },
        {
          "name": "stdout",
          "output_type": "stream",
          "text": [
            "✓ Successfully transcribed: 402_Proud.wav\n"
          ]
        },
        {
          "name": "stderr",
          "output_type": "stream",
          "text": [
            "\rTranscribing audio files:  54%|█████▎    | 400/745 [2:32:21<1:39:42, 17.34s/it]"
          ]
        },
        {
          "name": "stdout",
          "output_type": "stream",
          "text": [
            "✓ Successfully transcribed: 403_Proud.wav\n"
          ]
        },
        {
          "name": "stderr",
          "output_type": "stream",
          "text": [
            "\rTranscribing audio files:  54%|█████▍    | 401/745 [2:33:11<2:36:06, 27.23s/it]"
          ]
        },
        {
          "name": "stdout",
          "output_type": "stream",
          "text": [
            "✓ Successfully transcribed: 404_Trust.wav\n"
          ]
        },
        {
          "name": "stderr",
          "output_type": "stream",
          "text": [
            "\rTranscribing audio files:  54%|█████▍    | 402/745 [2:33:20<2:04:11, 21.72s/it]"
          ]
        },
        {
          "name": "stdout",
          "output_type": "stream",
          "text": [
            "✓ Successfully transcribed: 405_Fear.wav\n"
          ]
        },
        {
          "name": "stderr",
          "output_type": "stream",
          "text": [
            "\rTranscribing audio files:  54%|█████▍    | 403/745 [2:33:28<1:41:39, 17.84s/it]"
          ]
        },
        {
          "name": "stdout",
          "output_type": "stream",
          "text": [
            "✓ Successfully transcribed: 406_Surprise.wav\n"
          ]
        },
        {
          "name": "stderr",
          "output_type": "stream",
          "text": [
            "\rTranscribing audio files:  54%|█████▍    | 404/745 [2:33:35<1:21:27, 14.33s/it]"
          ]
        },
        {
          "name": "stdout",
          "output_type": "stream",
          "text": [
            "✓ Successfully transcribed: 407_Proud.wav\n"
          ]
        },
        {
          "name": "stderr",
          "output_type": "stream",
          "text": [
            "\rTranscribing audio files:  54%|█████▍    | 405/745 [2:33:51<1:24:58, 15.00s/it]"
          ]
        },
        {
          "name": "stdout",
          "output_type": "stream",
          "text": [
            "✓ Successfully transcribed: 408_Proud.wav\n"
          ]
        },
        {
          "name": "stderr",
          "output_type": "stream",
          "text": [
            "\rTranscribing audio files:  54%|█████▍    | 406/745 [2:34:05<1:23:21, 14.75s/it]"
          ]
        },
        {
          "name": "stdout",
          "output_type": "stream",
          "text": [
            "✓ Successfully transcribed: 409_Surprise.wav\n"
          ]
        },
        {
          "name": "stderr",
          "output_type": "stream",
          "text": [
            "\rTranscribing audio files:  55%|█████▍    | 407/745 [2:34:28<1:35:48, 17.01s/it]"
          ]
        },
        {
          "name": "stdout",
          "output_type": "stream",
          "text": [
            "✓ Successfully transcribed: 410_Surprise.wav\n"
          ]
        },
        {
          "name": "stderr",
          "output_type": "stream",
          "text": [
            "\rTranscribing audio files:  55%|█████▍    | 408/745 [2:35:28<2:49:02, 30.10s/it]"
          ]
        },
        {
          "name": "stdout",
          "output_type": "stream",
          "text": [
            "✓ Successfully transcribed: 411_Proud.wav\n"
          ]
        },
        {
          "name": "stderr",
          "output_type": "stream",
          "text": [
            "\rTranscribing audio files:  55%|█████▍    | 409/745 [2:35:32<2:04:56, 22.31s/it]"
          ]
        },
        {
          "name": "stdout",
          "output_type": "stream",
          "text": [
            "✓ Successfully transcribed: 412_Proud.wav\n"
          ]
        },
        {
          "name": "stderr",
          "output_type": "stream",
          "text": [
            "\rTranscribing audio files:  55%|█████▌    | 410/745 [2:35:42<1:42:35, 18.37s/it]"
          ]
        },
        {
          "name": "stdout",
          "output_type": "stream",
          "text": [
            "✓ Successfully transcribed: 413_Trust.wav\n"
          ]
        },
        {
          "name": "stderr",
          "output_type": "stream",
          "text": [
            "\rTranscribing audio files:  55%|█████▌    | 411/745 [2:36:42<2:52:41, 31.02s/it]"
          ]
        },
        {
          "name": "stdout",
          "output_type": "stream",
          "text": [
            "✓ Successfully transcribed: 414_Trust.wav\n"
          ]
        },
        {
          "name": "stderr",
          "output_type": "stream",
          "text": [
            "\rTranscribing audio files:  55%|█████▌    | 412/745 [2:36:48<2:10:03, 23.43s/it]"
          ]
        },
        {
          "name": "stdout",
          "output_type": "stream",
          "text": [
            "✓ Successfully transcribed: 415_Trust.wav\n"
          ]
        },
        {
          "name": "stderr",
          "output_type": "stream",
          "text": [
            "\rTranscribing audio files:  55%|█████▌    | 413/745 [2:37:08<2:04:23, 22.48s/it]"
          ]
        },
        {
          "name": "stdout",
          "output_type": "stream",
          "text": [
            "✓ Successfully transcribed: 416_Surprise.wav\n"
          ]
        },
        {
          "name": "stderr",
          "output_type": "stream",
          "text": [
            "\rTranscribing audio files:  56%|█████▌    | 414/745 [2:37:26<1:56:13, 21.07s/it]"
          ]
        },
        {
          "name": "stdout",
          "output_type": "stream",
          "text": [
            "✓ Successfully transcribed: 417_Trust.wav\n"
          ]
        },
        {
          "name": "stderr",
          "output_type": "stream",
          "text": [
            "\rTranscribing audio files:  56%|█████▌    | 415/745 [2:37:30<1:27:43, 15.95s/it]"
          ]
        },
        {
          "name": "stdout",
          "output_type": "stream",
          "text": [
            "✓ Successfully transcribed: 418_Proud.wav\n"
          ]
        },
        {
          "name": "stderr",
          "output_type": "stream",
          "text": [
            "\rTranscribing audio files:  56%|█████▌    | 416/745 [2:37:36<1:11:06, 12.97s/it]"
          ]
        },
        {
          "name": "stdout",
          "output_type": "stream",
          "text": [
            "✓ Successfully transcribed: 419_Proud.wav\n"
          ]
        },
        {
          "name": "stderr",
          "output_type": "stream",
          "text": [
            "\rTranscribing audio files:  56%|█████▌    | 417/745 [2:37:40<56:15, 10.29s/it]  "
          ]
        },
        {
          "name": "stdout",
          "output_type": "stream",
          "text": [
            "✓ Successfully transcribed: 420_Surprise.wav\n"
          ]
        },
        {
          "name": "stderr",
          "output_type": "stream",
          "text": [
            "\rTranscribing audio files:  56%|█████▌    | 418/745 [2:37:45<47:55,  8.79s/it]"
          ]
        },
        {
          "name": "stdout",
          "output_type": "stream",
          "text": [
            "✓ Successfully transcribed: 421_Trust.wav\n"
          ]
        },
        {
          "name": "stderr",
          "output_type": "stream",
          "text": [
            "\rTranscribing audio files:  56%|█████▌    | 419/745 [2:37:57<53:16,  9.80s/it]"
          ]
        },
        {
          "name": "stdout",
          "output_type": "stream",
          "text": [
            "✓ Successfully transcribed: 422_Surprise.wav\n"
          ]
        },
        {
          "name": "stderr",
          "output_type": "stream",
          "text": [
            "\rTranscribing audio files:  56%|█████▋    | 420/745 [2:39:07<2:29:55, 27.68s/it]"
          ]
        },
        {
          "name": "stdout",
          "output_type": "stream",
          "text": [
            "✓ Successfully transcribed: 423_Proud.wav\n"
          ]
        },
        {
          "name": "stderr",
          "output_type": "stream",
          "text": [
            "\rTranscribing audio files:  57%|█████▋    | 421/745 [2:39:35<2:29:51, 27.75s/it]"
          ]
        },
        {
          "name": "stdout",
          "output_type": "stream",
          "text": [
            "✓ Successfully transcribed: 424_Joy.wav\n"
          ]
        },
        {
          "name": "stderr",
          "output_type": "stream",
          "text": [
            "\rTranscribing audio files:  57%|█████▋    | 422/745 [2:39:49<2:07:56, 23.77s/it]"
          ]
        },
        {
          "name": "stdout",
          "output_type": "stream",
          "text": [
            "✓ Successfully transcribed: 425_Trust.wav\n"
          ]
        },
        {
          "name": "stderr",
          "output_type": "stream",
          "text": [
            "\rTranscribing audio files:  57%|█████▋    | 423/745 [2:40:03<1:51:32, 20.78s/it]"
          ]
        },
        {
          "name": "stdout",
          "output_type": "stream",
          "text": [
            "✓ Successfully transcribed: 426_Anger.wav\n"
          ]
        },
        {
          "name": "stderr",
          "output_type": "stream",
          "text": [
            "\rTranscribing audio files:  57%|█████▋    | 424/745 [2:40:22<1:48:21, 20.26s/it]"
          ]
        },
        {
          "name": "stdout",
          "output_type": "stream",
          "text": [
            "✓ Successfully transcribed: 427_Proud.wav\n"
          ]
        },
        {
          "name": "stderr",
          "output_type": "stream",
          "text": [
            "\rTranscribing audio files:  57%|█████▋    | 425/745 [2:40:45<1:51:42, 20.94s/it]"
          ]
        },
        {
          "name": "stdout",
          "output_type": "stream",
          "text": [
            "✓ Successfully transcribed: 428_Proud.wav\n"
          ]
        },
        {
          "name": "stderr",
          "output_type": "stream",
          "text": [
            "\rTranscribing audio files:  57%|█████▋    | 426/745 [2:41:03<1:47:56, 20.30s/it]"
          ]
        },
        {
          "name": "stdout",
          "output_type": "stream",
          "text": [
            "✓ Successfully transcribed: 429_Surprise.wav\n"
          ]
        },
        {
          "name": "stderr",
          "output_type": "stream",
          "text": [
            "\rTranscribing audio files:  57%|█████▋    | 427/745 [2:41:25<1:49:59, 20.75s/it]"
          ]
        },
        {
          "name": "stdout",
          "output_type": "stream",
          "text": [
            "✓ Successfully transcribed: 430_Anger.wav\n"
          ]
        },
        {
          "name": "stderr",
          "output_type": "stream",
          "text": [
            "\rTranscribing audio files:  57%|█████▋    | 428/745 [2:41:38<1:37:49, 18.52s/it]"
          ]
        },
        {
          "name": "stdout",
          "output_type": "stream",
          "text": [
            "✓ Successfully transcribed: 431_Trust.wav\n"
          ]
        },
        {
          "name": "stderr",
          "output_type": "stream",
          "text": [
            "\rTranscribing audio files:  58%|█████▊    | 429/745 [2:41:55<1:33:58, 17.84s/it]"
          ]
        },
        {
          "name": "stdout",
          "output_type": "stream",
          "text": [
            "✓ Successfully transcribed: 432_Proud.wav\n"
          ]
        },
        {
          "name": "stderr",
          "output_type": "stream",
          "text": [
            "\rTranscribing audio files:  58%|█████▊    | 430/745 [2:42:11<1:30:43, 17.28s/it]"
          ]
        },
        {
          "name": "stdout",
          "output_type": "stream",
          "text": [
            "✓ Successfully transcribed: 433_Trust.wav\n"
          ]
        },
        {
          "name": "stderr",
          "output_type": "stream",
          "text": [
            "\rTranscribing audio files:  58%|█████▊    | 431/745 [2:42:45<1:57:12, 22.40s/it]"
          ]
        },
        {
          "name": "stdout",
          "output_type": "stream",
          "text": [
            "✓ Successfully transcribed: 434_Surprise.wav\n"
          ]
        },
        {
          "name": "stderr",
          "output_type": "stream",
          "text": [
            "\rTranscribing audio files:  58%|█████▊    | 432/745 [2:42:52<1:32:42, 17.77s/it]"
          ]
        },
        {
          "name": "stdout",
          "output_type": "stream",
          "text": [
            "✓ Successfully transcribed: 435_Trust.wav\n"
          ]
        },
        {
          "name": "stderr",
          "output_type": "stream",
          "text": [
            "\rTranscribing audio files:  58%|█████▊    | 433/745 [2:43:27<1:59:00, 22.89s/it]"
          ]
        },
        {
          "name": "stdout",
          "output_type": "stream",
          "text": [
            "✓ Successfully transcribed: 436_Proud.wav\n"
          ]
        },
        {
          "name": "stderr",
          "output_type": "stream",
          "text": [
            "\rTranscribing audio files:  58%|█████▊    | 434/745 [2:43:33<1:33:21, 18.01s/it]"
          ]
        },
        {
          "name": "stdout",
          "output_type": "stream",
          "text": [
            "✓ Successfully transcribed: 437_Proud.wav\n"
          ]
        },
        {
          "name": "stderr",
          "output_type": "stream",
          "text": [
            "\rTranscribing audio files:  58%|█████▊    | 435/745 [2:43:53<1:35:35, 18.50s/it]"
          ]
        },
        {
          "name": "stdout",
          "output_type": "stream",
          "text": [
            "✓ Successfully transcribed: 438_Proud.wav\n"
          ]
        },
        {
          "name": "stderr",
          "output_type": "stream",
          "text": [
            "\rTranscribing audio files:  59%|█████▊    | 436/745 [2:44:19<1:46:40, 20.71s/it]"
          ]
        },
        {
          "name": "stdout",
          "output_type": "stream",
          "text": [
            "✓ Successfully transcribed: 439_Trust.wav\n"
          ]
        },
        {
          "name": "stderr",
          "output_type": "stream",
          "text": [
            "\rTranscribing audio files:  59%|█████▊    | 437/745 [2:44:29<1:29:52, 17.51s/it]"
          ]
        },
        {
          "name": "stdout",
          "output_type": "stream",
          "text": [
            "✓ Successfully transcribed: 440_Surprise.wav\n"
          ]
        },
        {
          "name": "stderr",
          "output_type": "stream",
          "text": [
            "\rTranscribing audio files:  59%|█████▉    | 438/745 [2:44:53<1:39:14, 19.40s/it]"
          ]
        },
        {
          "name": "stdout",
          "output_type": "stream",
          "text": [
            "✓ Successfully transcribed: 441_Trust.wav\n"
          ]
        },
        {
          "name": "stderr",
          "output_type": "stream",
          "text": [
            "\rTranscribing audio files:  59%|█████▉    | 439/745 [2:45:12<1:37:53, 19.20s/it]"
          ]
        },
        {
          "name": "stdout",
          "output_type": "stream",
          "text": [
            "✓ Successfully transcribed: 442_Proud.wav\n"
          ]
        },
        {
          "name": "stderr",
          "output_type": "stream",
          "text": [
            "\rTranscribing audio files:  59%|█████▉    | 440/745 [2:45:35<1:44:21, 20.53s/it]"
          ]
        },
        {
          "name": "stdout",
          "output_type": "stream",
          "text": [
            "✓ Successfully transcribed: 443_Joy.wav\n"
          ]
        },
        {
          "name": "stderr",
          "output_type": "stream",
          "text": [
            "\rTranscribing audio files:  59%|█████▉    | 441/745 [2:45:47<1:31:07, 17.98s/it]"
          ]
        },
        {
          "name": "stdout",
          "output_type": "stream",
          "text": [
            "✓ Successfully transcribed: 444_Proud.wav\n"
          ]
        },
        {
          "name": "stderr",
          "output_type": "stream",
          "text": [
            "\rTranscribing audio files:  59%|█████▉    | 442/745 [2:46:06<1:32:25, 18.30s/it]"
          ]
        },
        {
          "name": "stdout",
          "output_type": "stream",
          "text": [
            "✓ Successfully transcribed: 445_Trust.wav\n"
          ]
        },
        {
          "name": "stderr",
          "output_type": "stream",
          "text": [
            "\rTranscribing audio files:  59%|█████▉    | 443/745 [2:46:20<1:25:06, 16.91s/it]"
          ]
        },
        {
          "name": "stdout",
          "output_type": "stream",
          "text": [
            "✓ Successfully transcribed: 446_Surprise.wav\n"
          ]
        },
        {
          "name": "stderr",
          "output_type": "stream",
          "text": [
            "\rTranscribing audio files:  60%|█████▉    | 444/745 [2:46:32<1:17:44, 15.50s/it]"
          ]
        },
        {
          "name": "stdout",
          "output_type": "stream",
          "text": [
            "✓ Successfully transcribed: 447_Proud.wav\n"
          ]
        },
        {
          "name": "stderr",
          "output_type": "stream",
          "text": [
            "\rTranscribing audio files:  60%|█████▉    | 445/745 [2:46:44<1:11:27, 14.29s/it]"
          ]
        },
        {
          "name": "stdout",
          "output_type": "stream",
          "text": [
            "✓ Successfully transcribed: 448_Trust.wav\n"
          ]
        },
        {
          "name": "stderr",
          "output_type": "stream",
          "text": [
            "\rTranscribing audio files:  60%|█████▉    | 446/745 [2:47:00<1:13:58, 14.85s/it]"
          ]
        },
        {
          "name": "stdout",
          "output_type": "stream",
          "text": [
            "✓ Successfully transcribed: 449_Sadness.wav\n"
          ]
        },
        {
          "name": "stderr",
          "output_type": "stream",
          "text": [
            "\rTranscribing audio files:  60%|██████    | 447/745 [2:47:15<1:13:42, 14.84s/it]"
          ]
        },
        {
          "name": "stdout",
          "output_type": "stream",
          "text": [
            "✓ Successfully transcribed: 450_Trust.wav\n"
          ]
        },
        {
          "name": "stderr",
          "output_type": "stream",
          "text": [
            "\rTranscribing audio files:  60%|██████    | 448/745 [2:47:42<1:32:49, 18.75s/it]"
          ]
        },
        {
          "name": "stdout",
          "output_type": "stream",
          "text": [
            "✓ Successfully transcribed: 451_Surprise.wav\n"
          ]
        },
        {
          "name": "stderr",
          "output_type": "stream",
          "text": [
            "\rTranscribing audio files:  60%|██████    | 449/745 [2:47:59<1:28:39, 17.97s/it]"
          ]
        },
        {
          "name": "stdout",
          "output_type": "stream",
          "text": [
            "✓ Successfully transcribed: 452_Trust.wav\n"
          ]
        },
        {
          "name": "stderr",
          "output_type": "stream",
          "text": [
            "\rTranscribing audio files:  60%|██████    | 450/745 [2:48:12<1:22:17, 16.74s/it]"
          ]
        },
        {
          "name": "stdout",
          "output_type": "stream",
          "text": [
            "✓ Successfully transcribed: 453_Trust.wav\n"
          ]
        },
        {
          "name": "stderr",
          "output_type": "stream",
          "text": [
            "\rTranscribing audio files:  61%|██████    | 451/745 [2:48:32<1:25:56, 17.54s/it]"
          ]
        },
        {
          "name": "stdout",
          "output_type": "stream",
          "text": [
            "✓ Successfully transcribed: 454_Proud.wav\n"
          ]
        },
        {
          "name": "stderr",
          "output_type": "stream",
          "text": [
            "\rTranscribing audio files:  61%|██████    | 452/745 [2:48:50<1:27:02, 17.82s/it]"
          ]
        },
        {
          "name": "stdout",
          "output_type": "stream",
          "text": [
            "✓ Successfully transcribed: 455_Trust.wav\n"
          ]
        },
        {
          "name": "stderr",
          "output_type": "stream",
          "text": [
            "\rTranscribing audio files:  61%|██████    | 453/745 [2:49:10<1:29:41, 18.43s/it]"
          ]
        },
        {
          "name": "stdout",
          "output_type": "stream",
          "text": [
            "✓ Successfully transcribed: 456_Surprise.wav\n"
          ]
        },
        {
          "name": "stderr",
          "output_type": "stream",
          "text": [
            "\rTranscribing audio files:  61%|██████    | 454/745 [2:49:30<1:32:02, 18.98s/it]"
          ]
        },
        {
          "name": "stdout",
          "output_type": "stream",
          "text": [
            "✓ Successfully transcribed: 457_Joy.wav\n"
          ]
        },
        {
          "name": "stderr",
          "output_type": "stream",
          "text": [
            "\rTranscribing audio files:  61%|██████    | 455/745 [2:49:42<1:21:22, 16.84s/it]"
          ]
        },
        {
          "name": "stdout",
          "output_type": "stream",
          "text": [
            "✓ Successfully transcribed: 458_Neutral.wav\n"
          ]
        },
        {
          "name": "stderr",
          "output_type": "stream",
          "text": [
            "\rTranscribing audio files:  61%|██████    | 456/745 [2:50:05<1:29:38, 18.61s/it]"
          ]
        },
        {
          "name": "stdout",
          "output_type": "stream",
          "text": [
            "✓ Successfully transcribed: 459_Proud.wav\n"
          ]
        },
        {
          "name": "stderr",
          "output_type": "stream",
          "text": [
            "\rTranscribing audio files:  61%|██████▏   | 457/745 [2:50:21<1:26:10, 17.95s/it]"
          ]
        },
        {
          "name": "stdout",
          "output_type": "stream",
          "text": [
            "✓ Successfully transcribed: 460_Trust.wav\n"
          ]
        },
        {
          "name": "stderr",
          "output_type": "stream",
          "text": [
            "\rTranscribing audio files:  61%|██████▏   | 458/745 [2:50:35<1:20:11, 16.77s/it]"
          ]
        },
        {
          "name": "stdout",
          "output_type": "stream",
          "text": [
            "✓ Successfully transcribed: 461_Surprise.wav\n"
          ]
        },
        {
          "name": "stderr",
          "output_type": "stream",
          "text": [
            "\rTranscribing audio files:  62%|██████▏   | 459/745 [2:50:53<1:21:11, 17.03s/it]"
          ]
        },
        {
          "name": "stdout",
          "output_type": "stream",
          "text": [
            "✓ Successfully transcribed: 462_Trust.wav\n"
          ]
        },
        {
          "name": "stderr",
          "output_type": "stream",
          "text": [
            "\rTranscribing audio files:  62%|██████▏   | 460/745 [2:51:22<1:37:48, 20.59s/it]"
          ]
        },
        {
          "name": "stdout",
          "output_type": "stream",
          "text": [
            "✓ Successfully transcribed: 463_Proud.wav\n"
          ]
        },
        {
          "name": "stderr",
          "output_type": "stream",
          "text": [
            "\rTranscribing audio files:  62%|██████▏   | 461/745 [2:51:41<1:35:12, 20.11s/it]"
          ]
        },
        {
          "name": "stdout",
          "output_type": "stream",
          "text": [
            "✓ Successfully transcribed: 464_Proud.wav\n"
          ]
        },
        {
          "name": "stderr",
          "output_type": "stream",
          "text": [
            "\rTranscribing audio files:  62%|██████▏   | 462/745 [2:51:55<1:25:28, 18.12s/it]"
          ]
        },
        {
          "name": "stdout",
          "output_type": "stream",
          "text": [
            "✓ Successfully transcribed: 465_Trust.wav\n"
          ]
        },
        {
          "name": "stderr",
          "output_type": "stream",
          "text": [
            "\rTranscribing audio files:  62%|██████▏   | 463/745 [2:52:12<1:24:42, 18.02s/it]"
          ]
        },
        {
          "name": "stdout",
          "output_type": "stream",
          "text": [
            "✓ Successfully transcribed: 466_Surprise.wav\n"
          ]
        },
        {
          "name": "stderr",
          "output_type": "stream",
          "text": [
            "\rTranscribing audio files:  62%|██████▏   | 464/745 [2:52:34<1:28:54, 18.98s/it]"
          ]
        },
        {
          "name": "stdout",
          "output_type": "stream",
          "text": [
            "✓ Successfully transcribed: 467_Proud.wav\n"
          ]
        },
        {
          "name": "stderr",
          "output_type": "stream",
          "text": [
            "\rTranscribing audio files:  62%|██████▏   | 465/745 [2:52:51<1:26:29, 18.53s/it]"
          ]
        },
        {
          "name": "stdout",
          "output_type": "stream",
          "text": [
            "✓ Successfully transcribed: 468_Surprise.wav\n"
          ]
        },
        {
          "name": "stderr",
          "output_type": "stream",
          "text": [
            "\rTranscribing audio files:  63%|██████▎   | 466/745 [2:53:08<1:23:59, 18.06s/it]"
          ]
        },
        {
          "name": "stdout",
          "output_type": "stream",
          "text": [
            "✓ Successfully transcribed: 469_Trust.wav\n"
          ]
        },
        {
          "name": "stderr",
          "output_type": "stream",
          "text": [
            "\rTranscribing audio files:  63%|██████▎   | 467/745 [2:53:24<1:20:43, 17.42s/it]"
          ]
        },
        {
          "name": "stdout",
          "output_type": "stream",
          "text": [
            "✓ Successfully transcribed: 470_Proud.wav\n"
          ]
        },
        {
          "name": "stderr",
          "output_type": "stream",
          "text": [
            "\rTranscribing audio files:  63%|██████▎   | 468/745 [2:53:38<1:15:36, 16.38s/it]"
          ]
        },
        {
          "name": "stdout",
          "output_type": "stream",
          "text": [
            "✓ Successfully transcribed: 471_Trust.wav\n"
          ]
        },
        {
          "name": "stderr",
          "output_type": "stream",
          "text": [
            "\rTranscribing audio files:  63%|██████▎   | 469/745 [2:53:51<1:11:07, 15.46s/it]"
          ]
        },
        {
          "name": "stdout",
          "output_type": "stream",
          "text": [
            "✓ Successfully transcribed: 472_Proud.wav\n"
          ]
        },
        {
          "name": "stderr",
          "output_type": "stream",
          "text": [
            "\rTranscribing audio files:  63%|██████▎   | 470/745 [2:54:13<1:20:00, 17.46s/it]"
          ]
        },
        {
          "name": "stdout",
          "output_type": "stream",
          "text": [
            "✓ Successfully transcribed: 473_Trust.wav\n"
          ]
        },
        {
          "name": "stderr",
          "output_type": "stream",
          "text": [
            "\rTranscribing audio files:  63%|██████▎   | 471/745 [2:54:27<1:13:56, 16.19s/it]"
          ]
        },
        {
          "name": "stdout",
          "output_type": "stream",
          "text": [
            "✓ Successfully transcribed: 474_Proud.wav\n"
          ]
        },
        {
          "name": "stderr",
          "output_type": "stream",
          "text": [
            "\rTranscribing audio files:  63%|██████▎   | 472/745 [2:54:46<1:17:43, 17.08s/it]"
          ]
        },
        {
          "name": "stdout",
          "output_type": "stream",
          "text": [
            "✓ Successfully transcribed: 475_Surprise.wav\n"
          ]
        },
        {
          "name": "stderr",
          "output_type": "stream",
          "text": [
            "\rTranscribing audio files:  63%|██████▎   | 473/745 [2:54:58<1:11:29, 15.77s/it]"
          ]
        },
        {
          "name": "stdout",
          "output_type": "stream",
          "text": [
            "✓ Successfully transcribed: 476_Trust.wav\n"
          ]
        },
        {
          "name": "stderr",
          "output_type": "stream",
          "text": [
            "\rTranscribing audio files:  64%|██████▎   | 474/745 [2:55:57<2:09:15, 28.62s/it]"
          ]
        },
        {
          "name": "stdout",
          "output_type": "stream",
          "text": [
            "✓ Successfully transcribed: 477_Trust.wav\n"
          ]
        },
        {
          "name": "stderr",
          "output_type": "stream",
          "text": [
            "\rTranscribing audio files:  64%|██████▍   | 475/745 [2:56:06<1:42:17, 22.73s/it]"
          ]
        },
        {
          "name": "stdout",
          "output_type": "stream",
          "text": [
            "✓ Successfully transcribed: 478_Surprise.wav\n"
          ]
        },
        {
          "name": "stderr",
          "output_type": "stream",
          "text": [
            "\rTranscribing audio files:  64%|██████▍   | 476/745 [2:56:15<1:24:00, 18.74s/it]"
          ]
        },
        {
          "name": "stdout",
          "output_type": "stream",
          "text": [
            "✓ Successfully transcribed: 479_Proud.wav\n"
          ]
        },
        {
          "name": "stderr",
          "output_type": "stream",
          "text": [
            "\rTranscribing audio files:  64%|██████▍   | 477/745 [2:56:41<1:32:36, 20.73s/it]"
          ]
        },
        {
          "name": "stdout",
          "output_type": "stream",
          "text": [
            "✓ Successfully transcribed: 480_Trust.wav\n"
          ]
        },
        {
          "name": "stderr",
          "output_type": "stream",
          "text": [
            "\rTranscribing audio files:  64%|██████▍   | 478/745 [2:56:53<1:21:04, 18.22s/it]"
          ]
        },
        {
          "name": "stdout",
          "output_type": "stream",
          "text": [
            "✓ Successfully transcribed: 481_Anger.wav\n"
          ]
        },
        {
          "name": "stderr",
          "output_type": "stream",
          "text": [
            "\rTranscribing audio files:  64%|██████▍   | 479/745 [2:57:07<1:14:49, 16.88s/it]"
          ]
        },
        {
          "name": "stdout",
          "output_type": "stream",
          "text": [
            "✓ Successfully transcribed: 482_Proud.wav\n"
          ]
        },
        {
          "name": "stderr",
          "output_type": "stream",
          "text": [
            "\rTranscribing audio files:  64%|██████▍   | 480/745 [2:57:27<1:18:09, 17.70s/it]"
          ]
        },
        {
          "name": "stdout",
          "output_type": "stream",
          "text": [
            "✓ Successfully transcribed: 483_Trust.wav\n"
          ]
        },
        {
          "name": "stderr",
          "output_type": "stream",
          "text": [
            "\rTranscribing audio files:  65%|██████▍   | 481/745 [2:57:45<1:18:31, 17.85s/it]"
          ]
        },
        {
          "name": "stdout",
          "output_type": "stream",
          "text": [
            "✓ Successfully transcribed: 484_Surprise.wav\n"
          ]
        },
        {
          "name": "stderr",
          "output_type": "stream",
          "text": [
            "\rTranscribing audio files:  65%|██████▍   | 482/745 [2:58:13<1:31:36, 20.90s/it]"
          ]
        },
        {
          "name": "stdout",
          "output_type": "stream",
          "text": [
            "✓ Successfully transcribed: 485_Trust.wav\n"
          ]
        },
        {
          "name": "stderr",
          "output_type": "stream",
          "text": [
            "\rTranscribing audio files:  65%|██████▍   | 483/745 [2:58:29<1:25:02, 19.47s/it]"
          ]
        },
        {
          "name": "stdout",
          "output_type": "stream",
          "text": [
            "✓ Successfully transcribed: 486_Trust.wav\n"
          ]
        },
        {
          "name": "stderr",
          "output_type": "stream",
          "text": [
            "\rTranscribing audio files:  65%|██████▍   | 484/745 [2:58:47<1:23:21, 19.16s/it]"
          ]
        },
        {
          "name": "stdout",
          "output_type": "stream",
          "text": [
            "✓ Successfully transcribed: 487_Trust.wav\n"
          ]
        },
        {
          "name": "stderr",
          "output_type": "stream",
          "text": [
            "\rTranscribing audio files:  65%|██████▌   | 485/745 [2:59:06<1:22:35, 19.06s/it]"
          ]
        },
        {
          "name": "stdout",
          "output_type": "stream",
          "text": [
            "✓ Successfully transcribed: 488_Proud.wav\n"
          ]
        },
        {
          "name": "stderr",
          "output_type": "stream",
          "text": [
            "\rTranscribing audio files:  65%|██████▌   | 486/745 [2:59:32<1:31:37, 21.22s/it]"
          ]
        },
        {
          "name": "stdout",
          "output_type": "stream",
          "text": [
            "✓ Successfully transcribed: 489_Trust.wav\n"
          ]
        },
        {
          "name": "stderr",
          "output_type": "stream",
          "text": [
            "\rTranscribing audio files:  65%|██████▌   | 487/745 [3:00:05<1:45:21, 24.50s/it]"
          ]
        },
        {
          "name": "stdout",
          "output_type": "stream",
          "text": [
            "✓ Successfully transcribed: 490_Surprise.wav\n"
          ]
        },
        {
          "name": "stderr",
          "output_type": "stream",
          "text": [
            "\rTranscribing audio files:  66%|██████▌   | 488/745 [3:00:10<1:19:55, 18.66s/it]"
          ]
        },
        {
          "name": "stdout",
          "output_type": "stream",
          "text": [
            "✓ Successfully transcribed: 491_Surprise.wav\n"
          ]
        },
        {
          "name": "stderr",
          "output_type": "stream",
          "text": [
            "\rTranscribing audio files:  66%|██████▌   | 489/745 [3:00:14<1:01:35, 14.44s/it]"
          ]
        },
        {
          "name": "stdout",
          "output_type": "stream",
          "text": [
            "✓ Successfully transcribed: 492_Proud.wav\n"
          ]
        },
        {
          "name": "stderr",
          "output_type": "stream",
          "text": [
            "\rTranscribing audio files:  66%|██████▌   | 490/745 [3:00:39<1:14:28, 17.53s/it]"
          ]
        },
        {
          "name": "stdout",
          "output_type": "stream",
          "text": [
            "✓ Successfully transcribed: 493_Surprise.wav\n"
          ]
        },
        {
          "name": "stderr",
          "output_type": "stream",
          "text": [
            "\rTranscribing audio files:  66%|██████▌   | 491/745 [3:00:43<57:09, 13.50s/it]  "
          ]
        },
        {
          "name": "stdout",
          "output_type": "stream",
          "text": [
            "✓ Successfully transcribed: 494_Proud.wav\n"
          ]
        },
        {
          "name": "stderr",
          "output_type": "stream",
          "text": [
            "\rTranscribing audio files:  66%|██████▌   | 492/745 [3:00:56<55:45, 13.22s/it]"
          ]
        },
        {
          "name": "stdout",
          "output_type": "stream",
          "text": [
            "✓ Successfully transcribed: 495_Proud.wav\n"
          ]
        },
        {
          "name": "stderr",
          "output_type": "stream",
          "text": [
            "\rTranscribing audio files:  66%|██████▌   | 493/745 [3:01:09<56:04, 13.35s/it]"
          ]
        },
        {
          "name": "stdout",
          "output_type": "stream",
          "text": [
            "✓ Successfully transcribed: 496_Surprise.wav\n"
          ]
        },
        {
          "name": "stderr",
          "output_type": "stream",
          "text": [
            "\rTranscribing audio files:  66%|██████▋   | 494/745 [3:01:28<1:02:38, 14.97s/it]"
          ]
        },
        {
          "name": "stdout",
          "output_type": "stream",
          "text": [
            "✓ Successfully transcribed: 497_Proud.wav\n"
          ]
        },
        {
          "name": "stderr",
          "output_type": "stream",
          "text": [
            "\rTranscribing audio files:  66%|██████▋   | 495/745 [3:01:48<1:08:23, 16.41s/it]"
          ]
        },
        {
          "name": "stdout",
          "output_type": "stream",
          "text": [
            "✓ Successfully transcribed: 498_Surprise.wav\n"
          ]
        },
        {
          "name": "stderr",
          "output_type": "stream",
          "text": [
            "\rTranscribing audio files:  67%|██████▋   | 496/745 [3:01:56<58:18, 14.05s/it]  "
          ]
        },
        {
          "name": "stdout",
          "output_type": "stream",
          "text": [
            "✓ Successfully transcribed: 499_Proud.wav\n"
          ]
        },
        {
          "name": "stderr",
          "output_type": "stream",
          "text": [
            "\rTranscribing audio files:  67%|██████▋   | 497/745 [3:02:06<52:13, 12.64s/it]"
          ]
        },
        {
          "name": "stdout",
          "output_type": "stream",
          "text": [
            "✓ Successfully transcribed: 500_Joy.wav\n"
          ]
        },
        {
          "name": "stderr",
          "output_type": "stream",
          "text": [
            "\rTranscribing audio files:  67%|██████▋   | 498/745 [3:02:20<53:44, 13.06s/it]"
          ]
        },
        {
          "name": "stdout",
          "output_type": "stream",
          "text": [
            "✓ Successfully transcribed: 502_Trust.wav\n"
          ]
        },
        {
          "name": "stderr",
          "output_type": "stream",
          "text": [
            "\rTranscribing audio files:  67%|██████▋   | 499/745 [3:02:45<1:09:12, 16.88s/it]"
          ]
        },
        {
          "name": "stdout",
          "output_type": "stream",
          "text": [
            "✓ Successfully transcribed: 503_Trust.wav\n"
          ]
        },
        {
          "name": "stderr",
          "output_type": "stream",
          "text": [
            "\rTranscribing audio files:  67%|██████▋   | 500/745 [3:03:04<1:11:22, 17.48s/it]"
          ]
        },
        {
          "name": "stdout",
          "output_type": "stream",
          "text": [
            "✓ Successfully transcribed: 504_Trust.wav\n"
          ]
        },
        {
          "name": "stderr",
          "output_type": "stream",
          "text": [
            "\rTranscribing audio files:  67%|██████▋   | 501/745 [3:03:21<1:09:42, 17.14s/it]"
          ]
        },
        {
          "name": "stdout",
          "output_type": "stream",
          "text": [
            "✓ Successfully transcribed: 505_Trust.wav\n"
          ]
        },
        {
          "name": "stderr",
          "output_type": "stream",
          "text": [
            "\rTranscribing audio files:  67%|██████▋   | 502/745 [3:03:25<53:50, 13.29s/it]  "
          ]
        },
        {
          "name": "stdout",
          "output_type": "stream",
          "text": [
            "✓ Successfully transcribed: 506_Trust.wav\n"
          ]
        },
        {
          "name": "stderr",
          "output_type": "stream",
          "text": [
            "\rTranscribing audio files:  68%|██████▊   | 503/745 [3:03:38<52:48, 13.09s/it]"
          ]
        },
        {
          "name": "stdout",
          "output_type": "stream",
          "text": [
            "✓ Successfully transcribed: 507_Trust.wav\n"
          ]
        },
        {
          "name": "stderr",
          "output_type": "stream",
          "text": [
            "\rTranscribing audio files:  68%|██████▊   | 504/745 [3:03:42<41:41, 10.38s/it]"
          ]
        },
        {
          "name": "stdout",
          "output_type": "stream",
          "text": [
            "✓ Successfully transcribed: 508_Surprise.wav\n"
          ]
        },
        {
          "name": "stderr",
          "output_type": "stream",
          "text": [
            "\rTranscribing audio files:  68%|██████▊   | 505/745 [3:03:46<34:06,  8.53s/it]"
          ]
        },
        {
          "name": "stdout",
          "output_type": "stream",
          "text": [
            "✓ Successfully transcribed: 509_Joy.wav\n"
          ]
        },
        {
          "name": "stderr",
          "output_type": "stream",
          "text": [
            "\rTranscribing audio files:  68%|██████▊   | 506/745 [3:04:00<40:39, 10.21s/it]"
          ]
        },
        {
          "name": "stdout",
          "output_type": "stream",
          "text": [
            "✓ Successfully transcribed: 510_Surprise.wav\n"
          ]
        },
        {
          "name": "stderr",
          "output_type": "stream",
          "text": [
            "\rTranscribing audio files:  68%|██████▊   | 507/745 [3:04:07<36:16,  9.14s/it]"
          ]
        },
        {
          "name": "stdout",
          "output_type": "stream",
          "text": [
            "✓ Successfully transcribed: 511_Trust.wav\n"
          ]
        },
        {
          "name": "stderr",
          "output_type": "stream",
          "text": [
            "\rTranscribing audio files:  68%|██████▊   | 508/745 [3:04:21<42:20, 10.72s/it]"
          ]
        },
        {
          "name": "stdout",
          "output_type": "stream",
          "text": [
            "✓ Successfully transcribed: 512_Joy.wav\n"
          ]
        },
        {
          "name": "stderr",
          "output_type": "stream",
          "text": [
            "\rTranscribing audio files:  68%|██████▊   | 509/745 [3:04:37<48:33, 12.35s/it]"
          ]
        },
        {
          "name": "stdout",
          "output_type": "stream",
          "text": [
            "✓ Successfully transcribed: 513_Trust.wav\n"
          ]
        },
        {
          "name": "stderr",
          "output_type": "stream",
          "text": [
            "\rTranscribing audio files:  68%|██████▊   | 510/745 [3:04:50<49:02, 12.52s/it]"
          ]
        },
        {
          "name": "stdout",
          "output_type": "stream",
          "text": [
            "✓ Successfully transcribed: 514_Joy.wav\n"
          ]
        },
        {
          "name": "stderr",
          "output_type": "stream",
          "text": [
            "\rTranscribing audio files:  69%|██████▊   | 511/745 [3:05:04<50:43, 13.01s/it]"
          ]
        },
        {
          "name": "stdout",
          "output_type": "stream",
          "text": [
            "✓ Successfully transcribed: 515_Trust.wav\n"
          ]
        },
        {
          "name": "stderr",
          "output_type": "stream",
          "text": [
            "\rTranscribing audio files:  69%|██████▊   | 512/745 [3:05:19<52:13, 13.45s/it]"
          ]
        },
        {
          "name": "stdout",
          "output_type": "stream",
          "text": [
            "✓ Successfully transcribed: 516_Surprise.wav\n"
          ]
        },
        {
          "name": "stderr",
          "output_type": "stream",
          "text": [
            "\rTranscribing audio files:  69%|██████▉   | 513/745 [3:05:32<52:14, 13.51s/it]"
          ]
        },
        {
          "name": "stdout",
          "output_type": "stream",
          "text": [
            "✓ Successfully transcribed: 517_Trust.wav\n"
          ]
        },
        {
          "name": "stderr",
          "output_type": "stream",
          "text": [
            "\rTranscribing audio files:  69%|██████▉   | 514/745 [3:05:46<52:34, 13.65s/it]"
          ]
        },
        {
          "name": "stdout",
          "output_type": "stream",
          "text": [
            "✓ Successfully transcribed: 518_Trust.wav\n"
          ]
        },
        {
          "name": "stderr",
          "output_type": "stream",
          "text": [
            "\rTranscribing audio files:  69%|██████▉   | 515/745 [3:05:57<48:56, 12.77s/it]"
          ]
        },
        {
          "name": "stdout",
          "output_type": "stream",
          "text": [
            "✓ Successfully transcribed: 519_Anger.wav\n"
          ]
        },
        {
          "name": "stderr",
          "output_type": "stream",
          "text": [
            "\rTranscribing audio files:  69%|██████▉   | 516/745 [3:07:05<1:51:36, 29.24s/it]"
          ]
        },
        {
          "name": "stdout",
          "output_type": "stream",
          "text": [
            "✓ Successfully transcribed: 520_Trust.wav\n"
          ]
        },
        {
          "name": "stderr",
          "output_type": "stream",
          "text": [
            "\rTranscribing audio files:  69%|██████▉   | 517/745 [3:07:23<1:38:29, 25.92s/it]"
          ]
        },
        {
          "name": "stdout",
          "output_type": "stream",
          "text": [
            "✓ Successfully transcribed: 521_Proud.wav\n"
          ]
        },
        {
          "name": "stderr",
          "output_type": "stream",
          "text": [
            "\rTranscribing audio files:  70%|██████▉   | 518/745 [3:07:40<1:28:27, 23.38s/it]"
          ]
        },
        {
          "name": "stdout",
          "output_type": "stream",
          "text": [
            "✓ Successfully transcribed: 522_Joy.wav\n"
          ]
        },
        {
          "name": "stderr",
          "output_type": "stream",
          "text": [
            "\rTranscribing audio files:  70%|██████▉   | 519/745 [3:08:22<1:48:58, 28.93s/it]"
          ]
        },
        {
          "name": "stdout",
          "output_type": "stream",
          "text": [
            "✓ Successfully transcribed: 523_Surprise.wav\n"
          ]
        },
        {
          "name": "stderr",
          "output_type": "stream",
          "text": [
            "\rTranscribing audio files:  70%|██████▉   | 520/745 [3:08:29<1:23:35, 22.29s/it]"
          ]
        },
        {
          "name": "stdout",
          "output_type": "stream",
          "text": [
            "✓ Successfully transcribed: 524_Trust.wav\n"
          ]
        },
        {
          "name": "stderr",
          "output_type": "stream",
          "text": [
            "\rTranscribing audio files:  70%|██████▉   | 521/745 [3:09:39<2:16:35, 36.59s/it]"
          ]
        },
        {
          "name": "stdout",
          "output_type": "stream",
          "text": [
            "✓ Successfully transcribed: 525_Proud.wav\n"
          ]
        },
        {
          "name": "stderr",
          "output_type": "stream",
          "text": [
            "\rTranscribing audio files:  70%|███████   | 522/745 [3:10:53<2:57:56, 47.87s/it]"
          ]
        },
        {
          "name": "stdout",
          "output_type": "stream",
          "text": [
            "✓ Successfully transcribed: 526_Surprise.wav\n"
          ]
        },
        {
          "name": "stderr",
          "output_type": "stream",
          "text": [
            "\rTranscribing audio files:  70%|███████   | 523/745 [3:11:05<2:17:28, 37.16s/it]"
          ]
        },
        {
          "name": "stdout",
          "output_type": "stream",
          "text": [
            "✓ Successfully transcribed: 527_Proud.wav\n"
          ]
        },
        {
          "name": "stderr",
          "output_type": "stream",
          "text": [
            "\rTranscribing audio files:  70%|███████   | 524/745 [3:11:13<1:44:17, 28.32s/it]"
          ]
        },
        {
          "name": "stdout",
          "output_type": "stream",
          "text": [
            "✓ Successfully transcribed: 528_Joy.wav\n"
          ]
        },
        {
          "name": "stderr",
          "output_type": "stream",
          "text": [
            "\rTranscribing audio files:  70%|███████   | 525/745 [3:11:37<1:38:47, 26.95s/it]"
          ]
        },
        {
          "name": "stdout",
          "output_type": "stream",
          "text": [
            "✓ Successfully transcribed: 529_Joy.wav\n"
          ]
        },
        {
          "name": "stderr",
          "output_type": "stream",
          "text": [
            "\rTranscribing audio files:  71%|███████   | 526/745 [3:11:50<1:23:15, 22.81s/it]"
          ]
        },
        {
          "name": "stdout",
          "output_type": "stream",
          "text": [
            "✓ Successfully transcribed: 530_Proud.wav\n"
          ]
        },
        {
          "name": "stderr",
          "output_type": "stream",
          "text": [
            "\rTranscribing audio files:  71%|███████   | 527/745 [3:12:16<1:26:19, 23.76s/it]"
          ]
        },
        {
          "name": "stdout",
          "output_type": "stream",
          "text": [
            "✓ Successfully transcribed: 531_Trust.wav\n"
          ]
        },
        {
          "name": "stderr",
          "output_type": "stream",
          "text": [
            "\rTranscribing audio files:  71%|███████   | 528/745 [3:12:33<1:18:29, 21.70s/it]"
          ]
        },
        {
          "name": "stdout",
          "output_type": "stream",
          "text": [
            "✓ Successfully transcribed: 532_Proud.wav\n"
          ]
        },
        {
          "name": "stderr",
          "output_type": "stream",
          "text": [
            "\rTranscribing audio files:  71%|███████   | 529/745 [3:13:26<1:51:57, 31.10s/it]"
          ]
        },
        {
          "name": "stdout",
          "output_type": "stream",
          "text": [
            "✓ Successfully transcribed: 533_Trust.wav\n"
          ]
        },
        {
          "name": "stderr",
          "output_type": "stream",
          "text": [
            "\rTranscribing audio files:  71%|███████   | 530/745 [3:13:55<1:49:34, 30.58s/it]"
          ]
        },
        {
          "name": "stdout",
          "output_type": "stream",
          "text": [
            "✓ Successfully transcribed: 534_Trust.wav\n"
          ]
        },
        {
          "name": "stderr",
          "output_type": "stream",
          "text": [
            "\rTranscribing audio files:  71%|███████▏  | 531/745 [3:14:07<1:28:56, 24.94s/it]"
          ]
        },
        {
          "name": "stdout",
          "output_type": "stream",
          "text": [
            "✓ Successfully transcribed: 535_Trust.wav\n"
          ]
        },
        {
          "name": "stderr",
          "output_type": "stream",
          "text": [
            "\rTranscribing audio files:  71%|███████▏  | 532/745 [3:14:17<1:12:33, 20.44s/it]"
          ]
        },
        {
          "name": "stdout",
          "output_type": "stream",
          "text": [
            "✓ Successfully transcribed: 536_Joy.wav\n"
          ]
        },
        {
          "name": "stderr",
          "output_type": "stream",
          "text": [
            "\rTranscribing audio files:  72%|███████▏  | 533/745 [3:15:15<1:51:31, 31.56s/it]"
          ]
        },
        {
          "name": "stdout",
          "output_type": "stream",
          "text": [
            "✓ Successfully transcribed: 537_Proud.wav\n"
          ]
        },
        {
          "name": "stderr",
          "output_type": "stream",
          "text": [
            "\rTranscribing audio files:  72%|███████▏  | 534/745 [3:15:49<1:54:17, 32.50s/it]"
          ]
        },
        {
          "name": "stdout",
          "output_type": "stream",
          "text": [
            "✓ Successfully transcribed: 538_Trust.wav\n"
          ]
        },
        {
          "name": "stderr",
          "output_type": "stream",
          "text": [
            "\rTranscribing audio files:  72%|███████▏  | 535/745 [3:16:09<1:40:15, 28.65s/it]"
          ]
        },
        {
          "name": "stdout",
          "output_type": "stream",
          "text": [
            "✓ Successfully transcribed: 539_Proud.wav\n"
          ]
        },
        {
          "name": "stderr",
          "output_type": "stream",
          "text": [
            "\rTranscribing audio files:  72%|███████▏  | 536/745 [3:16:47<1:49:15, 31.37s/it]"
          ]
        },
        {
          "name": "stdout",
          "output_type": "stream",
          "text": [
            "✓ Successfully transcribed: 540_Trust.wav\n"
          ]
        },
        {
          "name": "stderr",
          "output_type": "stream",
          "text": [
            "\rTranscribing audio files:  72%|███████▏  | 537/745 [3:17:35<2:06:35, 36.52s/it]"
          ]
        },
        {
          "name": "stdout",
          "output_type": "stream",
          "text": [
            "✓ Successfully transcribed: 541_Surprise.wav\n"
          ]
        },
        {
          "name": "stderr",
          "output_type": "stream",
          "text": [
            "\rTranscribing audio files:  72%|███████▏  | 538/745 [3:18:59<2:54:35, 50.61s/it]"
          ]
        },
        {
          "name": "stdout",
          "output_type": "stream",
          "text": [
            "✓ Successfully transcribed: 542_Surprise.wav\n"
          ]
        },
        {
          "name": "stderr",
          "output_type": "stream",
          "text": [
            "\rTranscribing audio files:  72%|███████▏  | 539/745 [3:19:19<2:22:42, 41.57s/it]"
          ]
        },
        {
          "name": "stdout",
          "output_type": "stream",
          "text": [
            "✓ Successfully transcribed: 543_Proud.wav\n"
          ]
        },
        {
          "name": "stderr",
          "output_type": "stream",
          "text": [
            "\rTranscribing audio files:  72%|███████▏  | 540/745 [3:19:22<1:41:56, 29.84s/it]"
          ]
        },
        {
          "name": "stdout",
          "output_type": "stream",
          "text": [
            "✓ Successfully transcribed: 544_Surprise.wav\n"
          ]
        },
        {
          "name": "stderr",
          "output_type": "stream",
          "text": [
            "\rTranscribing audio files:  73%|███████▎  | 541/745 [3:19:37<1:26:36, 25.47s/it]"
          ]
        },
        {
          "name": "stdout",
          "output_type": "stream",
          "text": [
            "✓ Successfully transcribed: 545_Joy.wav\n"
          ]
        },
        {
          "name": "stderr",
          "output_type": "stream",
          "text": [
            "\rTranscribing audio files:  73%|███████▎  | 542/745 [3:19:42<1:05:52, 19.47s/it]"
          ]
        },
        {
          "name": "stdout",
          "output_type": "stream",
          "text": [
            "✓ Successfully transcribed: 546_Proud.wav\n"
          ]
        },
        {
          "name": "stderr",
          "output_type": "stream",
          "text": [
            "\rTranscribing audio files:  73%|███████▎  | 543/745 [3:21:47<2:52:17, 51.17s/it]"
          ]
        },
        {
          "name": "stdout",
          "output_type": "stream",
          "text": [
            "✓ Successfully transcribed: 547_Trust.wav\n"
          ]
        },
        {
          "name": "stderr",
          "output_type": "stream",
          "text": [
            "\rTranscribing audio files:  73%|███████▎  | 544/745 [3:22:09<2:22:09, 42.44s/it]"
          ]
        },
        {
          "name": "stdout",
          "output_type": "stream",
          "text": [
            "✓ Successfully transcribed: 548_Proud.wav\n"
          ]
        },
        {
          "name": "stderr",
          "output_type": "stream",
          "text": [
            "\rTranscribing audio files:  73%|███████▎  | 545/745 [3:22:21<1:50:58, 33.29s/it]"
          ]
        },
        {
          "name": "stdout",
          "output_type": "stream",
          "text": [
            "✓ Successfully transcribed: 549_Trust.wav\n"
          ]
        },
        {
          "name": "stderr",
          "output_type": "stream",
          "text": [
            "\rTranscribing audio files:  73%|███████▎  | 546/745 [3:23:01<1:56:28, 35.12s/it]"
          ]
        },
        {
          "name": "stdout",
          "output_type": "stream",
          "text": [
            "✓ Successfully transcribed: 550_Proud.wav\n"
          ]
        },
        {
          "name": "stderr",
          "output_type": "stream",
          "text": [
            "\rTranscribing audio files:  73%|███████▎  | 547/745 [3:23:04<1:24:43, 25.67s/it]"
          ]
        },
        {
          "name": "stdout",
          "output_type": "stream",
          "text": [
            "✓ Successfully transcribed: 551_Surprise.wav\n"
          ]
        },
        {
          "name": "stderr",
          "output_type": "stream",
          "text": [
            "\rTranscribing audio files:  74%|███████▎  | 548/745 [3:23:13<1:07:48, 20.65s/it]"
          ]
        },
        {
          "name": "stdout",
          "output_type": "stream",
          "text": [
            "✓ Successfully transcribed: 552_Proud.wav\n"
          ]
        },
        {
          "name": "stderr",
          "output_type": "stream",
          "text": [
            "\rTranscribing audio files:  74%|███████▎  | 549/745 [3:23:40<1:13:34, 22.52s/it]"
          ]
        },
        {
          "name": "stdout",
          "output_type": "stream",
          "text": [
            "✓ Successfully transcribed: 553_Joy.wav\n"
          ]
        },
        {
          "name": "stderr",
          "output_type": "stream",
          "text": [
            "\rTranscribing audio files:  74%|███████▍  | 550/745 [3:23:45<56:20, 17.34s/it]  "
          ]
        },
        {
          "name": "stdout",
          "output_type": "stream",
          "text": [
            "✓ Successfully transcribed: 554_Proud.wav\n"
          ]
        },
        {
          "name": "stderr",
          "output_type": "stream",
          "text": [
            "\rTranscribing audio files:  74%|███████▍  | 551/745 [3:24:08<1:00:42, 18.78s/it]"
          ]
        },
        {
          "name": "stdout",
          "output_type": "stream",
          "text": [
            "✓ Successfully transcribed: 555_Joy.wav\n"
          ]
        },
        {
          "name": "stderr",
          "output_type": "stream",
          "text": [
            "\rTranscribing audio files:  74%|███████▍  | 552/745 [3:24:25<59:30, 18.50s/it]  "
          ]
        },
        {
          "name": "stdout",
          "output_type": "stream",
          "text": [
            "✓ Successfully transcribed: 556_Surprise.wav\n"
          ]
        },
        {
          "name": "stderr",
          "output_type": "stream",
          "text": [
            "\rTranscribing audio files:  74%|███████▍  | 553/745 [3:24:49<1:04:17, 20.09s/it]"
          ]
        },
        {
          "name": "stdout",
          "output_type": "stream",
          "text": [
            "✓ Successfully transcribed: 589_Surprise.wav\n"
          ]
        },
        {
          "name": "stderr",
          "output_type": "stream",
          "text": [
            "\rTranscribing audio files:  74%|███████▍  | 554/745 [3:24:58<52:44, 16.57s/it]  "
          ]
        },
        {
          "name": "stdout",
          "output_type": "stream",
          "text": [
            "✓ Successfully transcribed: 590_Surprise.wav\n"
          ]
        },
        {
          "name": "stderr",
          "output_type": "stream",
          "text": [
            "\rTranscribing audio files:  74%|███████▍  | 555/745 [3:25:12<50:08, 15.83s/it]"
          ]
        },
        {
          "name": "stdout",
          "output_type": "stream",
          "text": [
            "✓ Successfully transcribed: 591_Trust.wav\n"
          ]
        },
        {
          "name": "stderr",
          "output_type": "stream",
          "text": [
            "\rTranscribing audio files:  75%|███████▍  | 556/745 [3:25:23<45:43, 14.52s/it]"
          ]
        },
        {
          "name": "stdout",
          "output_type": "stream",
          "text": [
            "✓ Successfully transcribed: 592_Surprise.wav\n"
          ]
        },
        {
          "name": "stderr",
          "output_type": "stream",
          "text": [
            "\rTranscribing audio files:  75%|███████▍  | 557/745 [3:25:32<39:44, 12.68s/it]"
          ]
        },
        {
          "name": "stdout",
          "output_type": "stream",
          "text": [
            "✓ Successfully transcribed: 593_Surprise.wav\n"
          ]
        },
        {
          "name": "stderr",
          "output_type": "stream",
          "text": [
            "\rTranscribing audio files:  75%|███████▍  | 558/745 [3:25:41<36:03, 11.57s/it]"
          ]
        },
        {
          "name": "stdout",
          "output_type": "stream",
          "text": [
            "✓ Successfully transcribed: 594_Trust.wav\n"
          ]
        },
        {
          "name": "stderr",
          "output_type": "stream",
          "text": [
            "\rTranscribing audio files:  75%|███████▌  | 559/745 [3:25:51<35:02, 11.31s/it]"
          ]
        },
        {
          "name": "stdout",
          "output_type": "stream",
          "text": [
            "✓ Successfully transcribed: 595_Proud.wav\n"
          ]
        },
        {
          "name": "stderr",
          "output_type": "stream",
          "text": [
            "\rTranscribing audio files:  75%|███████▌  | 560/745 [3:26:03<35:41, 11.58s/it]"
          ]
        },
        {
          "name": "stdout",
          "output_type": "stream",
          "text": [
            "✓ Successfully transcribed: 596_Surprise.wav\n"
          ]
        },
        {
          "name": "stderr",
          "output_type": "stream",
          "text": [
            "\rTranscribing audio files:  75%|███████▌  | 561/745 [3:26:19<39:12, 12.79s/it]"
          ]
        },
        {
          "name": "stdout",
          "output_type": "stream",
          "text": [
            "✓ Successfully transcribed: 597_Surprise.wav\n"
          ]
        },
        {
          "name": "stderr",
          "output_type": "stream",
          "text": [
            "\rTranscribing audio files:  75%|███████▌  | 562/745 [3:26:34<40:39, 13.33s/it]"
          ]
        },
        {
          "name": "stdout",
          "output_type": "stream",
          "text": [
            "✓ Successfully transcribed: 598_Surprise.wav\n"
          ]
        },
        {
          "name": "stderr",
          "output_type": "stream",
          "text": [
            "\rTranscribing audio files:  76%|███████▌  | 563/745 [3:26:47<40:10, 13.24s/it]"
          ]
        },
        {
          "name": "stdout",
          "output_type": "stream",
          "text": [
            "✓ Successfully transcribed: 599_Proud.wav\n"
          ]
        },
        {
          "name": "stderr",
          "output_type": "stream",
          "text": [
            "\rTranscribing audio files:  76%|███████▌  | 564/745 [3:27:00<40:23, 13.39s/it]"
          ]
        },
        {
          "name": "stdout",
          "output_type": "stream",
          "text": [
            "✓ Successfully transcribed: 600_Surprise.wav\n"
          ]
        },
        {
          "name": "stderr",
          "output_type": "stream",
          "text": [
            "\rTranscribing audio files:  76%|███████▌  | 565/745 [3:27:17<43:17, 14.43s/it]"
          ]
        },
        {
          "name": "stdout",
          "output_type": "stream",
          "text": [
            "✓ Successfully transcribed: 601_Trust.wav\n"
          ]
        },
        {
          "name": "stderr",
          "output_type": "stream",
          "text": [
            "\rTranscribing audio files:  76%|███████▌  | 566/745 [3:27:31<42:16, 14.17s/it]"
          ]
        },
        {
          "name": "stdout",
          "output_type": "stream",
          "text": [
            "✓ Successfully transcribed: 602_Proud.wav\n"
          ]
        },
        {
          "name": "stderr",
          "output_type": "stream",
          "text": [
            "\rTranscribing audio files:  76%|███████▌  | 567/745 [3:27:39<36:14, 12.22s/it]"
          ]
        },
        {
          "name": "stdout",
          "output_type": "stream",
          "text": [
            "✓ Successfully transcribed: 603_Surprise.wav\n"
          ]
        },
        {
          "name": "stderr",
          "output_type": "stream",
          "text": [
            "\rTranscribing audio files:  76%|███████▌  | 568/745 [3:27:53<37:48, 12.82s/it]"
          ]
        },
        {
          "name": "stdout",
          "output_type": "stream",
          "text": [
            "✓ Successfully transcribed: 604_Proud.wav\n"
          ]
        },
        {
          "name": "stderr",
          "output_type": "stream",
          "text": [
            "\rTranscribing audio files:  76%|███████▋  | 569/745 [3:28:09<40:58, 13.97s/it]"
          ]
        },
        {
          "name": "stdout",
          "output_type": "stream",
          "text": [
            "✓ Successfully transcribed: 605_Surprise.wav\n"
          ]
        },
        {
          "name": "stderr",
          "output_type": "stream",
          "text": [
            "\rTranscribing audio files:  77%|███████▋  | 570/745 [3:28:24<41:40, 14.29s/it]"
          ]
        },
        {
          "name": "stdout",
          "output_type": "stream",
          "text": [
            "✓ Successfully transcribed: 606_Surprise.wav\n"
          ]
        },
        {
          "name": "stderr",
          "output_type": "stream",
          "text": [
            "\rTranscribing audio files:  77%|███████▋  | 571/745 [3:28:40<42:24, 14.63s/it]"
          ]
        },
        {
          "name": "stdout",
          "output_type": "stream",
          "text": [
            "✓ Successfully transcribed: 607_Surprise.wav\n"
          ]
        },
        {
          "name": "stderr",
          "output_type": "stream",
          "text": [
            "\rTranscribing audio files:  77%|███████▋  | 572/745 [3:28:53<40:46, 14.14s/it]"
          ]
        },
        {
          "name": "stdout",
          "output_type": "stream",
          "text": [
            "✓ Successfully transcribed: 608_Surprise.wav\n"
          ]
        },
        {
          "name": "stderr",
          "output_type": "stream",
          "text": [
            "\rTranscribing audio files:  77%|███████▋  | 573/745 [3:29:06<39:26, 13.76s/it]"
          ]
        },
        {
          "name": "stdout",
          "output_type": "stream",
          "text": [
            "✓ Successfully transcribed: 609_Proud.wav\n"
          ]
        },
        {
          "name": "stderr",
          "output_type": "stream",
          "text": [
            "\rTranscribing audio files:  77%|███████▋  | 574/745 [3:29:18<38:12, 13.41s/it]"
          ]
        },
        {
          "name": "stdout",
          "output_type": "stream",
          "text": [
            "✓ Successfully transcribed: 610_Surprise.wav\n"
          ]
        },
        {
          "name": "stderr",
          "output_type": "stream",
          "text": [
            "\rTranscribing audio files:  77%|███████▋  | 575/745 [3:29:34<40:06, 14.16s/it]"
          ]
        },
        {
          "name": "stdout",
          "output_type": "stream",
          "text": [
            "✓ Successfully transcribed: 611_Surprise.wav\n"
          ]
        },
        {
          "name": "stderr",
          "output_type": "stream",
          "text": [
            "\rTranscribing audio files:  77%|███████▋  | 576/745 [3:29:45<37:07, 13.18s/it]"
          ]
        },
        {
          "name": "stdout",
          "output_type": "stream",
          "text": [
            "✓ Successfully transcribed: 612_Anger.wav\n"
          ]
        },
        {
          "name": "stderr",
          "output_type": "stream",
          "text": [
            "\rTranscribing audio files:  77%|███████▋  | 577/745 [3:30:02<40:16, 14.39s/it]"
          ]
        },
        {
          "name": "stdout",
          "output_type": "stream",
          "text": [
            "✓ Successfully transcribed: 613_Sadness.wav\n"
          ]
        },
        {
          "name": "stderr",
          "output_type": "stream",
          "text": [
            "\rTranscribing audio files:  78%|███████▊  | 578/745 [3:30:14<38:10, 13.71s/it]"
          ]
        },
        {
          "name": "stdout",
          "output_type": "stream",
          "text": [
            "✓ Successfully transcribed: 614_Proud.wav\n"
          ]
        },
        {
          "name": "stderr",
          "output_type": "stream",
          "text": [
            "\rTranscribing audio files:  78%|███████▊  | 579/745 [3:30:33<41:34, 15.03s/it]"
          ]
        },
        {
          "name": "stdout",
          "output_type": "stream",
          "text": [
            "✓ Successfully transcribed: 615_Surprise.wav\n"
          ]
        },
        {
          "name": "stderr",
          "output_type": "stream",
          "text": [
            "\rTranscribing audio files:  78%|███████▊  | 580/745 [3:30:53<45:29, 16.54s/it]"
          ]
        },
        {
          "name": "stdout",
          "output_type": "stream",
          "text": [
            "✓ Successfully transcribed: 616_Trust.wav\n"
          ]
        },
        {
          "name": "stderr",
          "output_type": "stream",
          "text": [
            "\rTranscribing audio files:  78%|███████▊  | 581/745 [3:31:08<44:15, 16.19s/it]"
          ]
        },
        {
          "name": "stdout",
          "output_type": "stream",
          "text": [
            "✓ Successfully transcribed: 617_Surprise.wav\n"
          ]
        },
        {
          "name": "stderr",
          "output_type": "stream",
          "text": [
            "\rTranscribing audio files:  78%|███████▊  | 582/745 [3:31:13<34:56, 12.86s/it]"
          ]
        },
        {
          "name": "stdout",
          "output_type": "stream",
          "text": [
            "✓ Successfully transcribed: 618_Surprise.wav\n"
          ]
        },
        {
          "name": "stderr",
          "output_type": "stream",
          "text": [
            "\rTranscribing audio files:  78%|███████▊  | 583/745 [3:31:30<37:44, 13.98s/it]"
          ]
        },
        {
          "name": "stdout",
          "output_type": "stream",
          "text": [
            "✓ Successfully transcribed: 619_Trust.wav\n"
          ]
        },
        {
          "name": "stderr",
          "output_type": "stream",
          "text": [
            "\rTranscribing audio files:  78%|███████▊  | 584/745 [3:31:52<44:26, 16.56s/it]"
          ]
        },
        {
          "name": "stdout",
          "output_type": "stream",
          "text": [
            "✓ Successfully transcribed: 620_Surprise.wav\n"
          ]
        },
        {
          "name": "stderr",
          "output_type": "stream",
          "text": [
            "\rTranscribing audio files:  79%|███████▊  | 585/745 [3:32:20<53:11, 19.95s/it]"
          ]
        },
        {
          "name": "stdout",
          "output_type": "stream",
          "text": [
            "✓ Successfully transcribed: 621_Surprise.wav\n"
          ]
        },
        {
          "name": "stderr",
          "output_type": "stream",
          "text": [
            "\rTranscribing audio files:  79%|███████▊  | 586/745 [3:32:42<54:10, 20.44s/it]"
          ]
        },
        {
          "name": "stdout",
          "output_type": "stream",
          "text": [
            "✓ Successfully transcribed: 622_Surprise.wav\n"
          ]
        },
        {
          "name": "stderr",
          "output_type": "stream",
          "text": [
            "\rTranscribing audio files:  79%|███████▉  | 587/745 [3:33:17<1:05:31, 24.89s/it]"
          ]
        },
        {
          "name": "stdout",
          "output_type": "stream",
          "text": [
            "✓ Successfully transcribed: 623_Proud.wav\n"
          ]
        },
        {
          "name": "stderr",
          "output_type": "stream",
          "text": [
            "\rTranscribing audio files:  79%|███████▉  | 588/745 [3:33:38<1:02:13, 23.78s/it]"
          ]
        },
        {
          "name": "stdout",
          "output_type": "stream",
          "text": [
            "✓ Successfully transcribed: 624_Surprise.wav\n"
          ]
        },
        {
          "name": "stderr",
          "output_type": "stream",
          "text": [
            "\rTranscribing audio files:  79%|███████▉  | 589/745 [3:33:57<57:49, 22.24s/it]  "
          ]
        },
        {
          "name": "stdout",
          "output_type": "stream",
          "text": [
            "✓ Successfully transcribed: 625_Surprise.wav\n"
          ]
        },
        {
          "name": "stderr",
          "output_type": "stream",
          "text": [
            "\rTranscribing audio files:  79%|███████▉  | 590/745 [3:34:05<46:39, 18.06s/it]"
          ]
        },
        {
          "name": "stdout",
          "output_type": "stream",
          "text": [
            "✓ Successfully transcribed: 626_Joy.wav\n"
          ]
        },
        {
          "name": "stderr",
          "output_type": "stream",
          "text": [
            "\rTranscribing audio files:  79%|███████▉  | 591/745 [3:34:24<46:50, 18.25s/it]"
          ]
        },
        {
          "name": "stdout",
          "output_type": "stream",
          "text": [
            "✓ Successfully transcribed: 627_Surprise.wav\n"
          ]
        },
        {
          "name": "stderr",
          "output_type": "stream",
          "text": [
            "\rTranscribing audio files:  79%|███████▉  | 592/745 [3:34:39<44:04, 17.28s/it]"
          ]
        },
        {
          "name": "stdout",
          "output_type": "stream",
          "text": [
            "✓ Successfully transcribed: 628_Sadness.wav\n"
          ]
        },
        {
          "name": "stderr",
          "output_type": "stream",
          "text": [
            "\rTranscribing audio files:  80%|███████▉  | 593/745 [3:34:44<34:22, 13.57s/it]"
          ]
        },
        {
          "name": "stdout",
          "output_type": "stream",
          "text": [
            "✓ Successfully transcribed: 629_Joy.wav\n"
          ]
        },
        {
          "name": "stderr",
          "output_type": "stream",
          "text": [
            "\rTranscribing audio files:  80%|███████▉  | 594/745 [3:35:02<37:22, 14.85s/it]"
          ]
        },
        {
          "name": "stdout",
          "output_type": "stream",
          "text": [
            "✓ Successfully transcribed: 630_Surprise.wav\n"
          ]
        },
        {
          "name": "stderr",
          "output_type": "stream",
          "text": [
            "\rTranscribing audio files:  80%|███████▉  | 595/745 [3:35:09<31:41, 12.68s/it]"
          ]
        },
        {
          "name": "stdout",
          "output_type": "stream",
          "text": [
            "✓ Successfully transcribed: 631_Surprise.wav\n"
          ]
        },
        {
          "name": "stderr",
          "output_type": "stream",
          "text": [
            "\rTranscribing audio files:  80%|████████  | 596/745 [3:35:37<42:35, 17.15s/it]"
          ]
        },
        {
          "name": "stdout",
          "output_type": "stream",
          "text": [
            "✓ Successfully transcribed: 632_Surprise.wav\n"
          ]
        },
        {
          "name": "stderr",
          "output_type": "stream",
          "text": [
            "\rTranscribing audio files:  80%|████████  | 597/745 [3:35:58<45:28, 18.43s/it]"
          ]
        },
        {
          "name": "stdout",
          "output_type": "stream",
          "text": [
            "✓ Successfully transcribed: 633_Proud.wav\n"
          ]
        },
        {
          "name": "stderr",
          "output_type": "stream",
          "text": [
            "\rTranscribing audio files:  80%|████████  | 598/745 [3:36:26<51:47, 21.14s/it]"
          ]
        },
        {
          "name": "stdout",
          "output_type": "stream",
          "text": [
            "✓ Successfully transcribed: 634_Surprise.wav\n"
          ]
        },
        {
          "name": "stderr",
          "output_type": "stream",
          "text": [
            "\rTranscribing audio files:  80%|████████  | 599/745 [3:36:51<54:26, 22.37s/it]"
          ]
        },
        {
          "name": "stdout",
          "output_type": "stream",
          "text": [
            "✓ Successfully transcribed: 635_Trust.wav\n"
          ]
        },
        {
          "name": "stderr",
          "output_type": "stream",
          "text": [
            "\rTranscribing audio files:  81%|████████  | 600/745 [3:37:03<46:55, 19.41s/it]"
          ]
        },
        {
          "name": "stdout",
          "output_type": "stream",
          "text": [
            "✓ Successfully transcribed: 636_Surprise.wav\n"
          ]
        },
        {
          "name": "stderr",
          "output_type": "stream",
          "text": [
            "\rTranscribing audio files:  81%|████████  | 601/745 [3:37:41<59:23, 24.74s/it]"
          ]
        },
        {
          "name": "stdout",
          "output_type": "stream",
          "text": [
            "✓ Successfully transcribed: 637_Proud.wav\n"
          ]
        },
        {
          "name": "stderr",
          "output_type": "stream",
          "text": [
            "\rTranscribing audio files:  81%|████████  | 602/745 [3:38:09<1:01:54, 25.97s/it]"
          ]
        },
        {
          "name": "stdout",
          "output_type": "stream",
          "text": [
            "✓ Successfully transcribed: 638_Trust.wav\n"
          ]
        },
        {
          "name": "stderr",
          "output_type": "stream",
          "text": [
            "\rTranscribing audio files:  81%|████████  | 603/745 [3:38:32<59:22, 25.09s/it]  "
          ]
        },
        {
          "name": "stdout",
          "output_type": "stream",
          "text": [
            "✓ Successfully transcribed: 639_Trust.wav\n"
          ]
        },
        {
          "name": "stderr",
          "output_type": "stream",
          "text": [
            "\rTranscribing audio files:  81%|████████  | 604/745 [3:38:41<47:27, 20.20s/it]"
          ]
        },
        {
          "name": "stdout",
          "output_type": "stream",
          "text": [
            "✓ Successfully transcribed: 640_Trust.wav\n"
          ]
        },
        {
          "name": "stderr",
          "output_type": "stream",
          "text": [
            "\rTranscribing audio files:  81%|████████  | 605/745 [3:39:02<47:25, 20.33s/it]"
          ]
        },
        {
          "name": "stdout",
          "output_type": "stream",
          "text": [
            "✓ Successfully transcribed: 641_Surprise.wav\n"
          ]
        },
        {
          "name": "stderr",
          "output_type": "stream",
          "text": [
            "\rTranscribing audio files:  81%|████████▏ | 606/745 [3:39:21<46:19, 19.99s/it]"
          ]
        },
        {
          "name": "stdout",
          "output_type": "stream",
          "text": [
            "✓ Successfully transcribed: 642_Surprise.wav\n"
          ]
        },
        {
          "name": "stderr",
          "output_type": "stream",
          "text": [
            "\rTranscribing audio files:  81%|████████▏ | 607/745 [3:39:40<45:33, 19.81s/it]"
          ]
        },
        {
          "name": "stdout",
          "output_type": "stream",
          "text": [
            "✓ Successfully transcribed: 643_Surprise.wav\n"
          ]
        },
        {
          "name": "stderr",
          "output_type": "stream",
          "text": [
            "\rTranscribing audio files:  82%|████████▏ | 608/745 [3:39:53<40:04, 17.55s/it]"
          ]
        },
        {
          "name": "stdout",
          "output_type": "stream",
          "text": [
            "✓ Successfully transcribed: 644_Surprise.wav\n"
          ]
        },
        {
          "name": "stderr",
          "output_type": "stream",
          "text": [
            "\rTranscribing audio files:  82%|████████▏ | 609/745 [3:40:08<38:13, 16.86s/it]"
          ]
        },
        {
          "name": "stdout",
          "output_type": "stream",
          "text": [
            "✓ Successfully transcribed: 645_Surprise.wav\n"
          ]
        },
        {
          "name": "stderr",
          "output_type": "stream",
          "text": [
            "\rTranscribing audio files:  82%|████████▏ | 610/745 [3:40:24<37:37, 16.72s/it]"
          ]
        },
        {
          "name": "stdout",
          "output_type": "stream",
          "text": [
            "✓ Successfully transcribed: 646_Surprise.wav\n"
          ]
        },
        {
          "name": "stderr",
          "output_type": "stream",
          "text": [
            "\rTranscribing audio files:  82%|████████▏ | 611/745 [3:40:44<39:11, 17.55s/it]"
          ]
        },
        {
          "name": "stdout",
          "output_type": "stream",
          "text": [
            "✓ Successfully transcribed: 647_Surprise.wav\n"
          ]
        },
        {
          "name": "stderr",
          "output_type": "stream",
          "text": [
            "\rTranscribing audio files:  82%|████████▏ | 612/745 [3:41:03<40:14, 18.15s/it]"
          ]
        },
        {
          "name": "stdout",
          "output_type": "stream",
          "text": [
            "✓ Successfully transcribed: 648_Trust.wav\n"
          ]
        },
        {
          "name": "stderr",
          "output_type": "stream",
          "text": [
            "\rTranscribing audio files:  82%|████████▏ | 613/745 [3:41:28<44:14, 20.11s/it]"
          ]
        },
        {
          "name": "stdout",
          "output_type": "stream",
          "text": [
            "✓ Successfully transcribed: 649_Surprise.wav\n"
          ]
        },
        {
          "name": "stderr",
          "output_type": "stream",
          "text": [
            "\rTranscribing audio files:  82%|████████▏ | 614/745 [3:41:46<42:18, 19.38s/it]"
          ]
        },
        {
          "name": "stdout",
          "output_type": "stream",
          "text": [
            "✓ Successfully transcribed: 650_Surprise.wav\n"
          ]
        },
        {
          "name": "stderr",
          "output_type": "stream",
          "text": [
            "\rTranscribing audio files:  83%|████████▎ | 615/745 [3:41:55<35:08, 16.22s/it]"
          ]
        },
        {
          "name": "stdout",
          "output_type": "stream",
          "text": [
            "✓ Successfully transcribed: 651_Sadness.wav\n"
          ]
        },
        {
          "name": "stderr",
          "output_type": "stream",
          "text": [
            "\rTranscribing audio files:  83%|████████▎ | 616/745 [3:42:26<44:38, 20.76s/it]"
          ]
        },
        {
          "name": "stdout",
          "output_type": "stream",
          "text": [
            "✓ Successfully transcribed: 652_Trust.wav\n"
          ]
        },
        {
          "name": "stderr",
          "output_type": "stream",
          "text": [
            "\rTranscribing audio files:  83%|████████▎ | 617/745 [3:42:43<42:03, 19.72s/it]"
          ]
        },
        {
          "name": "stdout",
          "output_type": "stream",
          "text": [
            "✓ Successfully transcribed: 653_Surprise.wav\n"
          ]
        },
        {
          "name": "stderr",
          "output_type": "stream",
          "text": [
            "\rTranscribing audio files:  83%|████████▎ | 618/745 [3:42:57<38:03, 17.98s/it]"
          ]
        },
        {
          "name": "stdout",
          "output_type": "stream",
          "text": [
            "✓ Successfully transcribed: 654_Surprise.wav\n"
          ]
        },
        {
          "name": "stderr",
          "output_type": "stream",
          "text": [
            "\rTranscribing audio files:  83%|████████▎ | 619/745 [3:43:11<35:22, 16.85s/it]"
          ]
        },
        {
          "name": "stdout",
          "output_type": "stream",
          "text": [
            "✓ Successfully transcribed: 655_Fear.wav\n"
          ]
        },
        {
          "name": "stderr",
          "output_type": "stream",
          "text": [
            "\rTranscribing audio files:  83%|████████▎ | 620/745 [3:43:25<32:50, 15.76s/it]"
          ]
        },
        {
          "name": "stdout",
          "output_type": "stream",
          "text": [
            "✓ Successfully transcribed: 656_Sadness.wav\n"
          ]
        },
        {
          "name": "stderr",
          "output_type": "stream",
          "text": [
            "\rTranscribing audio files:  83%|████████▎ | 621/745 [3:43:43<34:02, 16.47s/it]"
          ]
        },
        {
          "name": "stdout",
          "output_type": "stream",
          "text": [
            "✓ Successfully transcribed: 657_Surprise.wav\n"
          ]
        },
        {
          "name": "stderr",
          "output_type": "stream",
          "text": [
            "\rTranscribing audio files:  83%|████████▎ | 622/745 [3:43:58<32:44, 15.98s/it]"
          ]
        },
        {
          "name": "stdout",
          "output_type": "stream",
          "text": [
            "✓ Successfully transcribed: 658_Anger.wav\n"
          ]
        },
        {
          "name": "stderr",
          "output_type": "stream",
          "text": [
            "\rTranscribing audio files:  84%|████████▎ | 623/745 [3:44:15<33:14, 16.35s/it]"
          ]
        },
        {
          "name": "stdout",
          "output_type": "stream",
          "text": [
            "✓ Successfully transcribed: 659_Neutral.wav\n"
          ]
        },
        {
          "name": "stderr",
          "output_type": "stream",
          "text": [
            "\rTranscribing audio files:  84%|████████▍ | 624/745 [3:44:29<31:54, 15.83s/it]"
          ]
        },
        {
          "name": "stdout",
          "output_type": "stream",
          "text": [
            "✓ Successfully transcribed: 660_Trust.wav\n"
          ]
        },
        {
          "name": "stderr",
          "output_type": "stream",
          "text": [
            "\rTranscribing audio files:  84%|████████▍ | 625/745 [3:44:37<26:45, 13.38s/it]"
          ]
        },
        {
          "name": "stdout",
          "output_type": "stream",
          "text": [
            "✓ Successfully transcribed: 661_Sadness.wav\n"
          ]
        },
        {
          "name": "stderr",
          "output_type": "stream",
          "text": [
            "\rTranscribing audio files:  84%|████████▍ | 626/745 [3:44:51<26:49, 13.53s/it]"
          ]
        },
        {
          "name": "stdout",
          "output_type": "stream",
          "text": [
            "✓ Successfully transcribed: 662_Fear.wav\n"
          ]
        },
        {
          "name": "stderr",
          "output_type": "stream",
          "text": [
            "\rTranscribing audio files:  84%|████████▍ | 627/745 [3:45:05<26:58, 13.71s/it]"
          ]
        },
        {
          "name": "stdout",
          "output_type": "stream",
          "text": [
            "✓ Successfully transcribed: 663_Surprise.wav\n"
          ]
        },
        {
          "name": "stderr",
          "output_type": "stream",
          "text": [
            "\rTranscribing audio files:  84%|████████▍ | 628/745 [3:45:25<30:22, 15.57s/it]"
          ]
        },
        {
          "name": "stdout",
          "output_type": "stream",
          "text": [
            "✓ Successfully transcribed: 664_Sadness.wav\n"
          ]
        },
        {
          "name": "stderr",
          "output_type": "stream",
          "text": [
            "\rTranscribing audio files:  84%|████████▍ | 629/745 [3:45:41<30:13, 15.64s/it]"
          ]
        },
        {
          "name": "stdout",
          "output_type": "stream",
          "text": [
            "✓ Successfully transcribed: 665_Anger.wav\n"
          ]
        },
        {
          "name": "stderr",
          "output_type": "stream",
          "text": [
            "\rTranscribing audio files:  85%|████████▍ | 630/745 [3:45:45<23:22, 12.19s/it]"
          ]
        },
        {
          "name": "stdout",
          "output_type": "stream",
          "text": [
            "✓ Successfully transcribed: 666_Surprise.wav\n"
          ]
        },
        {
          "name": "stderr",
          "output_type": "stream",
          "text": [
            "\rTranscribing audio files:  85%|████████▍ | 631/745 [3:46:01<25:18, 13.32s/it]"
          ]
        },
        {
          "name": "stdout",
          "output_type": "stream",
          "text": [
            "✓ Successfully transcribed: 667_Surprise.wav\n"
          ]
        },
        {
          "name": "stderr",
          "output_type": "stream",
          "text": [
            "\rTranscribing audio files:  85%|████████▍ | 632/745 [3:46:15<25:25, 13.50s/it]"
          ]
        },
        {
          "name": "stdout",
          "output_type": "stream",
          "text": [
            "✓ Successfully transcribed: 668_Surprise.wav\n"
          ]
        },
        {
          "name": "stderr",
          "output_type": "stream",
          "text": [
            "\rTranscribing audio files:  85%|████████▍ | 633/745 [3:46:32<27:25, 14.69s/it]"
          ]
        },
        {
          "name": "stdout",
          "output_type": "stream",
          "text": [
            "✓ Successfully transcribed: 669_Fear.wav\n"
          ]
        },
        {
          "name": "stderr",
          "output_type": "stream",
          "text": [
            "\rTranscribing audio files:  85%|████████▌ | 634/745 [3:46:45<26:13, 14.18s/it]"
          ]
        },
        {
          "name": "stdout",
          "output_type": "stream",
          "text": [
            "✓ Successfully transcribed: 670_Surprise.wav\n"
          ]
        },
        {
          "name": "stderr",
          "output_type": "stream",
          "text": [
            "\rTranscribing audio files:  85%|████████▌ | 635/745 [3:46:58<24:59, 13.63s/it]"
          ]
        },
        {
          "name": "stdout",
          "output_type": "stream",
          "text": [
            "✓ Successfully transcribed: 671_Surprise.wav\n"
          ]
        },
        {
          "name": "stderr",
          "output_type": "stream",
          "text": [
            "\rTranscribing audio files:  85%|████████▌ | 636/745 [3:47:13<25:48, 14.21s/it]"
          ]
        },
        {
          "name": "stdout",
          "output_type": "stream",
          "text": [
            "✓ Successfully transcribed: 672_Surprise.wav\n"
          ]
        },
        {
          "name": "stderr",
          "output_type": "stream",
          "text": [
            "\rTranscribing audio files:  86%|████████▌ | 637/745 [3:47:25<24:23, 13.56s/it]"
          ]
        },
        {
          "name": "stdout",
          "output_type": "stream",
          "text": [
            "✓ Successfully transcribed: 673_Proud.wav\n"
          ]
        },
        {
          "name": "stderr",
          "output_type": "stream",
          "text": [
            "\rTranscribing audio files:  86%|████████▌ | 638/745 [3:47:38<23:50, 13.37s/it]"
          ]
        },
        {
          "name": "stdout",
          "output_type": "stream",
          "text": [
            "✓ Successfully transcribed: 674_Proud.wav\n"
          ]
        },
        {
          "name": "stderr",
          "output_type": "stream",
          "text": [
            "\rTranscribing audio files:  86%|████████▌ | 639/745 [3:47:50<22:52, 12.95s/it]"
          ]
        },
        {
          "name": "stdout",
          "output_type": "stream",
          "text": [
            "✓ Successfully transcribed: 675_Proud.wav\n"
          ]
        },
        {
          "name": "stderr",
          "output_type": "stream",
          "text": [
            "\rTranscribing audio files:  86%|████████▌ | 640/745 [3:48:13<28:04, 16.05s/it]"
          ]
        },
        {
          "name": "stdout",
          "output_type": "stream",
          "text": [
            "✓ Successfully transcribed: 676_Surprise.wav\n"
          ]
        },
        {
          "name": "stderr",
          "output_type": "stream",
          "text": [
            "\rTranscribing audio files:  86%|████████▌ | 641/745 [3:48:24<24:54, 14.37s/it]"
          ]
        },
        {
          "name": "stdout",
          "output_type": "stream",
          "text": [
            "✓ Successfully transcribed: 677_Surprise.wav\n"
          ]
        },
        {
          "name": "stderr",
          "output_type": "stream",
          "text": [
            "\rTranscribing audio files:  86%|████████▌ | 642/745 [3:48:37<24:01, 13.99s/it]"
          ]
        },
        {
          "name": "stdout",
          "output_type": "stream",
          "text": [
            "✓ Successfully transcribed: 678_Surprise.wav\n"
          ]
        },
        {
          "name": "stderr",
          "output_type": "stream",
          "text": [
            "\rTranscribing audio files:  86%|████████▋ | 643/745 [3:48:47<21:32, 12.67s/it]"
          ]
        },
        {
          "name": "stdout",
          "output_type": "stream",
          "text": [
            "✓ Successfully transcribed: 679_Surprise.wav\n"
          ]
        },
        {
          "name": "stderr",
          "output_type": "stream",
          "text": [
            "\rTranscribing audio files:  86%|████████▋ | 644/745 [3:49:53<48:30, 28.81s/it]"
          ]
        },
        {
          "name": "stdout",
          "output_type": "stream",
          "text": [
            "✓ Successfully transcribed: 680_Proud.wav\n"
          ]
        },
        {
          "name": "stderr",
          "output_type": "stream",
          "text": [
            "\rTranscribing audio files:  87%|████████▋ | 645/745 [3:50:04<39:19, 23.60s/it]"
          ]
        },
        {
          "name": "stdout",
          "output_type": "stream",
          "text": [
            "✓ Successfully transcribed: 681_Proud.wav\n"
          ]
        },
        {
          "name": "stderr",
          "output_type": "stream",
          "text": [
            "\rTranscribing audio files:  87%|████████▋ | 646/745 [3:50:18<34:10, 20.72s/it]"
          ]
        },
        {
          "name": "stdout",
          "output_type": "stream",
          "text": [
            "✓ Successfully transcribed: 682_Surprise.wav\n"
          ]
        },
        {
          "name": "stderr",
          "output_type": "stream",
          "text": [
            "\rTranscribing audio files:  87%|████████▋ | 647/745 [3:50:37<32:44, 20.05s/it]"
          ]
        },
        {
          "name": "stdout",
          "output_type": "stream",
          "text": [
            "✓ Successfully transcribed: 686_Trust.wav\n"
          ]
        },
        {
          "name": "stderr",
          "output_type": "stream",
          "text": [
            "\rTranscribing audio files:  87%|████████▋ | 648/745 [3:50:48<28:04, 17.37s/it]"
          ]
        },
        {
          "name": "stdout",
          "output_type": "stream",
          "text": [
            "✓ Successfully transcribed: 687_Proud.wav\n"
          ]
        },
        {
          "name": "stderr",
          "output_type": "stream",
          "text": [
            "\rTranscribing audio files:  87%|████████▋ | 649/745 [3:50:58<24:04, 15.05s/it]"
          ]
        },
        {
          "name": "stdout",
          "output_type": "stream",
          "text": [
            "✓ Successfully transcribed: 689_Surprise.wav\n"
          ]
        },
        {
          "name": "stderr",
          "output_type": "stream",
          "text": [
            "\rTranscribing audio files:  87%|████████▋ | 650/745 [3:51:09<22:01, 13.91s/it]"
          ]
        },
        {
          "name": "stdout",
          "output_type": "stream",
          "text": [
            "✓ Successfully transcribed: 690_Proud.wav\n"
          ]
        },
        {
          "name": "stderr",
          "output_type": "stream",
          "text": [
            "\rTranscribing audio files:  87%|████████▋ | 651/745 [3:51:21<20:59, 13.40s/it]"
          ]
        },
        {
          "name": "stdout",
          "output_type": "stream",
          "text": [
            "✓ Successfully transcribed: 691_Trust.wav\n"
          ]
        },
        {
          "name": "stderr",
          "output_type": "stream",
          "text": [
            "\rTranscribing audio files:  88%|████████▊ | 652/745 [3:51:35<21:01, 13.56s/it]"
          ]
        },
        {
          "name": "stdout",
          "output_type": "stream",
          "text": [
            "✓ Successfully transcribed: 692_Trust.wav\n"
          ]
        },
        {
          "name": "stderr",
          "output_type": "stream",
          "text": [
            "\rTranscribing audio files:  88%|████████▊ | 653/745 [3:52:00<26:04, 17.01s/it]"
          ]
        },
        {
          "name": "stdout",
          "output_type": "stream",
          "text": [
            "✓ Successfully transcribed: 695_Surprise.wav\n"
          ]
        },
        {
          "name": "stderr",
          "output_type": "stream",
          "text": [
            "\rTranscribing audio files:  88%|████████▊ | 654/745 [3:52:13<23:48, 15.70s/it]"
          ]
        },
        {
          "name": "stdout",
          "output_type": "stream",
          "text": [
            "✓ Successfully transcribed: 698_Surprise.wav\n"
          ]
        },
        {
          "name": "stderr",
          "output_type": "stream",
          "text": [
            "\rTranscribing audio files:  88%|████████▊ | 655/745 [3:52:32<25:01, 16.68s/it]"
          ]
        },
        {
          "name": "stdout",
          "output_type": "stream",
          "text": [
            "✓ Successfully transcribed: 703_Trust.wav\n"
          ]
        },
        {
          "name": "stderr",
          "output_type": "stream",
          "text": [
            "\rTranscribing audio files:  88%|████████▊ | 656/745 [3:52:51<26:03, 17.57s/it]"
          ]
        },
        {
          "name": "stdout",
          "output_type": "stream",
          "text": [
            "✓ Successfully transcribed: 713_Trust.wav\n"
          ]
        },
        {
          "name": "stderr",
          "output_type": "stream",
          "text": [
            "\rTranscribing audio files:  88%|████████▊ | 657/745 [3:52:59<21:32, 14.68s/it]"
          ]
        },
        {
          "name": "stdout",
          "output_type": "stream",
          "text": [
            "✓ Successfully transcribed: 714_Trust.wav\n"
          ]
        },
        {
          "name": "stderr",
          "output_type": "stream",
          "text": [
            "\rTranscribing audio files:  88%|████████▊ | 658/745 [3:53:15<21:47, 15.03s/it]"
          ]
        },
        {
          "name": "stdout",
          "output_type": "stream",
          "text": [
            "✓ Successfully transcribed: 715_Trust.wav\n"
          ]
        },
        {
          "name": "stderr",
          "output_type": "stream",
          "text": [
            "\rTranscribing audio files:  88%|████████▊ | 659/745 [3:53:25<19:25, 13.56s/it]"
          ]
        },
        {
          "name": "stdout",
          "output_type": "stream",
          "text": [
            "✓ Successfully transcribed: 716_Trust.wav\n"
          ]
        },
        {
          "name": "stderr",
          "output_type": "stream",
          "text": [
            "\rTranscribing audio files:  89%|████████▊ | 660/745 [3:53:29<14:50, 10.48s/it]"
          ]
        },
        {
          "name": "stdout",
          "output_type": "stream",
          "text": [
            "✓ Successfully transcribed: 717_Trust.wav\n"
          ]
        },
        {
          "name": "stderr",
          "output_type": "stream",
          "text": [
            "\rTranscribing audio files:  89%|████████▊ | 661/745 [3:53:47<17:53, 12.78s/it]"
          ]
        },
        {
          "name": "stdout",
          "output_type": "stream",
          "text": [
            "✓ Successfully transcribed: 718_Fear.wav\n"
          ]
        },
        {
          "name": "stderr",
          "output_type": "stream",
          "text": [
            "\rTranscribing audio files:  89%|████████▉ | 662/745 [3:54:03<19:09, 13.84s/it]"
          ]
        },
        {
          "name": "stdout",
          "output_type": "stream",
          "text": [
            "✓ Successfully transcribed: 719_Trust.wav\n"
          ]
        },
        {
          "name": "stderr",
          "output_type": "stream",
          "text": [
            "\rTranscribing audio files:  89%|████████▉ | 663/745 [3:54:18<19:26, 14.23s/it]"
          ]
        },
        {
          "name": "stdout",
          "output_type": "stream",
          "text": [
            "✓ Successfully transcribed: 720_Fear.wav\n"
          ]
        },
        {
          "name": "stderr",
          "output_type": "stream",
          "text": [
            "\rTranscribing audio files:  89%|████████▉ | 664/745 [3:54:25<16:06, 11.93s/it]"
          ]
        },
        {
          "name": "stdout",
          "output_type": "stream",
          "text": [
            "✓ Successfully transcribed: 721_Fear.wav\n"
          ]
        },
        {
          "name": "stderr",
          "output_type": "stream",
          "text": [
            "\rTranscribing audio files:  89%|████████▉ | 665/745 [3:54:38<16:21, 12.27s/it]"
          ]
        },
        {
          "name": "stdout",
          "output_type": "stream",
          "text": [
            "✓ Successfully transcribed: 722_Fear.wav\n"
          ]
        },
        {
          "name": "stderr",
          "output_type": "stream",
          "text": [
            "\rTranscribing audio files:  89%|████████▉ | 666/745 [3:54:51<16:22, 12.44s/it]"
          ]
        },
        {
          "name": "stdout",
          "output_type": "stream",
          "text": [
            "✓ Successfully transcribed: 723_Fear.wav\n"
          ]
        },
        {
          "name": "stderr",
          "output_type": "stream",
          "text": [
            "\rTranscribing audio files:  90%|████████▉ | 667/745 [3:55:00<15:04, 11.60s/it]"
          ]
        },
        {
          "name": "stdout",
          "output_type": "stream",
          "text": [
            "✓ Successfully transcribed: 724_Trust.wav\n"
          ]
        },
        {
          "name": "stderr",
          "output_type": "stream",
          "text": [
            "\rTranscribing audio files:  90%|████████▉ | 668/745 [3:55:15<15:59, 12.46s/it]"
          ]
        },
        {
          "name": "stdout",
          "output_type": "stream",
          "text": [
            "✓ Successfully transcribed: 725_Anger.wav\n"
          ]
        },
        {
          "name": "stderr",
          "output_type": "stream",
          "text": [
            "\rTranscribing audio files:  90%|████████▉ | 669/745 [3:55:37<19:40, 15.53s/it]"
          ]
        },
        {
          "name": "stdout",
          "output_type": "stream",
          "text": [
            "✓ Successfully transcribed: 726_Fear.wav\n"
          ]
        },
        {
          "name": "stderr",
          "output_type": "stream",
          "text": [
            "\rTranscribing audio files:  90%|████████▉ | 670/745 [3:55:59<21:44, 17.40s/it]"
          ]
        },
        {
          "name": "stdout",
          "output_type": "stream",
          "text": [
            "✓ Successfully transcribed: 727_Anger.wav\n"
          ]
        },
        {
          "name": "stderr",
          "output_type": "stream",
          "text": [
            "\rTranscribing audio files:  90%|█████████ | 671/745 [3:56:15<20:58, 17.01s/it]"
          ]
        },
        {
          "name": "stdout",
          "output_type": "stream",
          "text": [
            "✓ Successfully transcribed: 728_Anger.wav\n"
          ]
        },
        {
          "name": "stderr",
          "output_type": "stream",
          "text": [
            "\rTranscribing audio files:  90%|█████████ | 672/745 [3:56:18<15:29, 12.74s/it]"
          ]
        },
        {
          "name": "stdout",
          "output_type": "stream",
          "text": [
            "✓ Successfully transcribed: 729_Fear.wav\n"
          ]
        },
        {
          "name": "stderr",
          "output_type": "stream",
          "text": [
            "\rTranscribing audio files:  90%|█████████ | 673/745 [3:56:29<14:37, 12.18s/it]"
          ]
        },
        {
          "name": "stdout",
          "output_type": "stream",
          "text": [
            "✓ Successfully transcribed: 730_Joy.wav\n"
          ]
        },
        {
          "name": "stderr",
          "output_type": "stream",
          "text": [
            "\rTranscribing audio files:  90%|█████████ | 674/745 [3:56:52<18:04, 15.28s/it]"
          ]
        },
        {
          "name": "stdout",
          "output_type": "stream",
          "text": [
            "✓ Successfully transcribed: 731_Anger.wav\n"
          ]
        },
        {
          "name": "stderr",
          "output_type": "stream",
          "text": [
            "\rTranscribing audio files:  91%|█████████ | 675/745 [3:57:03<16:34, 14.20s/it]"
          ]
        },
        {
          "name": "stdout",
          "output_type": "stream",
          "text": [
            "✓ Successfully transcribed: 732_Joy.wav\n"
          ]
        },
        {
          "name": "stderr",
          "output_type": "stream",
          "text": [
            "\rTranscribing audio files:  91%|█████████ | 676/745 [3:57:23<18:09, 15.79s/it]"
          ]
        },
        {
          "name": "stdout",
          "output_type": "stream",
          "text": [
            "✓ Successfully transcribed: 733_Anger.wav\n"
          ]
        },
        {
          "name": "stderr",
          "output_type": "stream",
          "text": [
            "\rTranscribing audio files:  91%|█████████ | 677/745 [3:58:08<27:48, 24.54s/it]"
          ]
        },
        {
          "name": "stdout",
          "output_type": "stream",
          "text": [
            "✓ Successfully transcribed: 734_Anger.wav\n"
          ]
        },
        {
          "name": "stderr",
          "output_type": "stream",
          "text": [
            "\rTranscribing audio files:  91%|█████████ | 678/745 [3:58:25<25:02, 22.42s/it]"
          ]
        },
        {
          "name": "stdout",
          "output_type": "stream",
          "text": [
            "✓ Successfully transcribed: 735_Anger.wav\n"
          ]
        },
        {
          "name": "stderr",
          "output_type": "stream",
          "text": [
            "\rTranscribing audio files:  91%|█████████ | 679/745 [3:58:56<27:17, 24.81s/it]"
          ]
        },
        {
          "name": "stdout",
          "output_type": "stream",
          "text": [
            "✓ Successfully transcribed: 736_Anger.wav\n"
          ]
        },
        {
          "name": "stderr",
          "output_type": "stream",
          "text": [
            "\rTranscribing audio files:  91%|█████████▏| 680/745 [3:59:05<22:00, 20.32s/it]"
          ]
        },
        {
          "name": "stdout",
          "output_type": "stream",
          "text": [
            "✓ Successfully transcribed: 737_Fear.wav\n"
          ]
        },
        {
          "name": "stderr",
          "output_type": "stream",
          "text": [
            "\rTranscribing audio files:  91%|█████████▏| 681/745 [3:59:29<22:53, 21.46s/it]"
          ]
        },
        {
          "name": "stdout",
          "output_type": "stream",
          "text": [
            "✓ Successfully transcribed: 738_Anger.wav\n"
          ]
        },
        {
          "name": "stderr",
          "output_type": "stream",
          "text": [
            "\rTranscribing audio files:  92%|█████████▏| 682/745 [3:59:38<18:21, 17.48s/it]"
          ]
        },
        {
          "name": "stdout",
          "output_type": "stream",
          "text": [
            "✓ Successfully transcribed: 739_Anger.wav\n"
          ]
        },
        {
          "name": "stderr",
          "output_type": "stream",
          "text": [
            "\rTranscribing audio files:  92%|█████████▏| 683/745 [3:59:48<15:46, 15.26s/it]"
          ]
        },
        {
          "name": "stdout",
          "output_type": "stream",
          "text": [
            "✓ Successfully transcribed: 740_Fear.wav\n"
          ]
        },
        {
          "name": "stderr",
          "output_type": "stream",
          "text": [
            "\rTranscribing audio files:  92%|█████████▏| 684/745 [3:59:57<13:45, 13.53s/it]"
          ]
        },
        {
          "name": "stdout",
          "output_type": "stream",
          "text": [
            "✓ Successfully transcribed: 741_Anger.wav\n"
          ]
        },
        {
          "name": "stderr",
          "output_type": "stream",
          "text": [
            "\rTranscribing audio files:  92%|█████████▏| 685/745 [4:01:02<29:00, 29.01s/it]"
          ]
        },
        {
          "name": "stdout",
          "output_type": "stream",
          "text": [
            "✓ Successfully transcribed: 742_Anger.wav\n"
          ]
        },
        {
          "name": "stderr",
          "output_type": "stream",
          "text": [
            "\rTranscribing audio files:  92%|█████████▏| 686/745 [4:02:08<39:13, 39.89s/it]"
          ]
        },
        {
          "name": "stdout",
          "output_type": "stream",
          "text": [
            "✓ Successfully transcribed: 743_Surprise.wav\n"
          ]
        },
        {
          "name": "stderr",
          "output_type": "stream",
          "text": [
            "\rTranscribing audio files:  92%|█████████▏| 687/745 [4:02:27<32:39, 33.79s/it]"
          ]
        },
        {
          "name": "stdout",
          "output_type": "stream",
          "text": [
            "✓ Successfully transcribed: 744_Trust.wav\n"
          ]
        },
        {
          "name": "stderr",
          "output_type": "stream",
          "text": [
            "\rTranscribing audio files:  92%|█████████▏| 688/745 [4:02:43<26:57, 28.37s/it]"
          ]
        },
        {
          "name": "stdout",
          "output_type": "stream",
          "text": [
            "✓ Successfully transcribed: 745_Proud.wav\n"
          ]
        },
        {
          "name": "stderr",
          "output_type": "stream",
          "text": [
            "\rTranscribing audio files:  92%|█████████▏| 689/745 [4:03:00<23:16, 24.94s/it]"
          ]
        },
        {
          "name": "stdout",
          "output_type": "stream",
          "text": [
            "✓ Successfully transcribed: 746_Surprise.wav\n"
          ]
        },
        {
          "name": "stderr",
          "output_type": "stream",
          "text": [
            "\rTranscribing audio files:  93%|█████████▎| 690/745 [4:04:02<33:06, 36.11s/it]"
          ]
        },
        {
          "name": "stdout",
          "output_type": "stream",
          "text": [
            "✓ Successfully transcribed: 747_Joy.wav\n"
          ]
        },
        {
          "name": "stderr",
          "output_type": "stream",
          "text": [
            "\rTranscribing audio files:  93%|█████████▎| 691/745 [4:04:25<29:02, 32.27s/it]"
          ]
        },
        {
          "name": "stdout",
          "output_type": "stream",
          "text": [
            "✓ Successfully transcribed: 748_Surprise.wav\n"
          ]
        },
        {
          "name": "stderr",
          "output_type": "stream",
          "text": [
            "\rTranscribing audio files:  93%|█████████▎| 692/745 [4:04:45<25:15, 28.60s/it]"
          ]
        },
        {
          "name": "stdout",
          "output_type": "stream",
          "text": [
            "✓ Successfully transcribed: 749_Trust.wav\n"
          ]
        },
        {
          "name": "stderr",
          "output_type": "stream",
          "text": [
            "\rTranscribing audio files:  93%|█████████▎| 693/745 [4:04:54<19:40, 22.71s/it]"
          ]
        },
        {
          "name": "stdout",
          "output_type": "stream",
          "text": [
            "✓ Successfully transcribed: 750_Surprise.wav\n"
          ]
        },
        {
          "name": "stderr",
          "output_type": "stream",
          "text": [
            "\rTranscribing audio files:  93%|█████████▎| 694/745 [4:05:13<18:17, 21.52s/it]"
          ]
        },
        {
          "name": "stdout",
          "output_type": "stream",
          "text": [
            "✓ Successfully transcribed: 751_Anger.wav\n"
          ]
        },
        {
          "name": "stderr",
          "output_type": "stream",
          "text": [
            "\rTranscribing audio files:  93%|█████████▎| 695/745 [4:05:27<16:03, 19.27s/it]"
          ]
        },
        {
          "name": "stdout",
          "output_type": "stream",
          "text": [
            "✓ Successfully transcribed: 752_Trust.wav\n"
          ]
        },
        {
          "name": "stderr",
          "output_type": "stream",
          "text": [
            "\rTranscribing audio files:  93%|█████████▎| 696/745 [4:05:38<13:41, 16.76s/it]"
          ]
        },
        {
          "name": "stdout",
          "output_type": "stream",
          "text": [
            "✓ Successfully transcribed: 753_Surprise.wav\n"
          ]
        },
        {
          "name": "stderr",
          "output_type": "stream",
          "text": [
            "\rTranscribing audio files:  94%|█████████▎| 697/745 [4:05:50<12:21, 15.44s/it]"
          ]
        },
        {
          "name": "stdout",
          "output_type": "stream",
          "text": [
            "✓ Successfully transcribed: 754_Trust.wav\n"
          ]
        },
        {
          "name": "stderr",
          "output_type": "stream",
          "text": [
            "\rTranscribing audio files:  94%|█████████▎| 698/745 [4:05:56<09:47, 12.50s/it]"
          ]
        },
        {
          "name": "stdout",
          "output_type": "stream",
          "text": [
            "✓ Successfully transcribed: 755_Surprise.wav\n"
          ]
        },
        {
          "name": "stderr",
          "output_type": "stream",
          "text": [
            "\rTranscribing audio files:  94%|█████████▍| 699/745 [4:06:11<10:08, 13.24s/it]"
          ]
        },
        {
          "name": "stdout",
          "output_type": "stream",
          "text": [
            "✓ Successfully transcribed: 756_Surprise.wav\n"
          ]
        },
        {
          "name": "stderr",
          "output_type": "stream",
          "text": [
            "\rTranscribing audio files:  94%|█████████▍| 700/745 [4:06:29<10:55, 14.58s/it]"
          ]
        },
        {
          "name": "stdout",
          "output_type": "stream",
          "text": [
            "✓ Successfully transcribed: 757_Trust.wav\n"
          ]
        },
        {
          "name": "stderr",
          "output_type": "stream",
          "text": [
            "\rTranscribing audio files:  94%|█████████▍| 701/745 [4:06:46<11:23, 15.54s/it]"
          ]
        },
        {
          "name": "stdout",
          "output_type": "stream",
          "text": [
            "✓ Successfully transcribed: 758_Surprise.wav\n"
          ]
        },
        {
          "name": "stderr",
          "output_type": "stream",
          "text": [
            "\rTranscribing audio files:  94%|█████████▍| 702/745 [4:07:04<11:36, 16.19s/it]"
          ]
        },
        {
          "name": "stdout",
          "output_type": "stream",
          "text": [
            "✓ Successfully transcribed: 759_Surprise.wav\n"
          ]
        },
        {
          "name": "stderr",
          "output_type": "stream",
          "text": [
            "\rTranscribing audio files:  94%|█████████▍| 703/745 [4:07:19<11:06, 15.87s/it]"
          ]
        },
        {
          "name": "stdout",
          "output_type": "stream",
          "text": [
            "✓ Successfully transcribed: 760_Trust.wav\n"
          ]
        },
        {
          "name": "stderr",
          "output_type": "stream",
          "text": [
            "\rTranscribing audio files:  94%|█████████▍| 704/745 [4:07:44<12:36, 18.45s/it]"
          ]
        },
        {
          "name": "stdout",
          "output_type": "stream",
          "text": [
            "✓ Successfully transcribed: 761_Surprise.wav\n"
          ]
        },
        {
          "name": "stderr",
          "output_type": "stream",
          "text": [
            "\rTranscribing audio files:  95%|█████████▍| 705/745 [4:08:02<12:17, 18.44s/it]"
          ]
        },
        {
          "name": "stdout",
          "output_type": "stream",
          "text": [
            "✓ Successfully transcribed: 762_Surprise.wav\n"
          ]
        },
        {
          "name": "stderr",
          "output_type": "stream",
          "text": [
            "\rTranscribing audio files:  95%|█████████▍| 706/745 [4:08:27<13:07, 20.21s/it]"
          ]
        },
        {
          "name": "stdout",
          "output_type": "stream",
          "text": [
            "✓ Successfully transcribed: 763_Trust.wav\n"
          ]
        },
        {
          "name": "stderr",
          "output_type": "stream",
          "text": [
            "\rTranscribing audio files:  95%|█████████▍| 707/745 [4:08:43<12:01, 19.00s/it]"
          ]
        },
        {
          "name": "stdout",
          "output_type": "stream",
          "text": [
            "✓ Successfully transcribed: 764_Surprise.wav\n"
          ]
        },
        {
          "name": "stderr",
          "output_type": "stream",
          "text": [
            "\rTranscribing audio files:  95%|█████████▌| 708/745 [4:09:03<11:57, 19.40s/it]"
          ]
        },
        {
          "name": "stdout",
          "output_type": "stream",
          "text": [
            "✓ Successfully transcribed: 765_Fear.wav\n"
          ]
        },
        {
          "name": "stderr",
          "output_type": "stream",
          "text": [
            "\rTranscribing audio files:  95%|█████████▌| 709/745 [4:09:28<12:34, 20.97s/it]"
          ]
        },
        {
          "name": "stdout",
          "output_type": "stream",
          "text": [
            "✓ Successfully transcribed: 766_Surprise.wav\n"
          ]
        },
        {
          "name": "stderr",
          "output_type": "stream",
          "text": [
            "\rTranscribing audio files:  95%|█████████▌| 710/745 [4:10:52<23:23, 40.09s/it]"
          ]
        },
        {
          "name": "stdout",
          "output_type": "stream",
          "text": [
            "✓ Successfully transcribed: 767_Trust.wav\n"
          ]
        },
        {
          "name": "stderr",
          "output_type": "stream",
          "text": [
            "\rTranscribing audio files:  95%|█████████▌| 711/745 [4:11:26<21:39, 38.21s/it]"
          ]
        },
        {
          "name": "stdout",
          "output_type": "stream",
          "text": [
            "✓ Successfully transcribed: 768_Surprise.wav\n"
          ]
        },
        {
          "name": "stderr",
          "output_type": "stream",
          "text": [
            "\rTranscribing audio files:  96%|█████████▌| 712/745 [4:12:25<24:25, 44.42s/it]"
          ]
        },
        {
          "name": "stdout",
          "output_type": "stream",
          "text": [
            "✓ Successfully transcribed: 769_Surprise.wav\n"
          ]
        },
        {
          "name": "stderr",
          "output_type": "stream",
          "text": [
            "\rTranscribing audio files:  96%|█████████▌| 713/745 [4:12:46<19:52, 37.28s/it]"
          ]
        },
        {
          "name": "stdout",
          "output_type": "stream",
          "text": [
            "✓ Successfully transcribed: 770_Trust.wav\n"
          ]
        },
        {
          "name": "stderr",
          "output_type": "stream",
          "text": [
            "\rTranscribing audio files:  96%|█████████▌| 714/745 [4:12:51<14:20, 27.76s/it]"
          ]
        },
        {
          "name": "stdout",
          "output_type": "stream",
          "text": [
            "✓ Successfully transcribed: 771_Anger.wav\n"
          ]
        },
        {
          "name": "stderr",
          "output_type": "stream",
          "text": [
            "\rTranscribing audio files:  96%|█████████▌| 715/745 [4:12:55<10:18, 20.62s/it]"
          ]
        },
        {
          "name": "stdout",
          "output_type": "stream",
          "text": [
            "✓ Successfully transcribed: 772_Surprise.wav\n"
          ]
        },
        {
          "name": "stderr",
          "output_type": "stream",
          "text": [
            "\rTranscribing audio files:  96%|█████████▌| 716/745 [4:13:01<07:47, 16.11s/it]"
          ]
        },
        {
          "name": "stdout",
          "output_type": "stream",
          "text": [
            "✓ Successfully transcribed: 773_Proud.wav\n"
          ]
        },
        {
          "name": "stderr",
          "output_type": "stream",
          "text": [
            "\rTranscribing audio files:  96%|█████████▌| 717/745 [4:13:10<06:30, 13.94s/it]"
          ]
        },
        {
          "name": "stdout",
          "output_type": "stream",
          "text": [
            "✓ Successfully transcribed: 774_Trust.wav\n"
          ]
        },
        {
          "name": "stderr",
          "output_type": "stream",
          "text": [
            "\rTranscribing audio files:  96%|█████████▋| 718/745 [4:13:23<06:11, 13.74s/it]"
          ]
        },
        {
          "name": "stdout",
          "output_type": "stream",
          "text": [
            "✓ Successfully transcribed: 775_Trust.wav\n"
          ]
        },
        {
          "name": "stderr",
          "output_type": "stream",
          "text": [
            "\rTranscribing audio files:  97%|█████████▋| 719/745 [4:13:25<04:26, 10.26s/it]"
          ]
        },
        {
          "name": "stdout",
          "output_type": "stream",
          "text": [
            "✓ Successfully transcribed: 776_Surprise.wav\n"
          ]
        },
        {
          "name": "stderr",
          "output_type": "stream",
          "text": [
            "\rTranscribing audio files:  97%|█████████▋| 720/745 [4:13:38<04:35, 11.04s/it]"
          ]
        },
        {
          "name": "stdout",
          "output_type": "stream",
          "text": [
            "✓ Successfully transcribed: 777_Trust.wav\n"
          ]
        },
        {
          "name": "stderr",
          "output_type": "stream",
          "text": [
            "\rTranscribing audio files:  97%|█████████▋| 721/745 [4:13:41<03:24,  8.51s/it]"
          ]
        },
        {
          "name": "stdout",
          "output_type": "stream",
          "text": [
            "✓ Successfully transcribed: 778_Trust.wav\n"
          ]
        },
        {
          "name": "stderr",
          "output_type": "stream",
          "text": [
            "\rTranscribing audio files:  97%|█████████▋| 722/745 [4:13:48<03:04,  8.03s/it]"
          ]
        },
        {
          "name": "stdout",
          "output_type": "stream",
          "text": [
            "✓ Successfully transcribed: 779_Trust.wav\n"
          ]
        },
        {
          "name": "stderr",
          "output_type": "stream",
          "text": [
            "\rTranscribing audio files:  97%|█████████▋| 723/745 [4:13:52<02:32,  6.94s/it]"
          ]
        },
        {
          "name": "stdout",
          "output_type": "stream",
          "text": [
            "✓ Successfully transcribed: 780_Proud.wav\n"
          ]
        },
        {
          "name": "stderr",
          "output_type": "stream",
          "text": [
            "\rTranscribing audio files:  97%|█████████▋| 724/745 [4:13:59<02:24,  6.87s/it]"
          ]
        },
        {
          "name": "stdout",
          "output_type": "stream",
          "text": [
            "✓ Successfully transcribed: 781_Surprise.wav\n"
          ]
        },
        {
          "name": "stderr",
          "output_type": "stream",
          "text": [
            "\rTranscribing audio files:  97%|█████████▋| 725/745 [4:14:12<02:54,  8.72s/it]"
          ]
        },
        {
          "name": "stdout",
          "output_type": "stream",
          "text": [
            "✓ Successfully transcribed: 782_Joy.wav\n"
          ]
        },
        {
          "name": "stderr",
          "output_type": "stream",
          "text": [
            "\rTranscribing audio files:  97%|█████████▋| 726/745 [4:14:21<02:47,  8.81s/it]"
          ]
        },
        {
          "name": "stdout",
          "output_type": "stream",
          "text": [
            "✓ Successfully transcribed: 783_Proud.wav\n"
          ]
        },
        {
          "name": "stderr",
          "output_type": "stream",
          "text": [
            "\rTranscribing audio files:  98%|█████████▊| 727/745 [4:14:41<03:42, 12.36s/it]"
          ]
        },
        {
          "name": "stdout",
          "output_type": "stream",
          "text": [
            "✓ Successfully transcribed: 784_Trust.wav\n"
          ]
        },
        {
          "name": "stderr",
          "output_type": "stream",
          "text": [
            "\rTranscribing audio files:  98%|█████████▊| 728/745 [4:14:49<03:06, 10.96s/it]"
          ]
        },
        {
          "name": "stdout",
          "output_type": "stream",
          "text": [
            "✓ Successfully transcribed: 785_Surprise.wav\n"
          ]
        },
        {
          "name": "stderr",
          "output_type": "stream",
          "text": [
            "\rTranscribing audio files:  98%|█████████▊| 729/745 [4:15:01<02:58, 11.19s/it]"
          ]
        },
        {
          "name": "stdout",
          "output_type": "stream",
          "text": [
            "✓ Successfully transcribed: 786_Trust.wav\n"
          ]
        },
        {
          "name": "stderr",
          "output_type": "stream",
          "text": [
            "\rTranscribing audio files:  98%|█████████▊| 730/745 [4:15:18<03:16, 13.10s/it]"
          ]
        },
        {
          "name": "stdout",
          "output_type": "stream",
          "text": [
            "✓ Successfully transcribed: 787_Surprise.wav\n"
          ]
        },
        {
          "name": "stderr",
          "output_type": "stream",
          "text": [
            "\rTranscribing audio files:  98%|█████████▊| 731/745 [4:15:34<03:12, 13.75s/it]"
          ]
        },
        {
          "name": "stdout",
          "output_type": "stream",
          "text": [
            "✓ Successfully transcribed: 788_Surprise.wav\n"
          ]
        },
        {
          "name": "stderr",
          "output_type": "stream",
          "text": [
            "\rTranscribing audio files:  98%|█████████▊| 732/745 [4:15:41<02:33, 11.83s/it]"
          ]
        },
        {
          "name": "stdout",
          "output_type": "stream",
          "text": [
            "✓ Successfully transcribed: 789_Proud.wav\n"
          ]
        },
        {
          "name": "stderr",
          "output_type": "stream",
          "text": [
            "\rTranscribing audio files:  98%|█████████▊| 733/745 [4:15:50<02:11, 10.93s/it]"
          ]
        },
        {
          "name": "stdout",
          "output_type": "stream",
          "text": [
            "✓ Successfully transcribed: 790_Surprise.wav\n"
          ]
        },
        {
          "name": "stderr",
          "output_type": "stream",
          "text": [
            "\rTranscribing audio files:  99%|█████████▊| 734/745 [4:16:06<02:17, 12.54s/it]"
          ]
        },
        {
          "name": "stdout",
          "output_type": "stream",
          "text": [
            "✓ Successfully transcribed: 791_Surprise.wav\n"
          ]
        },
        {
          "name": "stderr",
          "output_type": "stream",
          "text": [
            "\rTranscribing audio files:  99%|█████████▊| 735/745 [4:16:18<02:02, 12.24s/it]"
          ]
        },
        {
          "name": "stdout",
          "output_type": "stream",
          "text": [
            "✓ Successfully transcribed: 792_Joy.wav\n"
          ]
        },
        {
          "name": "stderr",
          "output_type": "stream",
          "text": [
            "\rTranscribing audio files:  99%|█████████▉| 736/745 [4:17:51<05:29, 36.66s/it]"
          ]
        },
        {
          "name": "stdout",
          "output_type": "stream",
          "text": [
            "✓ Successfully transcribed: 793_Proud.wav\n"
          ]
        },
        {
          "name": "stderr",
          "output_type": "stream",
          "text": [
            "\rTranscribing audio files:  99%|█████████▉| 737/745 [4:18:55<05:57, 44.70s/it]"
          ]
        },
        {
          "name": "stdout",
          "output_type": "stream",
          "text": [
            "✓ Successfully transcribed: 794_Joy.wav\n"
          ]
        },
        {
          "name": "stderr",
          "output_type": "stream",
          "text": [
            "\rTranscribing audio files:  99%|█████████▉| 738/745 [4:19:28<04:49, 41.38s/it]"
          ]
        },
        {
          "name": "stdout",
          "output_type": "stream",
          "text": [
            "✓ Successfully transcribed: 795_Trust.wav\n"
          ]
        },
        {
          "name": "stderr",
          "output_type": "stream",
          "text": [
            "\rTranscribing audio files:  99%|█████████▉| 739/745 [4:19:41<03:16, 32.72s/it]"
          ]
        },
        {
          "name": "stdout",
          "output_type": "stream",
          "text": [
            "✓ Successfully transcribed: 797_Proud.wav\n"
          ]
        },
        {
          "name": "stderr",
          "output_type": "stream",
          "text": [
            "\rTranscribing audio files:  99%|█████████▉| 740/745 [4:20:03<02:27, 29.53s/it]"
          ]
        },
        {
          "name": "stdout",
          "output_type": "stream",
          "text": [
            "✓ Successfully transcribed: 798_Proud.wav\n"
          ]
        },
        {
          "name": "stderr",
          "output_type": "stream",
          "text": [
            "\rTranscribing audio files:  99%|█████████▉| 741/745 [4:20:09<01:29, 22.37s/it]"
          ]
        },
        {
          "name": "stdout",
          "output_type": "stream",
          "text": [
            "✓ Successfully transcribed: 799_Surprise.wav\n"
          ]
        },
        {
          "name": "stderr",
          "output_type": "stream",
          "text": [
            "\rTranscribing audio files: 100%|█████████▉| 742/745 [4:20:26<01:02, 20.87s/it]"
          ]
        },
        {
          "name": "stdout",
          "output_type": "stream",
          "text": [
            "✓ Successfully transcribed: 800_Surprise.wav\n"
          ]
        },
        {
          "name": "stderr",
          "output_type": "stream",
          "text": [
            "\rTranscribing audio files: 100%|█████████▉| 743/745 [4:20:48<00:42, 21.16s/it]"
          ]
        },
        {
          "name": "stdout",
          "output_type": "stream",
          "text": [
            "✓ Successfully transcribed: 801_Proud.wav\n"
          ]
        },
        {
          "name": "stderr",
          "output_type": "stream",
          "text": [
            "\rTranscribing audio files: 100%|█████████▉| 744/745 [4:21:19<00:24, 24.19s/it]"
          ]
        },
        {
          "name": "stdout",
          "output_type": "stream",
          "text": [
            "✓ Successfully transcribed: 802_Anger.wav\n"
          ]
        },
        {
          "name": "stderr",
          "output_type": "stream",
          "text": [
            "Transcribing audio files: 100%|██████████| 745/745 [4:21:35<00:00, 21.07s/it]"
          ]
        },
        {
          "name": "stdout",
          "output_type": "stream",
          "text": [
            "✓ Successfully transcribed: 803_Surprise.wav\n",
            "\n",
            "Transcription process completed!\n",
            "Successful: 745\n",
            "Failed: 0\n",
            "Total processed: 745\n"
          ]
        },
        {
          "name": "stderr",
          "output_type": "stream",
          "text": [
            "\n"
          ]
        }
      ],
      "source": [
        "print(\"Starting transcription process...\")\n",
        "print(\"This may take a while for 803 files...\")\n",
        "# Process each audio file\n",
        "for audio_path in tqdm(audio_files, desc=\"Transcribing audio files\"):\n",
        "    # Get filename\n",
        "    filename = os.path.basename(audio_path)\n",
        "\n",
        "    # Extract ID and emotion\n",
        "    file_id, emotion = extract_id_and_emotion(filename)\n",
        "\n",
        "    # Define output JSON path\n",
        "    json_filename = f\"{file_id}_{emotion}_transcript.json\"\n",
        "    json_path = os.path.join(TRANSCRIPT_DIR, json_filename)\n",
        "\n",
        "    try:\n",
        "        # Check if transcript already exists (for resuming interrupted runs)\n",
        "        if os.path.exists(json_path):\n",
        "            print(f\"Transcript already exists for {filename}, skipping...\")\n",
        "            results.append({\n",
        "                'id': file_id,\n",
        "                'transcript_path': json_path,\n",
        "                'emotion': emotion\n",
        "            })\n",
        "            successful_count += 1\n",
        "            continue\n",
        "\n",
        "        # Transcribe the audio file\n",
        "        success = transcribe_audio_file(audio_path, json_path)\n",
        "\n",
        "        if success:\n",
        "            # Add to results\n",
        "            results.append({\n",
        "                'id': file_id,\n",
        "                'transcript_path': json_path,\n",
        "                'emotion': emotion\n",
        "            })\n",
        "            successful_count += 1\n",
        "            print(f\"✓ Successfully transcribed: {filename}\")\n",
        "        else:\n",
        "            # Log the error\n",
        "            error_msg = f\"Failed to transcribe {filename} (ID: {file_id}, Emotion: {emotion})\"\n",
        "            log_error(error_msg, ERROR_LOG_PATH)\n",
        "            failed_count += 1\n",
        "            print(f\"✗ Failed to transcribe: {filename}\")\n",
        "\n",
        "    except Exception as e:\n",
        "        # Log unexpected errors\n",
        "        error_msg = f\"Unexpected error processing {filename}: {str(e)}\"\n",
        "        log_error(f\"{error_msg}\\nTraceback: {traceback.format_exc()}\", ERROR_LOG_PATH)\n",
        "        failed_count += 1\n",
        "        print(f\"✗ Error processing: {filename}\")\n",
        "\n",
        "print(\"\\nTranscription process completed!\")\n",
        "print(f\"Successful: {successful_count}\")\n",
        "print(f\"Failed: {failed_count}\")\n",
        "print(f\"Total processed: {successful_count + failed_count}\")"
      ]
    },
    {
      "cell_type": "code",
      "execution_count": null,
      "metadata": {
        "colab": {
          "base_uri": "https://localhost:8080/"
        },
        "id": "VQX84ZvckLWh",
        "outputId": "4d240ea1-5cf2-46e9-f8af-53e48767f846"
      },
      "outputs": [
        {
          "name": "stdout",
          "output_type": "stream",
          "text": [
            "\n",
            "Creating CSV manifest with 745 entries...\n",
            "CSV manifest saved to: /content/drive/MyDrive/Satria_Data/train/transcription_manifest.csv\n",
            "\n",
            "Sample of the results:\n",
            "   id                                    transcript_path   emotion\n",
            "0   1  /content/drive/MyDrive/Satria_Data/train/prepr...  Surprise\n",
            "1   2  /content/drive/MyDrive/Satria_Data/train/prepr...  Surprise\n",
            "2   3  /content/drive/MyDrive/Satria_Data/train/prepr...  Surprise\n",
            "3   4  /content/drive/MyDrive/Satria_Data/train/prepr...  Surprise\n",
            "4   5  /content/drive/MyDrive/Satria_Data/train/prepr...     Proud\n",
            "5   6  /content/drive/MyDrive/Satria_Data/train/prepr...  Surprise\n",
            "6   7  /content/drive/MyDrive/Satria_Data/train/prepr...     Proud\n",
            "7   8  /content/drive/MyDrive/Satria_Data/train/prepr...     Proud\n",
            "8   9  /content/drive/MyDrive/Satria_Data/train/prepr...     Trust\n",
            "9  10  /content/drive/MyDrive/Satria_Data/train/prepr...  Surprise\n",
            "\n",
            "Emotion distribution:\n",
            "  Surprise: 304\n",
            "  Trust: 173\n",
            "  Proud: 147\n",
            "  Joy: 49\n",
            "  Anger: 36\n",
            "  Fear: 16\n",
            "  Sadness: 15\n",
            "  Neutral: 5\n"
          ]
        }
      ],
      "source": [
        "# Create CSV manifest\n",
        "if results:\n",
        "    print(f\"\\nCreating CSV manifest with {len(results)} entries...\")\n",
        "    df = pd.DataFrame(results)\n",
        "\n",
        "    # Sort by ID (convert to int for proper numeric sorting)\n",
        "    try:\n",
        "        df['id_numeric'] = df['id'].astype(int)\n",
        "        df = df.sort_values('id_numeric').drop('id_numeric', axis=1)\n",
        "    except:\n",
        "        # If conversion fails, sort as strings\n",
        "        df = df.sort_values('id')\n",
        "\n",
        "    # Save to CSV\n",
        "    df.to_csv(CSV_OUTPUT_PATH, index=False)\n",
        "    print(f\"CSV manifest saved to: {CSV_OUTPUT_PATH}\")\n",
        "\n",
        "    # Display sample of the results\n",
        "    print(f\"\\nSample of the results:\")\n",
        "    print(df.head(10))\n",
        "\n",
        "    # Display emotion distribution\n",
        "    print(f\"\\nEmotion distribution:\")\n",
        "    emotion_counts = df['emotion'].value_counts()\n",
        "    for emotion, count in emotion_counts.items():\n",
        "        print(f\"  {emotion}: {count}\")\n",
        "\n",
        "else:\n",
        "    print(\"No successful transcriptions to save!\")"
      ]
    },
    {
      "cell_type": "code",
      "execution_count": null,
      "metadata": {
        "colab": {
          "base_uri": "https://localhost:8080/"
        },
        "id": "YBsIm8NjkMNi",
        "outputId": "2964ce90-6757-45f1-9871-6b32a1d85029"
      },
      "outputs": [
        {
          "name": "stdout",
          "output_type": "stream",
          "text": [
            "\n",
            "Error log saved to: /content/drive/MyDrive/Satria_Data/train/transcription_errors.log\n",
            "Done!\n"
          ]
        }
      ],
      "source": [
        "# Log final summary\n",
        "log_error(f\"Transcription completed. Success: {successful_count}, Failed: {failed_count}\", ERROR_LOG_PATH)\n",
        "\n",
        "print(f\"\\nError log saved to: {ERROR_LOG_PATH}\")\n",
        "print(\"Done!\")"
      ]
    }
  ],
  "metadata": {
    "accelerator": "GPU",
    "colab": {
      "gpuType": "T4",
      "provenance": []
    },
    "kernelspec": {
      "display_name": "Python 3",
      "name": "python3"
    },
    "language_info": {
      "name": "python"
    }
  },
  "nbformat": 4,
  "nbformat_minor": 0
}
